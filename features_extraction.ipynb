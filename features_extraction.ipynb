{
 "metadata": {
  "language_info": {
   "codemirror_mode": {
    "name": "ipython",
    "version": 3
   },
   "file_extension": ".py",
   "mimetype": "text/x-python",
   "name": "python",
   "nbconvert_exporter": "python",
   "pygments_lexer": "ipython3",
   "version": "3.8.6-final"
  },
  "orig_nbformat": 2,
  "kernelspec": {
   "name": "python3",
   "display_name": "Python 3.8.6 64-bit",
   "metadata": {
    "interpreter": {
     "hash": "988ce6d4ac361a945fe4d216129e9b67722fdf4c5a4748a2844558a1d81358a3"
    }
   }
  }
 },
 "nbformat": 4,
 "nbformat_minor": 2,
 "cells": [
  {
   "source": [
    "# Creating Feature Vectors for Drugs Target Pairs"
   ],
   "cell_type": "markdown",
   "metadata": {}
  },
  {
   "cell_type": "code",
   "execution_count": 1,
   "metadata": {},
   "outputs": [],
   "source": [
    "import pandas as pd\n",
    "import numpy as np\n",
    "from tqdm.notebook import tqdm\n",
    "\n",
    "from sklearn.feature_extraction.text import CountVectorizer"
   ]
  },
  {
   "source": [
    "## Protein Descriptors"
   ],
   "cell_type": "markdown",
   "metadata": {}
  },
  {
   "cell_type": "code",
   "execution_count": 2,
   "metadata": {},
   "outputs": [],
   "source": [
    "# reading in FASTA files containing the Amino Acid sequences\n",
    "def read_fasta(file_names):\n",
    "    \"\"\"\n",
    "    Reads a FASTA files and returns a pd DataFrame with the protein names and Amino Acid sequences\n",
    "    # Params\n",
    "    file_names: list of fasta file names to read\n",
    "    \n",
    "    # Returns\n",
    "    df: the DataFrame containing the names and sequences from all inputted files\n",
    "    \"\"\"\n",
    "    df = pd.DataFrame()\n",
    "    names = []\n",
    "    sequences = []\n",
    "    ids = []\n",
    "    db_id = []\n",
    "    for file_name in file_names:\n",
    "        seq = \"\"\n",
    "        with open(file_name, \"r\") as f:\n",
    "            for line in f:\n",
    "                # if its reading a comment line extract the name of the target\n",
    "                if line[0] == '>':\n",
    "                    sequences.append(seq)\n",
    "                    seq = \"\"\n",
    "                    names.append(' '.join(str(v) for v in line.split(' (D')[0].split()[2:]).lower())\n",
    "                    ids.append(line.split()[1])\n",
    "                # if its not on a comment line extract the sequence\n",
    "                else:\n",
    "                    seq += line\n",
    "            # adding the last sequence\n",
    "            sequences.append(seq)\n",
    "            # removing empty strings added to list\n",
    "            sequences.remove(\"\")\n",
    "    df['Name'] = names\n",
    "    df['uniprot id'] = ids\n",
    "    df['sequence'] = sequences\n",
    "    return df"
   ]
  },
  {
   "cell_type": "code",
   "execution_count": 3,
   "metadata": {},
   "outputs": [
    {
     "output_type": "execute_result",
     "data": {
      "text/plain": [
       "  UniProt ID      Hit type  PSSM-ID  From   To        E-Value  Bitscore  \\\n",
       "0     P45059  non-specific   185060    25  584   0.000000e+00   688.094   \n",
       "1     P45059   superfamily   185060    25  584   0.000000e+00   688.094   \n",
       "2     P45059      specific   223839    28  585  9.305120e-168   490.767   \n",
       "3     P45059   superfamily   223839    28  585  9.305120e-168   490.767   \n",
       "4     P45059  non-specific   131269    44  588  4.298780e-110   343.718   \n",
       "\n",
       "     domains            Short name Incomplete Superfamily  \n",
       "0   PRK15105              PRK15105         -      cl33083  \n",
       "1    cl33083  PRK15105 superfamily         -           -   \n",
       "2    COG0768                  FtsI         -      cl34037  \n",
       "3    cl34037      FtsI superfamily         -           -   \n",
       "4  TIGR02214             spoVD_pbp         -      cl31183  "
      ],
      "text/html": "<div>\n<style scoped>\n    .dataframe tbody tr th:only-of-type {\n        vertical-align: middle;\n    }\n\n    .dataframe tbody tr th {\n        vertical-align: top;\n    }\n\n    .dataframe thead th {\n        text-align: right;\n    }\n</style>\n<table border=\"1\" class=\"dataframe\">\n  <thead>\n    <tr style=\"text-align: right;\">\n      <th></th>\n      <th>UniProt ID</th>\n      <th>Hit type</th>\n      <th>PSSM-ID</th>\n      <th>From</th>\n      <th>To</th>\n      <th>E-Value</th>\n      <th>Bitscore</th>\n      <th>domains</th>\n      <th>Short name</th>\n      <th>Incomplete</th>\n      <th>Superfamily</th>\n    </tr>\n  </thead>\n  <tbody>\n    <tr>\n      <th>0</th>\n      <td>P45059</td>\n      <td>non-specific</td>\n      <td>185060</td>\n      <td>25</td>\n      <td>584</td>\n      <td>0.000000e+00</td>\n      <td>688.094</td>\n      <td>PRK15105</td>\n      <td>PRK15105</td>\n      <td>-</td>\n      <td>cl33083</td>\n    </tr>\n    <tr>\n      <th>1</th>\n      <td>P45059</td>\n      <td>superfamily</td>\n      <td>185060</td>\n      <td>25</td>\n      <td>584</td>\n      <td>0.000000e+00</td>\n      <td>688.094</td>\n      <td>cl33083</td>\n      <td>PRK15105 superfamily</td>\n      <td>-</td>\n      <td>-</td>\n    </tr>\n    <tr>\n      <th>2</th>\n      <td>P45059</td>\n      <td>specific</td>\n      <td>223839</td>\n      <td>28</td>\n      <td>585</td>\n      <td>9.305120e-168</td>\n      <td>490.767</td>\n      <td>COG0768</td>\n      <td>FtsI</td>\n      <td>-</td>\n      <td>cl34037</td>\n    </tr>\n    <tr>\n      <th>3</th>\n      <td>P45059</td>\n      <td>superfamily</td>\n      <td>223839</td>\n      <td>28</td>\n      <td>585</td>\n      <td>9.305120e-168</td>\n      <td>490.767</td>\n      <td>cl34037</td>\n      <td>FtsI superfamily</td>\n      <td>-</td>\n      <td>-</td>\n    </tr>\n    <tr>\n      <th>4</th>\n      <td>P45059</td>\n      <td>non-specific</td>\n      <td>131269</td>\n      <td>44</td>\n      <td>588</td>\n      <td>4.298780e-110</td>\n      <td>343.718</td>\n      <td>TIGR02214</td>\n      <td>spoVD_pbp</td>\n      <td>-</td>\n      <td>cl31183</td>\n    </tr>\n  </tbody>\n</table>\n</div>"
     },
     "metadata": {},
     "execution_count": 3
    }
   ],
   "source": [
    "# reading all domain info files\n",
    "domain_df = pd.read_csv('./drug_target_data/protein_domains/drugbank_target_domains1.tsv', sep='\\t')\n",
    "domain_df = domain_df.append(pd.read_csv('./drug_target_data/protein_domains/drugbank_target_domains2.tsv', sep='\\t'), ignore_index=True)\n",
    "domain_df = domain_df.append(pd.read_csv('./drug_target_data/protein_domains/drugbank_transporter_domains.tsv', sep='\\t'), ignore_index=True)\n",
    "domain_df = domain_df.append(pd.read_csv('./drug_target_data/protein_domains/drugbank_enzyme_domains.tsv', sep='\\t'), ignore_index=True)\n",
    "domain_df = domain_df.append(pd.read_csv('./drug_target_data/protein_domains/drugbank_carrier_domains.tsv', sep='\\t'), ignore_index=True)\n",
    "\n",
    "domain_df.rename(columns={'Accession':'domains'}, inplace=True)\n",
    "\n",
    "# removing all info except uniprot id from first column\n",
    "domain_df = domain_df.rename(columns={'Query':'UniProt ID'})\n",
    "domain_df['UniProt ID'] = domain_df['UniProt ID'].apply(lambda x: x.split()[3])\n",
    "\n",
    "domain_df.head()"
   ]
  },
  {
   "cell_type": "code",
   "execution_count": 4,
   "metadata": {},
   "outputs": [
    {
     "output_type": "stream",
     "name": "stdout",
     "text": [
      "<class 'pandas.core.frame.DataFrame'>\nInt64Index: 5177 entries, 0 to 6139\nData columns (total 3 columns):\n #   Column      Non-Null Count  Dtype \n---  ------      --------------  ----- \n 0   Name        5177 non-null   object\n 1   uniprot id  5177 non-null   object\n 2   sequence    5177 non-null   object\ndtypes: object(3)\nmemory usage: 161.8+ KB\n"
     ]
    }
   ],
   "source": [
    "# reading the fasta files with the target amino acid sequences\n",
    "seq_df = read_fasta(['./drug_target_data/target_structures/targets.fasta', './drug_target_data/target_structures/enzymes.fasta', './drug_target_data/target_structures/carriers.fasta', './drug_target_data/target_structures/transporters.fasta'])\n",
    "seq_df.drop_duplicates(inplace=True)\n",
    "seq_df.sequence = seq_df.sequence.apply(lambda s: s.replace('\\n', ''))\n",
    "seq_df.info()"
   ]
  },
  {
   "cell_type": "code",
   "execution_count": 6,
   "metadata": {},
   "outputs": [
    {
     "output_type": "stream",
     "name": "stdout",
     "text": [
      "<class 'pandas.core.frame.DataFrame'>\nInt64Index: 5153 entries, 0 to 6139\nData columns (total 3 columns):\n #   Column      Non-Null Count  Dtype \n---  ------      --------------  ----- \n 0   Name        5153 non-null   object\n 1   uniprot id  5153 non-null   object\n 2   sequence    5153 non-null   object\ndtypes: object(3)\nmemory usage: 161.0+ KB\n"
     ]
    }
   ],
   "source": [
    "# removing proteins that are not in the domain dataframe; these are proteins that we don't have domain data for\n",
    "seq_df = seq_df.loc[seq_df['uniprot id'].isin(domain_df['UniProt ID'])]\n",
    "# removing duplicates\n",
    "seq_df.drop_duplicates(inplace=True)\n",
    "\n",
    "seq_df.info()"
   ]
  },
  {
   "cell_type": "code",
   "execution_count": 7,
   "metadata": {},
   "outputs": [
    {
     "output_type": "execute_result",
     "data": {
      "text/plain": [
       "                                       Name uniprot id  \\\n",
       "0               peptidoglycan synthase ftsi     P45059   \n",
       "1                   histidine decarboxylase     P19113   \n",
       "2  glutaminase liver isoform, mitochondrial     Q9UI32   \n",
       "3           coagulation factor xiii a chain     P00488   \n",
       "4          nitric oxide synthase, inducible     P35228   \n",
       "\n",
       "                                            sequence  \n",
       "0  MVKFNSSRKSGKSKKTIRKLTAPETVKQNKPQKVFEKCFMRGRYML...  \n",
       "1  MMEPEEYRERGREMVDYICQYLSTVRERRVTPDVQPGYLRAQLPES...  \n",
       "2  MRSMKALQKALSRAGSHCGRGGWGHPSRSPLLGGGVRHHLSEAAAQ...  \n",
       "3  MSETSRTAFGGRRAVPPNNSNAAEDDLPTVELQGVVPRGVNLQEFL...  \n",
       "4  MACPWKFLFKTKFHQYAMNGEKDINNNVEKAPCATSSPVTQDDLQY...  "
      ],
      "text/html": "<div>\n<style scoped>\n    .dataframe tbody tr th:only-of-type {\n        vertical-align: middle;\n    }\n\n    .dataframe tbody tr th {\n        vertical-align: top;\n    }\n\n    .dataframe thead th {\n        text-align: right;\n    }\n</style>\n<table border=\"1\" class=\"dataframe\">\n  <thead>\n    <tr style=\"text-align: right;\">\n      <th></th>\n      <th>Name</th>\n      <th>uniprot id</th>\n      <th>sequence</th>\n    </tr>\n  </thead>\n  <tbody>\n    <tr>\n      <th>0</th>\n      <td>peptidoglycan synthase ftsi</td>\n      <td>P45059</td>\n      <td>MVKFNSSRKSGKSKKTIRKLTAPETVKQNKPQKVFEKCFMRGRYML...</td>\n    </tr>\n    <tr>\n      <th>1</th>\n      <td>histidine decarboxylase</td>\n      <td>P19113</td>\n      <td>MMEPEEYRERGREMVDYICQYLSTVRERRVTPDVQPGYLRAQLPES...</td>\n    </tr>\n    <tr>\n      <th>2</th>\n      <td>glutaminase liver isoform, mitochondrial</td>\n      <td>Q9UI32</td>\n      <td>MRSMKALQKALSRAGSHCGRGGWGHPSRSPLLGGGVRHHLSEAAAQ...</td>\n    </tr>\n    <tr>\n      <th>3</th>\n      <td>coagulation factor xiii a chain</td>\n      <td>P00488</td>\n      <td>MSETSRTAFGGRRAVPPNNSNAAEDDLPTVELQGVVPRGVNLQEFL...</td>\n    </tr>\n    <tr>\n      <th>4</th>\n      <td>nitric oxide synthase, inducible</td>\n      <td>P35228</td>\n      <td>MACPWKFLFKTKFHQYAMNGEKDINNNVEKAPCATSSPVTQDDLQY...</td>\n    </tr>\n  </tbody>\n</table>\n</div>"
     },
     "metadata": {},
     "execution_count": 7
    }
   ],
   "source": [
    "seq_df.head()"
   ]
  },
  {
   "cell_type": "code",
   "execution_count": 8,
   "metadata": {},
   "outputs": [],
   "source": [
    "num_proteins = seq_df.shape[0]\n",
    "num_domains = len(set(domain_df['domains']))\n",
    "proteins = list(seq_df['uniprot id'])"
   ]
  },
  {
   "source": [
    "### Domain Features"
   ],
   "cell_type": "markdown",
   "metadata": {}
  },
  {
   "cell_type": "code",
   "execution_count": 78,
   "metadata": {
    "tags": []
   },
   "outputs": [
    {
     "output_type": "display_data",
     "data": {
      "text/plain": "HBox(children=(FloatProgress(value=1.0, bar_style='info', max=1.0), HTML(value='')))",
      "application/vnd.jupyter.widget-view+json": {
       "version_major": 2,
       "version_minor": 0,
       "model_id": "d2a7a19cc0fb4229a9c75c45abc85f78"
      }
     },
     "metadata": {}
    },
    {
     "output_type": "stream",
     "name": "stdout",
     "text": [
      "\n"
     ]
    }
   ],
   "source": [
    "protein_domains = dict()\n",
    "\n",
    "# interating through data and adding all domains of a single protein to the dict\n",
    "current = domain_df['UniProt ID'][0]\n",
    "protein_domains[current] = []\n",
    "for i, r in tqdm(domain_df.iterrows()):\n",
    "    # if the current protein is not the same as the previous ones\n",
    "    if current != r['UniProt ID']:\n",
    "        # only keeping unique domains for each protein\n",
    "        protein_domains[current] = list(set(protein_domains[current]))\n",
    "        current = r['UniProt ID']\n",
    "        protein_domains[current] = []\n",
    "    protein_domains[current].append(r['domains'])\n",
    "# keeping the unique domains for the last protein bc it isn't handled in the loop\n",
    "protein_domains[current] = list(set(protein_domains[current]))"
   ]
  },
  {
   "cell_type": "code",
   "execution_count": 128,
   "metadata": {},
   "outputs": [
    {
     "output_type": "execute_result",
     "data": {
      "text/plain": [
       "            Q8II92  P08337  O70038  P05091  P07024  Q8WWQ8  P32396  Q9BX79  \\\n",
       "UniProt ID                                                                   \n",
       "Q8II92           0       0       0       0       0       0       0       0   \n",
       "P08337           0       0       0       0       0       0       0       0   \n",
       "O70038           0       0       0       0       0       0       0       0   \n",
       "P05091           0       0       0       0       0       0       0       0   \n",
       "P07024           0       0       0       0       0       0       0       0   \n",
       "\n",
       "            P31153  P16070  ...  P11233  P95780  Q07817  P14090  Q9RHZ6  \\\n",
       "UniProt ID                  ...                                           \n",
       "Q8II92           0       0  ...       0       0       0       0       0   \n",
       "P08337           0       0  ...       0       0       0       0       0   \n",
       "O70038           0       0  ...       0       0       0       0       0   \n",
       "P05091           0       0  ...       0       0       0       0       0   \n",
       "P07024           0       0  ...       0       0       0       0       0   \n",
       "\n",
       "            Q9NNW7  P0AEG4  P04070  P50914  Q9BY07  \n",
       "UniProt ID                                          \n",
       "Q8II92           0       0       0       0       0  \n",
       "P08337           0       0       0       0       0  \n",
       "O70038           0       0       0       0       0  \n",
       "P05091           0       0       0       0       0  \n",
       "P07024           0       0       0       0       0  \n",
       "\n",
       "[5 rows x 5153 columns]"
      ],
      "text/html": "<div>\n<style scoped>\n    .dataframe tbody tr th:only-of-type {\n        vertical-align: middle;\n    }\n\n    .dataframe tbody tr th {\n        vertical-align: top;\n    }\n\n    .dataframe thead th {\n        text-align: right;\n    }\n</style>\n<table border=\"1\" class=\"dataframe\">\n  <thead>\n    <tr style=\"text-align: right;\">\n      <th></th>\n      <th>Q8II92</th>\n      <th>P08337</th>\n      <th>O70038</th>\n      <th>P05091</th>\n      <th>P07024</th>\n      <th>Q8WWQ8</th>\n      <th>P32396</th>\n      <th>Q9BX79</th>\n      <th>P31153</th>\n      <th>P16070</th>\n      <th>...</th>\n      <th>P11233</th>\n      <th>P95780</th>\n      <th>Q07817</th>\n      <th>P14090</th>\n      <th>Q9RHZ6</th>\n      <th>Q9NNW7</th>\n      <th>P0AEG4</th>\n      <th>P04070</th>\n      <th>P50914</th>\n      <th>Q9BY07</th>\n    </tr>\n    <tr>\n      <th>UniProt ID</th>\n      <th></th>\n      <th></th>\n      <th></th>\n      <th></th>\n      <th></th>\n      <th></th>\n      <th></th>\n      <th></th>\n      <th></th>\n      <th></th>\n      <th></th>\n      <th></th>\n      <th></th>\n      <th></th>\n      <th></th>\n      <th></th>\n      <th></th>\n      <th></th>\n      <th></th>\n      <th></th>\n      <th></th>\n    </tr>\n  </thead>\n  <tbody>\n    <tr>\n      <th>Q8II92</th>\n      <td>0</td>\n      <td>0</td>\n      <td>0</td>\n      <td>0</td>\n      <td>0</td>\n      <td>0</td>\n      <td>0</td>\n      <td>0</td>\n      <td>0</td>\n      <td>0</td>\n      <td>...</td>\n      <td>0</td>\n      <td>0</td>\n      <td>0</td>\n      <td>0</td>\n      <td>0</td>\n      <td>0</td>\n      <td>0</td>\n      <td>0</td>\n      <td>0</td>\n      <td>0</td>\n    </tr>\n    <tr>\n      <th>P08337</th>\n      <td>0</td>\n      <td>0</td>\n      <td>0</td>\n      <td>0</td>\n      <td>0</td>\n      <td>0</td>\n      <td>0</td>\n      <td>0</td>\n      <td>0</td>\n      <td>0</td>\n      <td>...</td>\n      <td>0</td>\n      <td>0</td>\n      <td>0</td>\n      <td>0</td>\n      <td>0</td>\n      <td>0</td>\n      <td>0</td>\n      <td>0</td>\n      <td>0</td>\n      <td>0</td>\n    </tr>\n    <tr>\n      <th>O70038</th>\n      <td>0</td>\n      <td>0</td>\n      <td>0</td>\n      <td>0</td>\n      <td>0</td>\n      <td>0</td>\n      <td>0</td>\n      <td>0</td>\n      <td>0</td>\n      <td>0</td>\n      <td>...</td>\n      <td>0</td>\n      <td>0</td>\n      <td>0</td>\n      <td>0</td>\n      <td>0</td>\n      <td>0</td>\n      <td>0</td>\n      <td>0</td>\n      <td>0</td>\n      <td>0</td>\n    </tr>\n    <tr>\n      <th>P05091</th>\n      <td>0</td>\n      <td>0</td>\n      <td>0</td>\n      <td>0</td>\n      <td>0</td>\n      <td>0</td>\n      <td>0</td>\n      <td>0</td>\n      <td>0</td>\n      <td>0</td>\n      <td>...</td>\n      <td>0</td>\n      <td>0</td>\n      <td>0</td>\n      <td>0</td>\n      <td>0</td>\n      <td>0</td>\n      <td>0</td>\n      <td>0</td>\n      <td>0</td>\n      <td>0</td>\n    </tr>\n    <tr>\n      <th>P07024</th>\n      <td>0</td>\n      <td>0</td>\n      <td>0</td>\n      <td>0</td>\n      <td>0</td>\n      <td>0</td>\n      <td>0</td>\n      <td>0</td>\n      <td>0</td>\n      <td>0</td>\n      <td>...</td>\n      <td>0</td>\n      <td>0</td>\n      <td>0</td>\n      <td>0</td>\n      <td>0</td>\n      <td>0</td>\n      <td>0</td>\n      <td>0</td>\n      <td>0</td>\n      <td>0</td>\n    </tr>\n  </tbody>\n</table>\n<p>5 rows × 5153 columns</p>\n</div>"
     },
     "metadata": {},
     "execution_count": 128
    }
   ],
   "source": [
    "# creating adjacency matrix for protein domains\n",
    "adjacency_matrix = pd.DataFrame(np.zeros((num_proteins, num_proteins), dtype=np.int64), columns=list(set(domain_df['UniProt ID'])))\n",
    "adjacency_matrix['UniProt ID'] = list(set(domain_df['UniProt ID']))\n",
    "adjacency_matrix.set_index('UniProt ID', inplace=True)\n",
    "adjacency_matrix.head()"
   ]
  },
  {
   "cell_type": "code",
   "execution_count": 92,
   "metadata": {},
   "outputs": [
    {
     "output_type": "stream",
     "name": "stdout",
     "text": [
      "<class 'pandas.core.frame.DataFrame'>\nIndex: 5153 entries, Q8II92 to Q9BY07\nColumns: 5153 entries, Q8II92 to Q9BY07\ndtypes: int64(5153)\nmemory usage: 202.6+ MB\n"
     ]
    }
   ],
   "source": [
    "adjacency_matrix.info()"
   ]
  },
  {
   "cell_type": "code",
   "execution_count": 130,
   "metadata": {
    "tags": []
   },
   "outputs": [
    {
     "output_type": "display_data",
     "data": {
      "text/plain": "HBox(children=(FloatProgress(value=0.0, max=5153.0), HTML(value='')))",
      "application/vnd.jupyter.widget-view+json": {
       "version_major": 2,
       "version_minor": 0,
       "model_id": "fb59078ae7fd447d9bcdaf9290085f80"
      }
     },
     "metadata": {}
    },
    {
     "output_type": "stream",
     "name": "stdout",
     "text": [
      "\n"
     ]
    }
   ],
   "source": [
    "# creating adjacency matrix\n",
    "for k, v in tqdm(protein_domains.items()):\n",
    "    prot = []\n",
    "    for key, value in protein_domains.items():\n",
    "        if len(set(v).intersection(set(value))) > 0:\n",
    "            prot.append(key)\n",
    "    for p in prot:\n",
    "        adjacency_matrix.loc[k, p] = 1"
   ]
  },
  {
   "cell_type": "code",
   "execution_count": 143,
   "metadata": {},
   "outputs": [
    {
     "output_type": "execute_result",
     "data": {
      "text/plain": [
       "            Q8II92  P08337  O70038  P05091  P07024  Q8WWQ8  P32396  Q9BX79  \\\n",
       "UniProt ID                                                                   \n",
       "Q8II92           1       0       0       0       0       0       0       0   \n",
       "P08337           0       1       0       0       0       0       0       0   \n",
       "O70038           0       0       1       0       0       0       0       0   \n",
       "P05091           0       0       0       1       0       0       0       0   \n",
       "P07024           0       0       0       0       1       0       0       0   \n",
       "...            ...     ...     ...     ...     ...     ...     ...     ...   \n",
       "Q9NNW7           0       0       0       0       0       0       0       0   \n",
       "P0AEG4           0       0       0       0       0       0       0       0   \n",
       "P04070           0       0       0       0       0       1       0       0   \n",
       "P50914           0       0       0       0       0       0       0       0   \n",
       "Q9BY07           0       0       0       0       0       0       0       0   \n",
       "\n",
       "            P31153  P16070  ...  P11233  P95780  Q07817  P14090  Q9RHZ6  \\\n",
       "UniProt ID                  ...                                           \n",
       "Q8II92           0       0  ...       0       0       0       0       0   \n",
       "P08337           0       0  ...       0       0       0       0       0   \n",
       "O70038           0       0  ...       0       0       0       0       0   \n",
       "P05091           0       0  ...       0       0       0       0       0   \n",
       "P07024           0       0  ...       0       0       0       0       0   \n",
       "...            ...     ...  ...     ...     ...     ...     ...     ...   \n",
       "Q9NNW7           0       0  ...       0       1       0       0       0   \n",
       "P0AEG4           0       0  ...       0       0       0       0       0   \n",
       "P04070           0       0  ...       0       0       0       0       0   \n",
       "P50914           0       0  ...       0       0       0       0       0   \n",
       "Q9BY07           0       0  ...       0       0       0       0       0   \n",
       "\n",
       "            Q9NNW7  P0AEG4  P04070  P50914  Q9BY07  \n",
       "UniProt ID                                          \n",
       "Q8II92           0       0       0       0       0  \n",
       "P08337           0       0       0       0       0  \n",
       "O70038           0       0       0       0       0  \n",
       "P05091           0       0       0       0       0  \n",
       "P07024           0       0       0       0       0  \n",
       "...            ...     ...     ...     ...     ...  \n",
       "Q9NNW7           1       0       0       0       0  \n",
       "P0AEG4           0       1       0       0       0  \n",
       "P04070           0       0       1       0       0  \n",
       "P50914           0       0       0       1       0  \n",
       "Q9BY07           0       0       0       0       1  \n",
       "\n",
       "[5153 rows x 5153 columns]"
      ],
      "text/html": "<div>\n<style scoped>\n    .dataframe tbody tr th:only-of-type {\n        vertical-align: middle;\n    }\n\n    .dataframe tbody tr th {\n        vertical-align: top;\n    }\n\n    .dataframe thead th {\n        text-align: right;\n    }\n</style>\n<table border=\"1\" class=\"dataframe\">\n  <thead>\n    <tr style=\"text-align: right;\">\n      <th></th>\n      <th>Q8II92</th>\n      <th>P08337</th>\n      <th>O70038</th>\n      <th>P05091</th>\n      <th>P07024</th>\n      <th>Q8WWQ8</th>\n      <th>P32396</th>\n      <th>Q9BX79</th>\n      <th>P31153</th>\n      <th>P16070</th>\n      <th>...</th>\n      <th>P11233</th>\n      <th>P95780</th>\n      <th>Q07817</th>\n      <th>P14090</th>\n      <th>Q9RHZ6</th>\n      <th>Q9NNW7</th>\n      <th>P0AEG4</th>\n      <th>P04070</th>\n      <th>P50914</th>\n      <th>Q9BY07</th>\n    </tr>\n    <tr>\n      <th>UniProt ID</th>\n      <th></th>\n      <th></th>\n      <th></th>\n      <th></th>\n      <th></th>\n      <th></th>\n      <th></th>\n      <th></th>\n      <th></th>\n      <th></th>\n      <th></th>\n      <th></th>\n      <th></th>\n      <th></th>\n      <th></th>\n      <th></th>\n      <th></th>\n      <th></th>\n      <th></th>\n      <th></th>\n      <th></th>\n    </tr>\n  </thead>\n  <tbody>\n    <tr>\n      <th>Q8II92</th>\n      <td>1</td>\n      <td>0</td>\n      <td>0</td>\n      <td>0</td>\n      <td>0</td>\n      <td>0</td>\n      <td>0</td>\n      <td>0</td>\n      <td>0</td>\n      <td>0</td>\n      <td>...</td>\n      <td>0</td>\n      <td>0</td>\n      <td>0</td>\n      <td>0</td>\n      <td>0</td>\n      <td>0</td>\n      <td>0</td>\n      <td>0</td>\n      <td>0</td>\n      <td>0</td>\n    </tr>\n    <tr>\n      <th>P08337</th>\n      <td>0</td>\n      <td>1</td>\n      <td>0</td>\n      <td>0</td>\n      <td>0</td>\n      <td>0</td>\n      <td>0</td>\n      <td>0</td>\n      <td>0</td>\n      <td>0</td>\n      <td>...</td>\n      <td>0</td>\n      <td>0</td>\n      <td>0</td>\n      <td>0</td>\n      <td>0</td>\n      <td>0</td>\n      <td>0</td>\n      <td>0</td>\n      <td>0</td>\n      <td>0</td>\n    </tr>\n    <tr>\n      <th>O70038</th>\n      <td>0</td>\n      <td>0</td>\n      <td>1</td>\n      <td>0</td>\n      <td>0</td>\n      <td>0</td>\n      <td>0</td>\n      <td>0</td>\n      <td>0</td>\n      <td>0</td>\n      <td>...</td>\n      <td>0</td>\n      <td>0</td>\n      <td>0</td>\n      <td>0</td>\n      <td>0</td>\n      <td>0</td>\n      <td>0</td>\n      <td>0</td>\n      <td>0</td>\n      <td>0</td>\n    </tr>\n    <tr>\n      <th>P05091</th>\n      <td>0</td>\n      <td>0</td>\n      <td>0</td>\n      <td>1</td>\n      <td>0</td>\n      <td>0</td>\n      <td>0</td>\n      <td>0</td>\n      <td>0</td>\n      <td>0</td>\n      <td>...</td>\n      <td>0</td>\n      <td>0</td>\n      <td>0</td>\n      <td>0</td>\n      <td>0</td>\n      <td>0</td>\n      <td>0</td>\n      <td>0</td>\n      <td>0</td>\n      <td>0</td>\n    </tr>\n    <tr>\n      <th>P07024</th>\n      <td>0</td>\n      <td>0</td>\n      <td>0</td>\n      <td>0</td>\n      <td>1</td>\n      <td>0</td>\n      <td>0</td>\n      <td>0</td>\n      <td>0</td>\n      <td>0</td>\n      <td>...</td>\n      <td>0</td>\n      <td>0</td>\n      <td>0</td>\n      <td>0</td>\n      <td>0</td>\n      <td>0</td>\n      <td>0</td>\n      <td>0</td>\n      <td>0</td>\n      <td>0</td>\n    </tr>\n    <tr>\n      <th>...</th>\n      <td>...</td>\n      <td>...</td>\n      <td>...</td>\n      <td>...</td>\n      <td>...</td>\n      <td>...</td>\n      <td>...</td>\n      <td>...</td>\n      <td>...</td>\n      <td>...</td>\n      <td>...</td>\n      <td>...</td>\n      <td>...</td>\n      <td>...</td>\n      <td>...</td>\n      <td>...</td>\n      <td>...</td>\n      <td>...</td>\n      <td>...</td>\n      <td>...</td>\n      <td>...</td>\n    </tr>\n    <tr>\n      <th>Q9NNW7</th>\n      <td>0</td>\n      <td>0</td>\n      <td>0</td>\n      <td>0</td>\n      <td>0</td>\n      <td>0</td>\n      <td>0</td>\n      <td>0</td>\n      <td>0</td>\n      <td>0</td>\n      <td>...</td>\n      <td>0</td>\n      <td>1</td>\n      <td>0</td>\n      <td>0</td>\n      <td>0</td>\n      <td>1</td>\n      <td>0</td>\n      <td>0</td>\n      <td>0</td>\n      <td>0</td>\n    </tr>\n    <tr>\n      <th>P0AEG4</th>\n      <td>0</td>\n      <td>0</td>\n      <td>0</td>\n      <td>0</td>\n      <td>0</td>\n      <td>0</td>\n      <td>0</td>\n      <td>0</td>\n      <td>0</td>\n      <td>0</td>\n      <td>...</td>\n      <td>0</td>\n      <td>0</td>\n      <td>0</td>\n      <td>0</td>\n      <td>0</td>\n      <td>0</td>\n      <td>1</td>\n      <td>0</td>\n      <td>0</td>\n      <td>0</td>\n    </tr>\n    <tr>\n      <th>P04070</th>\n      <td>0</td>\n      <td>0</td>\n      <td>0</td>\n      <td>0</td>\n      <td>0</td>\n      <td>1</td>\n      <td>0</td>\n      <td>0</td>\n      <td>0</td>\n      <td>0</td>\n      <td>...</td>\n      <td>0</td>\n      <td>0</td>\n      <td>0</td>\n      <td>0</td>\n      <td>0</td>\n      <td>0</td>\n      <td>0</td>\n      <td>1</td>\n      <td>0</td>\n      <td>0</td>\n    </tr>\n    <tr>\n      <th>P50914</th>\n      <td>0</td>\n      <td>0</td>\n      <td>0</td>\n      <td>0</td>\n      <td>0</td>\n      <td>0</td>\n      <td>0</td>\n      <td>0</td>\n      <td>0</td>\n      <td>0</td>\n      <td>...</td>\n      <td>0</td>\n      <td>0</td>\n      <td>0</td>\n      <td>0</td>\n      <td>0</td>\n      <td>0</td>\n      <td>0</td>\n      <td>0</td>\n      <td>1</td>\n      <td>0</td>\n    </tr>\n    <tr>\n      <th>Q9BY07</th>\n      <td>0</td>\n      <td>0</td>\n      <td>0</td>\n      <td>0</td>\n      <td>0</td>\n      <td>0</td>\n      <td>0</td>\n      <td>0</td>\n      <td>0</td>\n      <td>0</td>\n      <td>...</td>\n      <td>0</td>\n      <td>0</td>\n      <td>0</td>\n      <td>0</td>\n      <td>0</td>\n      <td>0</td>\n      <td>0</td>\n      <td>0</td>\n      <td>0</td>\n      <td>1</td>\n    </tr>\n  </tbody>\n</table>\n<p>5153 rows × 5153 columns</p>\n</div>"
     },
     "metadata": {},
     "execution_count": 143
    }
   ],
   "source": [
    "adjacency_matrix"
   ]
  },
  {
   "cell_type": "code",
   "execution_count": 55,
   "metadata": {},
   "outputs": [],
   "source": [
    "adjacency_matrix.to_csv('./drug_target_data/protein_adjacency_matrix.csv')"
   ]
  },
  {
   "source": [
    "## Drug Descriptors"
   ],
   "cell_type": "markdown",
   "metadata": {}
  },
  {
   "cell_type": "code",
   "execution_count": 5,
   "metadata": {},
   "outputs": [],
   "source": [
    "def read_smi(file_path):\n",
    "    smi = []\n",
    "    with open(file_path, \"r\") as f:\n",
    "        for line in f:\n",
    "            smi.append(line.replace('\\n', '').replace('\\t', ''))\n",
    "    return pd.DataFrame(data={\"SMILES\":smi})"
   ]
  },
  {
   "cell_type": "code",
   "execution_count": 2,
   "metadata": {},
   "outputs": [],
   "source": [
    "descriptors_df = pd.read_csv('./drug_target_data/drug_descriptors/approved_drug_descriptors.csv')"
   ]
  },
  {
   "cell_type": "code",
   "execution_count": 3,
   "metadata": {},
   "outputs": [
    {
     "output_type": "execute_result",
     "data": {
      "text/plain": [
       "     DrugBank ID                  Name  \\\n",
       "0        DB00007            leuprolide   \n",
       "1        DB00014             goserelin   \n",
       "2        DB00035          desmopressin   \n",
       "3        DB00091          cyclosporine   \n",
       "4        DB00104            octreotide   \n",
       "...          ...                   ...   \n",
       "2299     DB15598         ferric maltol   \n",
       "2300     DB15617  ferric derisomaltose   \n",
       "2301     DB15678  calcium undecylenate   \n",
       "2302     DB15685         selpercatinib   \n",
       "2303     DB15690  fluoroestradiol f-18   \n",
       "\n",
       "                                                 SMILES  ALogPS_logP  \\\n",
       "0     CCNC(=O)[C@@H]1CCCN1C(=O)[C@@H](NC(=O)[C@@H](N...         1.04   \n",
       "1     OC[C@@H](C(=O)N[C@H](C(=O)N[C@@H](C(=O)N[C@H](...         0.30   \n",
       "2     NC(=O)C[C@@H]1NC(=O)[C@H](CCC(=O)N)NC(=O)[C@H]...        -1.01   \n",
       "3     C/C=C/C[C@H]([C@H]([C@H]1C(=O)N[C@@H](CC)C(=O)...         4.12   \n",
       "4     NCCCC[C@@H]1NC(=O)[C@H](NC(=O)[C@H](Cc2ccccc2)...         0.42   \n",
       "...                                                 ...          ...   \n",
       "2299  O=c1ccoc(c1[O-])C.O=c1ccoc(c1[O-])C.O=c1ccoc(c...        -0.24   \n",
       "2300  OC[C@@H]([C@H]([C@@H]([C@@H](CO[C@H]1O[C@H](CO...        -3.17   \n",
       "2301   C=CCCCCCCCCC(=O)[O-].C=CCCCCCCCCC(=O)[O-].[Ca+2]         3.84   \n",
       "2302  N#Cc1cnn2c1c(cc(c2)OCC(O)(C)C)c1ccc(nc1)N1CC2C...         3.03   \n",
       "2303  [18F][C@@H]1C[C@@H]2[C@]([C@H]1O)(C)CC[C@H]1[C...         3.33   \n",
       "\n",
       "      ALogPS_logS  nA:(CDK2)  nR:(CDK2)  nN:(CDK2)  nD:(CDK2)  nC:(CDK2)  ...  \\\n",
       "0           -4.55        9.0        1.0        0.0        0.0        0.0  ...   \n",
       "1           -4.65        9.0        0.0        0.0        0.0        0.0  ...   \n",
       "2           -3.99        7.0        1.0        1.0        0.0        1.0  ...   \n",
       "3           -5.09       10.0        0.0        0.0        0.0        0.0  ...   \n",
       "4           -4.93        7.0        0.0        0.0        0.0        2.0  ...   \n",
       "...           ...        ...        ...        ...        ...        ...  ...   \n",
       "2299         0.03        0.0        0.0        0.0        0.0        0.0  ...   \n",
       "2300        -0.25        0.0        0.0        0.0        0.0        0.0  ...   \n",
       "2301        -3.99        0.0        0.0        0.0        0.0        0.0  ...   \n",
       "2302        -4.24        0.0        0.0        0.0        0.0        0.0  ...   \n",
       "2303        -3.91        0.0        0.0        0.0        0.0        0.0  ...   \n",
       "\n",
       "      SYMS4:(Mersy)  SYMS5X:(Mersy)  SYMS5Y:(Mersy)  SYMS5Z:(Mersy)  \\\n",
       "0             0.300           0.204           0.260           0.402   \n",
       "1             0.283           0.247           0.246           0.339   \n",
       "2             0.297           0.272           0.314           0.305   \n",
       "3             0.448           0.453           0.503           0.374   \n",
       "4             0.348           0.350           0.364           0.323   \n",
       "...             ...             ...             ...             ...   \n",
       "2299          0.706           0.781           0.605           0.655   \n",
       "2300          0.451           0.483           0.392           0.481   \n",
       "2301          0.676           0.585           0.566           0.756   \n",
       "2302          0.326           0.315           0.258           0.407   \n",
       "2303          0.675           0.627           0.687           0.684   \n",
       "\n",
       "      SYMS5:(Mersy)  SYMS6X:(Mersy)  SYMS6Y:(Mersy)  SYMS6Z:(Mersy)  \\\n",
       "0             0.294           0.214           0.260           0.401   \n",
       "1             0.279           0.255           0.260           0.340   \n",
       "2             0.297           0.272           0.308           0.309   \n",
       "3             0.446           0.454           0.529           0.388   \n",
       "4             0.346           0.362           0.353           0.326   \n",
       "...             ...             ...             ...             ...   \n",
       "2299          0.690           0.792           0.617           0.672   \n",
       "2300          0.454           0.493           0.397           0.482   \n",
       "2301          0.647           0.601           0.582           0.766   \n",
       "2302          0.330           0.294           0.260           0.398   \n",
       "2303          0.667           0.631           0.689           0.690   \n",
       "\n",
       "      SYMS6:(Mersy)  CHIR:(Mersy)  \n",
       "0             0.297         0.652  \n",
       "1             0.286         0.648  \n",
       "2             0.296         0.670  \n",
       "3             0.460         0.489  \n",
       "4             0.347         0.610  \n",
       "...             ...           ...  \n",
       "2299          0.703         0.210  \n",
       "2300          0.459         0.504  \n",
       "2301          0.661         0.237  \n",
       "2302          0.320         0.624  \n",
       "2303          0.671         0.258  \n",
       "\n",
       "[2304 rows x 11471 columns]"
      ],
      "text/html": "<div>\n<style scoped>\n    .dataframe tbody tr th:only-of-type {\n        vertical-align: middle;\n    }\n\n    .dataframe tbody tr th {\n        vertical-align: top;\n    }\n\n    .dataframe thead th {\n        text-align: right;\n    }\n</style>\n<table border=\"1\" class=\"dataframe\">\n  <thead>\n    <tr style=\"text-align: right;\">\n      <th></th>\n      <th>DrugBank ID</th>\n      <th>Name</th>\n      <th>SMILES</th>\n      <th>ALogPS_logP</th>\n      <th>ALogPS_logS</th>\n      <th>nA:(CDK2)</th>\n      <th>nR:(CDK2)</th>\n      <th>nN:(CDK2)</th>\n      <th>nD:(CDK2)</th>\n      <th>nC:(CDK2)</th>\n      <th>...</th>\n      <th>SYMS4:(Mersy)</th>\n      <th>SYMS5X:(Mersy)</th>\n      <th>SYMS5Y:(Mersy)</th>\n      <th>SYMS5Z:(Mersy)</th>\n      <th>SYMS5:(Mersy)</th>\n      <th>SYMS6X:(Mersy)</th>\n      <th>SYMS6Y:(Mersy)</th>\n      <th>SYMS6Z:(Mersy)</th>\n      <th>SYMS6:(Mersy)</th>\n      <th>CHIR:(Mersy)</th>\n    </tr>\n  </thead>\n  <tbody>\n    <tr>\n      <th>0</th>\n      <td>DB00007</td>\n      <td>leuprolide</td>\n      <td>CCNC(=O)[C@@H]1CCCN1C(=O)[C@@H](NC(=O)[C@@H](N...</td>\n      <td>1.04</td>\n      <td>-4.55</td>\n      <td>9.0</td>\n      <td>1.0</td>\n      <td>0.0</td>\n      <td>0.0</td>\n      <td>0.0</td>\n      <td>...</td>\n      <td>0.300</td>\n      <td>0.204</td>\n      <td>0.260</td>\n      <td>0.402</td>\n      <td>0.294</td>\n      <td>0.214</td>\n      <td>0.260</td>\n      <td>0.401</td>\n      <td>0.297</td>\n      <td>0.652</td>\n    </tr>\n    <tr>\n      <th>1</th>\n      <td>DB00014</td>\n      <td>goserelin</td>\n      <td>OC[C@@H](C(=O)N[C@H](C(=O)N[C@@H](C(=O)N[C@H](...</td>\n      <td>0.30</td>\n      <td>-4.65</td>\n      <td>9.0</td>\n      <td>0.0</td>\n      <td>0.0</td>\n      <td>0.0</td>\n      <td>0.0</td>\n      <td>...</td>\n      <td>0.283</td>\n      <td>0.247</td>\n      <td>0.246</td>\n      <td>0.339</td>\n      <td>0.279</td>\n      <td>0.255</td>\n      <td>0.260</td>\n      <td>0.340</td>\n      <td>0.286</td>\n      <td>0.648</td>\n    </tr>\n    <tr>\n      <th>2</th>\n      <td>DB00035</td>\n      <td>desmopressin</td>\n      <td>NC(=O)C[C@@H]1NC(=O)[C@H](CCC(=O)N)NC(=O)[C@H]...</td>\n      <td>-1.01</td>\n      <td>-3.99</td>\n      <td>7.0</td>\n      <td>1.0</td>\n      <td>1.0</td>\n      <td>0.0</td>\n      <td>1.0</td>\n      <td>...</td>\n      <td>0.297</td>\n      <td>0.272</td>\n      <td>0.314</td>\n      <td>0.305</td>\n      <td>0.297</td>\n      <td>0.272</td>\n      <td>0.308</td>\n      <td>0.309</td>\n      <td>0.296</td>\n      <td>0.670</td>\n    </tr>\n    <tr>\n      <th>3</th>\n      <td>DB00091</td>\n      <td>cyclosporine</td>\n      <td>C/C=C/C[C@H]([C@H]([C@H]1C(=O)N[C@@H](CC)C(=O)...</td>\n      <td>4.12</td>\n      <td>-5.09</td>\n      <td>10.0</td>\n      <td>0.0</td>\n      <td>0.0</td>\n      <td>0.0</td>\n      <td>0.0</td>\n      <td>...</td>\n      <td>0.448</td>\n      <td>0.453</td>\n      <td>0.503</td>\n      <td>0.374</td>\n      <td>0.446</td>\n      <td>0.454</td>\n      <td>0.529</td>\n      <td>0.388</td>\n      <td>0.460</td>\n      <td>0.489</td>\n    </tr>\n    <tr>\n      <th>4</th>\n      <td>DB00104</td>\n      <td>octreotide</td>\n      <td>NCCCC[C@@H]1NC(=O)[C@H](NC(=O)[C@H](Cc2ccccc2)...</td>\n      <td>0.42</td>\n      <td>-4.93</td>\n      <td>7.0</td>\n      <td>0.0</td>\n      <td>0.0</td>\n      <td>0.0</td>\n      <td>2.0</td>\n      <td>...</td>\n      <td>0.348</td>\n      <td>0.350</td>\n      <td>0.364</td>\n      <td>0.323</td>\n      <td>0.346</td>\n      <td>0.362</td>\n      <td>0.353</td>\n      <td>0.326</td>\n      <td>0.347</td>\n      <td>0.610</td>\n    </tr>\n    <tr>\n      <th>...</th>\n      <td>...</td>\n      <td>...</td>\n      <td>...</td>\n      <td>...</td>\n      <td>...</td>\n      <td>...</td>\n      <td>...</td>\n      <td>...</td>\n      <td>...</td>\n      <td>...</td>\n      <td>...</td>\n      <td>...</td>\n      <td>...</td>\n      <td>...</td>\n      <td>...</td>\n      <td>...</td>\n      <td>...</td>\n      <td>...</td>\n      <td>...</td>\n      <td>...</td>\n      <td>...</td>\n    </tr>\n    <tr>\n      <th>2299</th>\n      <td>DB15598</td>\n      <td>ferric maltol</td>\n      <td>O=c1ccoc(c1[O-])C.O=c1ccoc(c1[O-])C.O=c1ccoc(c...</td>\n      <td>-0.24</td>\n      <td>0.03</td>\n      <td>0.0</td>\n      <td>0.0</td>\n      <td>0.0</td>\n      <td>0.0</td>\n      <td>0.0</td>\n      <td>...</td>\n      <td>0.706</td>\n      <td>0.781</td>\n      <td>0.605</td>\n      <td>0.655</td>\n      <td>0.690</td>\n      <td>0.792</td>\n      <td>0.617</td>\n      <td>0.672</td>\n      <td>0.703</td>\n      <td>0.210</td>\n    </tr>\n    <tr>\n      <th>2300</th>\n      <td>DB15617</td>\n      <td>ferric derisomaltose</td>\n      <td>OC[C@@H]([C@H]([C@@H]([C@@H](CO[C@H]1O[C@H](CO...</td>\n      <td>-3.17</td>\n      <td>-0.25</td>\n      <td>0.0</td>\n      <td>0.0</td>\n      <td>0.0</td>\n      <td>0.0</td>\n      <td>0.0</td>\n      <td>...</td>\n      <td>0.451</td>\n      <td>0.483</td>\n      <td>0.392</td>\n      <td>0.481</td>\n      <td>0.454</td>\n      <td>0.493</td>\n      <td>0.397</td>\n      <td>0.482</td>\n      <td>0.459</td>\n      <td>0.504</td>\n    </tr>\n    <tr>\n      <th>2301</th>\n      <td>DB15678</td>\n      <td>calcium undecylenate</td>\n      <td>C=CCCCCCCCCC(=O)[O-].C=CCCCCCCCCC(=O)[O-].[Ca+2]</td>\n      <td>3.84</td>\n      <td>-3.99</td>\n      <td>0.0</td>\n      <td>0.0</td>\n      <td>0.0</td>\n      <td>0.0</td>\n      <td>0.0</td>\n      <td>...</td>\n      <td>0.676</td>\n      <td>0.585</td>\n      <td>0.566</td>\n      <td>0.756</td>\n      <td>0.647</td>\n      <td>0.601</td>\n      <td>0.582</td>\n      <td>0.766</td>\n      <td>0.661</td>\n      <td>0.237</td>\n    </tr>\n    <tr>\n      <th>2302</th>\n      <td>DB15685</td>\n      <td>selpercatinib</td>\n      <td>N#Cc1cnn2c1c(cc(c2)OCC(O)(C)C)c1ccc(nc1)N1CC2C...</td>\n      <td>3.03</td>\n      <td>-4.24</td>\n      <td>0.0</td>\n      <td>0.0</td>\n      <td>0.0</td>\n      <td>0.0</td>\n      <td>0.0</td>\n      <td>...</td>\n      <td>0.326</td>\n      <td>0.315</td>\n      <td>0.258</td>\n      <td>0.407</td>\n      <td>0.330</td>\n      <td>0.294</td>\n      <td>0.260</td>\n      <td>0.398</td>\n      <td>0.320</td>\n      <td>0.624</td>\n    </tr>\n    <tr>\n      <th>2303</th>\n      <td>DB15690</td>\n      <td>fluoroestradiol f-18</td>\n      <td>[18F][C@@H]1C[C@@H]2[C@]([C@H]1O)(C)CC[C@H]1[C...</td>\n      <td>3.33</td>\n      <td>-3.91</td>\n      <td>0.0</td>\n      <td>0.0</td>\n      <td>0.0</td>\n      <td>0.0</td>\n      <td>0.0</td>\n      <td>...</td>\n      <td>0.675</td>\n      <td>0.627</td>\n      <td>0.687</td>\n      <td>0.684</td>\n      <td>0.667</td>\n      <td>0.631</td>\n      <td>0.689</td>\n      <td>0.690</td>\n      <td>0.671</td>\n      <td>0.258</td>\n    </tr>\n  </tbody>\n</table>\n<p>2304 rows × 11471 columns</p>\n</div>"
     },
     "metadata": {},
     "execution_count": 3
    }
   ],
   "source": [
    "descriptors_df"
   ]
  },
  {
   "source": [
    "No need to run the cell below if you have already ran it before and written the descriptors to a file."
   ],
   "cell_type": "markdown",
   "metadata": {}
  },
  {
   "cell_type": "code",
   "execution_count": 35,
   "metadata": {},
   "outputs": [
    {
     "output_type": "stream",
     "name": "stdout",
     "text": [
      "Dropping 176 drugs due to errors in desc calculation\n"
     ]
    },
    {
     "output_type": "execute_result",
     "data": {
      "text/plain": [
       "                                                 SMILES ALogPS_logP  \\\n",
       "0     CCNC(=O)[C@@H]1CCCN1C(=O)[C@H](CCCNC(N)=N)NC(=...        1.04   \n",
       "1     CC(C)C[C@H](NC(=O)[C@@H](COC(C)(C)C)NC(=O)[C@H...         0.3   \n",
       "2     NC(=O)CC[C@@H]1NC(=O)[C@H](CC2=CC=CC=C2)NC(=O)...       -1.01   \n",
       "3     CC[C@@H]1NC(=O)[C@H]([C@H](O)[C@H](C)C\\C=C\\C)N...        4.12   \n",
       "4     C[C@@H](O)[C@@H](CO)NC(=O)[C@@H]1CSSC[C@H](NC(...        0.42   \n",
       "...                                                 ...         ...   \n",
       "2439  [Fe+3].CC1=C([O-])C(=O)C=CO1.CC1=C([O-])C(=O)C...       -0.24   \n",
       "2440  [Fe+3].OC[C@H](O)[C@@H](O)[C@H](O)[C@H](O)CO[C...       -3.17   \n",
       "2441   [Ca++].[O-]C(=O)CCCCCCCCC=C.[O-]C(=O)CCCCCCCCC=C        3.84   \n",
       "2442  COC1=NC=C(CN2C3CC2CN(C3)C2=CC=C(C=N2)C2=CC(OCC...        3.03   \n",
       "2443  C[C@]12CC[C@H]3[C@@H](CCC4=C3C=CC(O)=C4)[C@@H]...        3.33   \n",
       "\n",
       "     ALogPS_logS nA:(CDK2) nR:(CDK2) nN:(CDK2) nD:(CDK2) nC:(CDK2) nF:(CDK2)  \\\n",
       "0          -4.55       9.0       1.0       0.0       0.0       0.0       2.0   \n",
       "1          -4.65       9.0       0.0       0.0       0.0       0.0       2.0   \n",
       "2          -3.99       7.0       1.0       1.0       0.0       1.0       4.0   \n",
       "3          -5.09      10.0       0.0       0.0       0.0       0.0       0.0   \n",
       "4          -4.93       7.0       0.0       0.0       0.0       2.0       4.0   \n",
       "...          ...       ...       ...       ...       ...       ...       ...   \n",
       "2439        0.03       0.0       0.0       0.0       0.0       0.0       0.0   \n",
       "2440       -0.25       0.0       0.0       0.0       0.0       0.0       0.0   \n",
       "2441       -3.99       0.0       0.0       0.0       0.0       0.0       0.0   \n",
       "2442       -4.24       0.0       0.0       0.0       0.0       0.0       0.0   \n",
       "2443       -3.91       0.0       0.0       0.0       0.0       0.0       0.0   \n",
       "\n",
       "     nQ:(CDK2)  ... SYMS4:(Mersy) SYMS5X:(Mersy) SYMS5Y:(Mersy)  \\\n",
       "0          0.0  ...           0.3          0.204           0.26   \n",
       "1          0.0  ...         0.283          0.247          0.246   \n",
       "2          1.0  ...         0.297          0.272          0.314   \n",
       "3          0.0  ...         0.448          0.453          0.503   \n",
       "4          0.0  ...         0.348           0.35          0.364   \n",
       "...        ...  ...           ...            ...            ...   \n",
       "2439       0.0  ...         0.706          0.781          0.605   \n",
       "2440       0.0  ...         0.451          0.483          0.392   \n",
       "2441       0.0  ...         0.676          0.585          0.566   \n",
       "2442       0.0  ...         0.326          0.315          0.258   \n",
       "2443       0.0  ...         0.675          0.627          0.687   \n",
       "\n",
       "     SYMS5Z:(Mersy) SYMS5:(Mersy) SYMS6X:(Mersy) SYMS6Y:(Mersy)  \\\n",
       "0             0.402         0.294          0.214           0.26   \n",
       "1             0.339         0.279          0.255           0.26   \n",
       "2             0.305         0.297          0.272          0.308   \n",
       "3             0.374         0.446          0.454          0.529   \n",
       "4             0.323         0.346          0.362          0.353   \n",
       "...             ...           ...            ...            ...   \n",
       "2439          0.655          0.69          0.792          0.617   \n",
       "2440          0.481         0.454          0.493          0.397   \n",
       "2441          0.756         0.647          0.601          0.582   \n",
       "2442          0.407          0.33          0.294           0.26   \n",
       "2443          0.684         0.667          0.631          0.689   \n",
       "\n",
       "     SYMS6Z:(Mersy) SYMS6:(Mersy) CHIR:(Mersy)  \n",
       "0             0.401         0.297        0.652  \n",
       "1              0.34         0.286        0.648  \n",
       "2             0.309         0.296         0.67  \n",
       "3             0.388          0.46        0.489  \n",
       "4             0.326         0.347         0.61  \n",
       "...             ...           ...          ...  \n",
       "2439          0.672         0.703         0.21  \n",
       "2440          0.482         0.459        0.504  \n",
       "2441          0.766         0.661        0.237  \n",
       "2442          0.398          0.32        0.624  \n",
       "2443           0.69         0.671        0.258  \n",
       "\n",
       "[2444 rows x 11469 columns]"
      ],
      "text/html": "<div>\n<style scoped>\n    .dataframe tbody tr th:only-of-type {\n        vertical-align: middle;\n    }\n\n    .dataframe tbody tr th {\n        vertical-align: top;\n    }\n\n    .dataframe thead th {\n        text-align: right;\n    }\n</style>\n<table border=\"1\" class=\"dataframe\">\n  <thead>\n    <tr style=\"text-align: right;\">\n      <th></th>\n      <th>SMILES</th>\n      <th>ALogPS_logP</th>\n      <th>ALogPS_logS</th>\n      <th>nA:(CDK2)</th>\n      <th>nR:(CDK2)</th>\n      <th>nN:(CDK2)</th>\n      <th>nD:(CDK2)</th>\n      <th>nC:(CDK2)</th>\n      <th>nF:(CDK2)</th>\n      <th>nQ:(CDK2)</th>\n      <th>...</th>\n      <th>SYMS4:(Mersy)</th>\n      <th>SYMS5X:(Mersy)</th>\n      <th>SYMS5Y:(Mersy)</th>\n      <th>SYMS5Z:(Mersy)</th>\n      <th>SYMS5:(Mersy)</th>\n      <th>SYMS6X:(Mersy)</th>\n      <th>SYMS6Y:(Mersy)</th>\n      <th>SYMS6Z:(Mersy)</th>\n      <th>SYMS6:(Mersy)</th>\n      <th>CHIR:(Mersy)</th>\n    </tr>\n  </thead>\n  <tbody>\n    <tr>\n      <th>0</th>\n      <td>CCNC(=O)[C@@H]1CCCN1C(=O)[C@H](CCCNC(N)=N)NC(=...</td>\n      <td>1.04</td>\n      <td>-4.55</td>\n      <td>9.0</td>\n      <td>1.0</td>\n      <td>0.0</td>\n      <td>0.0</td>\n      <td>0.0</td>\n      <td>2.0</td>\n      <td>0.0</td>\n      <td>...</td>\n      <td>0.3</td>\n      <td>0.204</td>\n      <td>0.26</td>\n      <td>0.402</td>\n      <td>0.294</td>\n      <td>0.214</td>\n      <td>0.26</td>\n      <td>0.401</td>\n      <td>0.297</td>\n      <td>0.652</td>\n    </tr>\n    <tr>\n      <th>1</th>\n      <td>CC(C)C[C@H](NC(=O)[C@@H](COC(C)(C)C)NC(=O)[C@H...</td>\n      <td>0.3</td>\n      <td>-4.65</td>\n      <td>9.0</td>\n      <td>0.0</td>\n      <td>0.0</td>\n      <td>0.0</td>\n      <td>0.0</td>\n      <td>2.0</td>\n      <td>0.0</td>\n      <td>...</td>\n      <td>0.283</td>\n      <td>0.247</td>\n      <td>0.246</td>\n      <td>0.339</td>\n      <td>0.279</td>\n      <td>0.255</td>\n      <td>0.26</td>\n      <td>0.34</td>\n      <td>0.286</td>\n      <td>0.648</td>\n    </tr>\n    <tr>\n      <th>2</th>\n      <td>NC(=O)CC[C@@H]1NC(=O)[C@H](CC2=CC=CC=C2)NC(=O)...</td>\n      <td>-1.01</td>\n      <td>-3.99</td>\n      <td>7.0</td>\n      <td>1.0</td>\n      <td>1.0</td>\n      <td>0.0</td>\n      <td>1.0</td>\n      <td>4.0</td>\n      <td>1.0</td>\n      <td>...</td>\n      <td>0.297</td>\n      <td>0.272</td>\n      <td>0.314</td>\n      <td>0.305</td>\n      <td>0.297</td>\n      <td>0.272</td>\n      <td>0.308</td>\n      <td>0.309</td>\n      <td>0.296</td>\n      <td>0.67</td>\n    </tr>\n    <tr>\n      <th>3</th>\n      <td>CC[C@@H]1NC(=O)[C@H]([C@H](O)[C@H](C)C\\C=C\\C)N...</td>\n      <td>4.12</td>\n      <td>-5.09</td>\n      <td>10.0</td>\n      <td>0.0</td>\n      <td>0.0</td>\n      <td>0.0</td>\n      <td>0.0</td>\n      <td>0.0</td>\n      <td>0.0</td>\n      <td>...</td>\n      <td>0.448</td>\n      <td>0.453</td>\n      <td>0.503</td>\n      <td>0.374</td>\n      <td>0.446</td>\n      <td>0.454</td>\n      <td>0.529</td>\n      <td>0.388</td>\n      <td>0.46</td>\n      <td>0.489</td>\n    </tr>\n    <tr>\n      <th>4</th>\n      <td>C[C@@H](O)[C@@H](CO)NC(=O)[C@@H]1CSSC[C@H](NC(...</td>\n      <td>0.42</td>\n      <td>-4.93</td>\n      <td>7.0</td>\n      <td>0.0</td>\n      <td>0.0</td>\n      <td>0.0</td>\n      <td>2.0</td>\n      <td>4.0</td>\n      <td>0.0</td>\n      <td>...</td>\n      <td>0.348</td>\n      <td>0.35</td>\n      <td>0.364</td>\n      <td>0.323</td>\n      <td>0.346</td>\n      <td>0.362</td>\n      <td>0.353</td>\n      <td>0.326</td>\n      <td>0.347</td>\n      <td>0.61</td>\n    </tr>\n    <tr>\n      <th>...</th>\n      <td>...</td>\n      <td>...</td>\n      <td>...</td>\n      <td>...</td>\n      <td>...</td>\n      <td>...</td>\n      <td>...</td>\n      <td>...</td>\n      <td>...</td>\n      <td>...</td>\n      <td>...</td>\n      <td>...</td>\n      <td>...</td>\n      <td>...</td>\n      <td>...</td>\n      <td>...</td>\n      <td>...</td>\n      <td>...</td>\n      <td>...</td>\n      <td>...</td>\n      <td>...</td>\n    </tr>\n    <tr>\n      <th>2439</th>\n      <td>[Fe+3].CC1=C([O-])C(=O)C=CO1.CC1=C([O-])C(=O)C...</td>\n      <td>-0.24</td>\n      <td>0.03</td>\n      <td>0.0</td>\n      <td>0.0</td>\n      <td>0.0</td>\n      <td>0.0</td>\n      <td>0.0</td>\n      <td>0.0</td>\n      <td>0.0</td>\n      <td>...</td>\n      <td>0.706</td>\n      <td>0.781</td>\n      <td>0.605</td>\n      <td>0.655</td>\n      <td>0.69</td>\n      <td>0.792</td>\n      <td>0.617</td>\n      <td>0.672</td>\n      <td>0.703</td>\n      <td>0.21</td>\n    </tr>\n    <tr>\n      <th>2440</th>\n      <td>[Fe+3].OC[C@H](O)[C@@H](O)[C@H](O)[C@H](O)CO[C...</td>\n      <td>-3.17</td>\n      <td>-0.25</td>\n      <td>0.0</td>\n      <td>0.0</td>\n      <td>0.0</td>\n      <td>0.0</td>\n      <td>0.0</td>\n      <td>0.0</td>\n      <td>0.0</td>\n      <td>...</td>\n      <td>0.451</td>\n      <td>0.483</td>\n      <td>0.392</td>\n      <td>0.481</td>\n      <td>0.454</td>\n      <td>0.493</td>\n      <td>0.397</td>\n      <td>0.482</td>\n      <td>0.459</td>\n      <td>0.504</td>\n    </tr>\n    <tr>\n      <th>2441</th>\n      <td>[Ca++].[O-]C(=O)CCCCCCCCC=C.[O-]C(=O)CCCCCCCCC=C</td>\n      <td>3.84</td>\n      <td>-3.99</td>\n      <td>0.0</td>\n      <td>0.0</td>\n      <td>0.0</td>\n      <td>0.0</td>\n      <td>0.0</td>\n      <td>0.0</td>\n      <td>0.0</td>\n      <td>...</td>\n      <td>0.676</td>\n      <td>0.585</td>\n      <td>0.566</td>\n      <td>0.756</td>\n      <td>0.647</td>\n      <td>0.601</td>\n      <td>0.582</td>\n      <td>0.766</td>\n      <td>0.661</td>\n      <td>0.237</td>\n    </tr>\n    <tr>\n      <th>2442</th>\n      <td>COC1=NC=C(CN2C3CC2CN(C3)C2=CC=C(C=N2)C2=CC(OCC...</td>\n      <td>3.03</td>\n      <td>-4.24</td>\n      <td>0.0</td>\n      <td>0.0</td>\n      <td>0.0</td>\n      <td>0.0</td>\n      <td>0.0</td>\n      <td>0.0</td>\n      <td>0.0</td>\n      <td>...</td>\n      <td>0.326</td>\n      <td>0.315</td>\n      <td>0.258</td>\n      <td>0.407</td>\n      <td>0.33</td>\n      <td>0.294</td>\n      <td>0.26</td>\n      <td>0.398</td>\n      <td>0.32</td>\n      <td>0.624</td>\n    </tr>\n    <tr>\n      <th>2443</th>\n      <td>C[C@]12CC[C@H]3[C@@H](CCC4=C3C=CC(O)=C4)[C@@H]...</td>\n      <td>3.33</td>\n      <td>-3.91</td>\n      <td>0.0</td>\n      <td>0.0</td>\n      <td>0.0</td>\n      <td>0.0</td>\n      <td>0.0</td>\n      <td>0.0</td>\n      <td>0.0</td>\n      <td>...</td>\n      <td>0.675</td>\n      <td>0.627</td>\n      <td>0.687</td>\n      <td>0.684</td>\n      <td>0.667</td>\n      <td>0.631</td>\n      <td>0.689</td>\n      <td>0.69</td>\n      <td>0.671</td>\n      <td>0.258</td>\n    </tr>\n  </tbody>\n</table>\n<p>2444 rows × 11469 columns</p>\n</div>"
     },
     "metadata": {},
     "execution_count": 35
    }
   ],
   "source": [
    "# dropping useless columns\n",
    "descriptors_df.drop(columns=['CASRN', 'EXTERNALID', 'N', 'NAME', 'NAME.1', 'ARTICLEID', 'PUBMEDID', 'PAGE', 'TABLE'], inplace=True)\n",
    "# counting the number of columns that are dropped due to errors\n",
    "num_dropped = descriptors_df.loc[descriptors_df['ERROR'] != '-'].shape[0]\n",
    "print(f'Dropping {num_dropped} drugs due to errors in desc calculation')\n",
    "# removing drugs that gave an error\n",
    "descriptors_df = descriptors_df.loc[descriptors_df['ERROR'] == '-'].drop(columns=['ERROR'])\n",
    "descriptors_df.dropna(inplace=True)\n",
    "descriptors_df.reset_index(inplace=True, drop=True)\n",
    "descriptors_df"
   ]
  },
  {
   "source": [
    "Writing SMILES in `descriptor_df` to .smi file to convert the SMILES to canonical SMILES (.can). Adding the SMILES back into the dataframe after"
   ],
   "cell_type": "markdown",
   "metadata": {}
  },
  {
   "cell_type": "code",
   "execution_count": 18,
   "metadata": {},
   "outputs": [],
   "source": [
    "with open('./drug_target_data/drug_structures/descriptor_smiles.smi', 'w') as f:\n",
    "    for i, r in descriptors_df.iterrows():\n",
    "        f.write(r['SMILES'] + '\\n')"
   ]
  },
  {
   "source": [
    "Reading canonical SMILES after conversion and adding them back into the descriptors dataframe (they are in the same order)"
   ],
   "cell_type": "markdown",
   "metadata": {}
  },
  {
   "cell_type": "code",
   "execution_count": 6,
   "metadata": {},
   "outputs": [],
   "source": [
    "descriptor_unique_smiles = read_smi('./drug_target_data/drug_structures/descriptor_smiles.can')\n",
    "descriptors_df['SMILES'] = descriptor_unique_smiles['SMILES']"
   ]
  },
  {
   "source": [
    "Reading drug SMILES data from DrugBank to add drug names to the descriptor DataFrame"
   ],
   "cell_type": "markdown",
   "metadata": {}
  },
  {
   "cell_type": "code",
   "execution_count": 29,
   "metadata": {},
   "outputs": [],
   "source": [
    "def read_smi2(file_path):\n",
    "    ids = []\n",
    "    smi = []\n",
    "    name = []\n",
    "    with open(file_path, \"r\") as f:\n",
    "        for line in f:\n",
    "            line = line.replace('\\n', '').split(';')\n",
    "            name.append(line[1].lower())\n",
    "            line[0] = line[0].split('\\t')\n",
    "            smi.append(line[0][0])\n",
    "            ids.append(line[0][1])\n",
    "    return pd.DataFrame(data={'DrugBank ID':ids, \"Name\":name, \"SMILES\":smi})"
   ]
  },
  {
   "cell_type": "code",
   "execution_count": 37,
   "metadata": {},
   "outputs": [
    {
     "output_type": "stream",
     "name": "stdout",
     "text": [
      "Removing 164 drugs from smi_df because they are not in the descriptors DataFrame\n"
     ]
    }
   ],
   "source": [
    "smi_df = read_smi2('./drug_target_data/drug_structures/approved_drug.can')\n",
    "# removing drugs that are not in the descriptor DataFrame\n",
    "print(f\"Removing {smi_df.shape[0]-smi_df.loc[smi_df['SMILES'].isin(descriptors_df['SMILES'])].shape[0]} drugs from smi_df because they are not in the descriptors DataFrame\")\n",
    "smi_df = smi_df.loc[smi_df['SMILES'].isin(descriptors_df['SMILES'])]"
   ]
  },
  {
   "cell_type": "code",
   "execution_count": 41,
   "metadata": {},
   "outputs": [
    {
     "output_type": "stream",
     "name": "stdout",
     "text": [
      "Merged the dataframes to add drug names to the descriptors. Removing 140 drugs that don't have IDs (only SMILES)\n"
     ]
    }
   ],
   "source": [
    "descriptors_df = pd.merge(smi_df, descriptors_df, how='right', on=['SMILES'])\n",
    "print(f\"Merged the dataframes to add drug names to the descriptors. Removing {descriptors_df['DrugBank ID'].isna().sum()} drugs that don't have IDs (only SMILES)\")\n",
    "descriptors_df.dropna(subset=['DrugBank ID'], inplace=True)"
   ]
  },
  {
   "cell_type": "code",
   "execution_count": 48,
   "metadata": {},
   "outputs": [
    {
     "output_type": "execute_result",
     "data": {
      "text/plain": [
       "     DrugBank ID                  Name  \\\n",
       "1        DB00007            leuprolide   \n",
       "2        DB00014             goserelin   \n",
       "4        DB00035          desmopressin   \n",
       "8        DB00091          cyclosporine   \n",
       "9        DB00104            octreotide   \n",
       "...          ...                   ...   \n",
       "2462     DB15598         ferric maltol   \n",
       "2463     DB15617  ferric derisomaltose   \n",
       "2464     DB15678  calcium undecylenate   \n",
       "2466     DB15685         selpercatinib   \n",
       "2467     DB15690  fluoroestradiol f-18   \n",
       "\n",
       "                                                 SMILES  \n",
       "1     CCNC(=O)[C@@H]1CCCN1C(=O)[C@@H](NC(=O)[C@@H](N...  \n",
       "2     OC[C@@H](C(=O)N[C@H](C(=O)N[C@@H](C(=O)N[C@H](...  \n",
       "4     NC(=O)C[C@@H]1NC(=O)[C@H](CCC(=O)N)NC(=O)[C@H]...  \n",
       "8     C/C=C/C[C@H]([C@H]([C@H]1C(=O)N[C@@H](CC)C(=O)...  \n",
       "9     NCCCC[C@@H]1NC(=O)[C@H](NC(=O)[C@H](Cc2ccccc2)...  \n",
       "...                                                 ...  \n",
       "2462  O=c1ccoc(c1[O-])C.O=c1ccoc(c1[O-])C.O=c1ccoc(c...  \n",
       "2463  OC[C@@H]([C@H]([C@@H]([C@@H](CO[C@H]1O[C@H](CO...  \n",
       "2464   C=CCCCCCCCCC(=O)[O-].C=CCCCCCCCCC(=O)[O-].[Ca+2]  \n",
       "2466  N#Cc1cnn2c1c(cc(c2)OCC(O)(C)C)c1ccc(nc1)N1CC2C...  \n",
       "2467  [18F][C@@H]1C[C@@H]2[C@]([C@H]1O)(C)CC[C@H]1[C...  \n",
       "\n",
       "[2304 rows x 3 columns]"
      ],
      "text/html": "<div>\n<style scoped>\n    .dataframe tbody tr th:only-of-type {\n        vertical-align: middle;\n    }\n\n    .dataframe tbody tr th {\n        vertical-align: top;\n    }\n\n    .dataframe thead th {\n        text-align: right;\n    }\n</style>\n<table border=\"1\" class=\"dataframe\">\n  <thead>\n    <tr style=\"text-align: right;\">\n      <th></th>\n      <th>DrugBank ID</th>\n      <th>Name</th>\n      <th>SMILES</th>\n    </tr>\n  </thead>\n  <tbody>\n    <tr>\n      <th>1</th>\n      <td>DB00007</td>\n      <td>leuprolide</td>\n      <td>CCNC(=O)[C@@H]1CCCN1C(=O)[C@@H](NC(=O)[C@@H](N...</td>\n    </tr>\n    <tr>\n      <th>2</th>\n      <td>DB00014</td>\n      <td>goserelin</td>\n      <td>OC[C@@H](C(=O)N[C@H](C(=O)N[C@@H](C(=O)N[C@H](...</td>\n    </tr>\n    <tr>\n      <th>4</th>\n      <td>DB00035</td>\n      <td>desmopressin</td>\n      <td>NC(=O)C[C@@H]1NC(=O)[C@H](CCC(=O)N)NC(=O)[C@H]...</td>\n    </tr>\n    <tr>\n      <th>8</th>\n      <td>DB00091</td>\n      <td>cyclosporine</td>\n      <td>C/C=C/C[C@H]([C@H]([C@H]1C(=O)N[C@@H](CC)C(=O)...</td>\n    </tr>\n    <tr>\n      <th>9</th>\n      <td>DB00104</td>\n      <td>octreotide</td>\n      <td>NCCCC[C@@H]1NC(=O)[C@H](NC(=O)[C@H](Cc2ccccc2)...</td>\n    </tr>\n    <tr>\n      <th>...</th>\n      <td>...</td>\n      <td>...</td>\n      <td>...</td>\n    </tr>\n    <tr>\n      <th>2462</th>\n      <td>DB15598</td>\n      <td>ferric maltol</td>\n      <td>O=c1ccoc(c1[O-])C.O=c1ccoc(c1[O-])C.O=c1ccoc(c...</td>\n    </tr>\n    <tr>\n      <th>2463</th>\n      <td>DB15617</td>\n      <td>ferric derisomaltose</td>\n      <td>OC[C@@H]([C@H]([C@@H]([C@@H](CO[C@H]1O[C@H](CO...</td>\n    </tr>\n    <tr>\n      <th>2464</th>\n      <td>DB15678</td>\n      <td>calcium undecylenate</td>\n      <td>C=CCCCCCCCCC(=O)[O-].C=CCCCCCCCCC(=O)[O-].[Ca+2]</td>\n    </tr>\n    <tr>\n      <th>2466</th>\n      <td>DB15685</td>\n      <td>selpercatinib</td>\n      <td>N#Cc1cnn2c1c(cc(c2)OCC(O)(C)C)c1ccc(nc1)N1CC2C...</td>\n    </tr>\n    <tr>\n      <th>2467</th>\n      <td>DB15690</td>\n      <td>fluoroestradiol f-18</td>\n      <td>[18F][C@@H]1C[C@@H]2[C@]([C@H]1O)(C)CC[C@H]1[C...</td>\n    </tr>\n  </tbody>\n</table>\n<p>2304 rows × 3 columns</p>\n</div>"
     },
     "metadata": {},
     "execution_count": 48
    }
   ],
   "source": [
    "smi_df"
   ]
  },
  {
   "cell_type": "code",
   "execution_count": 45,
   "metadata": {},
   "outputs": [
    {
     "output_type": "execute_result",
     "data": {
      "text/plain": [
       "     DrugBank ID                  Name  \\\n",
       "0        DB00007            leuprolide   \n",
       "1        DB00014             goserelin   \n",
       "2        DB00035          desmopressin   \n",
       "3        DB00091          cyclosporine   \n",
       "4        DB00104            octreotide   \n",
       "...          ...                   ...   \n",
       "2439     DB15598         ferric maltol   \n",
       "2440     DB15617  ferric derisomaltose   \n",
       "2441     DB15678  calcium undecylenate   \n",
       "2442     DB15685         selpercatinib   \n",
       "2443     DB15690  fluoroestradiol f-18   \n",
       "\n",
       "                                                 SMILES ALogPS_logP  \\\n",
       "0     CCNC(=O)[C@@H]1CCCN1C(=O)[C@@H](NC(=O)[C@@H](N...        1.04   \n",
       "1     OC[C@@H](C(=O)N[C@H](C(=O)N[C@@H](C(=O)N[C@H](...         0.3   \n",
       "2     NC(=O)C[C@@H]1NC(=O)[C@H](CCC(=O)N)NC(=O)[C@H]...       -1.01   \n",
       "3     C/C=C/C[C@H]([C@H]([C@H]1C(=O)N[C@@H](CC)C(=O)...        4.12   \n",
       "4     NCCCC[C@@H]1NC(=O)[C@H](NC(=O)[C@H](Cc2ccccc2)...        0.42   \n",
       "...                                                 ...         ...   \n",
       "2439  O=c1ccoc(c1[O-])C.O=c1ccoc(c1[O-])C.O=c1ccoc(c...       -0.24   \n",
       "2440  OC[C@@H]([C@H]([C@@H]([C@@H](CO[C@H]1O[C@H](CO...       -3.17   \n",
       "2441   C=CCCCCCCCCC(=O)[O-].C=CCCCCCCCCC(=O)[O-].[Ca+2]        3.84   \n",
       "2442  N#Cc1cnn2c1c(cc(c2)OCC(O)(C)C)c1ccc(nc1)N1CC2C...        3.03   \n",
       "2443  [18F][C@@H]1C[C@@H]2[C@]([C@H]1O)(C)CC[C@H]1[C...        3.33   \n",
       "\n",
       "     ALogPS_logS nA:(CDK2) nR:(CDK2) nN:(CDK2) nD:(CDK2) nC:(CDK2)  ...  \\\n",
       "0          -4.55       9.0       1.0       0.0       0.0       0.0  ...   \n",
       "1          -4.65       9.0       0.0       0.0       0.0       0.0  ...   \n",
       "2          -3.99       7.0       1.0       1.0       0.0       1.0  ...   \n",
       "3          -5.09      10.0       0.0       0.0       0.0       0.0  ...   \n",
       "4          -4.93       7.0       0.0       0.0       0.0       2.0  ...   \n",
       "...          ...       ...       ...       ...       ...       ...  ...   \n",
       "2439        0.03       0.0       0.0       0.0       0.0       0.0  ...   \n",
       "2440       -0.25       0.0       0.0       0.0       0.0       0.0  ...   \n",
       "2441       -3.99       0.0       0.0       0.0       0.0       0.0  ...   \n",
       "2442       -4.24       0.0       0.0       0.0       0.0       0.0  ...   \n",
       "2443       -3.91       0.0       0.0       0.0       0.0       0.0  ...   \n",
       "\n",
       "     SYMS4:(Mersy) SYMS5X:(Mersy) SYMS5Y:(Mersy) SYMS5Z:(Mersy) SYMS5:(Mersy)  \\\n",
       "0              0.3          0.204           0.26          0.402         0.294   \n",
       "1            0.283          0.247          0.246          0.339         0.279   \n",
       "2            0.297          0.272          0.314          0.305         0.297   \n",
       "3            0.448          0.453          0.503          0.374         0.446   \n",
       "4            0.348           0.35          0.364          0.323         0.346   \n",
       "...            ...            ...            ...            ...           ...   \n",
       "2439         0.706          0.781          0.605          0.655          0.69   \n",
       "2440         0.451          0.483          0.392          0.481         0.454   \n",
       "2441         0.676          0.585          0.566          0.756         0.647   \n",
       "2442         0.326          0.315          0.258          0.407          0.33   \n",
       "2443         0.675          0.627          0.687          0.684         0.667   \n",
       "\n",
       "     SYMS6X:(Mersy) SYMS6Y:(Mersy) SYMS6Z:(Mersy) SYMS6:(Mersy) CHIR:(Mersy)  \n",
       "0             0.214           0.26          0.401         0.297        0.652  \n",
       "1             0.255           0.26           0.34         0.286        0.648  \n",
       "2             0.272          0.308          0.309         0.296         0.67  \n",
       "3             0.454          0.529          0.388          0.46        0.489  \n",
       "4             0.362          0.353          0.326         0.347         0.61  \n",
       "...             ...            ...            ...           ...          ...  \n",
       "2439          0.792          0.617          0.672         0.703         0.21  \n",
       "2440          0.493          0.397          0.482         0.459        0.504  \n",
       "2441          0.601          0.582          0.766         0.661        0.237  \n",
       "2442          0.294           0.26          0.398          0.32        0.624  \n",
       "2443          0.631          0.689           0.69         0.671        0.258  \n",
       "\n",
       "[2304 rows x 11471 columns]"
      ],
      "text/html": "<div>\n<style scoped>\n    .dataframe tbody tr th:only-of-type {\n        vertical-align: middle;\n    }\n\n    .dataframe tbody tr th {\n        vertical-align: top;\n    }\n\n    .dataframe thead th {\n        text-align: right;\n    }\n</style>\n<table border=\"1\" class=\"dataframe\">\n  <thead>\n    <tr style=\"text-align: right;\">\n      <th></th>\n      <th>DrugBank ID</th>\n      <th>Name</th>\n      <th>SMILES</th>\n      <th>ALogPS_logP</th>\n      <th>ALogPS_logS</th>\n      <th>nA:(CDK2)</th>\n      <th>nR:(CDK2)</th>\n      <th>nN:(CDK2)</th>\n      <th>nD:(CDK2)</th>\n      <th>nC:(CDK2)</th>\n      <th>...</th>\n      <th>SYMS4:(Mersy)</th>\n      <th>SYMS5X:(Mersy)</th>\n      <th>SYMS5Y:(Mersy)</th>\n      <th>SYMS5Z:(Mersy)</th>\n      <th>SYMS5:(Mersy)</th>\n      <th>SYMS6X:(Mersy)</th>\n      <th>SYMS6Y:(Mersy)</th>\n      <th>SYMS6Z:(Mersy)</th>\n      <th>SYMS6:(Mersy)</th>\n      <th>CHIR:(Mersy)</th>\n    </tr>\n  </thead>\n  <tbody>\n    <tr>\n      <th>0</th>\n      <td>DB00007</td>\n      <td>leuprolide</td>\n      <td>CCNC(=O)[C@@H]1CCCN1C(=O)[C@@H](NC(=O)[C@@H](N...</td>\n      <td>1.04</td>\n      <td>-4.55</td>\n      <td>9.0</td>\n      <td>1.0</td>\n      <td>0.0</td>\n      <td>0.0</td>\n      <td>0.0</td>\n      <td>...</td>\n      <td>0.3</td>\n      <td>0.204</td>\n      <td>0.26</td>\n      <td>0.402</td>\n      <td>0.294</td>\n      <td>0.214</td>\n      <td>0.26</td>\n      <td>0.401</td>\n      <td>0.297</td>\n      <td>0.652</td>\n    </tr>\n    <tr>\n      <th>1</th>\n      <td>DB00014</td>\n      <td>goserelin</td>\n      <td>OC[C@@H](C(=O)N[C@H](C(=O)N[C@@H](C(=O)N[C@H](...</td>\n      <td>0.3</td>\n      <td>-4.65</td>\n      <td>9.0</td>\n      <td>0.0</td>\n      <td>0.0</td>\n      <td>0.0</td>\n      <td>0.0</td>\n      <td>...</td>\n      <td>0.283</td>\n      <td>0.247</td>\n      <td>0.246</td>\n      <td>0.339</td>\n      <td>0.279</td>\n      <td>0.255</td>\n      <td>0.26</td>\n      <td>0.34</td>\n      <td>0.286</td>\n      <td>0.648</td>\n    </tr>\n    <tr>\n      <th>2</th>\n      <td>DB00035</td>\n      <td>desmopressin</td>\n      <td>NC(=O)C[C@@H]1NC(=O)[C@H](CCC(=O)N)NC(=O)[C@H]...</td>\n      <td>-1.01</td>\n      <td>-3.99</td>\n      <td>7.0</td>\n      <td>1.0</td>\n      <td>1.0</td>\n      <td>0.0</td>\n      <td>1.0</td>\n      <td>...</td>\n      <td>0.297</td>\n      <td>0.272</td>\n      <td>0.314</td>\n      <td>0.305</td>\n      <td>0.297</td>\n      <td>0.272</td>\n      <td>0.308</td>\n      <td>0.309</td>\n      <td>0.296</td>\n      <td>0.67</td>\n    </tr>\n    <tr>\n      <th>3</th>\n      <td>DB00091</td>\n      <td>cyclosporine</td>\n      <td>C/C=C/C[C@H]([C@H]([C@H]1C(=O)N[C@@H](CC)C(=O)...</td>\n      <td>4.12</td>\n      <td>-5.09</td>\n      <td>10.0</td>\n      <td>0.0</td>\n      <td>0.0</td>\n      <td>0.0</td>\n      <td>0.0</td>\n      <td>...</td>\n      <td>0.448</td>\n      <td>0.453</td>\n      <td>0.503</td>\n      <td>0.374</td>\n      <td>0.446</td>\n      <td>0.454</td>\n      <td>0.529</td>\n      <td>0.388</td>\n      <td>0.46</td>\n      <td>0.489</td>\n    </tr>\n    <tr>\n      <th>4</th>\n      <td>DB00104</td>\n      <td>octreotide</td>\n      <td>NCCCC[C@@H]1NC(=O)[C@H](NC(=O)[C@H](Cc2ccccc2)...</td>\n      <td>0.42</td>\n      <td>-4.93</td>\n      <td>7.0</td>\n      <td>0.0</td>\n      <td>0.0</td>\n      <td>0.0</td>\n      <td>2.0</td>\n      <td>...</td>\n      <td>0.348</td>\n      <td>0.35</td>\n      <td>0.364</td>\n      <td>0.323</td>\n      <td>0.346</td>\n      <td>0.362</td>\n      <td>0.353</td>\n      <td>0.326</td>\n      <td>0.347</td>\n      <td>0.61</td>\n    </tr>\n    <tr>\n      <th>...</th>\n      <td>...</td>\n      <td>...</td>\n      <td>...</td>\n      <td>...</td>\n      <td>...</td>\n      <td>...</td>\n      <td>...</td>\n      <td>...</td>\n      <td>...</td>\n      <td>...</td>\n      <td>...</td>\n      <td>...</td>\n      <td>...</td>\n      <td>...</td>\n      <td>...</td>\n      <td>...</td>\n      <td>...</td>\n      <td>...</td>\n      <td>...</td>\n      <td>...</td>\n      <td>...</td>\n    </tr>\n    <tr>\n      <th>2439</th>\n      <td>DB15598</td>\n      <td>ferric maltol</td>\n      <td>O=c1ccoc(c1[O-])C.O=c1ccoc(c1[O-])C.O=c1ccoc(c...</td>\n      <td>-0.24</td>\n      <td>0.03</td>\n      <td>0.0</td>\n      <td>0.0</td>\n      <td>0.0</td>\n      <td>0.0</td>\n      <td>0.0</td>\n      <td>...</td>\n      <td>0.706</td>\n      <td>0.781</td>\n      <td>0.605</td>\n      <td>0.655</td>\n      <td>0.69</td>\n      <td>0.792</td>\n      <td>0.617</td>\n      <td>0.672</td>\n      <td>0.703</td>\n      <td>0.21</td>\n    </tr>\n    <tr>\n      <th>2440</th>\n      <td>DB15617</td>\n      <td>ferric derisomaltose</td>\n      <td>OC[C@@H]([C@H]([C@@H]([C@@H](CO[C@H]1O[C@H](CO...</td>\n      <td>-3.17</td>\n      <td>-0.25</td>\n      <td>0.0</td>\n      <td>0.0</td>\n      <td>0.0</td>\n      <td>0.0</td>\n      <td>0.0</td>\n      <td>...</td>\n      <td>0.451</td>\n      <td>0.483</td>\n      <td>0.392</td>\n      <td>0.481</td>\n      <td>0.454</td>\n      <td>0.493</td>\n      <td>0.397</td>\n      <td>0.482</td>\n      <td>0.459</td>\n      <td>0.504</td>\n    </tr>\n    <tr>\n      <th>2441</th>\n      <td>DB15678</td>\n      <td>calcium undecylenate</td>\n      <td>C=CCCCCCCCCC(=O)[O-].C=CCCCCCCCCC(=O)[O-].[Ca+2]</td>\n      <td>3.84</td>\n      <td>-3.99</td>\n      <td>0.0</td>\n      <td>0.0</td>\n      <td>0.0</td>\n      <td>0.0</td>\n      <td>0.0</td>\n      <td>...</td>\n      <td>0.676</td>\n      <td>0.585</td>\n      <td>0.566</td>\n      <td>0.756</td>\n      <td>0.647</td>\n      <td>0.601</td>\n      <td>0.582</td>\n      <td>0.766</td>\n      <td>0.661</td>\n      <td>0.237</td>\n    </tr>\n    <tr>\n      <th>2442</th>\n      <td>DB15685</td>\n      <td>selpercatinib</td>\n      <td>N#Cc1cnn2c1c(cc(c2)OCC(O)(C)C)c1ccc(nc1)N1CC2C...</td>\n      <td>3.03</td>\n      <td>-4.24</td>\n      <td>0.0</td>\n      <td>0.0</td>\n      <td>0.0</td>\n      <td>0.0</td>\n      <td>0.0</td>\n      <td>...</td>\n      <td>0.326</td>\n      <td>0.315</td>\n      <td>0.258</td>\n      <td>0.407</td>\n      <td>0.33</td>\n      <td>0.294</td>\n      <td>0.26</td>\n      <td>0.398</td>\n      <td>0.32</td>\n      <td>0.624</td>\n    </tr>\n    <tr>\n      <th>2443</th>\n      <td>DB15690</td>\n      <td>fluoroestradiol f-18</td>\n      <td>[18F][C@@H]1C[C@@H]2[C@]([C@H]1O)(C)CC[C@H]1[C...</td>\n      <td>3.33</td>\n      <td>-3.91</td>\n      <td>0.0</td>\n      <td>0.0</td>\n      <td>0.0</td>\n      <td>0.0</td>\n      <td>0.0</td>\n      <td>...</td>\n      <td>0.675</td>\n      <td>0.627</td>\n      <td>0.687</td>\n      <td>0.684</td>\n      <td>0.667</td>\n      <td>0.631</td>\n      <td>0.689</td>\n      <td>0.69</td>\n      <td>0.671</td>\n      <td>0.258</td>\n    </tr>\n  </tbody>\n</table>\n<p>2304 rows × 11471 columns</p>\n</div>"
     },
     "metadata": {},
     "execution_count": 45
    }
   ],
   "source": [
    "descriptors_df"
   ]
  },
  {
   "cell_type": "code",
   "execution_count": 46,
   "metadata": {},
   "outputs": [],
   "source": [
    "# writing the cleaned descriptors DataFrame to the original file\n",
    "descriptors_df.to_csv('./drug_target_data/drug_descriptors/approved_drug_descriptors.csv', index=False)"
   ]
  }
 ]
}