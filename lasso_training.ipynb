{
 "cells": [
  {
   "cell_type": "markdown",
   "metadata": {},
   "source": [
    "# Reading and Preparing Data"
   ]
  },
  {
   "cell_type": "code",
   "execution_count": 1,
   "metadata": {},
   "outputs": [],
   "source": [
    "import pandas as pd\n",
    "import numpy as np\n",
    "from tqdm.notebook import tqdm\n",
    "from sklearn.feature_selection import VarianceThreshold\n",
    "from sklearn.linear_model import Lasso\n",
    "from sklearn.model_selection import KFold, StratifiedKFold\n",
    "from sklearn.metrics import roc_auc_score, accuracy_score, make_scorer\n",
    "from sklearn.pipeline import Pipeline, FeatureUnion\n",
    "from sklearn.compose import ColumnTransformer\n",
    "from sklearn.feature_extraction.text import CountVectorizer\n",
    "from sklearn.model_selection import train_test_split\n",
    "from sklearn.preprocessing import StandardScaler\n",
    "from sklearn.decomposition import PCA\n",
    "from sklearn.model_selection import cross_validate\n",
    "from joblib import dump, load\n",
    "from tensorflow.keras.metrics import BinaryAccuracy, AUC\n",
    "import matplotlib.pyplot as plt\n",
    "from scipy import sparse\n",
    "\n",
    "import glob\n",
    "import gc"
   ]
  },
  {
   "cell_type": "code",
   "execution_count": 2,
   "metadata": {},
   "outputs": [],
   "source": [
    "# reading in FASTA files containing the Amino Acid sequences\n",
    "def read_fasta(file_names):\n",
    "    \"\"\"\n",
    "    Reads a FASTA files and returns a pd DataFrame with the protein names and Amino Acid sequences\n",
    "    # Params\n",
    "    file_names: list of fasta file names to read\n",
    "    \n",
    "    # Returns\n",
    "    df: the DataFrame containing the names and sequences from all inputted files\n",
    "    \"\"\"\n",
    "    df = pd.DataFrame()\n",
    "    names = []\n",
    "    sequences = []\n",
    "    ids = []\n",
    "    db_id = []\n",
    "    for file_name in file_names:\n",
    "        seq = \"\"\n",
    "        with open(file_name, \"r\") as f:\n",
    "            for line in f:\n",
    "                # if its reading a comment line extract the name of the target\n",
    "                if line[0] == '>':\n",
    "                    sequences.append(seq)\n",
    "                    seq = \"\"\n",
    "                    names.append(' '.join(str(v) for v in line.split(' (D')[0].split()[2:]).lower())\n",
    "                    ids.append(line.split()[1])\n",
    "                # if its not on a comment line extract the sequence\n",
    "                else:\n",
    "                    seq += line\n",
    "            # adding the last sequence\n",
    "            sequences.append(seq)\n",
    "            # removing empty strings added to list\n",
    "            sequences.remove(\"\")\n",
    "    df['Name'] = names\n",
    "    df['uniprot id'] = ids\n",
    "    df['sequence'] = sequences\n",
    "    return df"
   ]
  },
  {
   "cell_type": "code",
   "execution_count": 4,
   "metadata": {},
   "outputs": [],
   "source": [
    "adj = pd.read_csv('drug_target_data/protein_adjacency_matrix.csv')"
   ]
  },
  {
   "cell_type": "code",
   "execution_count": 31,
   "metadata": {},
   "outputs": [
    {
     "output_type": "execute_result",
     "data": {
      "text/plain": [
       "                                                Name UniProt ID  \\\n",
       "0                            coagulation factor viii     P00451   \n",
       "1                               coagulation factor v     P12259   \n",
       "2                           hemoglobin subunit alpha     P69905   \n",
       "3                    corticosteroid-binding globulin     P08185   \n",
       "4  sodium/potassium-transporting atpase subunit g...     P54710   \n",
       "\n",
       "                                            sequence  \n",
       "0  MQIELSTCFFLCLLRFCFSATRRYYLGAVELSWDYMQSDLGELPVD...  \n",
       "1  MFPGCPRLWVLVVLGTSWVGWGSQGTEAAQLRQFYVAAQGISWSYR...  \n",
       "2  MVLSPADKTNVKAAWGKVGAHAGEYGAEALERMFLSFPTTKTYFPH...  \n",
       "3  MPLLLYTCLLWLPTSGLWTVQAMDPNAAYVNMSNHHRGLASANVDF...  \n",
       "4  MTGLSMDGGGSPKGDVDPFYYDYETVRNGGLIFAGLAFIVGLLILL...  "
      ],
      "text/html": "<div>\n<style scoped>\n    .dataframe tbody tr th:only-of-type {\n        vertical-align: middle;\n    }\n\n    .dataframe tbody tr th {\n        vertical-align: top;\n    }\n\n    .dataframe thead th {\n        text-align: right;\n    }\n</style>\n<table border=\"1\" class=\"dataframe\">\n  <thead>\n    <tr style=\"text-align: right;\">\n      <th></th>\n      <th>Name</th>\n      <th>UniProt ID</th>\n      <th>sequence</th>\n    </tr>\n  </thead>\n  <tbody>\n    <tr>\n      <th>0</th>\n      <td>coagulation factor viii</td>\n      <td>P00451</td>\n      <td>MQIELSTCFFLCLLRFCFSATRRYYLGAVELSWDYMQSDLGELPVD...</td>\n    </tr>\n    <tr>\n      <th>1</th>\n      <td>coagulation factor v</td>\n      <td>P12259</td>\n      <td>MFPGCPRLWVLVVLGTSWVGWGSQGTEAAQLRQFYVAAQGISWSYR...</td>\n    </tr>\n    <tr>\n      <th>2</th>\n      <td>hemoglobin subunit alpha</td>\n      <td>P69905</td>\n      <td>MVLSPADKTNVKAAWGKVGAHAGEYGAEALERMFLSFPTTKTYFPH...</td>\n    </tr>\n    <tr>\n      <th>3</th>\n      <td>corticosteroid-binding globulin</td>\n      <td>P08185</td>\n      <td>MPLLLYTCLLWLPTSGLWTVQAMDPNAAYVNMSNHHRGLASANVDF...</td>\n    </tr>\n    <tr>\n      <th>4</th>\n      <td>sodium/potassium-transporting atpase subunit g...</td>\n      <td>P54710</td>\n      <td>MTGLSMDGGGSPKGDVDPFYYDYETVRNGGLIFAGLAFIVGLLILL...</td>\n    </tr>\n  </tbody>\n</table>\n</div>"
     },
     "metadata": {},
     "execution_count": 31
    }
   ],
   "source": [
    "# reading the fasta files with the target amino acid sequences\n",
    "l = [filename for filename in glob.glob('drug_target_data/target_structures/*.fasta')]\n",
    "seq_df = read_fasta(l)\n",
    "seq_df.drop_duplicates(inplace=True)\n",
    "seq_df.sequence = seq_df.sequence.apply(lambda s: s.replace('\\n', ''))\n",
    "\n",
    "seq_df.rename(columns={'uniprot id':\"UniProt ID\"}, inplace=True)\n",
    "# removing proteins that are not in the adj dataframe; these are proteins that we don't have domain data for\n",
    "seq_df = seq_df.loc[seq_df['UniProt ID'].isin(adj['UniProt ID'])]\n",
    "# removing duplicates\n",
    "seq_df.drop_duplicates(inplace=True)\n",
    "\n",
    "seq_df.head()"
   ]
  },
  {
   "cell_type": "code",
   "execution_count": 30,
   "metadata": {},
   "outputs": [
    {
     "output_type": "execute_result",
     "data": {
      "text/plain": [
       "Empty DataFrame\n",
       "Columns: [Name, uniprot id, sequence]\n",
       "Index: []"
      ],
      "text/html": "<div>\n<style scoped>\n    .dataframe tbody tr th:only-of-type {\n        vertical-align: middle;\n    }\n\n    .dataframe tbody tr th {\n        vertical-align: top;\n    }\n\n    .dataframe thead th {\n        text-align: right;\n    }\n</style>\n<table border=\"1\" class=\"dataframe\">\n  <thead>\n    <tr style=\"text-align: right;\">\n      <th></th>\n      <th>Name</th>\n      <th>uniprot id</th>\n      <th>sequence</th>\n    </tr>\n  </thead>\n  <tbody>\n  </tbody>\n</table>\n</div>"
     },
     "metadata": {},
     "execution_count": 30
    }
   ],
   "source": [
    "seq_df.loc[seq_df['uniprot id'] == 'P39593']"
   ]
  },
  {
   "cell_type": "code",
   "execution_count": 7,
   "metadata": {},
   "outputs": [],
   "source": [
    "# reading back train dataset\n",
    "train_dataset = pd.read_csv(\"drug_target_data/datasets/train_dataset.csv\")\n",
    "test_dataset = pd.read_csv(\"drug_target_data/datasets/test_dataset.csv\")"
   ]
  },
  {
   "cell_type": "code",
   "execution_count": 8,
   "metadata": {},
   "outputs": [],
   "source": [
    "train_labels = train_dataset.pop('label')\n",
    "test_labels = test_dataset.pop('label')"
   ]
  },
  {
   "cell_type": "code",
   "execution_count": 9,
   "metadata": {},
   "outputs": [
    {
     "output_type": "execute_result",
     "data": {
      "text/plain": [
       "38"
      ]
     },
     "metadata": {},
     "execution_count": 9
    }
   ],
   "source": [
    "gc.collect()"
   ]
  },
  {
   "cell_type": "code",
   "execution_count": 10,
   "metadata": {},
   "outputs": [],
   "source": [
    "train_drugs = train_dataset.drop(columns=['Drug ID', 'UniProt ID', 'SMILES'])\n",
    "test_drugs = test_dataset.drop(columns=['Drug ID', 'UniProt ID', 'SMILES'])"
   ]
  },
  {
   "cell_type": "code",
   "execution_count": 11,
   "metadata": {},
   "outputs": [],
   "source": [
    "# using a left merge to preserve the order of the elements in the left DataFrame\n",
    "train_prot = train_dataset[['UniProt ID']].merge(seq_df, on=['UniProt ID'], how='left')[['sequence', 'UniProt ID']].merge(adj, on=['UniProt ID'], how='left')\n",
    "test_prot = test_dataset[['UniProt ID']].merge(seq_df, on=['UniProt ID'], how='left')[['sequence', 'UniProt ID']].merge(adj, on=['UniProt ID'], how='left')\n",
    "\n",
    "train_prot.drop(columns=['UniProt ID'], inplace=True)\n",
    "test_prot.drop(columns=['UniProt ID'], inplace=True)"
   ]
  },
  {
   "cell_type": "code",
   "execution_count": 33,
   "metadata": {},
   "outputs": [
    {
     "output_type": "execute_result",
     "data": {
      "text/plain": [
       "                                                sequence UniProt ID\n",
       "0                                                    NaN     P39593\n",
       "1                                                    NaN     P13647\n",
       "2                                                    NaN     Q15274\n",
       "3                                                    NaN     Q9P286\n",
       "4                                                    NaN     P9WIE5\n",
       "...                                                  ...        ...\n",
       "23288                                                NaN     Q8NEY4\n",
       "23289                                                NaN     Q9KEI9\n",
       "23290                                                NaN     P19624\n",
       "23291  MLSRAVCGTSRQLAPALGYLGSRQKHSLPDLPYDYGALEPHINAQI...     P04179\n",
       "23292                                                NaN     P47870\n",
       "\n",
       "[23293 rows x 2 columns]"
      ],
      "text/html": "<div>\n<style scoped>\n    .dataframe tbody tr th:only-of-type {\n        vertical-align: middle;\n    }\n\n    .dataframe tbody tr th {\n        vertical-align: top;\n    }\n\n    .dataframe thead th {\n        text-align: right;\n    }\n</style>\n<table border=\"1\" class=\"dataframe\">\n  <thead>\n    <tr style=\"text-align: right;\">\n      <th></th>\n      <th>sequence</th>\n      <th>UniProt ID</th>\n    </tr>\n  </thead>\n  <tbody>\n    <tr>\n      <th>0</th>\n      <td>NaN</td>\n      <td>P39593</td>\n    </tr>\n    <tr>\n      <th>1</th>\n      <td>NaN</td>\n      <td>P13647</td>\n    </tr>\n    <tr>\n      <th>2</th>\n      <td>NaN</td>\n      <td>Q15274</td>\n    </tr>\n    <tr>\n      <th>3</th>\n      <td>NaN</td>\n      <td>Q9P286</td>\n    </tr>\n    <tr>\n      <th>4</th>\n      <td>NaN</td>\n      <td>P9WIE5</td>\n    </tr>\n    <tr>\n      <th>...</th>\n      <td>...</td>\n      <td>...</td>\n    </tr>\n    <tr>\n      <th>23288</th>\n      <td>NaN</td>\n      <td>Q8NEY4</td>\n    </tr>\n    <tr>\n      <th>23289</th>\n      <td>NaN</td>\n      <td>Q9KEI9</td>\n    </tr>\n    <tr>\n      <th>23290</th>\n      <td>NaN</td>\n      <td>P19624</td>\n    </tr>\n    <tr>\n      <th>23291</th>\n      <td>MLSRAVCGTSRQLAPALGYLGSRQKHSLPDLPYDYGALEPHINAQI...</td>\n      <td>P04179</td>\n    </tr>\n    <tr>\n      <th>23292</th>\n      <td>NaN</td>\n      <td>P47870</td>\n    </tr>\n  </tbody>\n</table>\n<p>23293 rows × 2 columns</p>\n</div>"
     },
     "metadata": {},
     "execution_count": 33
    }
   ],
   "source": [
    "train_dataset[['UniProt ID']].merge(seq_df, on=['UniProt ID'], how='left')[['sequence', 'UniProt ID']]"
   ]
  },
  {
   "cell_type": "markdown",
   "metadata": {},
   "source": [
    "# Lasso Model"
   ]
  },
  {
   "cell_type": "code",
   "execution_count": 119,
   "metadata": {},
   "outputs": [],
   "source": [
    "def find_optimal_lasso(data, labels, num_iter, drug=True):\n",
    "    ba = BinaryAccuracy()\n",
    "    test_aucs = []\n",
    "    test_accs = []\n",
    "    kf = StratifiedKFold(n_splits=5, shuffle=True)\n",
    "    scaler = StandardScaler(with_std=False)\n",
    "    var = VarianceThreshold(0.01)\n",
    "    # iterating through different value of alpha to see which gives best results\n",
    "    for a in range(num_iter):\n",
    "        alpha = 10**(-1*a)\n",
    "        print(f\"Testing Alpha = {alpha}\")\n",
    "        aucs = []\n",
    "        accs = []\n",
    "        # using cross validation for metrics\n",
    "        for i, (train_index, test_index) in enumerate(kf.split(data, labels)):\n",
    "            print(\"\\tFOLD:\", i+1)\n",
    "            train_feat = data.iloc[train_index, :]\n",
    "            test_feat = data.iloc[test_index, :]\n",
    "            train_labels = labels.iloc[train_index]\n",
    "            test_labels = labels.iloc[test_index]\n",
    "            # processing data\n",
    "            if drug:  \n",
    "                train_feat = scaler.fit_transform(train_feat)\n",
    "                test_feat = scaler.transform(test_feat)\n",
    "                train_feat = var.fit_transform(train_feat)\n",
    "                test_feat = var.transform(test_feat)\n",
    "            else:\n",
    "                # protein sequence vectorization\n",
    "                acc_vect = CountVectorizer(analyzer='char', ngram_range=(1,1))\n",
    "                train_acc = acc_vect.fit_transform(train_feat['sequence'])\n",
    "                test_acc = acc_vect.transform(test_feat['sequence'])\n",
    "                dc_vect = CountVectorizer(analyzer='char', ngram_range=(2,2))\n",
    "                train_dc = dc_vect.fit_transform(train_feat['sequence'])\n",
    "                test_dc = dc_vect.transform(test_feat['sequence'])\n",
    "                tc_vect = CountVectorizer(analyzer='char', ngram_range=(3,3))\n",
    "                train_tc = tc_vect.fit_transform(train_feat['sequence'])\n",
    "                test_tc = tc_vect.transform(test_feat['sequence'])\n",
    "                \n",
    "                ## the vectorizers return scipy sparse matrices so hstack is used to concat them\n",
    "                train_vect_feat = sparse.hstack([train_acc, train_dc, train_tc])\n",
    "                test_vect_feat = sparse.hstack([test_acc, test_dc, test_tc])\n",
    "                \n",
    "                # removing vectorized features that have variance less than 0.01\n",
    "                train_vect_feat = var.fit_transform(train_vect_feat)\n",
    "                test_vect_feat = var.transform(test_vect_feat)\n",
    "                \n",
    "                # dropping the column containing the sequence string because it isn't needed\n",
    "                train_feat = train_feat.drop(columns=['sequence'])\n",
    "                test_feat = test_feat.drop(columns=['sequence'])\n",
    "                ## VarianceThreshold returns a scipy sparse matrix (if it is given one) so using hstack to combine them\n",
    "                train_feat = sparse.hstack([train_vect_feat, sparse.coo_matrix(train_feat)])\n",
    "                test_feat = sparse.hstack([test_vect_feat, sparse.coo_matrix(test_feat)])\n",
    "                \n",
    "            # training model\n",
    "            if drug:\n",
    "                lasso = Lasso(alpha=alpha)\n",
    "            else:\n",
    "                # increasing the number of iterations for the proteins so it improves results\n",
    "                lasso = Lasso(alpha=alpha, max_iter=3000)\n",
    "            lasso.fit(train_feat, train_labels)\n",
    "            # calculating test metrics for model trained on i-th fold\n",
    "            test_pred = lasso.predict(test_feat)\n",
    "            auc = roc_auc_score(test_labels.to_numpy(), test_pred)\n",
    "            acc = ba(test_labels, test_pred).numpy()\n",
    "            aucs.append(auc)\n",
    "            accs.append(acc)\n",
    "            print(f\"\\t\\tAUC = {auc}\\tAccuracy = {acc}\")\n",
    "\n",
    "        avg_auc = sum(aucs)/len(aucs)\n",
    "        avg_acc = sum(accs)/len(accs)\n",
    "        print(f\"\\tAverage metrics:\\tAUC = {avg_auc}\\tAccuracy = {avg_acc}\")\n",
    "        test_aucs.append(avg_auc)\n",
    "        test_accs.append(avg_acc)\n",
    "\n",
    "    # plotting AUC over all trials\n",
    "    plt.title(\"AUC vs Alpha for Lasso Model\")\n",
    "    plt.xlabel(\"Log(Alpha)\")\n",
    "    plt.ylabel('AUC')\n",
    "    plt.scatter(np.array(range(num_iter))*-1, test_aucs)\n",
    "    plt.show()\n",
    "    # plotting Binary Accuracy over all trials\n",
    "    plt.title(\"Accuracy vs Alpha for Lasso Model\")\n",
    "    plt.xlabel(\"Log(Alpha)\")\n",
    "    plt.ylabel('Binary Accuracy')\n",
    "    plt.scatter(np.array(range(num_iter))*-1, test_accs)\n",
    "    plt.show()\n",
    "\n",
    "    best_model_index = test_aucs.index(max(test_aucs))\n",
    "    print(f\"Best model is at alpha = {-1*best_model_index} with AUC = {test_auc[best_model_index]} and Accuracy = {test_acc[best_model_index]}\")"
   ]
  },
  {
   "cell_type": "code",
   "execution_count": 12,
   "metadata": {
    "scrolled": true
   },
   "outputs": [
    {
     "name": "stdout",
     "output_type": "stream",
     "text": [
      "Testing Alpha = 1\n",
      "\tFOLD: 1\n"
     ]
    },
    {
     "name": "stderr",
     "output_type": "stream",
     "text": [
      "/Library/Frameworks/Python.framework/Versions/3.8/lib/python3.8/site-packages/sklearn/linear_model/_coordinate_descent.py:530: ConvergenceWarning: Objective did not converge. You might want to increase the number of iterations. Duality gap: 2072.709996734071, tolerance: 0.4657249664501575\n",
      "  model = cd_fast.enet_coordinate_descent(\n"
     ]
    },
    {
     "name": "stdout",
     "output_type": "stream",
     "text": [
      "\t\tAUC = 0.7221282612863738\tAccuracy = 0.6691713333129883\n",
      "\tFOLD: 2\n"
     ]
    },
    {
     "name": "stderr",
     "output_type": "stream",
     "text": [
      "/Library/Frameworks/Python.framework/Versions/3.8/lib/python3.8/site-packages/sklearn/linear_model/_coordinate_descent.py:530: ConvergenceWarning: Objective did not converge. You might want to increase the number of iterations. Duality gap: 2075.5050748736867, tolerance: 0.4657249664501575\n",
      "  model = cd_fast.enet_coordinate_descent(\n"
     ]
    },
    {
     "name": "stdout",
     "output_type": "stream",
     "text": [
      "\t\tAUC = 0.7189748241228263\tAccuracy = 0.6674538850784302\n",
      "\tFOLD: 3\n"
     ]
    },
    {
     "name": "stderr",
     "output_type": "stream",
     "text": [
      "/Library/Frameworks/Python.framework/Versions/3.8/lib/python3.8/site-packages/sklearn/linear_model/_coordinate_descent.py:530: ConvergenceWarning: Objective did not converge. You might want to increase the number of iterations. Duality gap: 2078.5568655648717, tolerance: 0.46574995169082034\n",
      "  model = cd_fast.enet_coordinate_descent(\n"
     ]
    },
    {
     "name": "stdout",
     "output_type": "stream",
     "text": [
      "\t\tAUC = 0.7321030846682868\tAccuracy = 0.6687900424003601\n",
      "\tFOLD: 4\n"
     ]
    },
    {
     "name": "stderr",
     "output_type": "stream",
     "text": [
      "/Library/Frameworks/Python.framework/Versions/3.8/lib/python3.8/site-packages/sklearn/linear_model/_coordinate_descent.py:530: ConvergenceWarning: Objective did not converge. You might want to increase the number of iterations. Duality gap: 2074.3052583121166, tolerance: 0.4657499516908204\n",
      "  model = cd_fast.enet_coordinate_descent(\n"
     ]
    },
    {
     "name": "stdout",
     "output_type": "stream",
     "text": [
      "\t\tAUC = 0.7261314827684403\tAccuracy = 0.6685454845428467\n",
      "\tFOLD: 5\n"
     ]
    },
    {
     "name": "stderr",
     "output_type": "stream",
     "text": [
      "/Library/Frameworks/Python.framework/Versions/3.8/lib/python3.8/site-packages/sklearn/linear_model/_coordinate_descent.py:530: ConvergenceWarning: Objective did not converge. You might want to increase the number of iterations. Duality gap: 2072.6810864155627, tolerance: 0.46574995169082034\n",
      "  model = cd_fast.enet_coordinate_descent(\n"
     ]
    },
    {
     "name": "stdout",
     "output_type": "stream",
     "text": [
      "\t\tAUC = 0.7224074274905237\tAccuracy = 0.6671962738037109\n",
      "\tAverage metrics:\tAUC = 0.7243490160672902\tAccuracy = 0.6682314038276672\n",
      "Testing Alpha = 0.1\n",
      "\tFOLD: 1\n"
     ]
    },
    {
     "name": "stderr",
     "output_type": "stream",
     "text": [
      "/Library/Frameworks/Python.framework/Versions/3.8/lib/python3.8/site-packages/sklearn/linear_model/_coordinate_descent.py:530: ConvergenceWarning: Objective did not converge. You might want to increase the number of iterations. Duality gap: 1853.759768662994, tolerance: 0.4657249664501575\n",
      "  model = cd_fast.enet_coordinate_descent(\n"
     ]
    },
    {
     "name": "stdout",
     "output_type": "stream",
     "text": [
      "\t\tAUC = 0.7873955614058374\tAccuracy = 0.6771504878997803\n",
      "\tFOLD: 2\n"
     ]
    },
    {
     "name": "stderr",
     "output_type": "stream",
     "text": [
      "/Library/Frameworks/Python.framework/Versions/3.8/lib/python3.8/site-packages/sklearn/linear_model/_coordinate_descent.py:530: ConvergenceWarning: Objective did not converge. You might want to increase the number of iterations. Duality gap: 1849.9001628676206, tolerance: 0.4657249664501575\n",
      "  model = cd_fast.enet_coordinate_descent(\n"
     ]
    },
    {
     "name": "stdout",
     "output_type": "stream",
     "text": [
      "\t\tAUC = 0.7890035286049291\tAccuracy = 0.6828805208206177\n",
      "\tFOLD: 3\n"
     ]
    },
    {
     "name": "stderr",
     "output_type": "stream",
     "text": [
      "/Library/Frameworks/Python.framework/Versions/3.8/lib/python3.8/site-packages/sklearn/linear_model/_coordinate_descent.py:530: ConvergenceWarning: Objective did not converge. You might want to increase the number of iterations. Duality gap: 1855.9683210746475, tolerance: 0.46574995169082034\n",
      "  model = cd_fast.enet_coordinate_descent(\n"
     ]
    },
    {
     "name": "stdout",
     "output_type": "stream",
     "text": [
      "\t\tAUC = 0.7927380599316256\tAccuracy = 0.6884051561355591\n",
      "\tFOLD: 4\n"
     ]
    },
    {
     "name": "stderr",
     "output_type": "stream",
     "text": [
      "/Library/Frameworks/Python.framework/Versions/3.8/lib/python3.8/site-packages/sklearn/linear_model/_coordinate_descent.py:530: ConvergenceWarning: Objective did not converge. You might want to increase the number of iterations. Duality gap: 1846.213635164362, tolerance: 0.46574995169082034\n",
      "  model = cd_fast.enet_coordinate_descent(\n"
     ]
    },
    {
     "name": "stdout",
     "output_type": "stream",
     "text": [
      "\t\tAUC = 0.7824779339834361\tAccuracy = 0.6918908953666687\n",
      "\tFOLD: 5\n"
     ]
    },
    {
     "name": "stderr",
     "output_type": "stream",
     "text": [
      "/Library/Frameworks/Python.framework/Versions/3.8/lib/python3.8/site-packages/sklearn/linear_model/_coordinate_descent.py:530: ConvergenceWarning: Objective did not converge. You might want to increase the number of iterations. Duality gap: 1856.5362874594402, tolerance: 0.46574995169082034\n",
      "  model = cd_fast.enet_coordinate_descent(\n"
     ]
    },
    {
     "name": "stdout",
     "output_type": "stream",
     "text": [
      "\t\tAUC = 0.795267887047964\tAccuracy = 0.6945077180862427\n",
      "\tAverage metrics:\tAUC = 0.7893765941947584\tAccuracy = 0.6869669556617737\n",
      "Testing Alpha = 0.01\n",
      "\tFOLD: 1\n"
     ]
    },
    {
     "name": "stderr",
     "output_type": "stream",
     "text": [
      "/Library/Frameworks/Python.framework/Versions/3.8/lib/python3.8/site-packages/sklearn/linear_model/_coordinate_descent.py:530: ConvergenceWarning: Objective did not converge. You might want to increase the number of iterations. Duality gap: 1515.3899873152398, tolerance: 0.4657249664501575\n",
      "  model = cd_fast.enet_coordinate_descent(\n"
     ]
    },
    {
     "name": "stdout",
     "output_type": "stream",
     "text": [
      "\t\tAUC = 0.8799706502662125\tAccuracy = 0.703816831111908\n",
      "\tFOLD: 2\n"
     ]
    },
    {
     "name": "stderr",
     "output_type": "stream",
     "text": [
      "/Library/Frameworks/Python.framework/Versions/3.8/lib/python3.8/site-packages/sklearn/linear_model/_coordinate_descent.py:530: ConvergenceWarning: Objective did not converge. You might want to increase the number of iterations. Duality gap: 1511.3727094101148, tolerance: 0.4657249664501575\n",
      "  model = cd_fast.enet_coordinate_descent(\n"
     ]
    },
    {
     "name": "stdout",
     "output_type": "stream",
     "text": [
      "\t\tAUC = 0.8763720816188074\tAccuracy = 0.7109482884407043\n",
      "\tFOLD: 3\n"
     ]
    },
    {
     "name": "stderr",
     "output_type": "stream",
     "text": [
      "/Library/Frameworks/Python.framework/Versions/3.8/lib/python3.8/site-packages/sklearn/linear_model/_coordinate_descent.py:530: ConvergenceWarning: Objective did not converge. You might want to increase the number of iterations. Duality gap: 1519.8335616546044, tolerance: 0.46574995169082034\n",
      "  model = cd_fast.enet_coordinate_descent(\n"
     ]
    },
    {
     "name": "stdout",
     "output_type": "stream",
     "text": [
      "\t\tAUC = 0.8868572562594155\tAccuracy = 0.7181683778762817\n",
      "\tFOLD: 4\n"
     ]
    },
    {
     "name": "stderr",
     "output_type": "stream",
     "text": [
      "/Library/Frameworks/Python.framework/Versions/3.8/lib/python3.8/site-packages/sklearn/linear_model/_coordinate_descent.py:530: ConvergenceWarning: Objective did not converge. You might want to increase the number of iterations. Duality gap: 1514.6319678344323, tolerance: 0.46574995169082034\n",
      "  model = cd_fast.enet_coordinate_descent(\n"
     ]
    },
    {
     "name": "stdout",
     "output_type": "stream",
     "text": [
      "\t\tAUC = 0.8775858958979784\tAccuracy = 0.7234215140342712\n",
      "\tFOLD: 5\n"
     ]
    },
    {
     "name": "stderr",
     "output_type": "stream",
     "text": [
      "/Library/Frameworks/Python.framework/Versions/3.8/lib/python3.8/site-packages/sklearn/linear_model/_coordinate_descent.py:530: ConvergenceWarning: Objective did not converge. You might want to increase the number of iterations. Duality gap: 1524.060056706401, tolerance: 0.4657499516908204\n",
      "  model = cd_fast.enet_coordinate_descent(\n"
     ]
    },
    {
     "name": "stdout",
     "output_type": "stream",
     "text": [
      "\t\tAUC = 0.8878437163863966\tAccuracy = 0.7293341159820557\n",
      "\tAverage metrics:\tAUC = 0.881725920085762\tAccuracy = 0.7171378254890441\n",
      "Testing Alpha = 0.001\n",
      "\tFOLD: 1\n"
     ]
    },
    {
     "name": "stderr",
     "output_type": "stream",
     "text": [
      "/Library/Frameworks/Python.framework/Versions/3.8/lib/python3.8/site-packages/sklearn/linear_model/_coordinate_descent.py:530: ConvergenceWarning: Objective did not converge. You might want to increase the number of iterations. Duality gap: 936.4762814828168, tolerance: 0.46572496645015754\n",
      "  model = cd_fast.enet_coordinate_descent(\n"
     ]
    },
    {
     "name": "stdout",
     "output_type": "stream",
     "text": [
      "\t\tAUC = 0.9802033095880713\tAccuracy = 0.7417960166931152\n",
      "\tFOLD: 2\n"
     ]
    },
    {
     "name": "stderr",
     "output_type": "stream",
     "text": [
      "/Library/Frameworks/Python.framework/Versions/3.8/lib/python3.8/site-packages/sklearn/linear_model/_coordinate_descent.py:530: ConvergenceWarning: Objective did not converge. You might want to increase the number of iterations. Duality gap: 933.8079479622679, tolerance: 0.4657249664501575\n",
      "  model = cd_fast.enet_coordinate_descent(\n"
     ]
    },
    {
     "name": "stdout",
     "output_type": "stream",
     "text": [
      "\t\tAUC = 0.9793681695500199\tAccuracy = 0.7527413368225098\n",
      "\tFOLD: 3\n"
     ]
    },
    {
     "name": "stderr",
     "output_type": "stream",
     "text": [
      "/Library/Frameworks/Python.framework/Versions/3.8/lib/python3.8/site-packages/sklearn/linear_model/_coordinate_descent.py:530: ConvergenceWarning: Objective did not converge. You might want to increase the number of iterations. Duality gap: 933.1110871645237, tolerance: 0.4657499516908204\n",
      "  model = cd_fast.enet_coordinate_descent(\n"
     ]
    },
    {
     "name": "stdout",
     "output_type": "stream",
     "text": [
      "\t\tAUC = 0.9800983490694795\tAccuracy = 0.7625769376754761\n",
      "\tFOLD: 4\n"
     ]
    },
    {
     "name": "stderr",
     "output_type": "stream",
     "text": [
      "/Library/Frameworks/Python.framework/Versions/3.8/lib/python3.8/site-packages/sklearn/linear_model/_coordinate_descent.py:530: ConvergenceWarning: Objective did not converge. You might want to increase the number of iterations. Duality gap: 931.6322438672046, tolerance: 0.46574995169082034\n",
      "  model = cd_fast.enet_coordinate_descent(\n"
     ]
    },
    {
     "name": "stdout",
     "output_type": "stream",
     "text": [
      "\t\tAUC = 0.9774420905392784\tAccuracy = 0.7709026336669922\n",
      "\tFOLD: 5\n"
     ]
    },
    {
     "name": "stderr",
     "output_type": "stream",
     "text": [
      "/Library/Frameworks/Python.framework/Versions/3.8/lib/python3.8/site-packages/sklearn/linear_model/_coordinate_descent.py:530: ConvergenceWarning: Objective did not converge. You might want to increase the number of iterations. Duality gap: 933.4432816822799, tolerance: 0.46574995169082034\n",
      "  model = cd_fast.enet_coordinate_descent(\n"
     ]
    },
    {
     "name": "stdout",
     "output_type": "stream",
     "text": [
      "\t\tAUC = 0.9779350900567918\tAccuracy = 0.7786104679107666\n",
      "\tAverage metrics:\tAUC = 0.9790094017607283\tAccuracy = 0.761325478553772\n",
      "Testing Alpha = 0.0001\n",
      "\tFOLD: 1\n"
     ]
    },
    {
     "name": "stderr",
     "output_type": "stream",
     "text": [
      "/Library/Frameworks/Python.framework/Versions/3.8/lib/python3.8/site-packages/sklearn/linear_model/_coordinate_descent.py:530: ConvergenceWarning: Objective did not converge. You might want to increase the number of iterations. Duality gap: 364.5623377879632, tolerance: 0.4657249664501575\n",
      "  model = cd_fast.enet_coordinate_descent(\n"
     ]
    },
    {
     "name": "stdout",
     "output_type": "stream",
     "text": [
      "\t\tAUC = 0.9985882814919693\tAccuracy = 0.7885802984237671\n",
      "\tFOLD: 2\n"
     ]
    },
    {
     "name": "stderr",
     "output_type": "stream",
     "text": [
      "/Library/Frameworks/Python.framework/Versions/3.8/lib/python3.8/site-packages/sklearn/linear_model/_coordinate_descent.py:530: ConvergenceWarning: Objective did not converge. You might want to increase the number of iterations. Duality gap: 364.8248611063153, tolerance: 0.4657249664501575\n",
      "  model = cd_fast.enet_coordinate_descent(\n"
     ]
    },
    {
     "name": "stdout",
     "output_type": "stream",
     "text": [
      "\t\tAUC = 0.997940080084952\tAccuracy = 0.7975656986236572\n",
      "\tFOLD: 3\n"
     ]
    },
    {
     "name": "stderr",
     "output_type": "stream",
     "text": [
      "/Library/Frameworks/Python.framework/Versions/3.8/lib/python3.8/site-packages/sklearn/linear_model/_coordinate_descent.py:530: ConvergenceWarning: Objective did not converge. You might want to increase the number of iterations. Duality gap: 362.4330539762818, tolerance: 0.46574995169082034\n",
      "  model = cd_fast.enet_coordinate_descent(\n"
     ]
    },
    {
     "name": "stdout",
     "output_type": "stream",
     "text": [
      "\t\tAUC = 0.998515099470445\tAccuracy = 0.8059284090995789\n",
      "\tFOLD: 4\n"
     ]
    },
    {
     "name": "stderr",
     "output_type": "stream",
     "text": [
      "/Library/Frameworks/Python.framework/Versions/3.8/lib/python3.8/site-packages/sklearn/linear_model/_coordinate_descent.py:530: ConvergenceWarning: Objective did not converge. You might want to increase the number of iterations. Duality gap: 366.3287633493202, tolerance: 0.46574995169082034\n",
      "  model = cd_fast.enet_coordinate_descent(\n"
     ]
    },
    {
     "name": "stdout",
     "output_type": "stream",
     "text": [
      "\t\tAUC = 0.998962450884485\tAccuracy = 0.813540518283844\n",
      "\tFOLD: 5\n"
     ]
    },
    {
     "name": "stderr",
     "output_type": "stream",
     "text": [
      "/Library/Frameworks/Python.framework/Versions/3.8/lib/python3.8/site-packages/sklearn/linear_model/_coordinate_descent.py:530: ConvergenceWarning: Objective did not converge. You might want to increase the number of iterations. Duality gap: 365.5240807946477, tolerance: 0.4657499516908204\n",
      "  model = cd_fast.enet_coordinate_descent(\n"
     ]
    },
    {
     "name": "stdout",
     "output_type": "stream",
     "text": [
      "\t\tAUC = 0.9987724809993228\tAccuracy = 0.8203976154327393\n",
      "\tAverage metrics:\tAUC = 0.9985556785862348\tAccuracy = 0.8052025079727173\n",
      "Testing Alpha = 1e-05\n",
      "\tFOLD: 1\n"
     ]
    },
    {
     "name": "stderr",
     "output_type": "stream",
     "text": [
      "/Library/Frameworks/Python.framework/Versions/3.8/lib/python3.8/site-packages/sklearn/linear_model/_coordinate_descent.py:530: ConvergenceWarning: Objective did not converge. You might want to increase the number of iterations. Duality gap: 120.66733688687671, tolerance: 0.4657249664501575\n",
      "  model = cd_fast.enet_coordinate_descent(\n"
     ]
    },
    {
     "name": "stdout",
     "output_type": "stream",
     "text": [
      "\t\tAUC = 0.9998604412784096\tAccuracy = 0.8270825147628784\n",
      "\tFOLD: 2\n"
     ]
    },
    {
     "name": "stderr",
     "output_type": "stream",
     "text": [
      "/Library/Frameworks/Python.framework/Versions/3.8/lib/python3.8/site-packages/sklearn/linear_model/_coordinate_descent.py:530: ConvergenceWarning: Objective did not converge. You might want to increase the number of iterations. Duality gap: 121.08177324750378, tolerance: 0.4657249664501575\n",
      "  model = cd_fast.enet_coordinate_descent(\n"
     ]
    },
    {
     "name": "stdout",
     "output_type": "stream",
     "text": [
      "\t\tAUC = 0.9998738993849831\tAccuracy = 0.8332324028015137\n",
      "\tFOLD: 3\n"
     ]
    },
    {
     "name": "stderr",
     "output_type": "stream",
     "text": [
      "/Library/Frameworks/Python.framework/Versions/3.8/lib/python3.8/site-packages/sklearn/linear_model/_coordinate_descent.py:530: ConvergenceWarning: Objective did not converge. You might want to increase the number of iterations. Duality gap: 121.01533637007432, tolerance: 0.4657499516908204\n",
      "  model = cd_fast.enet_coordinate_descent(\n"
     ]
    },
    {
     "name": "stdout",
     "output_type": "stream",
     "text": [
      "\t\tAUC = 0.9994664243905101\tAccuracy = 0.8389889597892761\n",
      "\tFOLD: 4\n"
     ]
    },
    {
     "name": "stderr",
     "output_type": "stream",
     "text": [
      "/Library/Frameworks/Python.framework/Versions/3.8/lib/python3.8/site-packages/sklearn/linear_model/_coordinate_descent.py:530: ConvergenceWarning: Objective did not converge. You might want to increase the number of iterations. Duality gap: 122.13079719773029, tolerance: 0.46574995169082034\n",
      "  model = cd_fast.enet_coordinate_descent(\n"
     ]
    },
    {
     "name": "stdout",
     "output_type": "stream",
     "text": [
      "\t\tAUC = 0.9994785972181031\tAccuracy = 0.8443337678909302\n",
      "\tFOLD: 5\n"
     ]
    },
    {
     "name": "stderr",
     "output_type": "stream",
     "text": [
      "/Library/Frameworks/Python.framework/Versions/3.8/lib/python3.8/site-packages/sklearn/linear_model/_coordinate_descent.py:530: ConvergenceWarning: Objective did not converge. You might want to increase the number of iterations. Duality gap: 121.22969365844541, tolerance: 0.4657499516908204\n",
      "  model = cd_fast.enet_coordinate_descent(\n"
     ]
    },
    {
     "name": "stdout",
     "output_type": "stream",
     "text": [
      "\t\tAUC = 0.9998587214252094\tAccuracy = 0.8492792844772339\n",
      "\tAverage metrics:\tAUC = 0.9997076167394431\tAccuracy = 0.8385833859443664\n",
      "Testing Alpha = 1e-06\n",
      "\tFOLD: 1\n"
     ]
    },
    {
     "name": "stderr",
     "output_type": "stream",
     "text": [
      "/Library/Frameworks/Python.framework/Versions/3.8/lib/python3.8/site-packages/sklearn/linear_model/_coordinate_descent.py:530: ConvergenceWarning: Objective did not converge. You might want to increase the number of iterations. Duality gap: 56.53597387405535, tolerance: 0.46572496645015754\n",
      "  model = cd_fast.enet_coordinate_descent(\n"
     ]
    },
    {
     "name": "stdout",
     "output_type": "stream",
     "text": [
      "\t\tAUC = 0.9999212792944264\tAccuracy = 0.8539750576019287\n",
      "\tFOLD: 2\n"
     ]
    },
    {
     "name": "stderr",
     "output_type": "stream",
     "text": [
      "/Library/Frameworks/Python.framework/Versions/3.8/lib/python3.8/site-packages/sklearn/linear_model/_coordinate_descent.py:530: ConvergenceWarning: Objective did not converge. You might want to increase the number of iterations. Duality gap: 56.41779496155535, tolerance: 0.46572496645015754\n",
      "  model = cd_fast.enet_coordinate_descent(\n"
     ]
    },
    {
     "name": "stdout",
     "output_type": "stream",
     "text": [
      "\t\tAUC = 0.9999233994071058\tAccuracy = 0.8583840131759644\n",
      "\tFOLD: 3\n"
     ]
    },
    {
     "name": "stderr",
     "output_type": "stream",
     "text": [
      "/Library/Frameworks/Python.framework/Versions/3.8/lib/python3.8/site-packages/sklearn/linear_model/_coordinate_descent.py:530: ConvergenceWarning: Objective did not converge. You might want to increase the number of iterations. Duality gap: 53.26747246616836, tolerance: 0.46574995169082034\n",
      "  model = cd_fast.enet_coordinate_descent(\n"
     ]
    },
    {
     "name": "stdout",
     "output_type": "stream",
     "text": [
      "\t\tAUC = 0.9993962461950692\tAccuracy = 0.8624476790428162\n",
      "\tFOLD: 4\n"
     ]
    },
    {
     "name": "stderr",
     "output_type": "stream",
     "text": [
      "/Library/Frameworks/Python.framework/Versions/3.8/lib/python3.8/site-packages/sklearn/linear_model/_coordinate_descent.py:530: ConvergenceWarning: Objective did not converge. You might want to increase the number of iterations. Duality gap: 56.70318117164376, tolerance: 0.4657499516908204\n",
      "  model = cd_fast.enet_coordinate_descent(\n"
     ]
    },
    {
     "name": "stdout",
     "output_type": "stream",
     "text": [
      "\t\tAUC = 0.9999129458390323\tAccuracy = 0.8663228154182434\n",
      "\tFOLD: 5\n"
     ]
    },
    {
     "name": "stderr",
     "output_type": "stream",
     "text": [
      "/Library/Frameworks/Python.framework/Versions/3.8/lib/python3.8/site-packages/sklearn/linear_model/_coordinate_descent.py:530: ConvergenceWarning: Objective did not converge. You might want to increase the number of iterations. Duality gap: 55.529331330821456, tolerance: 0.46574995169082034\n",
      "  model = cd_fast.enet_coordinate_descent(\n"
     ]
    },
    {
     "name": "stdout",
     "output_type": "stream",
     "text": [
      "\t\tAUC = 0.9994523149767093\tAccuracy = 0.8699519634246826\n",
      "\tAverage metrics:\tAUC = 0.9997212371424686\tAccuracy = 0.862216305732727\n",
      "Testing Alpha = 1e-07\n",
      "\tFOLD: 1\n"
     ]
    },
    {
     "name": "stderr",
     "output_type": "stream",
     "text": [
      "/Library/Frameworks/Python.framework/Versions/3.8/lib/python3.8/site-packages/sklearn/linear_model/_coordinate_descent.py:530: ConvergenceWarning: Objective did not converge. You might want to increase the number of iterations. Duality gap: 45.43284730734073, tolerance: 0.4657249664501575\n",
      "  model = cd_fast.enet_coordinate_descent(\n"
     ]
    },
    {
     "name": "stdout",
     "output_type": "stream",
     "text": [
      "\t\tAUC = 0.9999269943807796\tAccuracy = 0.8734272122383118\n",
      "\tFOLD: 2\n"
     ]
    },
    {
     "name": "stderr",
     "output_type": "stream",
     "text": [
      "/Library/Frameworks/Python.framework/Versions/3.8/lib/python3.8/site-packages/sklearn/linear_model/_coordinate_descent.py:530: ConvergenceWarning: Objective did not converge. You might want to increase the number of iterations. Duality gap: 46.93779889545248, tolerance: 0.4657249664501574\n",
      "  model = cd_fast.enet_coordinate_descent(\n"
     ]
    },
    {
     "name": "stdout",
     "output_type": "stream",
     "text": [
      "\t\tAUC = 0.9999349217586242\tAccuracy = 0.8767030835151672\n",
      "\tFOLD: 3\n"
     ]
    },
    {
     "name": "stderr",
     "output_type": "stream",
     "text": [
      "/Library/Frameworks/Python.framework/Versions/3.8/lib/python3.8/site-packages/sklearn/linear_model/_coordinate_descent.py:530: ConvergenceWarning: Objective did not converge. You might want to increase the number of iterations. Duality gap: 43.92328563054022, tolerance: 0.46574995169082034\n",
      "  model = cd_fast.enet_coordinate_descent(\n"
     ]
    },
    {
     "name": "stdout",
     "output_type": "stream",
     "text": [
      "\t\tAUC = 0.9998656378045236\tAccuracy = 0.8797274231910706\n",
      "\tFOLD: 4\n"
     ]
    },
    {
     "name": "stderr",
     "output_type": "stream",
     "text": [
      "/Library/Frameworks/Python.framework/Versions/3.8/lib/python3.8/site-packages/sklearn/linear_model/_coordinate_descent.py:530: ConvergenceWarning: Objective did not converge. You might want to increase the number of iterations. Duality gap: 46.84758348220082, tolerance: 0.4657499516908204\n",
      "  model = cd_fast.enet_coordinate_descent(\n"
     ]
    },
    {
     "name": "stdout",
     "output_type": "stream",
     "text": [
      "\t\tAUC = 0.9999371992758274\tAccuracy = 0.8826846480369568\n",
      "\tFOLD: 5\n"
     ]
    },
    {
     "name": "stderr",
     "output_type": "stream",
     "text": [
      "/Library/Frameworks/Python.framework/Versions/3.8/lib/python3.8/site-packages/sklearn/linear_model/_coordinate_descent.py:530: ConvergenceWarning: Objective did not converge. You might want to increase the number of iterations. Duality gap: 43.9054755839229, tolerance: 0.4657499516908204\n",
      "  model = cd_fast.enet_coordinate_descent(\n"
     ]
    },
    {
     "name": "stdout",
     "output_type": "stream",
     "text": [
      "\t\tAUC = 0.9989724104706974\tAccuracy = 0.885445773601532\n",
      "\tAverage metrics:\tAUC = 0.9997274327380904\tAccuracy = 0.8795976281166077\n",
      "Testing Alpha = 1e-08\n",
      "\tFOLD: 1\n"
     ]
    },
    {
     "name": "stderr",
     "output_type": "stream",
     "text": [
      "/Library/Frameworks/Python.framework/Versions/3.8/lib/python3.8/site-packages/sklearn/linear_model/_coordinate_descent.py:530: ConvergenceWarning: Objective did not converge. You might want to increase the number of iterations. Duality gap: 43.55136571653969, tolerance: 0.4657249664501575\n",
      "  model = cd_fast.enet_coordinate_descent(\n"
     ]
    },
    {
     "name": "stdout",
     "output_type": "stream",
     "text": [
      "\t\tAUC = 0.9994568824388301\tAccuracy = 0.88808274269104\n",
      "\tFOLD: 2\n"
     ]
    },
    {
     "name": "stderr",
     "output_type": "stream",
     "text": [
      "/Library/Frameworks/Python.framework/Versions/3.8/lib/python3.8/site-packages/sklearn/linear_model/_coordinate_descent.py:530: ConvergenceWarning: Objective did not converge. You might want to increase the number of iterations. Duality gap: 43.18424757209183, tolerance: 0.4657249664501575\n",
      "  model = cd_fast.enet_coordinate_descent(\n"
     ]
    },
    {
     "name": "stdout",
     "output_type": "stream",
     "text": [
      "\t\tAUC = 0.9998561088742386\tAccuracy = 0.8906043171882629\n",
      "\tFOLD: 3\n"
     ]
    },
    {
     "name": "stderr",
     "output_type": "stream",
     "text": [
      "/Library/Frameworks/Python.framework/Versions/3.8/lib/python3.8/site-packages/sklearn/linear_model/_coordinate_descent.py:530: ConvergenceWarning: Objective did not converge. You might want to increase the number of iterations. Duality gap: 46.685838170763525, tolerance: 0.46574995169082034\n",
      "  model = cd_fast.enet_coordinate_descent(\n"
     ]
    },
    {
     "name": "stdout",
     "output_type": "stream",
     "text": [
      "\t\tAUC = 0.9995410290687123\tAccuracy = 0.8930784463882446\n",
      "\tFOLD: 4\n"
     ]
    },
    {
     "name": "stderr",
     "output_type": "stream",
     "text": [
      "/Library/Frameworks/Python.framework/Versions/3.8/lib/python3.8/site-packages/sklearn/linear_model/_coordinate_descent.py:530: ConvergenceWarning: Objective did not converge. You might want to increase the number of iterations. Duality gap: 44.00560342584679, tolerance: 0.46574995169082034\n",
      "  model = cd_fast.enet_coordinate_descent(\n"
     ]
    },
    {
     "name": "stdout",
     "output_type": "stream",
     "text": [
      "\t\tAUC = 0.9999051072758097\tAccuracy = 0.895337700843811\n",
      "\tFOLD: 5\n"
     ]
    },
    {
     "name": "stderr",
     "output_type": "stream",
     "text": [
      "/Library/Frameworks/Python.framework/Versions/3.8/lib/python3.8/site-packages/sklearn/linear_model/_coordinate_descent.py:530: ConvergenceWarning: Objective did not converge. You might want to increase the number of iterations. Duality gap: 44.02412966434088, tolerance: 0.46574995169082034\n",
      "  model = cd_fast.enet_coordinate_descent(\n"
     ]
    },
    {
     "name": "stdout",
     "output_type": "stream",
     "text": [
      "\t\tAUC = 0.9998751362987816\tAccuracy = 0.8975346684455872\n",
      "\tAverage metrics:\tAUC = 0.9997268527912745\tAccuracy = 0.8929275751113892\n"
     ]
    },
    {
     "data": {
      "image/png": "[encoded data removed]",
      "text/plain": [
       "<Figure size 432x288 with 1 Axes>"
      ]
     },
     "metadata": {
      "needs_background": "light"
     },
     "output_type": "display_data"
    },
    {
     "data": {
      "image/png": "[encoded data removed]",
      "text/plain": [
       "<Figure size 432x288 with 1 Axes>"
      ]
     },
     "metadata": {
      "needs_background": "light"
     },
     "output_type": "display_data"
    },
    {
     "name": "stdout",
     "output_type": "stream",
     "text": [
      "Best model is at alpha = -7 with AUC = 0.9997274327380904 and Accuracy = 0.8795976281166077\n"
     ]
    }
   ],
   "source": [
    "# model for drug descriptors\n",
    "find_optimal_lasso(train_drugs, train_labels, 9)"
   ]
  },
  {
   "cell_type": "code",
   "execution_count": 120,
   "metadata": {},
   "outputs": [
    {
     "name": "stdout",
     "output_type": "stream",
     "text": [
      "Testing Alpha = 1\n",
      "\tFOLD: 1\n",
      "\t\tAUC = 0.5\tAccuracy = 0.500214695930481\n",
      "\tFOLD: 2\n",
      "\t\tAUC = 0.5\tAccuracy = 0.500214695930481\n",
      "\tFOLD: 3\n",
      "\t\tAUC = 0.5\tAccuracy = 0.500178873538971\n",
      "\tFOLD: 4\n",
      "\t\tAUC = 0.5\tAccuracy = 0.5001609921455383\n",
      "\tFOLD: 5\n",
      "\t\tAUC = 0.5\tAccuracy = 0.5001502633094788\n",
      "\tAverage metrics:\tAUC = 0.5\tAccuracy = 0.50018390417099\n",
      "Testing Alpha = 0.1\n",
      "\tFOLD: 1\n",
      "\t\tAUC = 0.5836709843222276\tAccuracy = 0.5122191309928894\n",
      "\tFOLD: 2\n",
      "\t\tAUC = 0.5767462354173118\tAccuracy = 0.5197049379348755\n",
      "\tFOLD: 3\n",
      "\t\tAUC = 0.582720357689317\tAccuracy = 0.5253613591194153\n",
      "\tFOLD: 4\n",
      "\t\tAUC = 0.5708849571885342\tAccuracy = 0.5290688276290894\n",
      "\tFOLD: 5\n",
      "\t\tAUC = 0.5797505566302072\tAccuracy = 0.5331084728240967\n",
      "\tAverage metrics:\tAUC = 0.5787546182495197\tAccuracy = 0.5238925457000733\n",
      "Testing Alpha = 0.01\n",
      "\tFOLD: 1\n",
      "\t\tAUC = 0.5834626602067755\tAccuracy = 0.5357194542884827\n",
      "\tFOLD: 2\n",
      "\t\tAUC = 0.5889467464566465\tAccuracy = 0.53766268491745\n",
      "\tFOLD: 3\n",
      "\t\tAUC = 0.5916912705333469\tAccuracy = 0.5404889583587646\n",
      "\tFOLD: 4\n",
      "\t\tAUC = 0.5789994378366894\tAccuracy = 0.5413623452186584\n",
      "\tFOLD: 5\n",
      "\t\tAUC = 0.5976584459504323\tAccuracy = 0.5433933138847351\n",
      "\tAverage metrics:\tAUC = 0.5881517121967781\tAccuracy = 0.5397253513336182\n",
      "Testing Alpha = 0.001\n",
      "\tFOLD: 1\n"
     ]
    },
    {
     "name": "stderr",
     "output_type": "stream",
     "text": [
      "/Library/Frameworks/Python.framework/Versions/3.8/lib/python3.8/site-packages/sklearn/linear_model/_coordinate_descent.py:513: ConvergenceWarning: Objective did not converge. You might want to increase the number of iterations. Duality gap: 120.89610544995821, tolerance: 0.4657249664501575\n",
      "  model = cd_fast.sparse_enet_coordinate_descent(\n"
     ]
    },
    {
     "name": "stdout",
     "output_type": "stream",
     "text": [
      "\t\tAUC = 0.5913201665118063\tAccuracy = 0.5449481010437012\n",
      "\tFOLD: 2\n"
     ]
    },
    {
     "name": "stderr",
     "output_type": "stream",
     "text": [
      "/Library/Frameworks/Python.framework/Versions/3.8/lib/python3.8/site-packages/sklearn/linear_model/_coordinate_descent.py:513: ConvergenceWarning: Objective did not converge. You might want to increase the number of iterations. Duality gap: 352.87563021473125, tolerance: 0.4657249664501575\n",
      "  model = cd_fast.sparse_enet_coordinate_descent(\n"
     ]
    },
    {
     "name": "stdout",
     "output_type": "stream",
     "text": [
      "\t\tAUC = 0.5908593646298836\tAccuracy = 0.5459284782409668\n",
      "\tFOLD: 3\n"
     ]
    },
    {
     "name": "stderr",
     "output_type": "stream",
     "text": [
      "/Library/Frameworks/Python.framework/Versions/3.8/lib/python3.8/site-packages/sklearn/linear_model/_coordinate_descent.py:513: ConvergenceWarning: Objective did not converge. You might want to increase the number of iterations. Duality gap: 140.8436995130769, tolerance: 0.46574995169082034\n",
      "  model = cd_fast.sparse_enet_coordinate_descent(\n"
     ]
    },
    {
     "name": "stdout",
     "output_type": "stream",
     "text": [
      "\t\tAUC = 0.5853310603344355\tAccuracy = 0.5470332503318787\n",
      "\tFOLD: 4\n"
     ]
    },
    {
     "name": "stderr",
     "output_type": "stream",
     "text": [
      "/Library/Frameworks/Python.framework/Versions/3.8/lib/python3.8/site-packages/sklearn/linear_model/_coordinate_descent.py:513: ConvergenceWarning: Objective did not converge. You might want to increase the number of iterations. Duality gap: 94.11899252177682, tolerance: 0.46574995169082034\n",
      "  model = cd_fast.sparse_enet_coordinate_descent(\n"
     ]
    },
    {
     "name": "stdout",
     "output_type": "stream",
     "text": [
      "\t\tAUC = 0.5956049268228625\tAccuracy = 0.5484286546707153\n",
      "\tFOLD: 5\n"
     ]
    },
    {
     "name": "stderr",
     "output_type": "stream",
     "text": [
      "/Library/Frameworks/Python.framework/Versions/3.8/lib/python3.8/site-packages/sklearn/linear_model/_coordinate_descent.py:513: ConvergenceWarning: Objective did not converge. You might want to increase the number of iterations. Duality gap: 298.13590246513786, tolerance: 0.4657499516908204\n",
      "  model = cd_fast.sparse_enet_coordinate_descent(\n"
     ]
    },
    {
     "name": "stdout",
     "output_type": "stream",
     "text": [
      "\t\tAUC = 0.5856497670932321\tAccuracy = 0.5492764711380005\n",
      "\tAverage metrics:\tAUC = 0.5897530570784439\tAccuracy = 0.5471229910850525\n",
      "Testing Alpha = 0.0001\n",
      "\tFOLD: 1\n"
     ]
    },
    {
     "name": "stderr",
     "output_type": "stream",
     "text": [
      "/Library/Frameworks/Python.framework/Versions/3.8/lib/python3.8/site-packages/sklearn/linear_model/_coordinate_descent.py:513: ConvergenceWarning: Objective did not converge. You might want to increase the number of iterations. Duality gap: 1299.6215481064555, tolerance: 0.4657249664501575\n",
      "  model = cd_fast.sparse_enet_coordinate_descent(\n"
     ]
    },
    {
     "name": "stdout",
     "output_type": "stream",
     "text": [
      "\t\tAUC = 0.5689634861289323\tAccuracy = 0.5497208833694458\n",
      "\tFOLD: 2\n"
     ]
    },
    {
     "name": "stderr",
     "output_type": "stream",
     "text": [
      "/Library/Frameworks/Python.framework/Versions/3.8/lib/python3.8/site-packages/sklearn/linear_model/_coordinate_descent.py:513: ConvergenceWarning: Objective did not converge. You might want to increase the number of iterations. Duality gap: 1438.4779435088312, tolerance: 0.4657249664501575\n",
      "  model = cd_fast.sparse_enet_coordinate_descent(\n"
     ]
    },
    {
     "name": "stdout",
     "output_type": "stream",
     "text": [
      "\t\tAUC = 0.5578435873043965\tAccuracy = 0.5495393872261047\n",
      "\tFOLD: 3\n"
     ]
    },
    {
     "name": "stderr",
     "output_type": "stream",
     "text": [
      "/Library/Frameworks/Python.framework/Versions/3.8/lib/python3.8/site-packages/sklearn/linear_model/_coordinate_descent.py:513: ConvergenceWarning: Objective did not converge. You might want to increase the number of iterations. Duality gap: 1326.0294838239538, tolerance: 0.4657499516908204\n",
      "  model = cd_fast.sparse_enet_coordinate_descent(\n"
     ]
    },
    {
     "name": "stdout",
     "output_type": "stream",
     "text": [
      "\t\tAUC = 0.5742898446157002\tAccuracy = 0.5500603318214417\n",
      "\tFOLD: 4\n"
     ]
    },
    {
     "name": "stderr",
     "output_type": "stream",
     "text": [
      "/Library/Frameworks/Python.framework/Versions/3.8/lib/python3.8/site-packages/sklearn/linear_model/_coordinate_descent.py:513: ConvergenceWarning: Objective did not converge. You might want to increase the number of iterations. Duality gap: 1210.39491590121, tolerance: 0.4657499516908204\n",
      "  model = cd_fast.sparse_enet_coordinate_descent(\n"
     ]
    },
    {
     "name": "stdout",
     "output_type": "stream",
     "text": [
      "\t\tAUC = 0.5628524586898496\tAccuracy = 0.55024254322052\n",
      "\tFOLD: 5\n"
     ]
    },
    {
     "name": "stderr",
     "output_type": "stream",
     "text": [
      "/Library/Frameworks/Python.framework/Versions/3.8/lib/python3.8/site-packages/sklearn/linear_model/_coordinate_descent.py:513: ConvergenceWarning: Objective did not converge. You might want to increase the number of iterations. Duality gap: 1625.6558404494135, tolerance: 0.46574995169082034\n",
      "  model = cd_fast.sparse_enet_coordinate_descent(\n"
     ]
    },
    {
     "name": "stdout",
     "output_type": "stream",
     "text": [
      "\t\tAUC = 0.5617526621605072\tAccuracy = 0.5505218505859375\n",
      "\tAverage metrics:\tAUC = 0.5651404077798772\tAccuracy = 0.5500169992446899\n",
      "Testing Alpha = 1e-05\n",
      "\tFOLD: 1\n"
     ]
    },
    {
     "name": "stderr",
     "output_type": "stream",
     "text": [
      "/Library/Frameworks/Python.framework/Versions/3.8/lib/python3.8/site-packages/sklearn/linear_model/_coordinate_descent.py:513: ConvergenceWarning: Objective did not converge. You might want to increase the number of iterations. Duality gap: 1601.787868460608, tolerance: 0.4657249664501575\n",
      "  model = cd_fast.sparse_enet_coordinate_descent(\n"
     ]
    },
    {
     "name": "stdout",
     "output_type": "stream",
     "text": [
      "\t\tAUC = 0.5604463482441779\tAccuracy = 0.5507751107215881\n",
      "\tFOLD: 2\n"
     ]
    },
    {
     "name": "stderr",
     "output_type": "stream",
     "text": [
      "/Library/Frameworks/Python.framework/Versions/3.8/lib/python3.8/site-packages/sklearn/linear_model/_coordinate_descent.py:513: ConvergenceWarning: Objective did not converge. You might want to increase the number of iterations. Duality gap: 1532.7664830801898, tolerance: 0.4657249664501574\n",
      "  model = cd_fast.sparse_enet_coordinate_descent(\n"
     ]
    },
    {
     "name": "stdout",
     "output_type": "stream",
     "text": [
      "\t\tAUC = 0.5533097724289486\tAccuracy = 0.5507392287254333\n",
      "\tFOLD: 3\n"
     ]
    },
    {
     "name": "stderr",
     "output_type": "stream",
     "text": [
      "/Library/Frameworks/Python.framework/Versions/3.8/lib/python3.8/site-packages/sklearn/linear_model/_coordinate_descent.py:513: ConvergenceWarning: Objective did not converge. You might want to increase the number of iterations. Duality gap: 1600.0609533795962, tolerance: 0.4657499516908204\n",
      "  model = cd_fast.sparse_enet_coordinate_descent(\n"
     ]
    },
    {
     "name": "stdout",
     "output_type": "stream",
     "text": [
      "\t\tAUC = 0.5520120024080066\tAccuracy = 0.5507868528366089\n",
      "\tFOLD: 4\n"
     ]
    },
    {
     "name": "stderr",
     "output_type": "stream",
     "text": [
      "/Library/Frameworks/Python.framework/Versions/3.8/lib/python3.8/site-packages/sklearn/linear_model/_coordinate_descent.py:513: ConvergenceWarning: Objective did not converge. You might want to increase the number of iterations. Duality gap: 1575.13408354472, tolerance: 0.46574995169082034\n",
      "  model = cd_fast.sparse_enet_coordinate_descent(\n"
     ]
    },
    {
     "name": "stdout",
     "output_type": "stream",
     "text": [
      "\t\tAUC = 0.5685673245895544\tAccuracy = 0.5511125326156616\n",
      "\tFOLD: 5\n"
     ]
    },
    {
     "name": "stderr",
     "output_type": "stream",
     "text": [
      "/Library/Frameworks/Python.framework/Versions/3.8/lib/python3.8/site-packages/sklearn/linear_model/_coordinate_descent.py:513: ConvergenceWarning: Objective did not converge. You might want to increase the number of iterations. Duality gap: 1612.2135878374997, tolerance: 0.46574995169082034\n",
      "  model = cd_fast.sparse_enet_coordinate_descent(\n"
     ]
    },
    {
     "name": "stdout",
     "output_type": "stream",
     "text": [
      "\t\tAUC = 0.5511847112236421\tAccuracy = 0.5510801076889038\n",
      "\tAverage metrics:\tAUC = 0.5571040317788659\tAccuracy = 0.5508987665176391\n",
      "Testing Alpha = 1e-06\n",
      "\tFOLD: 1\n"
     ]
    },
    {
     "name": "stderr",
     "output_type": "stream",
     "text": [
      "/Library/Frameworks/Python.framework/Versions/3.8/lib/python3.8/site-packages/sklearn/linear_model/_coordinate_descent.py:513: ConvergenceWarning: Objective did not converge. You might want to increase the number of iterations. Duality gap: 1619.890160425355, tolerance: 0.4657249664501574\n",
      "  model = cd_fast.sparse_enet_coordinate_descent(\n"
     ]
    },
    {
     "name": "stdout",
     "output_type": "stream",
     "text": [
      "\t\tAUC = 0.5700823525507721\tAccuracy = 0.5514061450958252\n",
      "\tFOLD: 2\n"
     ]
    },
    {
     "name": "stderr",
     "output_type": "stream",
     "text": [
      "/Library/Frameworks/Python.framework/Versions/3.8/lib/python3.8/site-packages/sklearn/linear_model/_coordinate_descent.py:513: ConvergenceWarning: Objective did not converge. You might want to increase the number of iterations. Duality gap: 1611.4932753984217, tolerance: 0.4657249664501574\n",
      "  model = cd_fast.sparse_enet_coordinate_descent(\n"
     ]
    },
    {
     "name": "stdout",
     "output_type": "stream",
     "text": [
      "\t\tAUC = 0.5673596669763875\tAccuracy = 0.5518324971199036\n",
      "\tFOLD: 3\n"
     ]
    },
    {
     "name": "stderr",
     "output_type": "stream",
     "text": [
      "/Library/Frameworks/Python.framework/Versions/3.8/lib/python3.8/site-packages/sklearn/linear_model/_coordinate_descent.py:513: ConvergenceWarning: Objective did not converge. You might want to increase the number of iterations. Duality gap: 1627.4353050074142, tolerance: 0.4657499516908204\n",
      "  model = cd_fast.sparse_enet_coordinate_descent(\n"
     ]
    },
    {
     "name": "stdout",
     "output_type": "stream",
     "text": [
      "\t\tAUC = 0.5556894873985413\tAccuracy = 0.5518332123756409\n",
      "\tFOLD: 4\n"
     ]
    },
    {
     "name": "stderr",
     "output_type": "stream",
     "text": [
      "/Library/Frameworks/Python.framework/Versions/3.8/lib/python3.8/site-packages/sklearn/linear_model/_coordinate_descent.py:513: ConvergenceWarning: Objective did not converge. You might want to increase the number of iterations. Duality gap: 1603.498830795789, tolerance: 0.46574995169082034\n",
      "  model = cd_fast.sparse_enet_coordinate_descent(\n"
     ]
    },
    {
     "name": "stdout",
     "output_type": "stream",
     "text": [
      "\t\tAUC = 0.557635203227201\tAccuracy = 0.5520550012588501\n",
      "\tFOLD: 5\n"
     ]
    },
    {
     "name": "stderr",
     "output_type": "stream",
     "text": [
      "/Library/Frameworks/Python.framework/Versions/3.8/lib/python3.8/site-packages/sklearn/linear_model/_coordinate_descent.py:513: ConvergenceWarning: Objective did not converge. You might want to increase the number of iterations. Duality gap: 1593.6466068465245, tolerance: 0.4657499516908204\n",
      "  model = cd_fast.sparse_enet_coordinate_descent(\n"
     ]
    },
    {
     "name": "stdout",
     "output_type": "stream",
     "text": [
      "\t\tAUC = 0.5466684999682768\tAccuracy = 0.5519266724586487\n",
      "\tAverage metrics:\tAUC = 0.5594870420242357\tAccuracy = 0.5518107056617737\n",
      "Testing Alpha = 1e-07\n",
      "\tFOLD: 1\n"
     ]
    },
    {
     "name": "stderr",
     "output_type": "stream",
     "text": [
      "/Library/Frameworks/Python.framework/Versions/3.8/lib/python3.8/site-packages/sklearn/linear_model/_coordinate_descent.py:513: ConvergenceWarning: Objective did not converge. You might want to increase the number of iterations. Duality gap: 1641.709906624987, tolerance: 0.4657249664501575\n",
      "  model = cd_fast.sparse_enet_coordinate_descent(\n"
     ]
    },
    {
     "name": "stdout",
     "output_type": "stream",
     "text": [
      "\t\tAUC = 0.5606980885801514\tAccuracy = 0.5521719455718994\n",
      "\tFOLD: 2\n"
     ]
    },
    {
     "name": "stderr",
     "output_type": "stream",
     "text": [
      "/Library/Frameworks/Python.framework/Versions/3.8/lib/python3.8/site-packages/sklearn/linear_model/_coordinate_descent.py:513: ConvergenceWarning: Objective did not converge. You might want to increase the number of iterations. Duality gap: 1633.0118493842263, tolerance: 0.4657249664501575\n",
      "  model = cd_fast.sparse_enet_coordinate_descent(\n"
     ]
    },
    {
     "name": "stdout",
     "output_type": "stream",
     "text": [
      "\t\tAUC = 0.5527615850331107\tAccuracy = 0.5520963668823242\n",
      "\tFOLD: 3\n"
     ]
    },
    {
     "name": "stderr",
     "output_type": "stream",
     "text": [
      "/Library/Frameworks/Python.framework/Versions/3.8/lib/python3.8/site-packages/sklearn/linear_model/_coordinate_descent.py:513: ConvergenceWarning: Objective did not converge. You might want to increase the number of iterations. Duality gap: 1629.1777464038353, tolerance: 0.46574995169082034\n",
      "  model = cd_fast.sparse_enet_coordinate_descent(\n"
     ]
    },
    {
     "name": "stdout",
     "output_type": "stream",
     "text": [
      "\t\tAUC = 0.5514806400398974\tAccuracy = 0.5519996881484985\n",
      "\tFOLD: 4\n"
     ]
    },
    {
     "name": "stderr",
     "output_type": "stream",
     "text": [
      "/Library/Frameworks/Python.framework/Versions/3.8/lib/python3.8/site-packages/sklearn/linear_model/_coordinate_descent.py:513: ConvergenceWarning: Objective did not converge. You might want to increase the number of iterations. Duality gap: 1646.5269948779462, tolerance: 0.4657499516908204\n",
      "  model = cd_fast.sparse_enet_coordinate_descent(\n"
     ]
    },
    {
     "name": "stdout",
     "output_type": "stream",
     "text": [
      "\t\tAUC = 0.5673569582095762\tAccuracy = 0.552210807800293\n",
      "\tFOLD: 5\n"
     ]
    },
    {
     "name": "stderr",
     "output_type": "stream",
     "text": [
      "/Library/Frameworks/Python.framework/Versions/3.8/lib/python3.8/site-packages/sklearn/linear_model/_coordinate_descent.py:513: ConvergenceWarning: Objective did not converge. You might want to increase the number of iterations. Duality gap: 1634.3540918139886, tolerance: 0.4657499516908204\n",
      "  model = cd_fast.sparse_enet_coordinate_descent(\n"
     ]
    },
    {
     "name": "stdout",
     "output_type": "stream",
     "text": [
      "\t\tAUC = 0.5590454068601629\tAccuracy = 0.5524488687515259\n",
      "\tAverage metrics:\tAUC = 0.5582685357445797\tAccuracy = 0.5521855354309082\n",
      "Testing Alpha = 1e-08\n",
      "\tFOLD: 1\n"
     ]
    },
    {
     "name": "stderr",
     "output_type": "stream",
     "text": [
      "/Library/Frameworks/Python.framework/Versions/3.8/lib/python3.8/site-packages/sklearn/linear_model/_coordinate_descent.py:513: ConvergenceWarning: Objective did not converge. You might want to increase the number of iterations. Duality gap: 1641.6068836376821, tolerance: 0.4657249664501575\n",
      "  model = cd_fast.sparse_enet_coordinate_descent(\n"
     ]
    },
    {
     "name": "stdout",
     "output_type": "stream",
     "text": [
      "\t\tAUC = 0.5590053168738847\tAccuracy = 0.5525153279304504\n",
      "\tFOLD: 2\n"
     ]
    },
    {
     "name": "stderr",
     "output_type": "stream",
     "text": [
      "/Library/Frameworks/Python.framework/Versions/3.8/lib/python3.8/site-packages/sklearn/linear_model/_coordinate_descent.py:513: ConvergenceWarning: Objective did not converge. You might want to increase the number of iterations. Duality gap: 1647.3401158400995, tolerance: 0.4657249664501575\n",
      "  model = cd_fast.sparse_enet_coordinate_descent(\n"
     ]
    },
    {
     "name": "stdout",
     "output_type": "stream",
     "text": [
      "\t\tAUC = 0.5697541038007168\tAccuracy = 0.5527984499931335\n",
      "\tFOLD: 3\n"
     ]
    },
    {
     "name": "stderr",
     "output_type": "stream",
     "text": [
      "/Library/Frameworks/Python.framework/Versions/3.8/lib/python3.8/site-packages/sklearn/linear_model/_coordinate_descent.py:513: ConvergenceWarning: Objective did not converge. You might want to increase the number of iterations. Duality gap: 1634.8489070426724, tolerance: 0.4657499516908204\n",
      "  model = cd_fast.sparse_enet_coordinate_descent(\n"
     ]
    },
    {
     "name": "stdout",
     "output_type": "stream",
     "text": [
      "\t\tAUC = 0.5490511465328098\tAccuracy = 0.5527216196060181\n",
      "\tFOLD: 4\n"
     ]
    },
    {
     "name": "stderr",
     "output_type": "stream",
     "text": [
      "/Library/Frameworks/Python.framework/Versions/3.8/lib/python3.8/site-packages/sklearn/linear_model/_coordinate_descent.py:513: ConvergenceWarning: Objective did not converge. You might want to increase the number of iterations. Duality gap: 1644.8580098973366, tolerance: 0.46574995169082034\n",
      "  model = cd_fast.sparse_enet_coordinate_descent(\n"
     ]
    },
    {
     "name": "stdout",
     "output_type": "stream",
     "text": [
      "\t\tAUC = 0.565305006794651\tAccuracy = 0.5529411435127258\n",
      "\tFOLD: 5\n"
     ]
    },
    {
     "name": "stderr",
     "output_type": "stream",
     "text": [
      "/Library/Frameworks/Python.framework/Versions/3.8/lib/python3.8/site-packages/sklearn/linear_model/_coordinate_descent.py:513: ConvergenceWarning: Objective did not converge. You might want to increase the number of iterations. Duality gap: 1632.7361538843604, tolerance: 0.4657499516908204\n",
      "  model = cd_fast.sparse_enet_coordinate_descent(\n"
     ]
    },
    {
     "name": "stdout",
     "output_type": "stream",
     "text": [
      "\t\tAUC = 0.5591052565958281\tAccuracy = 0.5530077219009399\n",
      "\tAverage metrics:\tAUC = 0.560444166119578\tAccuracy = 0.5527968525886535\n"
     ]
    },
    {
     "data": {
      "image/png": "[encoded data removed]",
      "text/plain": [
       "<Figure size 432x288 with 1 Axes>"
      ]
     },
     "metadata": {
      "needs_background": "light"
     },
     "output_type": "display_data"
    },
    {
     "data": {
      "image/png": "[encoded data removed]",
      "text/plain": [
       "<Figure size 432x288 with 1 Axes>"
      ]
     },
     "metadata": {
      "needs_background": "light"
     },
     "output_type": "display_data"
    },
    {
     "ename": "NameError",
     "evalue": "name 'test_auc' is not defined",
     "output_type": "error",
     "traceback": [
      "\u001b[0;31m---------------------------------------------------------------------------\u001b[0m",
      "\u001b[0;31mNameError\u001b[0m                                 Traceback (most recent call last)",
      "\u001b[0;32m<ipython-input-120-ae13329ad2b2>\u001b[0m in \u001b[0;36m<module>\u001b[0;34m\u001b[0m\n\u001b[1;32m      1\u001b[0m \u001b[0;31m# model for protein descriptors\u001b[0m\u001b[0;34m\u001b[0m\u001b[0;34m\u001b[0m\u001b[0;34m\u001b[0m\u001b[0m\n\u001b[0;32m----> 2\u001b[0;31m \u001b[0mfind_optimal_lasso\u001b[0m\u001b[0;34m(\u001b[0m\u001b[0mtrain_prot\u001b[0m\u001b[0;34m,\u001b[0m \u001b[0mtrain_labels\u001b[0m\u001b[0;34m,\u001b[0m \u001b[0;36m9\u001b[0m\u001b[0;34m,\u001b[0m \u001b[0mdrug\u001b[0m\u001b[0;34m=\u001b[0m\u001b[0;32mFalse\u001b[0m\u001b[0;34m)\u001b[0m\u001b[0;34m\u001b[0m\u001b[0;34m\u001b[0m\u001b[0m\n\u001b[0m",
      "\u001b[0;32m<ipython-input-119-39c757578056>\u001b[0m in \u001b[0;36mfind_optimal_lasso\u001b[0;34m(data, labels, num_iter, drug)\u001b[0m\n\u001b[1;32m     86\u001b[0m     \u001b[0mplt\u001b[0m\u001b[0;34m.\u001b[0m\u001b[0mshow\u001b[0m\u001b[0;34m(\u001b[0m\u001b[0;34m)\u001b[0m\u001b[0;34m\u001b[0m\u001b[0;34m\u001b[0m\u001b[0m\n\u001b[1;32m     87\u001b[0m \u001b[0;34m\u001b[0m\u001b[0m\n\u001b[0;32m---> 88\u001b[0;31m     \u001b[0mbest_model_index\u001b[0m \u001b[0;34m=\u001b[0m \u001b[0mtest_auc\u001b[0m\u001b[0;34m.\u001b[0m\u001b[0mindex\u001b[0m\u001b[0;34m(\u001b[0m\u001b[0mmax\u001b[0m\u001b[0;34m(\u001b[0m\u001b[0mtest_auc\u001b[0m\u001b[0;34m)\u001b[0m\u001b[0;34m)\u001b[0m\u001b[0;34m\u001b[0m\u001b[0;34m\u001b[0m\u001b[0m\n\u001b[0m\u001b[1;32m     89\u001b[0m     \u001b[0mprint\u001b[0m\u001b[0;34m(\u001b[0m\u001b[0;34mf\"Best model is at alpha = {-1*best_model_index} with AUC = {test_auc[best_model_index]} and Accuracy = {test_acc[best_model_index]}\"\u001b[0m\u001b[0;34m)\u001b[0m\u001b[0;34m\u001b[0m\u001b[0;34m\u001b[0m\u001b[0m\n",
      "\u001b[0;31mNameError\u001b[0m: name 'test_auc' is not defined"
     ]
    }
   ],
   "source": [
    "# model for protein descriptors\n",
    "find_optimal_lasso(train_prot, train_labels, 9, drug=False)"
   ]
  },
  {
   "cell_type": "markdown",
   "metadata": {},
   "source": [
    "## Feature Selection with Lasso\n",
    "**Drugs:** Using the point on the AUC graph where the plot began to plateau (alpha=1e-4). Training this model on all of the test data and removing features that have a coefficient of 0.\n",
    "\n",
    "**Proteins:** Using the highest point on the AUC graph (alpha=1e-3). Training this model on all of the test data and removing features that have a coefficient of 0."
   ]
  },
  {
   "cell_type": "code",
   "execution_count": 37,
   "metadata": {},
   "outputs": [],
   "source": [
    "from sklearn.feature_selection import SelectFromModel"
   ]
  },
  {
   "cell_type": "markdown",
   "metadata": {},
   "source": [
    "### Drugs"
   ]
  },
  {
   "cell_type": "code",
   "execution_count": 61,
   "metadata": {},
   "outputs": [],
   "source": [
    "# preprocessing data\n",
    "scaler = StandardScaler(with_std=False)\n",
    "var = VarianceThreshold(0.01)\n",
    "train_feat = scaler.fit_transform(train_drugs)\n",
    "test_feat = scaler.transform(test_drugs)\n",
    "train_feat = var.fit_transform(train_feat)\n",
    "test_feat = var.transform(test_feat)"
   ]
  },
  {
   "cell_type": "code",
   "execution_count": 12,
   "metadata": {},
   "outputs": [],
   "source": [
    "# threshold defaults to 1e-5 for Lasso models\n",
    "lasso_feature_selector = SelectFromModel(estimator=Lasso(alpha=1e-4))"
   ]
  },
  {
   "cell_type": "code",
   "execution_count": 13,
   "metadata": {
    "scrolled": true
   },
   "outputs": [
    {
     "name": "stderr",
     "output_type": "stream",
     "text": [
      "/Library/Frameworks/Python.framework/Versions/3.8/lib/python3.8/site-packages/sklearn/linear_model/_coordinate_descent.py:530: ConvergenceWarning: Objective did not converge. You might want to increase the number of iterations. Duality gap: 2347.3023885755592, tolerance: 0.5821749130416095\n",
      "  model = cd_fast.enet_coordinate_descent(\n"
     ]
    },
    {
     "data": {
      "text/plain": [
       "SelectFromModel(estimator=Lasso(alpha=0.0001))"
      ]
     },
     "execution_count": 13,
     "metadata": {},
     "output_type": "execute_result"
    }
   ],
   "source": [
    "lasso_feature_selector.fit(train_feat, train_labels)"
   ]
  },
  {
   "cell_type": "code",
   "execution_count": 69,
   "metadata": {},
   "outputs": [
    {
     "output_type": "execute_result",
     "data": {
      "text/plain": [
       "1820"
      ]
     },
     "metadata": {},
     "execution_count": 69
    }
   ],
   "source": [
    "len(np.where(np.abs(lasso_feature_selector.estimator_.coef_) >= 1e-3)[0])"
   ]
  },
  {
   "cell_type": "markdown",
   "metadata": {},
   "source": [
    " Using a threshold of 1e-3 so the number of selected drug features is closer to the number of selected protein features."
   ]
  },
  {
   "cell_type": "code",
   "execution_count": 70,
   "metadata": {
    "scrolled": false
   },
   "outputs": [
    {
     "output_type": "execute_result",
     "data": {
      "text/plain": [
       "SelectFromModel(estimator=Lasso(alpha=0.0001), threshold=0.001)"
      ]
     },
     "metadata": {},
     "execution_count": 70
    }
   ],
   "source": [
    "lasso_feature_selector.set_params(**{'threshold':1e-3})"
   ]
  },
  {
   "cell_type": "code",
   "execution_count": 71,
   "metadata": {},
   "outputs": [],
   "source": [
    "# selecting top features from Lasso model\n",
    "reduced_train_drugs = lasso_feature_selector.transform(train_feat)\n",
    "reduced_test_drugs = lasso_feature_selector.transform(test_feat)"
   ]
  },
  {
   "cell_type": "markdown",
   "metadata": {},
   "source": [
    "### Proteins"
   ]
  },
  {
   "cell_type": "code",
   "execution_count": 34,
   "metadata": {},
   "outputs": [
    {
     "output_type": "execute_result",
     "data": {
      "text/plain": [
       "(23287, 11471)"
      ]
     },
     "metadata": {},
     "execution_count": 34
    }
   ],
   "source": [
    "train_dataset.shape"
   ]
  },
  {
   "cell_type": "code",
   "execution_count": 35,
   "metadata": {},
   "outputs": [],
   "source": [
    "# preprocessing data\n",
    "\n",
    "prot_var = VarianceThreshold(0.01)\n",
    "\n",
    "# protein sequence vectorization\n",
    "acc_vect = CountVectorizer(analyzer='char', ngram_range=(1,1))\n",
    "train_acc = acc_vect.fit_transform(train_prot['sequence'])\n",
    "test_acc = acc_vect.transform(test_prot['sequence'])\n",
    "dc_vect = CountVectorizer(analyzer='char', ngram_range=(2,2))\n",
    "train_dc = dc_vect.fit_transform(train_prot['sequence'])\n",
    "test_dc = dc_vect.transform(test_prot['sequence'])\n",
    "tc_vect = CountVectorizer(analyzer='char', ngram_range=(3,3))\n",
    "train_tc = tc_vect.fit_transform(train_prot['sequence'])\n",
    "test_tc = tc_vect.transform(test_prot['sequence'])\n",
    "\n",
    "## the vectorizers return scipy sparse matrices so hstack is used to concat them\n",
    "train_vect_feat = sparse.hstack([train_acc, train_dc, train_tc])\n",
    "test_vect_feat = sparse.hstack([test_acc, test_dc, test_tc])\n",
    "\n",
    "# removing vectorized features that have variance less than 0.01\n",
    "train_vect_feat = prot_var.fit_transform(train_vect_feat)\n",
    "test_vect_feat = prot_var.transform(test_vect_feat)\n",
    "\n",
    "# dropping the column containing the sequence string because it isn't needed\n",
    "prot_train_feat = train_prot.drop(columns=['sequence'])\n",
    "prot_test_feat = test_prot.drop(columns=['sequence'])\n",
    "## VarianceThreshold returns a scipy sparse matrix (if it is given one) so using hstack to combine them\n",
    "# combining domain features with sequence vectorized features\n",
    "prot_train_feat = sparse.hstack([train_vect_feat, sparse.coo_matrix(prot_train_feat)])\n",
    "prot_test_feat = sparse.hstack([test_vect_feat, sparse.coo_matrix(prot_test_feat)])"
   ]
  },
  {
   "cell_type": "code",
   "execution_count": 38,
   "metadata": {},
   "outputs": [],
   "source": [
    "# threshold is set to 1e-5 by default\n",
    "lasso_prot_feat_selector = SelectFromModel(estimator=Lasso(alpha=1e-3, max_iter=3000))"
   ]
  },
  {
   "cell_type": "code",
   "execution_count": 42,
   "metadata": {
    "scrolled": false
   },
   "outputs": [
    {
     "output_type": "execute_result",
     "data": {
      "text/plain": [
       "SelectFromModel(estimator=Lasso(alpha=0.001, max_iter=3000))"
      ]
     },
     "metadata": {},
     "execution_count": 42
    }
   ],
   "source": [
    "lasso_prot_feat_selector.fit(prot_train_feat, train_labels)"
   ]
  },
  {
   "cell_type": "code",
   "execution_count": 56,
   "metadata": {},
   "outputs": [
    {
     "output_type": "execute_result",
     "data": {
      "text/plain": [
       "1228"
      ]
     },
     "metadata": {},
     "execution_count": 56
    }
   ],
   "source": [
    "len(np.where(np.abs(lasso_prot_feat_selector.estimator_.coef_) >= 1e-20)[0])"
   ]
  },
  {
   "cell_type": "code",
   "execution_count": 57,
   "metadata": {},
   "outputs": [
    {
     "output_type": "execute_result",
     "data": {
      "text/plain": [
       "SelectFromModel(estimator=Lasso(alpha=0.001, max_iter=3000), threshold=1e-20)"
      ]
     },
     "metadata": {},
     "execution_count": 57
    }
   ],
   "source": [
    "# removing all features that had a coefficient of 0 (setting the threshold extremely so so thi)\n",
    "lasso_prot_feat_selector.set_params(**{'threshold':1e-20})"
   ]
  },
  {
   "cell_type": "code",
   "execution_count": 60,
   "metadata": {},
   "outputs": [],
   "source": [
    "reduced_train_prot = lasso_prot_feat_selector.transform(prot_train_feat).A\n",
    "reduced_test_prot = lasso_prot_feat_selector.transform(prot_test_feat).A"
   ]
  },
  {
   "cell_type": "markdown",
   "metadata": {},
   "source": [
    "## Combining Drug and Protein Data"
   ]
  },
  {
   "cell_type": "code",
   "execution_count": 72,
   "metadata": {},
   "outputs": [],
   "source": [
    "train_data = np.concatenate([reduced_train_drugs, reduced_train_prot], axis=1)\n",
    "test_data = np.concatenate([reduced_test_drugs, reduced_test_prot], axis=1)\n",
    "\n",
    "train_data = pd.DataFrame(train_data)\n",
    "test_data = pd.DataFrame(test_data)\n",
    "train_data['label'] = train_labels\n",
    "test_data['label'] = test_labels"
   ]
  },
  {
   "cell_type": "markdown",
   "metadata": {},
   "source": [
    "# Saving Data"
   ]
  },
  {
   "cell_type": "code",
   "execution_count": 14,
   "metadata": {},
   "outputs": [],
   "source": [
    "scaler = load(\"models/drug_scaler.joblib\")\n",
    "var = load(\"models/drug_var.joblib\")\n",
    "prot_var = load(\"models/prot_var.joblib\")\n",
    "acc_vect = load(\"models/acc_vectorizer.joblib\")\n",
    "dc_vect = load(\"models/dc_vectorizer.joblib\")\n",
    "tc_vect = load(\"models/tc_vectorizer.joblib\")\n",
    "lasso_feature_selector = load(\"models/drug_lasso_feature_selector.joblib\")\n",
    "lasso_prot_feat_selector = load(\"models/prot_lasso_feature_selector.joblib\")"
   ]
  },
  {
   "cell_type": "code",
   "execution_count": 75,
   "metadata": {},
   "outputs": [
    {
     "output_type": "execute_result",
     "data": {
      "text/plain": [
       "['models/prot_lasso_feature_selector.joblib']"
      ]
     },
     "metadata": {},
     "execution_count": 75
    }
   ],
   "source": [
    "# writing data to csv\n",
    "train_data.to_csv(\"drug_target_data/datasets/reduced_train_dataset.csv\", index=False)\n",
    "test_data.to_csv(\"drug_target_data/datasets/reduced_test_dataset.csv\", index=False)\n",
    "\n",
    "# saving the models for future use\n",
    "dump(scaler, \"models/drug_scaler.joblib\")\n",
    "dump(var, \"models/drug_var.joblib\")\n",
    "dump(prot_var, \"models/prot_var.joblib\")\n",
    "dump(acc_vect, \"models/acc_vectorizer.joblib\")\n",
    "dump(dc_vect, \"models/dc_vectorizer.joblib\")\n",
    "dump(tc_vect, \"models/tc_vectorizer.joblib\")\n",
    "dump(lasso_feature_selector, \"models/drug_lasso_feature_selector.joblib\")\n",
    "dump(lasso_prot_feat_selector, \"models/prot_lasso_feature_selector.joblib\")"
   ]
  },
  {
   "cell_type": "code",
   "execution_count": null,
   "metadata": {},
   "outputs": [],
   "source": []
  }
 ],
 "metadata": {
  "kernelspec": {
   "name": "python3",
   "display_name": "Python 3.8.6 64-bit",
   "metadata": {
    "interpreter": {
     "hash": "988ce6d4ac361a945fe4d216129e9b67722fdf4c5a4748a2844558a1d81358a3"
    }
   }
  },
  "language_info": {
   "codemirror_mode": {
    "name": "ipython",
    "version": 3
   },
   "file_extension": ".py",
   "mimetype": "text/x-python",
   "name": "python",
   "nbconvert_exporter": "python",
   "pygments_lexer": "ipython3",
   "version": "3.8.6-final"
  }
 },
 "nbformat": 4,
 "nbformat_minor": 2
}