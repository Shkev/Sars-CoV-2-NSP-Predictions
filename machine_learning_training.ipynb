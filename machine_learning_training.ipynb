{
  "nbformat": 4,
  "nbformat_minor": 0,
  "metadata": {
    "accelerator": "GPU",
    "colab": {
      "name": "machine_learning_training.ipynb",
      "provenance": [],
      "collapsed_sections": [
        "DO73CCiNPtpr",
        "NDBQCgCdzOoH",
        "WXrRSx7iRKCW"
      ]
    },
    "kernelspec": {
      "display_name": "Python 3",
      "name": "python3"
    }
  },
  "cells": [
    {
      "cell_type": "code",
      "metadata": {
        "id": "y456JW7GvxY-"
      },
      "source": [
        "import math\n",
        "import os\n",
        "import pandas as pd\n",
        "import numpy as np\n",
        "from tqdm.notebook import tqdm\n",
        "import tensorflow as tf\n",
        "from tensorflow import keras\n",
        "from tensorflow.keras import layers\n",
        "from tensorflow.keras.layers import Dense, Dropout, Conv1D, MaxPooling1D, GlobalMaxPooling1D, Flatten, BatchNormalization, Conv1DTranspose, AveragePooling1D, UpSampling1D\n",
        "from tensorflow.keras.regularizers import l2\n",
        "from sklearn.metrics import plot_roc_curve, roc_auc_score, roc_curve, precision_recall_curve, classification_report, confusion_matrix\n",
        "from sklearn.model_selection import train_test_split\n",
        "import matplotlib.pyplot as plt\n",
        "import seaborn as sns\n",
        "from joblib import dump, load\n",
        "import gc\n",
        "\n",
        "# Load the TensorBoard notebook extension.\n",
        "%load_ext tensorboard"
      ],
      "execution_count": null,
      "outputs": []
    },
    {
      "cell_type": "code",
      "metadata": {
        "colab": {
          "base_uri": "https://localhost:8080/"
        },
        "id": "2EcJRy50f2dS",
        "outputId": "8c9e2429-cea4-4147-c44e-6e9b048994a3"
      },
      "source": [
        "print(\"Num GPUs Available: \", len(tf.config.experimental.list_physical_devices('GPU')))"
      ],
      "execution_count": null,
      "outputs": [
        {
          "output_type": "stream",
          "text": [
            "Num GPUs Available:  1\n"
          ],
          "name": "stdout"
        }
      ]
    },
    {
      "cell_type": "code",
      "metadata": {
        "colab": {
          "base_uri": "https://localhost:8080/"
        },
        "id": "9y0K2VQXwggn",
        "outputId": "c5d1a0c8-6287-4ae3-8493-da535b203b50"
      },
      "source": [
        "from google.colab import drive\n",
        "drive.mount('/gdrive')"
      ],
      "execution_count": null,
      "outputs": [
        {
          "output_type": "stream",
          "text": [
            "Mounted at /gdrive\n"
          ],
          "name": "stdout"
        }
      ]
    },
    {
      "cell_type": "markdown",
      "metadata": {
        "id": "DO73CCiNPtpr"
      },
      "source": [
        "# Data"
      ]
    },
    {
      "cell_type": "code",
      "metadata": {
        "colab": {
          "base_uri": "https://localhost:8080/"
        },
        "id": "5dDUhNQqwMsq",
        "outputId": "2d10e8b5-de1b-44cd-ed3d-979fa1f844d6"
      },
      "source": [
        "train_dataset = pd.read_csv(\"/gdrive/My Drive/Colab Notebooks/REHS/drug_target_data/datasets/reduced_train_dataset.csv\")\n",
        "print(\"Read training data. Now reading testing data\")\n",
        "test_dataset = pd.read_csv(\"/gdrive/My Drive/Colab Notebooks/REHS/drug_target_data/datasets/reduced_test_dataset.csv\")\n",
        "print(\"Done reading data\")"
      ],
      "execution_count": null,
      "outputs": [
        {
          "output_type": "stream",
          "text": [
            "Read training data. Now reading testing data\n",
            "Done reading data\n"
          ],
          "name": "stdout"
        }
      ]
    },
    {
      "cell_type": "code",
      "metadata": {
        "id": "u2QqQKiiH3u9"
      },
      "source": [
        "train_labels = train_dataset.pop('label')\n",
        "test_labels = test_dataset.pop('label')"
      ],
      "execution_count": null,
      "outputs": []
    },
    {
      "cell_type": "code",
      "metadata": {
        "colab": {
          "base_uri": "https://localhost:8080/"
        },
        "id": "R4htIniBZtdr",
        "outputId": "cbd379ff-22f3-4c1d-e084-dc80d2050836"
      },
      "source": [
        "train_dataset"
      ],
      "execution_count": null,
      "outputs": [
        {
          "output_type": "execute_result",
          "data": {
            "text/html": [
              "<div>\n",
              "<style scoped>\n",
              "    .dataframe tbody tr th:only-of-type {\n",
              "        vertical-align: middle;\n",
              "    }\n",
              "\n",
              "    .dataframe tbody tr th {\n",
              "        vertical-align: top;\n",
              "    }\n",
              "\n",
              "    .dataframe thead th {\n",
              "        text-align: right;\n",
              "    }\n",
              "</style>\n",
              "<table border=\"1\" class=\"dataframe\">\n",
              "  <thead>\n",
              "    <tr style=\"text-align: right;\">\n",
              "      <th></th>\n",
              "      <th>0</th>\n",
              "      <th>1</th>\n",
              "      <th>2</th>\n",
              "      <th>3</th>\n",
              "      <th>4</th>\n",
              "      <th>5</th>\n",
              "      <th>6</th>\n",
              "      <th>7</th>\n",
              "      <th>8</th>\n",
              "      <th>9</th>\n",
              "      <th>10</th>\n",
              "      <th>11</th>\n",
              "      <th>12</th>\n",
              "      <th>13</th>\n",
              "      <th>14</th>\n",
              "      <th>15</th>\n",
              "      <th>16</th>\n",
              "      <th>17</th>\n",
              "      <th>18</th>\n",
              "      <th>19</th>\n",
              "      <th>20</th>\n",
              "      <th>21</th>\n",
              "      <th>22</th>\n",
              "      <th>23</th>\n",
              "      <th>24</th>\n",
              "      <th>25</th>\n",
              "      <th>26</th>\n",
              "      <th>27</th>\n",
              "      <th>28</th>\n",
              "      <th>29</th>\n",
              "      <th>30</th>\n",
              "      <th>31</th>\n",
              "      <th>32</th>\n",
              "      <th>33</th>\n",
              "      <th>34</th>\n",
              "      <th>35</th>\n",
              "      <th>36</th>\n",
              "      <th>37</th>\n",
              "      <th>38</th>\n",
              "      <th>39</th>\n",
              "      <th>...</th>\n",
              "      <th>3008</th>\n",
              "      <th>3009</th>\n",
              "      <th>3010</th>\n",
              "      <th>3011</th>\n",
              "      <th>3012</th>\n",
              "      <th>3013</th>\n",
              "      <th>3014</th>\n",
              "      <th>3015</th>\n",
              "      <th>3016</th>\n",
              "      <th>3017</th>\n",
              "      <th>3018</th>\n",
              "      <th>3019</th>\n",
              "      <th>3020</th>\n",
              "      <th>3021</th>\n",
              "      <th>3022</th>\n",
              "      <th>3023</th>\n",
              "      <th>3024</th>\n",
              "      <th>3025</th>\n",
              "      <th>3026</th>\n",
              "      <th>3027</th>\n",
              "      <th>3028</th>\n",
              "      <th>3029</th>\n",
              "      <th>3030</th>\n",
              "      <th>3031</th>\n",
              "      <th>3032</th>\n",
              "      <th>3033</th>\n",
              "      <th>3034</th>\n",
              "      <th>3035</th>\n",
              "      <th>3036</th>\n",
              "      <th>3037</th>\n",
              "      <th>3038</th>\n",
              "      <th>3039</th>\n",
              "      <th>3040</th>\n",
              "      <th>3041</th>\n",
              "      <th>3042</th>\n",
              "      <th>3043</th>\n",
              "      <th>3044</th>\n",
              "      <th>3045</th>\n",
              "      <th>3046</th>\n",
              "      <th>3047</th>\n",
              "    </tr>\n",
              "  </thead>\n",
              "  <tbody>\n",
              "    <tr>\n",
              "      <th>0</th>\n",
              "      <td>3.231405</td>\n",
              "      <td>-0.045862</td>\n",
              "      <td>-0.022416</td>\n",
              "      <td>2.188148</td>\n",
              "      <td>5.042382</td>\n",
              "      <td>-2.500537</td>\n",
              "      <td>-0.595225</td>\n",
              "      <td>-0.127535</td>\n",
              "      <td>-5.056285</td>\n",
              "      <td>1.806547</td>\n",
              "      <td>0.956628</td>\n",
              "      <td>3.583673</td>\n",
              "      <td>3.130158</td>\n",
              "      <td>6.077588</td>\n",
              "      <td>9.967122</td>\n",
              "      <td>3.852089</td>\n",
              "      <td>6.675878</td>\n",
              "      <td>9.182552</td>\n",
              "      <td>5.927512</td>\n",
              "      <td>5.347445</td>\n",
              "      <td>4.927097</td>\n",
              "      <td>4.430238</td>\n",
              "      <td>-16.500594</td>\n",
              "      <td>-12.697268</td>\n",
              "      <td>-3.731467</td>\n",
              "      <td>11.469455</td>\n",
              "      <td>11.702154</td>\n",
              "      <td>24.620758</td>\n",
              "      <td>-0.772405</td>\n",
              "      <td>2.051831</td>\n",
              "      <td>-0.374071</td>\n",
              "      <td>-1.047108</td>\n",
              "      <td>-1.780478</td>\n",
              "      <td>-0.982952</td>\n",
              "      <td>-2.394727</td>\n",
              "      <td>1.879334</td>\n",
              "      <td>1.236719</td>\n",
              "      <td>2.344369</td>\n",
              "      <td>11.880148</td>\n",
              "      <td>7.9569</td>\n",
              "      <td>...</td>\n",
              "      <td>0.0</td>\n",
              "      <td>0.0</td>\n",
              "      <td>0.0</td>\n",
              "      <td>0.0</td>\n",
              "      <td>0.0</td>\n",
              "      <td>0.0</td>\n",
              "      <td>0.0</td>\n",
              "      <td>0.0</td>\n",
              "      <td>0.0</td>\n",
              "      <td>0.0</td>\n",
              "      <td>0.0</td>\n",
              "      <td>0.0</td>\n",
              "      <td>0.0</td>\n",
              "      <td>0.0</td>\n",
              "      <td>0.0</td>\n",
              "      <td>0.0</td>\n",
              "      <td>0.0</td>\n",
              "      <td>0.0</td>\n",
              "      <td>0.0</td>\n",
              "      <td>0.0</td>\n",
              "      <td>0.0</td>\n",
              "      <td>0.0</td>\n",
              "      <td>0.0</td>\n",
              "      <td>0.0</td>\n",
              "      <td>0.0</td>\n",
              "      <td>0.0</td>\n",
              "      <td>0.0</td>\n",
              "      <td>0.0</td>\n",
              "      <td>0.0</td>\n",
              "      <td>0.0</td>\n",
              "      <td>0.0</td>\n",
              "      <td>0.0</td>\n",
              "      <td>0.0</td>\n",
              "      <td>0.0</td>\n",
              "      <td>0.0</td>\n",
              "      <td>0.0</td>\n",
              "      <td>0.0</td>\n",
              "      <td>0.0</td>\n",
              "      <td>0.0</td>\n",
              "      <td>0.0</td>\n",
              "    </tr>\n",
              "    <tr>\n",
              "      <th>1</th>\n",
              "      <td>-2.338595</td>\n",
              "      <td>-0.045862</td>\n",
              "      <td>-0.022416</td>\n",
              "      <td>-1.591852</td>\n",
              "      <td>-7.504718</td>\n",
              "      <td>-8.500537</td>\n",
              "      <td>-0.595225</td>\n",
              "      <td>-0.127535</td>\n",
              "      <td>-8.056285</td>\n",
              "      <td>-6.313453</td>\n",
              "      <td>-2.043372</td>\n",
              "      <td>-3.416327</td>\n",
              "      <td>-0.869842</td>\n",
              "      <td>-4.522412</td>\n",
              "      <td>-7.132878</td>\n",
              "      <td>-2.157911</td>\n",
              "      <td>-3.114122</td>\n",
              "      <td>-14.237448</td>\n",
              "      <td>-8.772488</td>\n",
              "      <td>-7.152555</td>\n",
              "      <td>-4.982903</td>\n",
              "      <td>-3.629762</td>\n",
              "      <td>3.899406</td>\n",
              "      <td>-4.397268</td>\n",
              "      <td>29.398533</td>\n",
              "      <td>-27.730545</td>\n",
              "      <td>-28.897846</td>\n",
              "      <td>-47.679242</td>\n",
              "      <td>-2.772405</td>\n",
              "      <td>-3.948169</td>\n",
              "      <td>-0.374071</td>\n",
              "      <td>-0.047108</td>\n",
              "      <td>-1.780478</td>\n",
              "      <td>-6.982952</td>\n",
              "      <td>-0.394727</td>\n",
              "      <td>-2.830666</td>\n",
              "      <td>-0.523281</td>\n",
              "      <td>-8.955631</td>\n",
              "      <td>-15.019852</td>\n",
              "      <td>-1.4131</td>\n",
              "      <td>...</td>\n",
              "      <td>0.0</td>\n",
              "      <td>0.0</td>\n",
              "      <td>0.0</td>\n",
              "      <td>0.0</td>\n",
              "      <td>0.0</td>\n",
              "      <td>0.0</td>\n",
              "      <td>0.0</td>\n",
              "      <td>0.0</td>\n",
              "      <td>0.0</td>\n",
              "      <td>0.0</td>\n",
              "      <td>0.0</td>\n",
              "      <td>0.0</td>\n",
              "      <td>0.0</td>\n",
              "      <td>0.0</td>\n",
              "      <td>0.0</td>\n",
              "      <td>0.0</td>\n",
              "      <td>0.0</td>\n",
              "      <td>1.0</td>\n",
              "      <td>0.0</td>\n",
              "      <td>0.0</td>\n",
              "      <td>0.0</td>\n",
              "      <td>0.0</td>\n",
              "      <td>0.0</td>\n",
              "      <td>0.0</td>\n",
              "      <td>0.0</td>\n",
              "      <td>0.0</td>\n",
              "      <td>0.0</td>\n",
              "      <td>0.0</td>\n",
              "      <td>0.0</td>\n",
              "      <td>0.0</td>\n",
              "      <td>0.0</td>\n",
              "      <td>0.0</td>\n",
              "      <td>0.0</td>\n",
              "      <td>0.0</td>\n",
              "      <td>0.0</td>\n",
              "      <td>0.0</td>\n",
              "      <td>0.0</td>\n",
              "      <td>0.0</td>\n",
              "      <td>0.0</td>\n",
              "      <td>0.0</td>\n",
              "    </tr>\n",
              "    <tr>\n",
              "      <th>2</th>\n",
              "      <td>2.301405</td>\n",
              "      <td>-0.045862</td>\n",
              "      <td>-0.022416</td>\n",
              "      <td>3.398148</td>\n",
              "      <td>15.042382</td>\n",
              "      <td>3.499463</td>\n",
              "      <td>-0.595225</td>\n",
              "      <td>-0.127535</td>\n",
              "      <td>10.943715</td>\n",
              "      <td>-0.393453</td>\n",
              "      <td>-2.043372</td>\n",
              "      <td>-2.416327</td>\n",
              "      <td>-0.869842</td>\n",
              "      <td>-1.552412</td>\n",
              "      <td>-2.632878</td>\n",
              "      <td>-1.017911</td>\n",
              "      <td>-1.704122</td>\n",
              "      <td>-3.117448</td>\n",
              "      <td>-2.242488</td>\n",
              "      <td>-1.822555</td>\n",
              "      <td>-1.842903</td>\n",
              "      <td>-1.509762</td>\n",
              "      <td>0.499406</td>\n",
              "      <td>-7.497268</td>\n",
              "      <td>1.578533</td>\n",
              "      <td>-3.130545</td>\n",
              "      <td>-3.897846</td>\n",
              "      <td>-3.479242</td>\n",
              "      <td>-1.772405</td>\n",
              "      <td>-2.948169</td>\n",
              "      <td>-0.374071</td>\n",
              "      <td>-0.047108</td>\n",
              "      <td>-1.780478</td>\n",
              "      <td>3.017048</td>\n",
              "      <td>-0.394727</td>\n",
              "      <td>-1.210666</td>\n",
              "      <td>-0.523281</td>\n",
              "      <td>-3.225631</td>\n",
              "      <td>0.980148</td>\n",
              "      <td>-1.4131</td>\n",
              "      <td>...</td>\n",
              "      <td>0.0</td>\n",
              "      <td>0.0</td>\n",
              "      <td>0.0</td>\n",
              "      <td>0.0</td>\n",
              "      <td>0.0</td>\n",
              "      <td>0.0</td>\n",
              "      <td>0.0</td>\n",
              "      <td>0.0</td>\n",
              "      <td>0.0</td>\n",
              "      <td>0.0</td>\n",
              "      <td>0.0</td>\n",
              "      <td>0.0</td>\n",
              "      <td>0.0</td>\n",
              "      <td>0.0</td>\n",
              "      <td>0.0</td>\n",
              "      <td>0.0</td>\n",
              "      <td>0.0</td>\n",
              "      <td>0.0</td>\n",
              "      <td>0.0</td>\n",
              "      <td>0.0</td>\n",
              "      <td>0.0</td>\n",
              "      <td>0.0</td>\n",
              "      <td>0.0</td>\n",
              "      <td>0.0</td>\n",
              "      <td>0.0</td>\n",
              "      <td>0.0</td>\n",
              "      <td>0.0</td>\n",
              "      <td>0.0</td>\n",
              "      <td>0.0</td>\n",
              "      <td>0.0</td>\n",
              "      <td>0.0</td>\n",
              "      <td>0.0</td>\n",
              "      <td>0.0</td>\n",
              "      <td>0.0</td>\n",
              "      <td>0.0</td>\n",
              "      <td>0.0</td>\n",
              "      <td>0.0</td>\n",
              "      <td>0.0</td>\n",
              "      <td>0.0</td>\n",
              "      <td>0.0</td>\n",
              "    </tr>\n",
              "    <tr>\n",
              "      <th>3</th>\n",
              "      <td>-5.378595</td>\n",
              "      <td>-0.045862</td>\n",
              "      <td>-0.022416</td>\n",
              "      <td>-2.451852</td>\n",
              "      <td>-6.367618</td>\n",
              "      <td>-8.500537</td>\n",
              "      <td>1.404775</td>\n",
              "      <td>-0.127535</td>\n",
              "      <td>7.943715</td>\n",
              "      <td>0.106547</td>\n",
              "      <td>-1.043372</td>\n",
              "      <td>-1.416327</td>\n",
              "      <td>-0.869842</td>\n",
              "      <td>-2.112412</td>\n",
              "      <td>-5.892878</td>\n",
              "      <td>-1.570911</td>\n",
              "      <td>-2.556122</td>\n",
              "      <td>-6.717448</td>\n",
              "      <td>-4.922488</td>\n",
              "      <td>-5.552555</td>\n",
              "      <td>-1.932903</td>\n",
              "      <td>-1.619762</td>\n",
              "      <td>-21.100594</td>\n",
              "      <td>-4.997268</td>\n",
              "      <td>-0.651467</td>\n",
              "      <td>-8.230545</td>\n",
              "      <td>-8.797846</td>\n",
              "      <td>-15.479242</td>\n",
              "      <td>1.227595</td>\n",
              "      <td>-1.948169</td>\n",
              "      <td>-0.374071</td>\n",
              "      <td>0.952892</td>\n",
              "      <td>5.219522</td>\n",
              "      <td>-6.982952</td>\n",
              "      <td>0.605273</td>\n",
              "      <td>-2.830666</td>\n",
              "      <td>-0.523281</td>\n",
              "      <td>-8.622631</td>\n",
              "      <td>-11.839852</td>\n",
              "      <td>-1.4131</td>\n",
              "      <td>...</td>\n",
              "      <td>0.0</td>\n",
              "      <td>0.0</td>\n",
              "      <td>0.0</td>\n",
              "      <td>0.0</td>\n",
              "      <td>0.0</td>\n",
              "      <td>0.0</td>\n",
              "      <td>0.0</td>\n",
              "      <td>0.0</td>\n",
              "      <td>0.0</td>\n",
              "      <td>0.0</td>\n",
              "      <td>0.0</td>\n",
              "      <td>0.0</td>\n",
              "      <td>0.0</td>\n",
              "      <td>0.0</td>\n",
              "      <td>0.0</td>\n",
              "      <td>0.0</td>\n",
              "      <td>0.0</td>\n",
              "      <td>0.0</td>\n",
              "      <td>0.0</td>\n",
              "      <td>0.0</td>\n",
              "      <td>1.0</td>\n",
              "      <td>0.0</td>\n",
              "      <td>0.0</td>\n",
              "      <td>0.0</td>\n",
              "      <td>0.0</td>\n",
              "      <td>0.0</td>\n",
              "      <td>0.0</td>\n",
              "      <td>0.0</td>\n",
              "      <td>0.0</td>\n",
              "      <td>0.0</td>\n",
              "      <td>0.0</td>\n",
              "      <td>0.0</td>\n",
              "      <td>0.0</td>\n",
              "      <td>0.0</td>\n",
              "      <td>0.0</td>\n",
              "      <td>0.0</td>\n",
              "      <td>0.0</td>\n",
              "      <td>0.0</td>\n",
              "      <td>0.0</td>\n",
              "      <td>0.0</td>\n",
              "    </tr>\n",
              "    <tr>\n",
              "      <th>4</th>\n",
              "      <td>0.471405</td>\n",
              "      <td>-0.045862</td>\n",
              "      <td>-0.022416</td>\n",
              "      <td>0.558148</td>\n",
              "      <td>-3.857618</td>\n",
              "      <td>-2.500537</td>\n",
              "      <td>-0.595225</td>\n",
              "      <td>-0.127535</td>\n",
              "      <td>-8.056285</td>\n",
              "      <td>2.206547</td>\n",
              "      <td>0.956628</td>\n",
              "      <td>-3.416327</td>\n",
              "      <td>0.130158</td>\n",
              "      <td>0.097588</td>\n",
              "      <td>0.677122</td>\n",
              "      <td>-0.507911</td>\n",
              "      <td>-0.634122</td>\n",
              "      <td>1.582552</td>\n",
              "      <td>0.117512</td>\n",
              "      <td>0.417445</td>\n",
              "      <td>-0.902903</td>\n",
              "      <td>-0.619762</td>\n",
              "      <td>12.099406</td>\n",
              "      <td>-11.297268</td>\n",
              "      <td>-4.537467</td>\n",
              "      <td>3.369455</td>\n",
              "      <td>3.002154</td>\n",
              "      <td>6.320758</td>\n",
              "      <td>0.227595</td>\n",
              "      <td>-2.948169</td>\n",
              "      <td>-0.374071</td>\n",
              "      <td>-1.047108</td>\n",
              "      <td>0.219522</td>\n",
              "      <td>1.017048</td>\n",
              "      <td>-0.394727</td>\n",
              "      <td>0.589334</td>\n",
              "      <td>-0.523281</td>\n",
              "      <td>-5.555631</td>\n",
              "      <td>-2.019852</td>\n",
              "      <td>-1.4131</td>\n",
              "      <td>...</td>\n",
              "      <td>0.0</td>\n",
              "      <td>0.0</td>\n",
              "      <td>0.0</td>\n",
              "      <td>0.0</td>\n",
              "      <td>0.0</td>\n",
              "      <td>0.0</td>\n",
              "      <td>0.0</td>\n",
              "      <td>0.0</td>\n",
              "      <td>0.0</td>\n",
              "      <td>0.0</td>\n",
              "      <td>0.0</td>\n",
              "      <td>0.0</td>\n",
              "      <td>0.0</td>\n",
              "      <td>0.0</td>\n",
              "      <td>0.0</td>\n",
              "      <td>0.0</td>\n",
              "      <td>0.0</td>\n",
              "      <td>0.0</td>\n",
              "      <td>0.0</td>\n",
              "      <td>0.0</td>\n",
              "      <td>0.0</td>\n",
              "      <td>0.0</td>\n",
              "      <td>0.0</td>\n",
              "      <td>0.0</td>\n",
              "      <td>0.0</td>\n",
              "      <td>0.0</td>\n",
              "      <td>0.0</td>\n",
              "      <td>0.0</td>\n",
              "      <td>0.0</td>\n",
              "      <td>0.0</td>\n",
              "      <td>0.0</td>\n",
              "      <td>0.0</td>\n",
              "      <td>0.0</td>\n",
              "      <td>0.0</td>\n",
              "      <td>0.0</td>\n",
              "      <td>0.0</td>\n",
              "      <td>0.0</td>\n",
              "      <td>0.0</td>\n",
              "      <td>0.0</td>\n",
              "      <td>0.0</td>\n",
              "    </tr>\n",
              "    <tr>\n",
              "      <th>...</th>\n",
              "      <td>...</td>\n",
              "      <td>...</td>\n",
              "      <td>...</td>\n",
              "      <td>...</td>\n",
              "      <td>...</td>\n",
              "      <td>...</td>\n",
              "      <td>...</td>\n",
              "      <td>...</td>\n",
              "      <td>...</td>\n",
              "      <td>...</td>\n",
              "      <td>...</td>\n",
              "      <td>...</td>\n",
              "      <td>...</td>\n",
              "      <td>...</td>\n",
              "      <td>...</td>\n",
              "      <td>...</td>\n",
              "      <td>...</td>\n",
              "      <td>...</td>\n",
              "      <td>...</td>\n",
              "      <td>...</td>\n",
              "      <td>...</td>\n",
              "      <td>...</td>\n",
              "      <td>...</td>\n",
              "      <td>...</td>\n",
              "      <td>...</td>\n",
              "      <td>...</td>\n",
              "      <td>...</td>\n",
              "      <td>...</td>\n",
              "      <td>...</td>\n",
              "      <td>...</td>\n",
              "      <td>...</td>\n",
              "      <td>...</td>\n",
              "      <td>...</td>\n",
              "      <td>...</td>\n",
              "      <td>...</td>\n",
              "      <td>...</td>\n",
              "      <td>...</td>\n",
              "      <td>...</td>\n",
              "      <td>...</td>\n",
              "      <td>...</td>\n",
              "      <td>...</td>\n",
              "      <td>...</td>\n",
              "      <td>...</td>\n",
              "      <td>...</td>\n",
              "      <td>...</td>\n",
              "      <td>...</td>\n",
              "      <td>...</td>\n",
              "      <td>...</td>\n",
              "      <td>...</td>\n",
              "      <td>...</td>\n",
              "      <td>...</td>\n",
              "      <td>...</td>\n",
              "      <td>...</td>\n",
              "      <td>...</td>\n",
              "      <td>...</td>\n",
              "      <td>...</td>\n",
              "      <td>...</td>\n",
              "      <td>...</td>\n",
              "      <td>...</td>\n",
              "      <td>...</td>\n",
              "      <td>...</td>\n",
              "      <td>...</td>\n",
              "      <td>...</td>\n",
              "      <td>...</td>\n",
              "      <td>...</td>\n",
              "      <td>...</td>\n",
              "      <td>...</td>\n",
              "      <td>...</td>\n",
              "      <td>...</td>\n",
              "      <td>...</td>\n",
              "      <td>...</td>\n",
              "      <td>...</td>\n",
              "      <td>...</td>\n",
              "      <td>...</td>\n",
              "      <td>...</td>\n",
              "      <td>...</td>\n",
              "      <td>...</td>\n",
              "      <td>...</td>\n",
              "      <td>...</td>\n",
              "      <td>...</td>\n",
              "      <td>...</td>\n",
              "    </tr>\n",
              "    <tr>\n",
              "      <th>23282</th>\n",
              "      <td>-0.358595</td>\n",
              "      <td>-0.045862</td>\n",
              "      <td>-0.022416</td>\n",
              "      <td>-0.455852</td>\n",
              "      <td>-6.735618</td>\n",
              "      <td>-2.500537</td>\n",
              "      <td>0.404775</td>\n",
              "      <td>-0.227535</td>\n",
              "      <td>-8.056285</td>\n",
              "      <td>-1.273453</td>\n",
              "      <td>0.956628</td>\n",
              "      <td>-1.416327</td>\n",
              "      <td>-0.869842</td>\n",
              "      <td>-2.412412</td>\n",
              "      <td>-4.792878</td>\n",
              "      <td>-1.376911</td>\n",
              "      <td>-2.367122</td>\n",
              "      <td>-5.817448</td>\n",
              "      <td>-3.822488</td>\n",
              "      <td>-3.892555</td>\n",
              "      <td>-2.482903</td>\n",
              "      <td>-2.219762</td>\n",
              "      <td>22.699406</td>\n",
              "      <td>-12.997268</td>\n",
              "      <td>-3.591467</td>\n",
              "      <td>-10.130545</td>\n",
              "      <td>-9.697846</td>\n",
              "      <td>-18.979242</td>\n",
              "      <td>-1.772405</td>\n",
              "      <td>-1.948169</td>\n",
              "      <td>-0.374071</td>\n",
              "      <td>-1.047108</td>\n",
              "      <td>2.219522</td>\n",
              "      <td>-0.982952</td>\n",
              "      <td>0.605273</td>\n",
              "      <td>1.099334</td>\n",
              "      <td>-0.523281</td>\n",
              "      <td>-4.595631</td>\n",
              "      <td>-7.629852</td>\n",
              "      <td>-1.4131</td>\n",
              "      <td>...</td>\n",
              "      <td>0.0</td>\n",
              "      <td>0.0</td>\n",
              "      <td>0.0</td>\n",
              "      <td>0.0</td>\n",
              "      <td>0.0</td>\n",
              "      <td>0.0</td>\n",
              "      <td>0.0</td>\n",
              "      <td>0.0</td>\n",
              "      <td>0.0</td>\n",
              "      <td>0.0</td>\n",
              "      <td>0.0</td>\n",
              "      <td>0.0</td>\n",
              "      <td>0.0</td>\n",
              "      <td>0.0</td>\n",
              "      <td>0.0</td>\n",
              "      <td>0.0</td>\n",
              "      <td>0.0</td>\n",
              "      <td>0.0</td>\n",
              "      <td>0.0</td>\n",
              "      <td>0.0</td>\n",
              "      <td>0.0</td>\n",
              "      <td>0.0</td>\n",
              "      <td>0.0</td>\n",
              "      <td>0.0</td>\n",
              "      <td>0.0</td>\n",
              "      <td>0.0</td>\n",
              "      <td>0.0</td>\n",
              "      <td>0.0</td>\n",
              "      <td>0.0</td>\n",
              "      <td>0.0</td>\n",
              "      <td>0.0</td>\n",
              "      <td>0.0</td>\n",
              "      <td>0.0</td>\n",
              "      <td>0.0</td>\n",
              "      <td>0.0</td>\n",
              "      <td>0.0</td>\n",
              "      <td>0.0</td>\n",
              "      <td>0.0</td>\n",
              "      <td>0.0</td>\n",
              "      <td>0.0</td>\n",
              "    </tr>\n",
              "    <tr>\n",
              "      <th>23283</th>\n",
              "      <td>0.761405</td>\n",
              "      <td>-0.045862</td>\n",
              "      <td>-0.022416</td>\n",
              "      <td>1.868148</td>\n",
              "      <td>2.842382</td>\n",
              "      <td>8.499463</td>\n",
              "      <td>-0.595225</td>\n",
              "      <td>-0.127535</td>\n",
              "      <td>-5.056285</td>\n",
              "      <td>-1.193453</td>\n",
              "      <td>-3.043372</td>\n",
              "      <td>-3.416327</td>\n",
              "      <td>-0.869842</td>\n",
              "      <td>-1.182412</td>\n",
              "      <td>-2.372878</td>\n",
              "      <td>-1.321911</td>\n",
              "      <td>-2.143122</td>\n",
              "      <td>-3.017448</td>\n",
              "      <td>-1.112488</td>\n",
              "      <td>-0.932555</td>\n",
              "      <td>-2.082903</td>\n",
              "      <td>-1.749762</td>\n",
              "      <td>-21.300594</td>\n",
              "      <td>16.702732</td>\n",
              "      <td>8.298533</td>\n",
              "      <td>-0.430545</td>\n",
              "      <td>-1.797846</td>\n",
              "      <td>-4.179242</td>\n",
              "      <td>-1.772405</td>\n",
              "      <td>-3.948169</td>\n",
              "      <td>-0.374071</td>\n",
              "      <td>-0.047108</td>\n",
              "      <td>-1.780478</td>\n",
              "      <td>10.017048</td>\n",
              "      <td>-2.394727</td>\n",
              "      <td>-2.830666</td>\n",
              "      <td>-0.523281</td>\n",
              "      <td>-1.815631</td>\n",
              "      <td>0.480148</td>\n",
              "      <td>-1.4131</td>\n",
              "      <td>...</td>\n",
              "      <td>0.0</td>\n",
              "      <td>0.0</td>\n",
              "      <td>0.0</td>\n",
              "      <td>0.0</td>\n",
              "      <td>0.0</td>\n",
              "      <td>0.0</td>\n",
              "      <td>0.0</td>\n",
              "      <td>0.0</td>\n",
              "      <td>0.0</td>\n",
              "      <td>0.0</td>\n",
              "      <td>0.0</td>\n",
              "      <td>0.0</td>\n",
              "      <td>0.0</td>\n",
              "      <td>0.0</td>\n",
              "      <td>0.0</td>\n",
              "      <td>0.0</td>\n",
              "      <td>0.0</td>\n",
              "      <td>0.0</td>\n",
              "      <td>0.0</td>\n",
              "      <td>0.0</td>\n",
              "      <td>0.0</td>\n",
              "      <td>0.0</td>\n",
              "      <td>0.0</td>\n",
              "      <td>0.0</td>\n",
              "      <td>0.0</td>\n",
              "      <td>0.0</td>\n",
              "      <td>0.0</td>\n",
              "      <td>0.0</td>\n",
              "      <td>0.0</td>\n",
              "      <td>0.0</td>\n",
              "      <td>0.0</td>\n",
              "      <td>0.0</td>\n",
              "      <td>0.0</td>\n",
              "      <td>0.0</td>\n",
              "      <td>0.0</td>\n",
              "      <td>0.0</td>\n",
              "      <td>0.0</td>\n",
              "      <td>0.0</td>\n",
              "      <td>0.0</td>\n",
              "      <td>0.0</td>\n",
              "    </tr>\n",
              "    <tr>\n",
              "      <th>23284</th>\n",
              "      <td>1.581405</td>\n",
              "      <td>-0.045862</td>\n",
              "      <td>-0.022416</td>\n",
              "      <td>-0.321852</td>\n",
              "      <td>-6.487618</td>\n",
              "      <td>-8.500537</td>\n",
              "      <td>-0.595225</td>\n",
              "      <td>-0.427535</td>\n",
              "      <td>-8.056285</td>\n",
              "      <td>2.506547</td>\n",
              "      <td>-1.043372</td>\n",
              "      <td>5.583673</td>\n",
              "      <td>4.130158</td>\n",
              "      <td>1.887588</td>\n",
              "      <td>5.167122</td>\n",
              "      <td>2.462089</td>\n",
              "      <td>5.435878</td>\n",
              "      <td>1.382552</td>\n",
              "      <td>2.127512</td>\n",
              "      <td>2.787445</td>\n",
              "      <td>3.467097</td>\n",
              "      <td>3.820238</td>\n",
              "      <td>18.699406</td>\n",
              "      <td>-9.297268</td>\n",
              "      <td>-5.157467</td>\n",
              "      <td>1.269455</td>\n",
              "      <td>2.202154</td>\n",
              "      <td>3.820758</td>\n",
              "      <td>-2.772405</td>\n",
              "      <td>5.051831</td>\n",
              "      <td>-0.374071</td>\n",
              "      <td>-0.047108</td>\n",
              "      <td>-1.780478</td>\n",
              "      <td>-4.982952</td>\n",
              "      <td>-0.394727</td>\n",
              "      <td>3.699334</td>\n",
              "      <td>1.656719</td>\n",
              "      <td>5.944369</td>\n",
              "      <td>9.280148</td>\n",
              "      <td>6.5669</td>\n",
              "      <td>...</td>\n",
              "      <td>0.0</td>\n",
              "      <td>0.0</td>\n",
              "      <td>0.0</td>\n",
              "      <td>0.0</td>\n",
              "      <td>0.0</td>\n",
              "      <td>0.0</td>\n",
              "      <td>0.0</td>\n",
              "      <td>0.0</td>\n",
              "      <td>0.0</td>\n",
              "      <td>0.0</td>\n",
              "      <td>0.0</td>\n",
              "      <td>0.0</td>\n",
              "      <td>0.0</td>\n",
              "      <td>0.0</td>\n",
              "      <td>0.0</td>\n",
              "      <td>0.0</td>\n",
              "      <td>0.0</td>\n",
              "      <td>0.0</td>\n",
              "      <td>0.0</td>\n",
              "      <td>0.0</td>\n",
              "      <td>0.0</td>\n",
              "      <td>0.0</td>\n",
              "      <td>0.0</td>\n",
              "      <td>0.0</td>\n",
              "      <td>0.0</td>\n",
              "      <td>0.0</td>\n",
              "      <td>0.0</td>\n",
              "      <td>0.0</td>\n",
              "      <td>0.0</td>\n",
              "      <td>0.0</td>\n",
              "      <td>0.0</td>\n",
              "      <td>0.0</td>\n",
              "      <td>0.0</td>\n",
              "      <td>0.0</td>\n",
              "      <td>0.0</td>\n",
              "      <td>0.0</td>\n",
              "      <td>0.0</td>\n",
              "      <td>0.0</td>\n",
              "      <td>0.0</td>\n",
              "      <td>0.0</td>\n",
              "    </tr>\n",
              "    <tr>\n",
              "      <th>23285</th>\n",
              "      <td>1.741405</td>\n",
              "      <td>-0.045862</td>\n",
              "      <td>-0.022416</td>\n",
              "      <td>1.328148</td>\n",
              "      <td>-0.297618</td>\n",
              "      <td>-2.500537</td>\n",
              "      <td>-0.595225</td>\n",
              "      <td>-0.227535</td>\n",
              "      <td>-8.056285</td>\n",
              "      <td>1.306547</td>\n",
              "      <td>-2.043372</td>\n",
              "      <td>2.583673</td>\n",
              "      <td>3.130158</td>\n",
              "      <td>2.187588</td>\n",
              "      <td>3.867122</td>\n",
              "      <td>2.202089</td>\n",
              "      <td>3.975878</td>\n",
              "      <td>-1.617448</td>\n",
              "      <td>1.427512</td>\n",
              "      <td>1.107445</td>\n",
              "      <td>2.337097</td>\n",
              "      <td>2.310238</td>\n",
              "      <td>16.699406</td>\n",
              "      <td>-1.897268</td>\n",
              "      <td>-1.121467</td>\n",
              "      <td>-2.230545</td>\n",
              "      <td>-1.697846</td>\n",
              "      <td>-3.679242</td>\n",
              "      <td>-3.772405</td>\n",
              "      <td>2.051831</td>\n",
              "      <td>-0.374071</td>\n",
              "      <td>-0.047108</td>\n",
              "      <td>-2.780478</td>\n",
              "      <td>-2.982952</td>\n",
              "      <td>-2.394727</td>\n",
              "      <td>3.359334</td>\n",
              "      <td>1.346719</td>\n",
              "      <td>3.444369</td>\n",
              "      <td>6.380148</td>\n",
              "      <td>5.3769</td>\n",
              "      <td>...</td>\n",
              "      <td>0.0</td>\n",
              "      <td>0.0</td>\n",
              "      <td>0.0</td>\n",
              "      <td>0.0</td>\n",
              "      <td>0.0</td>\n",
              "      <td>0.0</td>\n",
              "      <td>0.0</td>\n",
              "      <td>0.0</td>\n",
              "      <td>0.0</td>\n",
              "      <td>0.0</td>\n",
              "      <td>0.0</td>\n",
              "      <td>0.0</td>\n",
              "      <td>0.0</td>\n",
              "      <td>0.0</td>\n",
              "      <td>0.0</td>\n",
              "      <td>0.0</td>\n",
              "      <td>0.0</td>\n",
              "      <td>0.0</td>\n",
              "      <td>0.0</td>\n",
              "      <td>0.0</td>\n",
              "      <td>0.0</td>\n",
              "      <td>0.0</td>\n",
              "      <td>0.0</td>\n",
              "      <td>0.0</td>\n",
              "      <td>0.0</td>\n",
              "      <td>0.0</td>\n",
              "      <td>0.0</td>\n",
              "      <td>0.0</td>\n",
              "      <td>0.0</td>\n",
              "      <td>0.0</td>\n",
              "      <td>0.0</td>\n",
              "      <td>0.0</td>\n",
              "      <td>0.0</td>\n",
              "      <td>0.0</td>\n",
              "      <td>0.0</td>\n",
              "      <td>0.0</td>\n",
              "      <td>0.0</td>\n",
              "      <td>0.0</td>\n",
              "      <td>0.0</td>\n",
              "      <td>0.0</td>\n",
              "    </tr>\n",
              "    <tr>\n",
              "      <th>23286</th>\n",
              "      <td>-0.078595</td>\n",
              "      <td>-0.045862</td>\n",
              "      <td>-0.022416</td>\n",
              "      <td>1.758148</td>\n",
              "      <td>2.182382</td>\n",
              "      <td>3.499463</td>\n",
              "      <td>-0.595225</td>\n",
              "      <td>-0.127535</td>\n",
              "      <td>10.943715</td>\n",
              "      <td>0.806547</td>\n",
              "      <td>-3.043372</td>\n",
              "      <td>-2.416327</td>\n",
              "      <td>-0.869842</td>\n",
              "      <td>-0.842412</td>\n",
              "      <td>-0.962878</td>\n",
              "      <td>-0.767911</td>\n",
              "      <td>-1.234122</td>\n",
              "      <td>-2.817448</td>\n",
              "      <td>-0.892488</td>\n",
              "      <td>-0.472555</td>\n",
              "      <td>-1.262903</td>\n",
              "      <td>-1.049762</td>\n",
              "      <td>6.499406</td>\n",
              "      <td>-12.697268</td>\n",
              "      <td>2.188533</td>\n",
              "      <td>-0.930545</td>\n",
              "      <td>-1.897846</td>\n",
              "      <td>-1.579242</td>\n",
              "      <td>-0.772405</td>\n",
              "      <td>-2.948169</td>\n",
              "      <td>-0.374071</td>\n",
              "      <td>-1.047108</td>\n",
              "      <td>-4.780478</td>\n",
              "      <td>8.017048</td>\n",
              "      <td>-2.394727</td>\n",
              "      <td>-1.040666</td>\n",
              "      <td>-0.523281</td>\n",
              "      <td>1.344369</td>\n",
              "      <td>2.180148</td>\n",
              "      <td>-1.4131</td>\n",
              "      <td>...</td>\n",
              "      <td>1.0</td>\n",
              "      <td>1.0</td>\n",
              "      <td>1.0</td>\n",
              "      <td>0.0</td>\n",
              "      <td>1.0</td>\n",
              "      <td>0.0</td>\n",
              "      <td>0.0</td>\n",
              "      <td>1.0</td>\n",
              "      <td>1.0</td>\n",
              "      <td>0.0</td>\n",
              "      <td>0.0</td>\n",
              "      <td>0.0</td>\n",
              "      <td>0.0</td>\n",
              "      <td>0.0</td>\n",
              "      <td>0.0</td>\n",
              "      <td>1.0</td>\n",
              "      <td>0.0</td>\n",
              "      <td>0.0</td>\n",
              "      <td>1.0</td>\n",
              "      <td>0.0</td>\n",
              "      <td>0.0</td>\n",
              "      <td>1.0</td>\n",
              "      <td>0.0</td>\n",
              "      <td>1.0</td>\n",
              "      <td>1.0</td>\n",
              "      <td>1.0</td>\n",
              "      <td>1.0</td>\n",
              "      <td>1.0</td>\n",
              "      <td>1.0</td>\n",
              "      <td>0.0</td>\n",
              "      <td>0.0</td>\n",
              "      <td>1.0</td>\n",
              "      <td>0.0</td>\n",
              "      <td>1.0</td>\n",
              "      <td>1.0</td>\n",
              "      <td>1.0</td>\n",
              "      <td>0.0</td>\n",
              "      <td>1.0</td>\n",
              "      <td>0.0</td>\n",
              "      <td>0.0</td>\n",
              "    </tr>\n",
              "  </tbody>\n",
              "</table>\n",
              "<p>23287 rows × 3048 columns</p>\n",
              "</div>"
            ],
            "text/plain": [
              "              0         1         2         3  ...  3044  3045  3046  3047\n",
              "0      3.231405 -0.045862 -0.022416  2.188148  ...   0.0   0.0   0.0   0.0\n",
              "1     -2.338595 -0.045862 -0.022416 -1.591852  ...   0.0   0.0   0.0   0.0\n",
              "2      2.301405 -0.045862 -0.022416  3.398148  ...   0.0   0.0   0.0   0.0\n",
              "3     -5.378595 -0.045862 -0.022416 -2.451852  ...   0.0   0.0   0.0   0.0\n",
              "4      0.471405 -0.045862 -0.022416  0.558148  ...   0.0   0.0   0.0   0.0\n",
              "...         ...       ...       ...       ...  ...   ...   ...   ...   ...\n",
              "23282 -0.358595 -0.045862 -0.022416 -0.455852  ...   0.0   0.0   0.0   0.0\n",
              "23283  0.761405 -0.045862 -0.022416  1.868148  ...   0.0   0.0   0.0   0.0\n",
              "23284  1.581405 -0.045862 -0.022416 -0.321852  ...   0.0   0.0   0.0   0.0\n",
              "23285  1.741405 -0.045862 -0.022416  1.328148  ...   0.0   0.0   0.0   0.0\n",
              "23286 -0.078595 -0.045862 -0.022416  1.758148  ...   0.0   1.0   0.0   0.0\n",
              "\n",
              "[23287 rows x 3048 columns]"
            ]
          },
          "metadata": {
            "tags": []
          },
          "execution_count": 7
        }
      ]
    },
    {
      "cell_type": "markdown",
      "metadata": {
        "id": "UHOldWaZk8kf"
      },
      "source": [
        "Creating validation dataset. Using stratify option to ensure that there are an equal number of each class in both datasets."
      ]
    },
    {
      "cell_type": "code",
      "metadata": {
        "id": "wPx0MxyBjrPk"
      },
      "source": [
        "train_feat, val_feat, train_labels, val_labels = train_test_split(train_dataset, train_labels, test_size=0.3, stratify=train_labels, random_state=9032003)"
      ],
      "execution_count": null,
      "outputs": []
    },
    {
      "cell_type": "code",
      "metadata": {
        "colab": {
          "base_uri": "https://localhost:8080/"
        },
        "id": "lNm6liThCQvd",
        "outputId": "7200d34c-f3c1-4f6a-ba77-772ffe9bcd8e"
      },
      "source": [
        "train_feat.shape"
      ],
      "execution_count": null,
      "outputs": [
        {
          "output_type": "execute_result",
          "data": {
            "text/plain": [
              "(16300, 3048)"
            ]
          },
          "metadata": {
            "tags": []
          },
          "execution_count": 9
        }
      ]
    },
    {
      "cell_type": "markdown",
      "metadata": {
        "id": "gdyeSo2wxC8T"
      },
      "source": [
        "# Machine Learning Model\n"
      ]
    },
    {
      "cell_type": "markdown",
      "metadata": {
        "id": "NDBQCgCdzOoH"
      },
      "source": [
        "## Function Definitions\n"
      ]
    },
    {
      "cell_type": "code",
      "metadata": {
        "id": "09dmKBlpikVZ"
      },
      "source": [
        "def calc_metrics(train_labels=None, train_pred=None, test_labels=None, test_pred=None):\n",
        "  \"\"\"\n",
        "  Calculates and prints the Binary Crossentropy, AUC, and accuracy of a model.\n",
        "  \"\"\"\n",
        "  c = keras.metrics.BinaryCrossentropy()\n",
        "  test_loss = c(test_labels, test_pred).numpy()\n",
        "  if train_labels is not None:\n",
        "    train_loss = c(train_labels, train_pred).numpy()\n",
        "    print(f\"Train loss: {train_loss}\\nTest Loss: {test_loss}\")\n",
        "  else:\n",
        "    print(f\"Test Loss: {test_loss}\")\n",
        "\n",
        "  a = keras.metrics.AUC(num_thresholds=1000)\n",
        "  test_auc = a(test_labels, test_pred).numpy()\n",
        "  if train_labels is not None:\n",
        "    train_auc = a(train_labels, train_pred).numpy()\n",
        "    print(f\"\\nTrain auc: {train_auc}\\nTest auc: {test_auc}\")\n",
        "  else:\n",
        "    print(f\"Test auc: {test_auc}\")\n",
        "\n",
        "  acc = keras.metrics.BinaryAccuracy()\n",
        "  test_acc = acc(test_labels, test_pred).numpy()\n",
        "  if train_labels is not None:\n",
        "    train_acc = acc(train_labels, train_pred).numpy()\n",
        "    print(f\"\\nTrain acc: {train_acc}\\nTest acc: {test_acc}\")\n",
        "  else:\n",
        "    print(f\"Test acc: {test_acc}\")"
      ],
      "execution_count": null,
      "outputs": []
    },
    {
      "cell_type": "code",
      "metadata": {
        "id": "bus7XqhKwRPu"
      },
      "source": [
        "def check_acc_thresh(pred, labels, max_val=10):\n",
        "  \"\"\"\n",
        "  Calculates the accuracy of the model at different thresholds for the outputs and plots them\n",
        "  \"\"\"\n",
        "  accs = []\n",
        "  for t in [0.1*j for j in range(1, max_val+1)]:\n",
        "    acc = keras.metrics.BinaryAccuracy(threshold=t)\n",
        "    accs.append(acc(labels, pred).numpy())\n",
        "\n",
        "  plt.title('Accuracy vs Accuracy Threshold')\n",
        "  plt.ylabel('Accuracy')\n",
        "  plt.xlabel('Threshold')\n",
        "  plt.plot([10*j for j in range(1, max_val+1)], accs)\n",
        "  plt.show()\n",
        "  print(f\"Maximum accuracy: {max(accs)} at a threshold of {10*(accs.index(max(accs))+1)}\")"
      ],
      "execution_count": null,
      "outputs": []
    },
    {
      "cell_type": "code",
      "metadata": {
        "id": "LapvKJL3orYK"
      },
      "source": [
        "def create_dataset(feat, labels, batch_size):\n",
        "  ds = tf.data.Dataset.from_tensor_slices((feat, labels))\n",
        "  ds = ds.repeat().shuffle(feat.shape[0]).batch(batch_size).prefetch(1)\n",
        "  return ds\n",
        "\n",
        "compute_steps_per_epoch = lambda x, b: int(math.ceil(x / b))\n",
        "reshape_cnn_data = lambda ds: ds.to_numpy().reshape((ds.shape[0], ds.shape[1], 1))"
      ],
      "execution_count": null,
      "outputs": []
    },
    {
      "cell_type": "code",
      "metadata": {
        "id": "hKunmZUmqeRB"
      },
      "source": [
        "def roc_plot(feat, labels, model=None, pred=None, title=None, file_path=None, format='png'):\n",
        "  \"\"\"\n",
        "  plots the roc curve of a keras model\n",
        "  \"\"\"\n",
        "  if pred is None:\n",
        "    pred = model.predict(feat).ravel()\n",
        "  \n",
        "  fpr, tpr, thresh = roc_curve(labels, pred)\n",
        "  auc = roc_auc_score(labels, pred)\n",
        "  plt.plot(fpr, tpr)\n",
        "  if title is not None:\n",
        "    plt.title(title)\n",
        "  plt.legend(['AUC = %0.2f' % auc], loc='lower right')\n",
        "  if file_path is not None:\n",
        "    plt.savefig(file_path, dpi=1200, format=format)\n",
        "  plt.show()"
      ],
      "execution_count": null,
      "outputs": []
    },
    {
      "cell_type": "markdown",
      "metadata": {
        "id": "UqfG0k6dfARb"
      },
      "source": [
        "## Neural Network"
      ]
    },
    {
      "cell_type": "markdown",
      "metadata": {
        "id": "StDL1Ks4dm5T"
      },
      "source": [
        "Creating datasets with dataset api"
      ]
    },
    {
      "cell_type": "code",
      "metadata": {
        "id": "1IGRxZZfq1XN"
      },
      "source": [
        "keras.backend.clear_session()"
      ],
      "execution_count": null,
      "outputs": []
    },
    {
      "cell_type": "code",
      "metadata": {
        "id": "rP8vnKUof5U0"
      },
      "source": [
        "batch_size=32\n",
        "train_ds = create_dataset(train_feat, train_labels, batch_size=batch_size)\n",
        "val_ds = create_dataset(val_feat, val_labels, batch_size=batch_size)"
      ],
      "execution_count": null,
      "outputs": []
    },
    {
      "cell_type": "code",
      "metadata": {
        "id": "ZeysUQXkicIc"
      },
      "source": [
        "# building the DNN model\n",
        "model = keras.Sequential(name='DNN')\n",
        "model.add(keras.layers.InputLayer(input_shape=(train_feat.shape[1],)))\n",
        "model.add(Dense(\n",
        "    4096, activation='relu', kernel_regularizer=keras.regularizers.l2(l2=0.01)\n",
        "))\n",
        "model.add(Dropout(0.5))\n",
        "model.add(Dense(\n",
        "    4096, activation='relu', kernel_regularizer=keras.regularizers.l2(l2=0.01)\n",
        "))\n",
        "model.add(Dropout(0.5))\n",
        "model.add(Dense(1, activation='sigmoid', name='output'))\n",
        "\n",
        "# compiling the model\n",
        "model.compile(\n",
        "  loss='binary_crossentropy', \n",
        "  optimizer=keras.optimizers.Adam(learning_rate=0.00001), \n",
        "  metrics=[keras.metrics.AUC(num_thresholds=500), keras.metrics.BinaryAccuracy(threshold=0.5)],\n",
        ")\n",
        "\n",
        "#keras.utils.plot_model(model, to_file=\"dnn_model.png\", show_layer_names=False, dpi=1500)"
      ],
      "execution_count": null,
      "outputs": []
    },
    {
      "cell_type": "code",
      "metadata": {
        "id": "hPlymahsLv43"
      },
      "source": [
        "# building the CNN model\n",
        "model2 = keras.Sequential(name='CNN')\n",
        "model2.add(keras.Input(shape=(train_feat.shape[1], 1), name='Input'))\n",
        "model2.add(Conv1D(16, 3, strides=1, padding='same', activation='relu', kernel_regularizer=l2(0.01)))\n",
        "model2.add(BatchNormalization())\n",
        "model2.add(MaxPooling1D(2))\n",
        "model2.add(Conv1D(32, 3, strides=1, padding='same', activation='relu', kernel_regularizer=l2(0.01)))\n",
        "model2.add(BatchNormalization())\n",
        "model2.add(MaxPooling1D(2))\n",
        "model2.add(Conv1D(64, 3, strides=1, padding='same', activation='relu', kernel_regularizer=l2(0.01)))\n",
        "model2.add(BatchNormalization())\n",
        "model2.add(MaxPooling1D(2))\n",
        "model2.add(Flatten())\n",
        "model2.add(Dropout(0.5))\n",
        "model2.add(Dense(\n",
        "    2048, activation='relu', kernel_regularizer=keras.regularizers.l2(l2=0.01)\n",
        "))\n",
        "model2.add(Dropout(0.5))\n",
        "model2.add(Dense(1, activation='sigmoid', name='output'))\n",
        "\n",
        "# compiling the model\n",
        "model2.compile(\n",
        "  loss='binary_crossentropy', \n",
        "  optimizer=keras.optimizers.Adam(learning_rate=0.00001), \n",
        "  metrics=[keras.metrics.AUC(num_thresholds=500), keras.metrics.BinaryAccuracy(threshold=0.5)]\n",
        ")\n",
        "\n",
        "keras.utils.plot_model(model2, to_file=\"cnn_model.jpg\", show_layer_names=False, dpi=1500)"
      ],
      "execution_count": null,
      "outputs": []
    },
    {
      "cell_type": "code",
      "metadata": {
        "id": "eRtDTeHmLPJ0"
      },
      "source": [
        "# stopping the training early if the validation loss does not increase for over 3 epochs\n",
        "callback = [\n",
        "            tf.keras.callbacks.EarlyStopping(monitor='val_loss', patience=5),\n",
        "            # tf.keras.callbacks.TensorBoard(log_dir='./logs')\n",
        "]"
      ],
      "execution_count": null,
      "outputs": []
    },
    {
      "cell_type": "code",
      "metadata": {
        "colab": {
          "base_uri": "https://localhost:8080/"
        },
        "id": "BnbehBOS8DrG",
        "outputId": "4c1df635-db43-42d5-f2b4-d1f157233648"
      },
      "source": [
        "history = model.fit(\n",
        "    train_ds,\n",
        "    steps_per_epoch=compute_steps_per_epoch(train_feat.shape[0], batch_size),\n",
        "    epochs=200,\n",
        "    validation_data=val_ds,\n",
        "    validation_steps=compute_steps_per_epoch(val_feat.shape[0], batch_size),\n",
        "    callbacks=[callback],\n",
        ")"
      ],
      "execution_count": null,
      "outputs": [
        {
          "output_type": "stream",
          "text": [
            "Epoch 1/200\n",
            "510/510 [==============================] - 10s 18ms/step - loss: 77.3165 - auc_1: 0.5521 - binary_accuracy: 0.5406 - val_loss: 70.8958 - val_auc_1: 0.7640 - val_binary_accuracy: 0.6898\n",
            "Epoch 2/200\n",
            "510/510 [==============================] - 9s 17ms/step - loss: 70.4793 - auc_1: 0.6463 - binary_accuracy: 0.6087 - val_loss: 65.4010 - val_auc_1: 0.8120 - val_binary_accuracy: 0.7451\n",
            "Epoch 3/200\n",
            "510/510 [==============================] - 9s 17ms/step - loss: 65.1292 - auc_1: 0.6910 - binary_accuracy: 0.6497 - val_loss: 60.9592 - val_auc_1: 0.8203 - val_binary_accuracy: 0.7543\n",
            "Epoch 4/200\n",
            "510/510 [==============================] - 9s 17ms/step - loss: 60.5544 - auc_1: 0.7198 - binary_accuracy: 0.6694 - val_loss: 56.8956 - val_auc_1: 0.8366 - val_binary_accuracy: 0.7711\n",
            "Epoch 5/200\n",
            "510/510 [==============================] - 9s 17ms/step - loss: 56.7062 - auc_1: 0.7213 - binary_accuracy: 0.6706 - val_loss: 53.4886 - val_auc_1: 0.8270 - val_binary_accuracy: 0.7660\n",
            "Epoch 6/200\n",
            "510/510 [==============================] - 9s 17ms/step - loss: 53.1804 - auc_1: 0.7511 - binary_accuracy: 0.6951 - val_loss: 50.4288 - val_auc_1: 0.8422 - val_binary_accuracy: 0.7608\n",
            "Epoch 7/200\n",
            "510/510 [==============================] - 9s 17ms/step - loss: 50.1476 - auc_1: 0.7540 - binary_accuracy: 0.6984 - val_loss: 47.6422 - val_auc_1: 0.8516 - val_binary_accuracy: 0.7877\n",
            "Epoch 8/200\n",
            "510/510 [==============================] - 9s 17ms/step - loss: 47.4554 - auc_1: 0.7571 - binary_accuracy: 0.6986 - val_loss: 45.1997 - val_auc_1: 0.8497 - val_binary_accuracy: 0.7842\n",
            "Epoch 9/200\n",
            "510/510 [==============================] - 9s 17ms/step - loss: 44.9537 - auc_1: 0.7692 - binary_accuracy: 0.7100 - val_loss: 42.9051 - val_auc_1: 0.8553 - val_binary_accuracy: 0.7858\n",
            "Epoch 10/200\n",
            "510/510 [==============================] - 9s 17ms/step - loss: 42.6601 - auc_1: 0.7824 - binary_accuracy: 0.7275 - val_loss: 40.7700 - val_auc_1: 0.8594 - val_binary_accuracy: 0.7902\n",
            "Epoch 11/200\n",
            "510/510 [==============================] - 9s 17ms/step - loss: 40.5712 - auc_1: 0.7833 - binary_accuracy: 0.7229 - val_loss: 38.8411 - val_auc_1: 0.8521 - val_binary_accuracy: 0.7868\n",
            "Epoch 12/200\n",
            "510/510 [==============================] - 9s 17ms/step - loss: 38.5800 - auc_1: 0.7932 - binary_accuracy: 0.7305 - val_loss: 36.9763 - val_auc_1: 0.8560 - val_binary_accuracy: 0.7890\n",
            "Epoch 13/200\n",
            "510/510 [==============================] - 9s 17ms/step - loss: 36.6732 - auc_1: 0.8060 - binary_accuracy: 0.7392 - val_loss: 35.1505 - val_auc_1: 0.8572 - val_binary_accuracy: 0.7882\n",
            "Epoch 14/200\n",
            "510/510 [==============================] - 9s 17ms/step - loss: 34.8823 - auc_1: 0.8055 - binary_accuracy: 0.7416 - val_loss: 33.4235 - val_auc_1: 0.8676 - val_binary_accuracy: 0.7955\n",
            "Epoch 15/200\n",
            "510/510 [==============================] - 9s 17ms/step - loss: 33.1597 - auc_1: 0.8141 - binary_accuracy: 0.7519 - val_loss: 31.7718 - val_auc_1: 0.8698 - val_binary_accuracy: 0.7949\n",
            "Epoch 16/200\n",
            "510/510 [==============================] - 9s 17ms/step - loss: 31.4809 - auc_1: 0.8226 - binary_accuracy: 0.7556 - val_loss: 30.2117 - val_auc_1: 0.8549 - val_binary_accuracy: 0.7835\n",
            "Epoch 17/200\n",
            "510/510 [==============================] - 9s 17ms/step - loss: 29.8858 - auc_1: 0.8279 - binary_accuracy: 0.7636 - val_loss: 28.6569 - val_auc_1: 0.8633 - val_binary_accuracy: 0.7890\n",
            "Epoch 18/200\n",
            "510/510 [==============================] - 9s 17ms/step - loss: 28.3458 - auc_1: 0.8316 - binary_accuracy: 0.7650 - val_loss: 27.1593 - val_auc_1: 0.8661 - val_binary_accuracy: 0.7947\n",
            "Epoch 19/200\n",
            "510/510 [==============================] - 9s 17ms/step - loss: 26.8917 - auc_1: 0.8287 - binary_accuracy: 0.7625 - val_loss: 25.7487 - val_auc_1: 0.8609 - val_binary_accuracy: 0.7828\n",
            "Epoch 20/200\n",
            "510/510 [==============================] - 9s 17ms/step - loss: 25.4427 - auc_1: 0.8386 - binary_accuracy: 0.7698 - val_loss: 24.3513 - val_auc_1: 0.8688 - val_binary_accuracy: 0.7944\n",
            "Epoch 21/200\n",
            "510/510 [==============================] - 9s 17ms/step - loss: 24.0670 - auc_1: 0.8432 - binary_accuracy: 0.7792 - val_loss: 23.0256 - val_auc_1: 0.8706 - val_binary_accuracy: 0.7988\n",
            "Epoch 22/200\n",
            "510/510 [==============================] - 9s 17ms/step - loss: 22.7427 - auc_1: 0.8472 - binary_accuracy: 0.7762 - val_loss: 21.7623 - val_auc_1: 0.8684 - val_binary_accuracy: 0.7974\n",
            "Epoch 23/200\n",
            "510/510 [==============================] - 9s 17ms/step - loss: 21.4902 - auc_1: 0.8486 - binary_accuracy: 0.7804 - val_loss: 20.5418 - val_auc_1: 0.8730 - val_binary_accuracy: 0.7965\n",
            "Epoch 24/200\n",
            "510/510 [==============================] - 9s 17ms/step - loss: 20.2967 - auc_1: 0.8498 - binary_accuracy: 0.7868 - val_loss: 19.3874 - val_auc_1: 0.8738 - val_binary_accuracy: 0.7957\n",
            "Epoch 25/200\n",
            "510/510 [==============================] - 9s 17ms/step - loss: 19.1428 - auc_1: 0.8536 - binary_accuracy: 0.7809 - val_loss: 18.2787 - val_auc_1: 0.8803 - val_binary_accuracy: 0.8064\n",
            "Epoch 26/200\n",
            "510/510 [==============================] - 9s 17ms/step - loss: 18.0369 - auc_1: 0.8584 - binary_accuracy: 0.7830 - val_loss: 17.2458 - val_auc_1: 0.8690 - val_binary_accuracy: 0.7951\n",
            "Epoch 27/200\n",
            "510/510 [==============================] - 9s 17ms/step - loss: 16.9984 - auc_1: 0.8619 - binary_accuracy: 0.7873 - val_loss: 16.2332 - val_auc_1: 0.8775 - val_binary_accuracy: 0.7984\n",
            "Epoch 28/200\n",
            "510/510 [==============================] - 9s 17ms/step - loss: 16.0049 - auc_1: 0.8682 - binary_accuracy: 0.7967 - val_loss: 15.2842 - val_auc_1: 0.8812 - val_binary_accuracy: 0.8072\n",
            "Epoch 29/200\n",
            "510/510 [==============================] - 9s 17ms/step - loss: 15.0811 - auc_1: 0.8610 - binary_accuracy: 0.7857 - val_loss: 14.3902 - val_auc_1: 0.8769 - val_binary_accuracy: 0.7982\n",
            "Epoch 30/200\n",
            "510/510 [==============================] - 9s 17ms/step - loss: 14.1896 - auc_1: 0.8705 - binary_accuracy: 0.7931 - val_loss: 13.5691 - val_auc_1: 0.8671 - val_binary_accuracy: 0.7898\n",
            "Epoch 31/200\n",
            "510/510 [==============================] - 9s 17ms/step - loss: 13.3649 - auc_1: 0.8692 - binary_accuracy: 0.7935 - val_loss: 12.7722 - val_auc_1: 0.8778 - val_binary_accuracy: 0.7995\n",
            "Epoch 32/200\n",
            "510/510 [==============================] - 9s 17ms/step - loss: 12.5877 - auc_1: 0.8685 - binary_accuracy: 0.7915 - val_loss: 12.0322 - val_auc_1: 0.8733 - val_binary_accuracy: 0.7965\n",
            "Epoch 33/200\n",
            "510/510 [==============================] - 9s 17ms/step - loss: 11.8426 - auc_1: 0.8785 - binary_accuracy: 0.8017 - val_loss: 11.3365 - val_auc_1: 0.8713 - val_binary_accuracy: 0.7930\n",
            "Epoch 34/200\n",
            "510/510 [==============================] - 9s 17ms/step - loss: 11.1631 - auc_1: 0.8757 - binary_accuracy: 0.8002 - val_loss: 10.6679 - val_auc_1: 0.8863 - val_binary_accuracy: 0.8055\n",
            "Epoch 35/200\n",
            "510/510 [==============================] - 9s 17ms/step - loss: 10.5144 - auc_1: 0.8824 - binary_accuracy: 0.8077 - val_loss: 10.0495 - val_auc_1: 0.8949 - val_binary_accuracy: 0.8124\n",
            "Epoch 36/200\n",
            "510/510 [==============================] - 9s 17ms/step - loss: 9.9158 - auc_1: 0.8783 - binary_accuracy: 0.7975 - val_loss: 9.4938 - val_auc_1: 0.8779 - val_binary_accuracy: 0.7988\n",
            "Epoch 37/200\n",
            "510/510 [==============================] - 9s 17ms/step - loss: 9.3694 - auc_1: 0.8746 - binary_accuracy: 0.7935 - val_loss: 8.9474 - val_auc_1: 0.8922 - val_binary_accuracy: 0.8181\n",
            "Epoch 38/200\n",
            "510/510 [==============================] - 9s 17ms/step - loss: 8.8306 - auc_1: 0.8810 - binary_accuracy: 0.8021 - val_loss: 8.4491 - val_auc_1: 0.8869 - val_binary_accuracy: 0.8118\n",
            "Epoch 39/200\n",
            "510/510 [==============================] - 9s 17ms/step - loss: 8.3085 - auc_1: 0.8943 - binary_accuracy: 0.8172 - val_loss: 7.9583 - val_auc_1: 0.8945 - val_binary_accuracy: 0.8189\n",
            "Epoch 40/200\n",
            "510/510 [==============================] - 9s 17ms/step - loss: 7.8508 - auc_1: 0.8869 - binary_accuracy: 0.8094 - val_loss: 7.5313 - val_auc_1: 0.8826 - val_binary_accuracy: 0.7988\n",
            "Epoch 41/200\n",
            "510/510 [==============================] - 9s 17ms/step - loss: 7.4143 - auc_1: 0.8865 - binary_accuracy: 0.8074 - val_loss: 7.1296 - val_auc_1: 0.8691 - val_binary_accuracy: 0.7958\n",
            "Epoch 42/200\n",
            "510/510 [==============================] - 9s 17ms/step - loss: 7.0098 - auc_1: 0.8844 - binary_accuracy: 0.8098 - val_loss: 6.7104 - val_auc_1: 0.8887 - val_binary_accuracy: 0.8075\n",
            "Epoch 43/200\n",
            "510/510 [==============================] - 9s 17ms/step - loss: 6.6235 - auc_1: 0.8880 - binary_accuracy: 0.8126 - val_loss: 6.3524 - val_auc_1: 0.8884 - val_binary_accuracy: 0.8126\n",
            "Epoch 44/200\n",
            "510/510 [==============================] - 9s 17ms/step - loss: 6.2515 - auc_1: 0.8949 - binary_accuracy: 0.8177 - val_loss: 6.0087 - val_auc_1: 0.8905 - val_binary_accuracy: 0.8154\n",
            "Epoch 45/200\n",
            "510/510 [==============================] - 9s 17ms/step - loss: 5.9191 - auc_1: 0.8940 - binary_accuracy: 0.8211 - val_loss: 5.6969 - val_auc_1: 0.8843 - val_binary_accuracy: 0.8048\n",
            "Epoch 46/200\n",
            "510/510 [==============================] - 9s 17ms/step - loss: 5.6026 - auc_1: 0.8980 - binary_accuracy: 0.8215 - val_loss: 5.3874 - val_auc_1: 0.8935 - val_binary_accuracy: 0.8162\n",
            "Epoch 47/200\n",
            "510/510 [==============================] - 9s 17ms/step - loss: 5.3081 - auc_1: 0.8978 - binary_accuracy: 0.8212 - val_loss: 5.0985 - val_auc_1: 0.8995 - val_binary_accuracy: 0.8108\n",
            "Epoch 48/200\n",
            "510/510 [==============================] - 9s 17ms/step - loss: 5.0309 - auc_1: 0.8994 - binary_accuracy: 0.8228 - val_loss: 4.8644 - val_auc_1: 0.8830 - val_binary_accuracy: 0.8015\n",
            "Epoch 49/200\n",
            "510/510 [==============================] - 9s 17ms/step - loss: 4.7693 - auc_1: 0.9018 - binary_accuracy: 0.8241 - val_loss: 4.6005 - val_auc_1: 0.8948 - val_binary_accuracy: 0.8191\n",
            "Epoch 50/200\n",
            "510/510 [==============================] - 9s 17ms/step - loss: 4.5301 - auc_1: 0.9014 - binary_accuracy: 0.8238 - val_loss: 4.3710 - val_auc_1: 0.8936 - val_binary_accuracy: 0.8146\n",
            "Epoch 51/200\n",
            "510/510 [==============================] - 9s 17ms/step - loss: 4.3066 - auc_1: 0.9022 - binary_accuracy: 0.8283 - val_loss: 4.1615 - val_auc_1: 0.8943 - val_binary_accuracy: 0.8193\n",
            "Epoch 52/200\n",
            "510/510 [==============================] - 9s 17ms/step - loss: 4.0770 - auc_1: 0.9109 - binary_accuracy: 0.8344 - val_loss: 3.9572 - val_auc_1: 0.9002 - val_binary_accuracy: 0.8135\n",
            "Epoch 53/200\n",
            "510/510 [==============================] - 9s 17ms/step - loss: 3.8882 - auc_1: 0.9066 - binary_accuracy: 0.8289 - val_loss: 3.7756 - val_auc_1: 0.8918 - val_binary_accuracy: 0.8104\n",
            "Epoch 54/200\n",
            "510/510 [==============================] - 9s 17ms/step - loss: 3.7092 - auc_1: 0.9051 - binary_accuracy: 0.8301 - val_loss: 3.5852 - val_auc_1: 0.9002 - val_binary_accuracy: 0.8192\n",
            "Epoch 55/200\n",
            "510/510 [==============================] - 9s 17ms/step - loss: 3.5169 - auc_1: 0.9141 - binary_accuracy: 0.8416 - val_loss: 3.4354 - val_auc_1: 0.8929 - val_binary_accuracy: 0.8086\n",
            "Epoch 56/200\n",
            "510/510 [==============================] - 9s 17ms/step - loss: 3.3557 - auc_1: 0.9129 - binary_accuracy: 0.8329 - val_loss: 3.2811 - val_auc_1: 0.8952 - val_binary_accuracy: 0.8185\n",
            "Epoch 57/200\n",
            "510/510 [==============================] - 9s 17ms/step - loss: 3.2022 - auc_1: 0.9118 - binary_accuracy: 0.8310 - val_loss: 3.1184 - val_auc_1: 0.8993 - val_binary_accuracy: 0.8162\n",
            "Epoch 58/200\n",
            "510/510 [==============================] - 9s 17ms/step - loss: 3.0680 - auc_1: 0.9101 - binary_accuracy: 0.8370 - val_loss: 2.9903 - val_auc_1: 0.8948 - val_binary_accuracy: 0.8149\n",
            "Epoch 59/200\n",
            "510/510 [==============================] - 9s 17ms/step - loss: 2.9180 - auc_1: 0.9157 - binary_accuracy: 0.8378 - val_loss: 2.8589 - val_auc_1: 0.9000 - val_binary_accuracy: 0.8136\n",
            "Epoch 60/200\n",
            "510/510 [==============================] - 9s 17ms/step - loss: 2.7824 - auc_1: 0.9197 - binary_accuracy: 0.8411 - val_loss: 2.7442 - val_auc_1: 0.8939 - val_binary_accuracy: 0.8152\n",
            "Epoch 61/200\n",
            "510/510 [==============================] - 9s 17ms/step - loss: 2.6780 - auc_1: 0.9122 - binary_accuracy: 0.8362 - val_loss: 2.6080 - val_auc_1: 0.9036 - val_binary_accuracy: 0.8223\n",
            "Epoch 62/200\n",
            "510/510 [==============================] - 9s 17ms/step - loss: 2.5543 - auc_1: 0.9172 - binary_accuracy: 0.8399 - val_loss: 2.4982 - val_auc_1: 0.9054 - val_binary_accuracy: 0.8263\n",
            "Epoch 63/200\n",
            "510/510 [==============================] - 9s 17ms/step - loss: 2.4435 - auc_1: 0.9187 - binary_accuracy: 0.8400 - val_loss: 2.4264 - val_auc_1: 0.8973 - val_binary_accuracy: 0.8091\n",
            "Epoch 64/200\n",
            "510/510 [==============================] - 9s 17ms/step - loss: 2.3295 - auc_1: 0.9254 - binary_accuracy: 0.8479 - val_loss: 2.2903 - val_auc_1: 0.9111 - val_binary_accuracy: 0.8320\n",
            "Epoch 65/200\n",
            "510/510 [==============================] - 9s 17ms/step - loss: 2.2435 - auc_1: 0.9219 - binary_accuracy: 0.8455 - val_loss: 2.2096 - val_auc_1: 0.9073 - val_binary_accuracy: 0.8333\n",
            "Epoch 66/200\n",
            "510/510 [==============================] - 9s 17ms/step - loss: 2.1639 - auc_1: 0.9187 - binary_accuracy: 0.8454 - val_loss: 2.1383 - val_auc_1: 0.9020 - val_binary_accuracy: 0.8196\n",
            "Epoch 67/200\n",
            "510/510 [==============================] - 9s 17ms/step - loss: 2.0575 - auc_1: 0.9281 - binary_accuracy: 0.8471 - val_loss: 2.0418 - val_auc_1: 0.9086 - val_binary_accuracy: 0.8302\n",
            "Epoch 68/200\n",
            "510/510 [==============================] - 9s 17ms/step - loss: 1.9891 - auc_1: 0.9246 - binary_accuracy: 0.8526 - val_loss: 1.9700 - val_auc_1: 0.9090 - val_binary_accuracy: 0.8320\n",
            "Epoch 69/200\n",
            "510/510 [==============================] - 9s 17ms/step - loss: 1.9222 - auc_1: 0.9213 - binary_accuracy: 0.8483 - val_loss: 1.8957 - val_auc_1: 0.9096 - val_binary_accuracy: 0.8311\n",
            "Epoch 70/200\n",
            "510/510 [==============================] - 9s 17ms/step - loss: 1.8463 - auc_1: 0.9236 - binary_accuracy: 0.8460 - val_loss: 1.8307 - val_auc_1: 0.9089 - val_binary_accuracy: 0.8336\n",
            "Epoch 71/200\n",
            "510/510 [==============================] - 9s 17ms/step - loss: 1.7649 - auc_1: 0.9309 - binary_accuracy: 0.8570 - val_loss: 1.7805 - val_auc_1: 0.9030 - val_binary_accuracy: 0.8252\n",
            "Epoch 72/200\n",
            "510/510 [==============================] - 9s 17ms/step - loss: 1.7146 - auc_1: 0.9271 - binary_accuracy: 0.8484 - val_loss: 1.7078 - val_auc_1: 0.9092 - val_binary_accuracy: 0.8323\n",
            "Epoch 73/200\n",
            "510/510 [==============================] - 9s 17ms/step - loss: 1.6390 - auc_1: 0.9337 - binary_accuracy: 0.8556 - val_loss: 1.6520 - val_auc_1: 0.9098 - val_binary_accuracy: 0.8271\n",
            "Epoch 74/200\n",
            "510/510 [==============================] - 9s 17ms/step - loss: 1.5960 - auc_1: 0.9290 - binary_accuracy: 0.8565 - val_loss: 1.6096 - val_auc_1: 0.9088 - val_binary_accuracy: 0.8251\n",
            "Epoch 75/200\n",
            "510/510 [==============================] - 9s 17ms/step - loss: 1.5343 - auc_1: 0.9330 - binary_accuracy: 0.8572 - val_loss: 1.5523 - val_auc_1: 0.9103 - val_binary_accuracy: 0.8303\n",
            "Epoch 76/200\n",
            "510/510 [==============================] - 9s 17ms/step - loss: 1.4880 - auc_1: 0.9320 - binary_accuracy: 0.8529 - val_loss: 1.5218 - val_auc_1: 0.9056 - val_binary_accuracy: 0.8253\n",
            "Epoch 77/200\n",
            "510/510 [==============================] - 9s 17ms/step - loss: 1.4316 - auc_1: 0.9363 - binary_accuracy: 0.8628 - val_loss: 1.4602 - val_auc_1: 0.9104 - val_binary_accuracy: 0.8309\n",
            "Epoch 78/200\n",
            "510/510 [==============================] - 9s 17ms/step - loss: 1.3916 - auc_1: 0.9344 - binary_accuracy: 0.8541 - val_loss: 1.4143 - val_auc_1: 0.9121 - val_binary_accuracy: 0.8330\n",
            "Epoch 79/200\n",
            "510/510 [==============================] - 9s 17ms/step - loss: 1.3453 - auc_1: 0.9376 - binary_accuracy: 0.8664 - val_loss: 1.3783 - val_auc_1: 0.9110 - val_binary_accuracy: 0.8323\n",
            "Epoch 80/200\n",
            "510/510 [==============================] - 9s 17ms/step - loss: 1.3188 - auc_1: 0.9313 - binary_accuracy: 0.8509 - val_loss: 1.3476 - val_auc_1: 0.9090 - val_binary_accuracy: 0.8336\n",
            "Epoch 81/200\n",
            "510/510 [==============================] - 9s 17ms/step - loss: 1.2587 - auc_1: 0.9414 - binary_accuracy: 0.8693 - val_loss: 1.3001 - val_auc_1: 0.9137 - val_binary_accuracy: 0.8333\n",
            "Epoch 82/200\n",
            "510/510 [==============================] - 9s 17ms/step - loss: 1.2393 - auc_1: 0.9360 - binary_accuracy: 0.8615 - val_loss: 1.2685 - val_auc_1: 0.9137 - val_binary_accuracy: 0.8338\n",
            "Epoch 83/200\n",
            "510/510 [==============================] - 9s 17ms/step - loss: 1.1881 - auc_1: 0.9429 - binary_accuracy: 0.8695 - val_loss: 1.2481 - val_auc_1: 0.9091 - val_binary_accuracy: 0.8325\n",
            "Epoch 84/200\n",
            "510/510 [==============================] - 9s 17ms/step - loss: 1.1729 - auc_1: 0.9366 - binary_accuracy: 0.8602 - val_loss: 1.2074 - val_auc_1: 0.9134 - val_binary_accuracy: 0.8306\n",
            "Epoch 85/200\n",
            "510/510 [==============================] - 9s 17ms/step - loss: 1.1251 - auc_1: 0.9434 - binary_accuracy: 0.8712 - val_loss: 1.1909 - val_auc_1: 0.9123 - val_binary_accuracy: 0.8363\n",
            "Epoch 86/200\n",
            "510/510 [==============================] - 9s 17ms/step - loss: 1.0949 - auc_1: 0.9446 - binary_accuracy: 0.8703 - val_loss: 1.1557 - val_auc_1: 0.9119 - val_binary_accuracy: 0.8329\n",
            "Epoch 87/200\n",
            "510/510 [==============================] - 9s 17ms/step - loss: 1.0805 - auc_1: 0.9401 - binary_accuracy: 0.8644 - val_loss: 1.1317 - val_auc_1: 0.9124 - val_binary_accuracy: 0.8370\n",
            "Epoch 88/200\n",
            "510/510 [==============================] - 9s 17ms/step - loss: 1.0561 - auc_1: 0.9402 - binary_accuracy: 0.8659 - val_loss: 1.0951 - val_auc_1: 0.9172 - val_binary_accuracy: 0.8409\n",
            "Epoch 89/200\n",
            "510/510 [==============================] - 9s 17ms/step - loss: 1.0083 - auc_1: 0.9490 - binary_accuracy: 0.8742 - val_loss: 1.0624 - val_auc_1: 0.9218 - val_binary_accuracy: 0.8430\n",
            "Epoch 90/200\n",
            "510/510 [==============================] - 9s 17ms/step - loss: 0.9970 - auc_1: 0.9451 - binary_accuracy: 0.8693 - val_loss: 1.0591 - val_auc_1: 0.9147 - val_binary_accuracy: 0.8416\n",
            "Epoch 91/200\n",
            "510/510 [==============================] - 9s 17ms/step - loss: 0.9712 - auc_1: 0.9468 - binary_accuracy: 0.8702 - val_loss: 1.0305 - val_auc_1: 0.9179 - val_binary_accuracy: 0.8400\n",
            "Epoch 92/200\n",
            "510/510 [==============================] - 9s 17ms/step - loss: 0.9478 - auc_1: 0.9480 - binary_accuracy: 0.8738 - val_loss: 1.0177 - val_auc_1: 0.9163 - val_binary_accuracy: 0.8422\n",
            "Epoch 93/200\n",
            "510/510 [==============================] - 9s 17ms/step - loss: 0.9376 - auc_1: 0.9444 - binary_accuracy: 0.8681 - val_loss: 1.0114 - val_auc_1: 0.9142 - val_binary_accuracy: 0.8336\n",
            "Epoch 94/200\n",
            "510/510 [==============================] - 9s 17ms/step - loss: 0.9066 - auc_1: 0.9491 - binary_accuracy: 0.8741 - val_loss: 0.9782 - val_auc_1: 0.9180 - val_binary_accuracy: 0.8405\n",
            "Epoch 95/200\n",
            "510/510 [==============================] - 9s 17ms/step - loss: 0.8907 - auc_1: 0.9488 - binary_accuracy: 0.8764 - val_loss: 0.9702 - val_auc_1: 0.9136 - val_binary_accuracy: 0.8373\n",
            "Epoch 96/200\n",
            "510/510 [==============================] - 9s 17ms/step - loss: 0.8679 - auc_1: 0.9510 - binary_accuracy: 0.8760 - val_loss: 0.9527 - val_auc_1: 0.9175 - val_binary_accuracy: 0.8405\n",
            "Epoch 97/200\n",
            "510/510 [==============================] - 9s 17ms/step - loss: 0.8616 - auc_1: 0.9480 - binary_accuracy: 0.8752 - val_loss: 0.9265 - val_auc_1: 0.9199 - val_binary_accuracy: 0.8388\n",
            "Epoch 98/200\n",
            "510/510 [==============================] - 9s 17ms/step - loss: 0.8308 - auc_1: 0.9535 - binary_accuracy: 0.8772 - val_loss: 0.9277 - val_auc_1: 0.9132 - val_binary_accuracy: 0.8345\n",
            "Epoch 99/200\n",
            "510/510 [==============================] - 9s 17ms/step - loss: 0.8162 - auc_1: 0.9537 - binary_accuracy: 0.8811 - val_loss: 0.9184 - val_auc_1: 0.9108 - val_binary_accuracy: 0.8322\n",
            "Epoch 100/200\n",
            "510/510 [==============================] - 9s 17ms/step - loss: 0.8145 - auc_1: 0.9495 - binary_accuracy: 0.8758 - val_loss: 0.8918 - val_auc_1: 0.9177 - val_binary_accuracy: 0.8409\n",
            "Epoch 101/200\n",
            "510/510 [==============================] - 9s 17ms/step - loss: 0.7978 - auc_1: 0.9516 - binary_accuracy: 0.8802 - val_loss: 0.8849 - val_auc_1: 0.9161 - val_binary_accuracy: 0.8369\n",
            "Epoch 102/200\n",
            "510/510 [==============================] - 9s 17ms/step - loss: 0.7835 - auc_1: 0.9516 - binary_accuracy: 0.8771 - val_loss: 0.8759 - val_auc_1: 0.9171 - val_binary_accuracy: 0.8335\n",
            "Epoch 103/200\n",
            "510/510 [==============================] - 9s 17ms/step - loss: 0.7591 - auc_1: 0.9566 - binary_accuracy: 0.8890 - val_loss: 0.8495 - val_auc_1: 0.9216 - val_binary_accuracy: 0.8426\n",
            "Epoch 104/200\n",
            "510/510 [==============================] - 9s 17ms/step - loss: 0.7525 - auc_1: 0.9547 - binary_accuracy: 0.8810 - val_loss: 0.8522 - val_auc_1: 0.9157 - val_binary_accuracy: 0.8383\n",
            "Epoch 105/200\n",
            "510/510 [==============================] - 9s 17ms/step - loss: 0.7480 - auc_1: 0.9525 - binary_accuracy: 0.8786 - val_loss: 0.8311 - val_auc_1: 0.9219 - val_binary_accuracy: 0.8398\n",
            "Epoch 106/200\n",
            "510/510 [==============================] - 9s 17ms/step - loss: 0.7341 - auc_1: 0.9545 - binary_accuracy: 0.8837 - val_loss: 0.8113 - val_auc_1: 0.9234 - val_binary_accuracy: 0.8537\n",
            "Epoch 107/200\n",
            "510/510 [==============================] - 9s 17ms/step - loss: 0.7332 - auc_1: 0.9511 - binary_accuracy: 0.8807 - val_loss: 0.8036 - val_auc_1: 0.9219 - val_binary_accuracy: 0.8447\n",
            "Epoch 108/200\n",
            "510/510 [==============================] - 9s 17ms/step - loss: 0.7126 - auc_1: 0.9552 - binary_accuracy: 0.8826 - val_loss: 0.7967 - val_auc_1: 0.9210 - val_binary_accuracy: 0.8467\n",
            "Epoch 109/200\n",
            "510/510 [==============================] - 9s 17ms/step - loss: 0.6928 - auc_1: 0.9594 - binary_accuracy: 0.8926 - val_loss: 0.7937 - val_auc_1: 0.9207 - val_binary_accuracy: 0.8449\n",
            "Epoch 110/200\n",
            "510/510 [==============================] - 9s 17ms/step - loss: 0.6985 - auc_1: 0.9545 - binary_accuracy: 0.8817 - val_loss: 0.7914 - val_auc_1: 0.9183 - val_binary_accuracy: 0.8413\n",
            "Epoch 111/200\n",
            "510/510 [==============================] - 9s 17ms/step - loss: 0.6821 - auc_1: 0.9574 - binary_accuracy: 0.8862 - val_loss: 0.7665 - val_auc_1: 0.9253 - val_binary_accuracy: 0.8523\n",
            "Epoch 112/200\n",
            "510/510 [==============================] - 9s 17ms/step - loss: 0.6767 - auc_1: 0.9567 - binary_accuracy: 0.8880 - val_loss: 0.7850 - val_auc_1: 0.9153 - val_binary_accuracy: 0.8402\n",
            "Epoch 113/200\n",
            "510/510 [==============================] - 9s 17ms/step - loss: 0.6670 - auc_1: 0.9581 - binary_accuracy: 0.8883 - val_loss: 0.7740 - val_auc_1: 0.9178 - val_binary_accuracy: 0.8422\n",
            "Epoch 114/200\n",
            "510/510 [==============================] - 9s 17ms/step - loss: 0.6615 - auc_1: 0.9574 - binary_accuracy: 0.8865 - val_loss: 0.7655 - val_auc_1: 0.9195 - val_binary_accuracy: 0.8442\n",
            "Epoch 115/200\n",
            "510/510 [==============================] - 9s 17ms/step - loss: 0.6544 - auc_1: 0.9578 - binary_accuracy: 0.8882 - val_loss: 0.7479 - val_auc_1: 0.9243 - val_binary_accuracy: 0.8470\n",
            "Epoch 116/200\n",
            "510/510 [==============================] - 9s 17ms/step - loss: 0.6473 - auc_1: 0.9578 - binary_accuracy: 0.8893 - val_loss: 0.7509 - val_auc_1: 0.9195 - val_binary_accuracy: 0.8399\n",
            "Epoch 117/200\n",
            "510/510 [==============================] - 9s 17ms/step - loss: 0.6342 - auc_1: 0.9603 - binary_accuracy: 0.8915 - val_loss: 0.7225 - val_auc_1: 0.9277 - val_binary_accuracy: 0.8532\n",
            "Epoch 118/200\n",
            "510/510 [==============================] - 9s 17ms/step - loss: 0.6317 - auc_1: 0.9593 - binary_accuracy: 0.8913 - val_loss: 0.7502 - val_auc_1: 0.9165 - val_binary_accuracy: 0.8403\n",
            "Epoch 119/200\n",
            "510/510 [==============================] - 9s 17ms/step - loss: 0.6220 - auc_1: 0.9608 - binary_accuracy: 0.8940 - val_loss: 0.7311 - val_auc_1: 0.9226 - val_binary_accuracy: 0.8492\n",
            "Epoch 120/200\n",
            "510/510 [==============================] - 9s 17ms/step - loss: 0.6085 - auc_1: 0.9633 - binary_accuracy: 0.8975 - val_loss: 0.7274 - val_auc_1: 0.9213 - val_binary_accuracy: 0.8442\n",
            "Epoch 121/200\n",
            "510/510 [==============================] - 9s 17ms/step - loss: 0.6203 - auc_1: 0.9577 - binary_accuracy: 0.8864 - val_loss: 0.7177 - val_auc_1: 0.9235 - val_binary_accuracy: 0.8422\n",
            "Epoch 122/200\n",
            "510/510 [==============================] - 9s 17ms/step - loss: 0.6108 - auc_1: 0.9602 - binary_accuracy: 0.8898 - val_loss: 0.7296 - val_auc_1: 0.9204 - val_binary_accuracy: 0.8426\n",
            "Epoch 123/200\n",
            "510/510 [==============================] - 9s 17ms/step - loss: 0.5988 - auc_1: 0.9615 - binary_accuracy: 0.8909 - val_loss: 0.7114 - val_auc_1: 0.9225 - val_binary_accuracy: 0.8485\n",
            "Epoch 124/200\n",
            "510/510 [==============================] - 9s 17ms/step - loss: 0.5931 - auc_1: 0.9619 - binary_accuracy: 0.8910 - val_loss: 0.7070 - val_auc_1: 0.9240 - val_binary_accuracy: 0.8497\n",
            "Epoch 125/200\n",
            "510/510 [==============================] - 9s 17ms/step - loss: 0.5873 - auc_1: 0.9626 - binary_accuracy: 0.8954 - val_loss: 0.7021 - val_auc_1: 0.9229 - val_binary_accuracy: 0.8489\n",
            "Epoch 126/200\n",
            "510/510 [==============================] - 9s 17ms/step - loss: 0.5761 - auc_1: 0.9647 - binary_accuracy: 0.8976 - val_loss: 0.6935 - val_auc_1: 0.9241 - val_binary_accuracy: 0.8509\n",
            "Epoch 127/200\n",
            "510/510 [==============================] - 9s 17ms/step - loss: 0.5765 - auc_1: 0.9632 - binary_accuracy: 0.9000 - val_loss: 0.6993 - val_auc_1: 0.9238 - val_binary_accuracy: 0.8476\n",
            "Epoch 128/200\n",
            "510/510 [==============================] - 9s 17ms/step - loss: 0.5705 - auc_1: 0.9637 - binary_accuracy: 0.8964 - val_loss: 0.7019 - val_auc_1: 0.9190 - val_binary_accuracy: 0.8443\n",
            "Epoch 129/200\n",
            "510/510 [==============================] - 9s 17ms/step - loss: 0.5636 - auc_1: 0.9649 - binary_accuracy: 0.8970 - val_loss: 0.6951 - val_auc_1: 0.9216 - val_binary_accuracy: 0.8415\n",
            "Epoch 130/200\n",
            "510/510 [==============================] - 9s 17ms/step - loss: 0.5645 - auc_1: 0.9638 - binary_accuracy: 0.8946 - val_loss: 0.6898 - val_auc_1: 0.9216 - val_binary_accuracy: 0.8416\n",
            "Epoch 131/200\n",
            "510/510 [==============================] - 9s 17ms/step - loss: 0.5463 - auc_1: 0.9679 - binary_accuracy: 0.9021 - val_loss: 0.6809 - val_auc_1: 0.9235 - val_binary_accuracy: 0.8520\n",
            "Epoch 132/200\n",
            "510/510 [==============================] - 9s 17ms/step - loss: 0.5602 - auc_1: 0.9624 - binary_accuracy: 0.8934 - val_loss: 0.6777 - val_auc_1: 0.9249 - val_binary_accuracy: 0.8453\n",
            "Epoch 133/200\n",
            "510/510 [==============================] - 9s 17ms/step - loss: 0.5509 - auc_1: 0.9646 - binary_accuracy: 0.8986 - val_loss: 0.6758 - val_auc_1: 0.9236 - val_binary_accuracy: 0.8450\n",
            "Epoch 134/200\n",
            "510/510 [==============================] - 9s 17ms/step - loss: 0.5474 - auc_1: 0.9647 - binary_accuracy: 0.8998 - val_loss: 0.6694 - val_auc_1: 0.9258 - val_binary_accuracy: 0.8506\n",
            "Epoch 135/200\n",
            "510/510 [==============================] - 9s 17ms/step - loss: 0.5427 - auc_1: 0.9652 - binary_accuracy: 0.9031 - val_loss: 0.6545 - val_auc_1: 0.9267 - val_binary_accuracy: 0.8507\n",
            "Epoch 136/200\n",
            "510/510 [==============================] - 9s 17ms/step - loss: 0.5405 - auc_1: 0.9650 - binary_accuracy: 0.8975 - val_loss: 0.6792 - val_auc_1: 0.9187 - val_binary_accuracy: 0.8432\n",
            "Epoch 137/200\n",
            "510/510 [==============================] - 9s 17ms/step - loss: 0.5348 - auc_1: 0.9656 - binary_accuracy: 0.9006 - val_loss: 0.6482 - val_auc_1: 0.9276 - val_binary_accuracy: 0.8512\n",
            "Epoch 138/200\n",
            "510/510 [==============================] - 9s 17ms/step - loss: 0.5344 - auc_1: 0.9652 - binary_accuracy: 0.9000 - val_loss: 0.6546 - val_auc_1: 0.9249 - val_binary_accuracy: 0.8485\n",
            "Epoch 139/200\n",
            "510/510 [==============================] - 9s 17ms/step - loss: 0.5272 - auc_1: 0.9664 - binary_accuracy: 0.9007 - val_loss: 0.6601 - val_auc_1: 0.9246 - val_binary_accuracy: 0.8475\n",
            "Epoch 140/200\n",
            "510/510 [==============================] - 9s 17ms/step - loss: 0.5264 - auc_1: 0.9657 - binary_accuracy: 0.9016 - val_loss: 0.6470 - val_auc_1: 0.9249 - val_binary_accuracy: 0.8537\n",
            "Epoch 141/200\n",
            "510/510 [==============================] - 9s 17ms/step - loss: 0.5190 - auc_1: 0.9672 - binary_accuracy: 0.9026 - val_loss: 0.6548 - val_auc_1: 0.9232 - val_binary_accuracy: 0.8492\n",
            "Epoch 142/200\n",
            "510/510 [==============================] - 9s 17ms/step - loss: 0.5195 - auc_1: 0.9665 - binary_accuracy: 0.8995 - val_loss: 0.6579 - val_auc_1: 0.9225 - val_binary_accuracy: 0.8476\n",
            "Epoch 143/200\n",
            "510/510 [==============================] - 9s 17ms/step - loss: 0.5220 - auc_1: 0.9646 - binary_accuracy: 0.8963 - val_loss: 0.6603 - val_auc_1: 0.9203 - val_binary_accuracy: 0.8415\n",
            "Epoch 144/200\n",
            "510/510 [==============================] - 9s 17ms/step - loss: 0.5057 - auc_1: 0.9690 - binary_accuracy: 0.9004 - val_loss: 0.6356 - val_auc_1: 0.9287 - val_binary_accuracy: 0.8503\n",
            "Epoch 145/200\n",
            "510/510 [==============================] - 9s 17ms/step - loss: 0.5014 - auc_1: 0.9694 - binary_accuracy: 0.9076 - val_loss: 0.6401 - val_auc_1: 0.9248 - val_binary_accuracy: 0.8516\n",
            "Epoch 146/200\n",
            "510/510 [==============================] - 9s 17ms/step - loss: 0.4945 - auc_1: 0.9707 - binary_accuracy: 0.9063 - val_loss: 0.6387 - val_auc_1: 0.9252 - val_binary_accuracy: 0.8513\n",
            "Epoch 147/200\n",
            "510/510 [==============================] - 9s 17ms/step - loss: 0.5018 - auc_1: 0.9680 - binary_accuracy: 0.9026 - val_loss: 0.6481 - val_auc_1: 0.9219 - val_binary_accuracy: 0.8415\n",
            "Epoch 148/200\n",
            "510/510 [==============================] - 9s 17ms/step - loss: 0.4969 - auc_1: 0.9692 - binary_accuracy: 0.9075 - val_loss: 0.6438 - val_auc_1: 0.9245 - val_binary_accuracy: 0.8522\n",
            "Epoch 149/200\n",
            "510/510 [==============================] - 9s 17ms/step - loss: 0.4916 - auc_1: 0.9696 - binary_accuracy: 0.9052 - val_loss: 0.6303 - val_auc_1: 0.9259 - val_binary_accuracy: 0.8515\n",
            "Epoch 150/200\n",
            "510/510 [==============================] - 9s 17ms/step - loss: 0.4933 - auc_1: 0.9686 - binary_accuracy: 0.9002 - val_loss: 0.6209 - val_auc_1: 0.9273 - val_binary_accuracy: 0.8496\n",
            "Epoch 151/200\n",
            "510/510 [==============================] - 9s 17ms/step - loss: 0.4911 - auc_1: 0.9689 - binary_accuracy: 0.9042 - val_loss: 0.6313 - val_auc_1: 0.9262 - val_binary_accuracy: 0.8497\n",
            "Epoch 152/200\n",
            "510/510 [==============================] - 9s 17ms/step - loss: 0.4864 - auc_1: 0.9694 - binary_accuracy: 0.9070 - val_loss: 0.6162 - val_auc_1: 0.9280 - val_binary_accuracy: 0.8586\n",
            "Epoch 153/200\n",
            "510/510 [==============================] - 9s 17ms/step - loss: 0.4803 - auc_1: 0.9709 - binary_accuracy: 0.9101 - val_loss: 0.6177 - val_auc_1: 0.9281 - val_binary_accuracy: 0.8535\n",
            "Epoch 154/200\n",
            "510/510 [==============================] - 9s 17ms/step - loss: 0.4815 - auc_1: 0.9699 - binary_accuracy: 0.9061 - val_loss: 0.6369 - val_auc_1: 0.9252 - val_binary_accuracy: 0.8475\n",
            "Epoch 155/200\n",
            "510/510 [==============================] - 9s 17ms/step - loss: 0.4798 - auc_1: 0.9698 - binary_accuracy: 0.9037 - val_loss: 0.6173 - val_auc_1: 0.9262 - val_binary_accuracy: 0.8496\n",
            "Epoch 156/200\n",
            "510/510 [==============================] - 9s 17ms/step - loss: 0.4739 - auc_1: 0.9713 - binary_accuracy: 0.9084 - val_loss: 0.6239 - val_auc_1: 0.9252 - val_binary_accuracy: 0.8512\n",
            "Epoch 157/200\n",
            "510/510 [==============================] - 9s 17ms/step - loss: 0.4763 - auc_1: 0.9696 - binary_accuracy: 0.9066 - val_loss: 0.6014 - val_auc_1: 0.9305 - val_binary_accuracy: 0.8552\n",
            "Epoch 158/200\n",
            "510/510 [==============================] - 9s 17ms/step - loss: 0.4599 - auc_1: 0.9739 - binary_accuracy: 0.9144 - val_loss: 0.6232 - val_auc_1: 0.9260 - val_binary_accuracy: 0.8552\n",
            "Epoch 159/200\n",
            "510/510 [==============================] - 9s 17ms/step - loss: 0.4657 - auc_1: 0.9716 - binary_accuracy: 0.9113 - val_loss: 0.5923 - val_auc_1: 0.9329 - val_binary_accuracy: 0.8590\n",
            "Epoch 160/200\n",
            "510/510 [==============================] - 9s 17ms/step - loss: 0.4628 - auc_1: 0.9722 - binary_accuracy: 0.9118 - val_loss: 0.6150 - val_auc_1: 0.9243 - val_binary_accuracy: 0.8457\n",
            "Epoch 161/200\n",
            "510/510 [==============================] - 9s 17ms/step - loss: 0.4649 - auc_1: 0.9712 - binary_accuracy: 0.9086 - val_loss: 0.6125 - val_auc_1: 0.9273 - val_binary_accuracy: 0.8555\n",
            "Epoch 162/200\n",
            "510/510 [==============================] - 9s 17ms/step - loss: 0.4536 - auc_1: 0.9737 - binary_accuracy: 0.9103 - val_loss: 0.6072 - val_auc_1: 0.9281 - val_binary_accuracy: 0.8599\n",
            "Epoch 163/200\n",
            "510/510 [==============================] - 9s 17ms/step - loss: 0.4650 - auc_1: 0.9703 - binary_accuracy: 0.9079 - val_loss: 0.6004 - val_auc_1: 0.9284 - val_binary_accuracy: 0.8530\n",
            "Epoch 164/200\n",
            "510/510 [==============================] - 9s 17ms/step - loss: 0.4468 - auc_1: 0.9749 - binary_accuracy: 0.9125 - val_loss: 0.5953 - val_auc_1: 0.9288 - val_binary_accuracy: 0.8527\n"
          ],
          "name": "stdout"
        }
      ]
    },
    {
      "cell_type": "code",
      "metadata": {
        "colab": {
          "base_uri": "https://localhost:8080/"
        },
        "id": "4r2cSFdsZ6qi",
        "outputId": "4a006068-a7ee-4f33-ce54-1f5baafa671e"
      },
      "source": [
        "# new training\n",
        "history = model.fit(\n",
        "    train_ds,\n",
        "    steps_per_epoch=compute_steps_per_epoch(train_feat.shape[0], batch_size),\n",
        "    epochs=200,\n",
        "    validation_data=val_ds,\n",
        "    validation_steps=compute_steps_per_epoch(val_feat.shape[0], batch_size),\n",
        "    callbacks=[callback],\n",
        ")"
      ],
      "execution_count": null,
      "outputs": [
        {
          "output_type": "stream",
          "text": [
            "Epoch 1/200\n",
            "510/510 [==============================] - 12s 17ms/step - loss: 75.3862 - auc: 0.5830 - binary_accuracy: 0.5651 - val_loss: 71.1507 - val_auc: 0.7532 - val_binary_accuracy: 0.6480\n",
            "Epoch 2/200\n",
            "510/510 [==============================] - 8s 16ms/step - loss: 69.1140 - auc: 0.6569 - binary_accuracy: 0.6225 - val_loss: 65.6900 - val_auc: 0.7965 - val_binary_accuracy: 0.6719\n",
            "Epoch 3/200\n",
            "510/510 [==============================] - 8s 16ms/step - loss: 63.9144 - auc: 0.6935 - binary_accuracy: 0.6502 - val_loss: 61.1294 - val_auc: 0.8273 - val_binary_accuracy: 0.6832\n",
            "Epoch 4/200\n",
            "510/510 [==============================] - 8s 16ms/step - loss: 59.5460 - auc: 0.7185 - binary_accuracy: 0.6699 - val_loss: 57.1399 - val_auc: 0.8182 - val_binary_accuracy: 0.6915\n",
            "Epoch 5/200\n",
            "510/510 [==============================] - 8s 17ms/step - loss: 55.7641 - auc: 0.7317 - binary_accuracy: 0.6805 - val_loss: 53.5655 - val_auc: 0.8201 - val_binary_accuracy: 0.7404\n",
            "Epoch 6/200\n",
            "510/510 [==============================] - 8s 17ms/step - loss: 52.4707 - auc: 0.7420 - binary_accuracy: 0.6901 - val_loss: 50.5684 - val_auc: 0.8271 - val_binary_accuracy: 0.7305\n",
            "Epoch 7/200\n",
            "510/510 [==============================] - 8s 16ms/step - loss: 49.4633 - auc: 0.7535 - binary_accuracy: 0.7013 - val_loss: 47.7619 - val_auc: 0.8372 - val_binary_accuracy: 0.7481\n",
            "Epoch 8/200\n",
            "510/510 [==============================] - 8s 16ms/step - loss: 46.8248 - auc: 0.7700 - binary_accuracy: 0.7141 - val_loss: 45.4698 - val_auc: 0.8219 - val_binary_accuracy: 0.7059\n",
            "Epoch 9/200\n",
            "510/510 [==============================] - 8s 16ms/step - loss: 44.3837 - auc: 0.7767 - binary_accuracy: 0.7140 - val_loss: 42.9827 - val_auc: 0.8481 - val_binary_accuracy: 0.7543\n",
            "Epoch 10/200\n",
            "510/510 [==============================] - 8s 16ms/step - loss: 42.2119 - auc: 0.7733 - binary_accuracy: 0.7176 - val_loss: 40.9092 - val_auc: 0.8364 - val_binary_accuracy: 0.7551\n",
            "Epoch 11/200\n",
            "510/510 [==============================] - 8s 16ms/step - loss: 40.0812 - auc: 0.7922 - binary_accuracy: 0.7322 - val_loss: 38.9395 - val_auc: 0.8356 - val_binary_accuracy: 0.7531\n",
            "Epoch 12/200\n",
            "510/510 [==============================] - 8s 16ms/step - loss: 38.1203 - auc: 0.8006 - binary_accuracy: 0.7367 - val_loss: 37.0073 - val_auc: 0.8534 - val_binary_accuracy: 0.7633\n",
            "Epoch 13/200\n",
            "510/510 [==============================] - 8s 16ms/step - loss: 36.2596 - auc: 0.8036 - binary_accuracy: 0.7417 - val_loss: 35.2668 - val_auc: 0.8393 - val_binary_accuracy: 0.7466\n",
            "Epoch 14/200\n",
            "510/510 [==============================] - 8s 16ms/step - loss: 34.4717 - auc: 0.8125 - binary_accuracy: 0.7498 - val_loss: 33.4743 - val_auc: 0.8587 - val_binary_accuracy: 0.7851\n",
            "Epoch 15/200\n",
            "510/510 [==============================] - 8s 16ms/step - loss: 32.7680 - auc: 0.8131 - binary_accuracy: 0.7478 - val_loss: 31.8809 - val_auc: 0.8537 - val_binary_accuracy: 0.7352\n",
            "Epoch 16/200\n",
            "510/510 [==============================] - 8s 16ms/step - loss: 31.1232 - auc: 0.8238 - binary_accuracy: 0.7557 - val_loss: 30.2740 - val_auc: 0.8425 - val_binary_accuracy: 0.7557\n",
            "Epoch 17/200\n",
            "510/510 [==============================] - 8s 16ms/step - loss: 29.5502 - auc: 0.8246 - binary_accuracy: 0.7563 - val_loss: 28.6976 - val_auc: 0.8624 - val_binary_accuracy: 0.7681\n",
            "Epoch 18/200\n",
            "510/510 [==============================] - 8s 16ms/step - loss: 28.0447 - auc: 0.8221 - binary_accuracy: 0.7569 - val_loss: 27.2467 - val_auc: 0.8560 - val_binary_accuracy: 0.7754\n",
            "Epoch 19/200\n",
            "510/510 [==============================] - 8s 16ms/step - loss: 26.5593 - auc: 0.8362 - binary_accuracy: 0.7659 - val_loss: 25.7904 - val_auc: 0.8646 - val_binary_accuracy: 0.7878\n",
            "Epoch 20/200\n",
            "510/510 [==============================] - 8s 16ms/step - loss: 25.1645 - auc: 0.8362 - binary_accuracy: 0.7697 - val_loss: 24.4243 - val_auc: 0.8667 - val_binary_accuracy: 0.7924\n",
            "Epoch 21/200\n",
            "510/510 [==============================] - 8s 16ms/step - loss: 23.8007 - auc: 0.8374 - binary_accuracy: 0.7656 - val_loss: 23.0931 - val_auc: 0.8718 - val_binary_accuracy: 0.7927\n",
            "Epoch 22/200\n",
            "510/510 [==============================] - 8s 16ms/step - loss: 22.4888 - auc: 0.8509 - binary_accuracy: 0.7768 - val_loss: 21.8270 - val_auc: 0.8664 - val_binary_accuracy: 0.7862\n",
            "Epoch 23/200\n",
            "510/510 [==============================] - 8s 16ms/step - loss: 21.2426 - auc: 0.8516 - binary_accuracy: 0.7827 - val_loss: 20.6155 - val_auc: 0.8716 - val_binary_accuracy: 0.7725\n",
            "Epoch 24/200\n",
            "510/510 [==============================] - 8s 16ms/step - loss: 20.0524 - auc: 0.8541 - binary_accuracy: 0.7799 - val_loss: 19.4549 - val_auc: 0.8635 - val_binary_accuracy: 0.7897\n",
            "Epoch 25/200\n",
            "510/510 [==============================] - 8s 16ms/step - loss: 18.9275 - auc: 0.8513 - binary_accuracy: 0.7790 - val_loss: 18.3525 - val_auc: 0.8675 - val_binary_accuracy: 0.7832\n",
            "Epoch 26/200\n",
            "510/510 [==============================] - 8s 17ms/step - loss: 17.8289 - auc: 0.8626 - binary_accuracy: 0.7898 - val_loss: 17.2864 - val_auc: 0.8781 - val_binary_accuracy: 0.8044\n",
            "Epoch 27/200\n",
            "510/510 [==============================] - 8s 16ms/step - loss: 16.8086 - auc: 0.8595 - binary_accuracy: 0.7876 - val_loss: 16.2782 - val_auc: 0.8833 - val_binary_accuracy: 0.8058\n",
            "Epoch 28/200\n",
            "510/510 [==============================] - 8s 16ms/step - loss: 15.8363 - auc: 0.8619 - binary_accuracy: 0.7892 - val_loss: 15.3430 - val_auc: 0.8742 - val_binary_accuracy: 0.7914\n",
            "Epoch 29/200\n",
            "510/510 [==============================] - 8s 16ms/step - loss: 14.9171 - auc: 0.8630 - binary_accuracy: 0.7896 - val_loss: 14.4460 - val_auc: 0.8831 - val_binary_accuracy: 0.8055\n",
            "Epoch 30/200\n",
            "510/510 [==============================] - 8s 16ms/step - loss: 14.0520 - auc: 0.8651 - binary_accuracy: 0.7886 - val_loss: 13.6195 - val_auc: 0.8760 - val_binary_accuracy: 0.7942\n",
            "Epoch 31/200\n",
            "510/510 [==============================] - 8s 16ms/step - loss: 13.2181 - auc: 0.8738 - binary_accuracy: 0.8018 - val_loss: 12.8142 - val_auc: 0.8818 - val_binary_accuracy: 0.8038\n",
            "Epoch 32/200\n",
            "510/510 [==============================] - 8s 16ms/step - loss: 12.4441 - auc: 0.8725 - binary_accuracy: 0.7948 - val_loss: 12.0671 - val_auc: 0.8825 - val_binary_accuracy: 0.8064\n",
            "Epoch 33/200\n",
            "510/510 [==============================] - 8s 17ms/step - loss: 11.7132 - auc: 0.8789 - binary_accuracy: 0.8030 - val_loss: 11.3684 - val_auc: 0.8749 - val_binary_accuracy: 0.7884\n",
            "Epoch 34/200\n",
            "510/510 [==============================] - 8s 17ms/step - loss: 11.0425 - auc: 0.8702 - binary_accuracy: 0.7915 - val_loss: 10.7066 - val_auc: 0.8808 - val_binary_accuracy: 0.7995\n",
            "Epoch 35/200\n",
            "510/510 [==============================] - 8s 16ms/step - loss: 10.3813 - auc: 0.8833 - binary_accuracy: 0.8056 - val_loss: 10.0807 - val_auc: 0.8776 - val_binary_accuracy: 0.7977\n",
            "Epoch 36/200\n",
            "510/510 [==============================] - 8s 16ms/step - loss: 9.7813 - auc: 0.8840 - binary_accuracy: 0.8060 - val_loss: 9.4876 - val_auc: 0.8887 - val_binary_accuracy: 0.8029\n",
            "Epoch 37/200\n",
            "510/510 [==============================] - 8s 16ms/step - loss: 9.2181 - auc: 0.8826 - binary_accuracy: 0.8038 - val_loss: 8.9612 - val_auc: 0.8807 - val_binary_accuracy: 0.7971\n",
            "Epoch 38/200\n",
            "510/510 [==============================] - 8s 16ms/step - loss: 8.6885 - auc: 0.8839 - binary_accuracy: 0.8078 - val_loss: 8.4369 - val_auc: 0.8850 - val_binary_accuracy: 0.8001\n",
            "Epoch 39/200\n",
            "510/510 [==============================] - 8s 16ms/step - loss: 8.1956 - auc: 0.8838 - binary_accuracy: 0.8066 - val_loss: 7.9518 - val_auc: 0.8854 - val_binary_accuracy: 0.8049\n",
            "Epoch 40/200\n",
            "510/510 [==============================] - 8s 16ms/step - loss: 7.7224 - auc: 0.8888 - binary_accuracy: 0.8138 - val_loss: 7.5267 - val_auc: 0.8787 - val_binary_accuracy: 0.7908\n",
            "Epoch 41/200\n",
            "510/510 [==============================] - 8s 16ms/step - loss: 7.2875 - auc: 0.8899 - binary_accuracy: 0.8093 - val_loss: 7.0760 - val_auc: 0.8932 - val_binary_accuracy: 0.8155\n",
            "Epoch 42/200\n",
            "510/510 [==============================] - 8s 17ms/step - loss: 6.8744 - auc: 0.8940 - binary_accuracy: 0.8149 - val_loss: 6.6976 - val_auc: 0.8838 - val_binary_accuracy: 0.7992\n",
            "Epoch 43/200\n",
            "510/510 [==============================] - 8s 16ms/step - loss: 6.4966 - auc: 0.8943 - binary_accuracy: 0.8172 - val_loss: 6.3110 - val_auc: 0.8950 - val_binary_accuracy: 0.8184\n",
            "Epoch 44/200\n",
            "510/510 [==============================] - 8s 16ms/step - loss: 6.1305 - auc: 0.8993 - binary_accuracy: 0.8201 - val_loss: 5.9855 - val_auc: 0.8863 - val_binary_accuracy: 0.8018\n",
            "Epoch 45/200\n",
            "510/510 [==============================] - 8s 16ms/step - loss: 5.8157 - auc: 0.8910 - binary_accuracy: 0.8127 - val_loss: 5.6566 - val_auc: 0.8926 - val_binary_accuracy: 0.8161\n",
            "Epoch 46/200\n",
            "510/510 [==============================] - 8s 16ms/step - loss: 5.4971 - auc: 0.8971 - binary_accuracy: 0.8196 - val_loss: 5.3541 - val_auc: 0.8950 - val_binary_accuracy: 0.8132\n",
            "Epoch 47/200\n",
            "510/510 [==============================] - 8s 16ms/step - loss: 5.2108 - auc: 0.8974 - binary_accuracy: 0.8195 - val_loss: 5.0732 - val_auc: 0.8960 - val_binary_accuracy: 0.8154\n",
            "Epoch 48/200\n",
            "510/510 [==============================] - 8s 17ms/step - loss: 4.9397 - auc: 0.8988 - binary_accuracy: 0.8202 - val_loss: 4.8263 - val_auc: 0.8921 - val_binary_accuracy: 0.8096\n",
            "Epoch 49/200\n",
            "510/510 [==============================] - 8s 17ms/step - loss: 4.6870 - auc: 0.9021 - binary_accuracy: 0.8278 - val_loss: 4.5924 - val_auc: 0.8864 - val_binary_accuracy: 0.8084\n",
            "Epoch 50/200\n",
            "510/510 [==============================] - 8s 17ms/step - loss: 4.4417 - auc: 0.9054 - binary_accuracy: 0.8250 - val_loss: 4.3569 - val_auc: 0.8963 - val_binary_accuracy: 0.8175\n",
            "Epoch 51/200\n",
            "510/510 [==============================] - 8s 16ms/step - loss: 4.2204 - auc: 0.9068 - binary_accuracy: 0.8278 - val_loss: 4.1270 - val_auc: 0.8996 - val_binary_accuracy: 0.8186\n",
            "Epoch 52/200\n",
            "510/510 [==============================] - 8s 16ms/step - loss: 4.0143 - auc: 0.9063 - binary_accuracy: 0.8273 - val_loss: 3.9349 - val_auc: 0.8958 - val_binary_accuracy: 0.8132\n",
            "Epoch 53/200\n",
            "510/510 [==============================] - 8s 16ms/step - loss: 3.8257 - auc: 0.9063 - binary_accuracy: 0.8306 - val_loss: 3.7614 - val_auc: 0.8900 - val_binary_accuracy: 0.8125\n",
            "Epoch 54/200\n",
            "510/510 [==============================] - 8s 16ms/step - loss: 3.6346 - auc: 0.9095 - binary_accuracy: 0.8289 - val_loss: 3.5734 - val_auc: 0.8992 - val_binary_accuracy: 0.8199\n",
            "Epoch 55/200\n",
            "510/510 [==============================] - 8s 16ms/step - loss: 3.4626 - auc: 0.9114 - binary_accuracy: 0.8326 - val_loss: 3.4201 - val_auc: 0.8905 - val_binary_accuracy: 0.8092\n",
            "Epoch 56/200\n",
            "510/510 [==============================] - 8s 17ms/step - loss: 3.3103 - auc: 0.9093 - binary_accuracy: 0.8308 - val_loss: 3.2670 - val_auc: 0.8931 - val_binary_accuracy: 0.8172\n",
            "Epoch 57/200\n",
            "510/510 [==============================] - 8s 17ms/step - loss: 3.1588 - auc: 0.9109 - binary_accuracy: 0.8307 - val_loss: 3.1149 - val_auc: 0.8962 - val_binary_accuracy: 0.8202\n",
            "Epoch 58/200\n",
            "510/510 [==============================] - 8s 17ms/step - loss: 3.0110 - auc: 0.9154 - binary_accuracy: 0.8395 - val_loss: 2.9768 - val_auc: 0.8975 - val_binary_accuracy: 0.8182\n",
            "Epoch 59/200\n",
            "510/510 [==============================] - 8s 16ms/step - loss: 2.8795 - auc: 0.9140 - binary_accuracy: 0.8392 - val_loss: 2.8437 - val_auc: 0.9031 - val_binary_accuracy: 0.8219\n",
            "Epoch 60/200\n",
            "510/510 [==============================] - 8s 17ms/step - loss: 2.7520 - auc: 0.9159 - binary_accuracy: 0.8393 - val_loss: 2.7255 - val_auc: 0.9002 - val_binary_accuracy: 0.8165\n",
            "Epoch 61/200\n",
            "510/510 [==============================] - 8s 17ms/step - loss: 2.6352 - auc: 0.9160 - binary_accuracy: 0.8395 - val_loss: 2.5970 - val_auc: 0.9082 - val_binary_accuracy: 0.8283\n",
            "Epoch 62/200\n",
            "510/510 [==============================] - 8s 16ms/step - loss: 2.5158 - auc: 0.9204 - binary_accuracy: 0.8463 - val_loss: 2.5095 - val_auc: 0.8971 - val_binary_accuracy: 0.8128\n",
            "Epoch 63/200\n",
            "510/510 [==============================] - 8s 16ms/step - loss: 2.4152 - auc: 0.9197 - binary_accuracy: 0.8460 - val_loss: 2.4130 - val_auc: 0.8998 - val_binary_accuracy: 0.8252\n",
            "Epoch 64/200\n",
            "510/510 [==============================] - 8s 16ms/step - loss: 2.3176 - auc: 0.9197 - binary_accuracy: 0.8417 - val_loss: 2.3010 - val_auc: 0.9088 - val_binary_accuracy: 0.8228\n",
            "Epoch 65/200\n",
            "510/510 [==============================] - 8s 16ms/step - loss: 2.2254 - auc: 0.9209 - binary_accuracy: 0.8443 - val_loss: 2.2338 - val_auc: 0.8991 - val_binary_accuracy: 0.8139\n",
            "Epoch 66/200\n",
            "510/510 [==============================] - 8s 16ms/step - loss: 2.1329 - auc: 0.9234 - binary_accuracy: 0.8468 - val_loss: 2.1284 - val_auc: 0.9063 - val_binary_accuracy: 0.8233\n",
            "Epoch 67/200\n",
            "510/510 [==============================] - 8s 16ms/step - loss: 2.0517 - auc: 0.9246 - binary_accuracy: 0.8501 - val_loss: 2.0540 - val_auc: 0.9054 - val_binary_accuracy: 0.8252\n",
            "Epoch 68/200\n",
            "510/510 [==============================] - 8s 17ms/step - loss: 1.9750 - auc: 0.9235 - binary_accuracy: 0.8434 - val_loss: 2.0007 - val_auc: 0.8954 - val_binary_accuracy: 0.8156\n",
            "Epoch 69/200\n",
            "510/510 [==============================] - 9s 17ms/step - loss: 1.8915 - auc: 0.9291 - binary_accuracy: 0.8526 - val_loss: 1.9165 - val_auc: 0.9030 - val_binary_accuracy: 0.8248\n",
            "Epoch 70/200\n",
            "510/510 [==============================] - 8s 16ms/step - loss: 1.8338 - auc: 0.9246 - binary_accuracy: 0.8464 - val_loss: 1.8319 - val_auc: 0.9120 - val_binary_accuracy: 0.8295\n",
            "Epoch 71/200\n",
            "510/510 [==============================] - 8s 16ms/step - loss: 1.7554 - auc: 0.9302 - binary_accuracy: 0.8542 - val_loss: 1.7793 - val_auc: 0.9088 - val_binary_accuracy: 0.8249\n",
            "Epoch 72/200\n",
            "510/510 [==============================] - 8s 16ms/step - loss: 1.7012 - auc: 0.9274 - binary_accuracy: 0.8516 - val_loss: 1.7227 - val_auc: 0.9090 - val_binary_accuracy: 0.8235\n",
            "Epoch 73/200\n",
            "510/510 [==============================] - 8s 16ms/step - loss: 1.6332 - auc: 0.9316 - binary_accuracy: 0.8531 - val_loss: 1.6782 - val_auc: 0.9050 - val_binary_accuracy: 0.8196\n",
            "Epoch 74/200\n",
            "510/510 [==============================] - 8s 16ms/step - loss: 1.5859 - auc: 0.9296 - binary_accuracy: 0.8552 - val_loss: 1.6020 - val_auc: 0.9114 - val_binary_accuracy: 0.8322\n",
            "Epoch 75/200\n",
            "510/510 [==============================] - 8s 16ms/step - loss: 1.5192 - auc: 0.9357 - binary_accuracy: 0.8606 - val_loss: 1.5647 - val_auc: 0.9068 - val_binary_accuracy: 0.8202\n",
            "Epoch 76/200\n",
            "510/510 [==============================] - 9s 17ms/step - loss: 1.4729 - auc: 0.9350 - binary_accuracy: 0.8587 - val_loss: 1.5210 - val_auc: 0.9053 - val_binary_accuracy: 0.8226\n",
            "Epoch 77/200\n",
            "510/510 [==============================] - 8s 17ms/step - loss: 1.4302 - auc: 0.9342 - binary_accuracy: 0.8573 - val_loss: 1.4785 - val_auc: 0.9073 - val_binary_accuracy: 0.8285\n",
            "Epoch 78/200\n",
            "510/510 [==============================] - 8s 16ms/step - loss: 1.3829 - auc: 0.9356 - binary_accuracy: 0.8619 - val_loss: 1.4528 - val_auc: 0.9035 - val_binary_accuracy: 0.8196\n",
            "Epoch 79/200\n",
            "510/510 [==============================] - 8s 16ms/step - loss: 1.3395 - auc: 0.9361 - binary_accuracy: 0.8592 - val_loss: 1.3907 - val_auc: 0.9093 - val_binary_accuracy: 0.8281\n",
            "Epoch 80/200\n",
            "510/510 [==============================] - 8s 16ms/step - loss: 1.2937 - auc: 0.9391 - binary_accuracy: 0.8638 - val_loss: 1.3339 - val_auc: 0.9179 - val_binary_accuracy: 0.8408\n",
            "Epoch 81/200\n",
            "510/510 [==============================] - 8s 16ms/step - loss: 1.2585 - auc: 0.9388 - binary_accuracy: 0.8657 - val_loss: 1.3044 - val_auc: 0.9117 - val_binary_accuracy: 0.8362\n",
            "Epoch 82/200\n",
            "510/510 [==============================] - 8s 16ms/step - loss: 1.2255 - auc: 0.9387 - binary_accuracy: 0.8629 - val_loss: 1.2700 - val_auc: 0.9123 - val_binary_accuracy: 0.8349\n",
            "Epoch 83/200\n",
            "510/510 [==============================] - 8s 16ms/step - loss: 1.1860 - auc: 0.9408 - binary_accuracy: 0.8665 - val_loss: 1.2365 - val_auc: 0.9139 - val_binary_accuracy: 0.8418\n",
            "Epoch 84/200\n",
            "510/510 [==============================] - 8s 17ms/step - loss: 1.1598 - auc: 0.9391 - binary_accuracy: 0.8632 - val_loss: 1.1993 - val_auc: 0.9181 - val_binary_accuracy: 0.8382\n",
            "Epoch 85/200\n",
            "510/510 [==============================] - 8s 16ms/step - loss: 1.1185 - auc: 0.9439 - binary_accuracy: 0.8691 - val_loss: 1.1771 - val_auc: 0.9143 - val_binary_accuracy: 0.8332\n",
            "Epoch 86/200\n",
            "510/510 [==============================] - 8s 16ms/step - loss: 1.0910 - auc: 0.9437 - binary_accuracy: 0.8696 - val_loss: 1.1659 - val_auc: 0.9096 - val_binary_accuracy: 0.8345\n",
            "Epoch 87/200\n",
            "510/510 [==============================] - 8s 16ms/step - loss: 1.0602 - auc: 0.9455 - binary_accuracy: 0.8735 - val_loss: 1.1252 - val_auc: 0.9157 - val_binary_accuracy: 0.8395\n",
            "Epoch 88/200\n",
            "510/510 [==============================] - 8s 16ms/step - loss: 1.0407 - auc: 0.9435 - binary_accuracy: 0.8683 - val_loss: 1.1378 - val_auc: 0.9073 - val_binary_accuracy: 0.8205\n",
            "Epoch 89/200\n",
            "510/510 [==============================] - 8s 16ms/step - loss: 1.0071 - auc: 0.9471 - binary_accuracy: 0.8740 - val_loss: 1.0855 - val_auc: 0.9126 - val_binary_accuracy: 0.8329\n",
            "Epoch 90/200\n",
            "510/510 [==============================] - 8s 16ms/step - loss: 0.9861 - auc: 0.9468 - binary_accuracy: 0.8741 - val_loss: 1.0566 - val_auc: 0.9141 - val_binary_accuracy: 0.8356\n",
            "Epoch 91/200\n",
            "510/510 [==============================] - 8s 17ms/step - loss: 0.9672 - auc: 0.9463 - binary_accuracy: 0.8728 - val_loss: 1.0306 - val_auc: 0.9169 - val_binary_accuracy: 0.8339\n",
            "Epoch 92/200\n",
            "510/510 [==============================] - 8s 17ms/step - loss: 0.9485 - auc: 0.9456 - binary_accuracy: 0.8697 - val_loss: 1.0212 - val_auc: 0.9143 - val_binary_accuracy: 0.8413\n",
            "Epoch 93/200\n",
            "510/510 [==============================] - 9s 17ms/step - loss: 0.9207 - auc: 0.9491 - binary_accuracy: 0.8746 - val_loss: 0.9864 - val_auc: 0.9205 - val_binary_accuracy: 0.8429\n",
            "Epoch 94/200\n",
            "510/510 [==============================] - 8s 16ms/step - loss: 0.9070 - auc: 0.9480 - binary_accuracy: 0.8740 - val_loss: 0.9943 - val_auc: 0.9121 - val_binary_accuracy: 0.8373\n",
            "Epoch 95/200\n",
            "510/510 [==============================] - 8s 16ms/step - loss: 0.8851 - auc: 0.9494 - binary_accuracy: 0.8762 - val_loss: 0.9480 - val_auc: 0.9231 - val_binary_accuracy: 0.8485\n",
            "Epoch 96/200\n",
            "510/510 [==============================] - 8s 17ms/step - loss: 0.8671 - auc: 0.9503 - binary_accuracy: 0.8782 - val_loss: 0.9514 - val_auc: 0.9173 - val_binary_accuracy: 0.8400\n",
            "Epoch 97/200\n",
            "510/510 [==============================] - 8s 17ms/step - loss: 0.8559 - auc: 0.9489 - binary_accuracy: 0.8763 - val_loss: 0.9471 - val_auc: 0.9122 - val_binary_accuracy: 0.8349\n",
            "Epoch 98/200\n",
            "510/510 [==============================] - 8s 16ms/step - loss: 0.8331 - auc: 0.9519 - binary_accuracy: 0.8810 - val_loss: 0.9409 - val_auc: 0.9130 - val_binary_accuracy: 0.8330\n",
            "Epoch 99/200\n",
            "510/510 [==============================] - 8s 16ms/step - loss: 0.8263 - auc: 0.9496 - binary_accuracy: 0.8767 - val_loss: 0.9008 - val_auc: 0.9188 - val_binary_accuracy: 0.8435\n",
            "Epoch 100/200\n",
            "510/510 [==============================] - 8s 16ms/step - loss: 0.8085 - auc: 0.9511 - binary_accuracy: 0.8772 - val_loss: 0.8958 - val_auc: 0.9173 - val_binary_accuracy: 0.8420\n",
            "Epoch 101/200\n",
            "510/510 [==============================] - 8s 17ms/step - loss: 0.7957 - auc: 0.9515 - binary_accuracy: 0.8800 - val_loss: 0.8652 - val_auc: 0.9231 - val_binary_accuracy: 0.8497\n",
            "Epoch 102/200\n",
            "510/510 [==============================] - 8s 17ms/step - loss: 0.7715 - auc: 0.9555 - binary_accuracy: 0.8865 - val_loss: 0.8604 - val_auc: 0.9209 - val_binary_accuracy: 0.8457\n",
            "Epoch 103/200\n",
            "510/510 [==============================] - 9s 17ms/step - loss: 0.7665 - auc: 0.9534 - binary_accuracy: 0.8828 - val_loss: 0.8831 - val_auc: 0.9155 - val_binary_accuracy: 0.8279\n",
            "Epoch 104/200\n",
            "510/510 [==============================] - 9s 17ms/step - loss: 0.7554 - auc: 0.9534 - binary_accuracy: 0.8816 - val_loss: 0.8324 - val_auc: 0.9229 - val_binary_accuracy: 0.8438\n",
            "Epoch 105/200\n",
            "510/510 [==============================] - 9s 17ms/step - loss: 0.7426 - auc: 0.9544 - binary_accuracy: 0.8830 - val_loss: 0.8438 - val_auc: 0.9159 - val_binary_accuracy: 0.8418\n",
            "Epoch 106/200\n",
            "510/510 [==============================] - 9s 17ms/step - loss: 0.7306 - auc: 0.9550 - binary_accuracy: 0.8841 - val_loss: 0.8263 - val_auc: 0.9190 - val_binary_accuracy: 0.8450\n",
            "Epoch 107/200\n",
            "510/510 [==============================] - 8s 17ms/step - loss: 0.7214 - auc: 0.9549 - binary_accuracy: 0.8850 - val_loss: 0.8047 - val_auc: 0.9231 - val_binary_accuracy: 0.8489\n",
            "Epoch 108/200\n",
            "510/510 [==============================] - 8s 16ms/step - loss: 0.7098 - auc: 0.9558 - binary_accuracy: 0.8874 - val_loss: 0.7963 - val_auc: 0.9229 - val_binary_accuracy: 0.8450\n",
            "Epoch 109/200\n",
            "510/510 [==============================] - 9s 17ms/step - loss: 0.6939 - auc: 0.9584 - binary_accuracy: 0.8890 - val_loss: 0.7885 - val_auc: 0.9236 - val_binary_accuracy: 0.8433\n",
            "Epoch 110/200\n",
            "510/510 [==============================] - 9s 17ms/step - loss: 0.6923 - auc: 0.9561 - binary_accuracy: 0.8855 - val_loss: 0.7933 - val_auc: 0.9215 - val_binary_accuracy: 0.8380\n",
            "Epoch 111/200\n",
            "510/510 [==============================] - 9s 17ms/step - loss: 0.6809 - auc: 0.9574 - binary_accuracy: 0.8868 - val_loss: 0.7725 - val_auc: 0.9234 - val_binary_accuracy: 0.8472\n",
            "Epoch 112/200\n",
            "510/510 [==============================] - 9s 17ms/step - loss: 0.6738 - auc: 0.9573 - binary_accuracy: 0.8904 - val_loss: 0.7724 - val_auc: 0.9215 - val_binary_accuracy: 0.8487\n",
            "Epoch 113/200\n",
            "510/510 [==============================] - 9s 17ms/step - loss: 0.6648 - auc: 0.9583 - binary_accuracy: 0.8900 - val_loss: 0.7623 - val_auc: 0.9216 - val_binary_accuracy: 0.8425\n",
            "Epoch 114/200\n",
            "510/510 [==============================] - 9s 17ms/step - loss: 0.6565 - auc: 0.9586 - binary_accuracy: 0.8907 - val_loss: 0.7658 - val_auc: 0.9180 - val_binary_accuracy: 0.8443\n",
            "Epoch 115/200\n",
            "510/510 [==============================] - 8s 17ms/step - loss: 0.6533 - auc: 0.9573 - binary_accuracy: 0.8855 - val_loss: 0.7483 - val_auc: 0.9225 - val_binary_accuracy: 0.8438\n",
            "Epoch 116/200\n",
            "510/510 [==============================] - 9s 17ms/step - loss: 0.6409 - auc: 0.9595 - binary_accuracy: 0.8885 - val_loss: 0.7420 - val_auc: 0.9240 - val_binary_accuracy: 0.8473\n",
            "Epoch 117/200\n",
            "510/510 [==============================] - 9s 17ms/step - loss: 0.6354 - auc: 0.9592 - binary_accuracy: 0.8920 - val_loss: 0.7606 - val_auc: 0.9191 - val_binary_accuracy: 0.8378\n",
            "Epoch 118/200\n",
            "510/510 [==============================] - 9s 17ms/step - loss: 0.6209 - auc: 0.9621 - binary_accuracy: 0.8952 - val_loss: 0.7368 - val_auc: 0.9237 - val_binary_accuracy: 0.8452\n",
            "Epoch 119/200\n",
            "510/510 [==============================] - 9s 17ms/step - loss: 0.6233 - auc: 0.9595 - binary_accuracy: 0.8907 - val_loss: 0.7183 - val_auc: 0.9243 - val_binary_accuracy: 0.8410\n",
            "Epoch 120/200\n",
            "510/510 [==============================] - 9s 17ms/step - loss: 0.6089 - auc: 0.9623 - binary_accuracy: 0.8927 - val_loss: 0.7145 - val_auc: 0.9246 - val_binary_accuracy: 0.8497\n",
            "Epoch 121/200\n",
            "510/510 [==============================] - 9s 17ms/step - loss: 0.6139 - auc: 0.9592 - binary_accuracy: 0.8892 - val_loss: 0.7141 - val_auc: 0.9233 - val_binary_accuracy: 0.8447\n",
            "Epoch 122/200\n",
            "510/510 [==============================] - 9s 17ms/step - loss: 0.6054 - auc: 0.9607 - binary_accuracy: 0.8920 - val_loss: 0.7124 - val_auc: 0.9239 - val_binary_accuracy: 0.8453\n",
            "Epoch 123/200\n",
            "510/510 [==============================] - 9s 17ms/step - loss: 0.5922 - auc: 0.9630 - binary_accuracy: 0.8934 - val_loss: 0.6986 - val_auc: 0.9264 - val_binary_accuracy: 0.8533\n",
            "Epoch 124/200\n",
            "510/510 [==============================] - 9s 17ms/step - loss: 0.5884 - auc: 0.9628 - binary_accuracy: 0.8975 - val_loss: 0.6942 - val_auc: 0.9259 - val_binary_accuracy: 0.8470\n",
            "Epoch 125/200\n",
            "510/510 [==============================] - 9s 17ms/step - loss: 0.5873 - auc: 0.9620 - binary_accuracy: 0.8941 - val_loss: 0.6963 - val_auc: 0.9236 - val_binary_accuracy: 0.8545\n",
            "Epoch 126/200\n",
            "510/510 [==============================] - 9s 17ms/step - loss: 0.5784 - auc: 0.9631 - binary_accuracy: 0.8953 - val_loss: 0.6877 - val_auc: 0.9254 - val_binary_accuracy: 0.8532\n",
            "Epoch 127/200\n",
            "510/510 [==============================] - 9s 17ms/step - loss: 0.5761 - auc: 0.9626 - binary_accuracy: 0.8961 - val_loss: 0.6728 - val_auc: 0.9292 - val_binary_accuracy: 0.8555\n",
            "Epoch 128/200\n",
            "510/510 [==============================] - 9s 17ms/step - loss: 0.5683 - auc: 0.9637 - binary_accuracy: 0.8979 - val_loss: 0.6986 - val_auc: 0.9186 - val_binary_accuracy: 0.8415\n",
            "Epoch 129/200\n",
            "510/510 [==============================] - 9s 17ms/step - loss: 0.5665 - auc: 0.9632 - binary_accuracy: 0.8975 - val_loss: 0.6720 - val_auc: 0.9271 - val_binary_accuracy: 0.8557\n",
            "Epoch 130/200\n",
            "510/510 [==============================] - 9s 17ms/step - loss: 0.5588 - auc: 0.9645 - binary_accuracy: 0.8974 - val_loss: 0.6767 - val_auc: 0.9247 - val_binary_accuracy: 0.8507\n",
            "Epoch 131/200\n",
            "510/510 [==============================] - 9s 17ms/step - loss: 0.5584 - auc: 0.9634 - binary_accuracy: 0.8977 - val_loss: 0.6964 - val_auc: 0.9191 - val_binary_accuracy: 0.8433\n",
            "Epoch 132/200\n",
            "510/510 [==============================] - 9s 17ms/step - loss: 0.5471 - auc: 0.9659 - binary_accuracy: 0.8987 - val_loss: 0.6827 - val_auc: 0.9222 - val_binary_accuracy: 0.8418\n",
            "Epoch 133/200\n",
            "510/510 [==============================] - 9s 17ms/step - loss: 0.5456 - auc: 0.9654 - binary_accuracy: 0.9001 - val_loss: 0.6970 - val_auc: 0.9168 - val_binary_accuracy: 0.8370\n",
            "Epoch 134/200\n",
            "510/510 [==============================] - 9s 17ms/step - loss: 0.5411 - auc: 0.9657 - binary_accuracy: 0.9017 - val_loss: 0.6662 - val_auc: 0.9245 - val_binary_accuracy: 0.8497\n",
            "Epoch 135/200\n",
            "510/510 [==============================] - 9s 17ms/step - loss: 0.5401 - auc: 0.9652 - binary_accuracy: 0.8985 - val_loss: 0.6529 - val_auc: 0.9271 - val_binary_accuracy: 0.8540\n",
            "Epoch 136/200\n",
            "510/510 [==============================] - 9s 17ms/step - loss: 0.5306 - auc: 0.9672 - binary_accuracy: 0.9034 - val_loss: 0.6871 - val_auc: 0.9189 - val_binary_accuracy: 0.8369\n",
            "Epoch 137/200\n",
            "510/510 [==============================] - 9s 17ms/step - loss: 0.5279 - auc: 0.9671 - binary_accuracy: 0.9021 - val_loss: 0.6447 - val_auc: 0.9284 - val_binary_accuracy: 0.8559\n",
            "Epoch 138/200\n",
            "510/510 [==============================] - 9s 17ms/step - loss: 0.5338 - auc: 0.9644 - binary_accuracy: 0.8963 - val_loss: 0.6835 - val_auc: 0.9272 - val_binary_accuracy: 0.8338\n",
            "Epoch 139/200\n",
            "510/510 [==============================] - 9s 17ms/step - loss: 0.5210 - auc: 0.9677 - binary_accuracy: 0.9040 - val_loss: 0.6497 - val_auc: 0.9273 - val_binary_accuracy: 0.8519\n",
            "Epoch 140/200\n",
            "510/510 [==============================] - 9s 17ms/step - loss: 0.5200 - auc: 0.9671 - binary_accuracy: 0.9025 - val_loss: 0.6404 - val_auc: 0.9288 - val_binary_accuracy: 0.8579\n",
            "Epoch 141/200\n",
            "510/510 [==============================] - 9s 17ms/step - loss: 0.5200 - auc: 0.9662 - binary_accuracy: 0.9017 - val_loss: 0.6419 - val_auc: 0.9249 - val_binary_accuracy: 0.8525\n",
            "Epoch 142/200\n",
            "510/510 [==============================] - 9s 17ms/step - loss: 0.5099 - auc: 0.9686 - binary_accuracy: 0.9029 - val_loss: 0.6353 - val_auc: 0.9287 - val_binary_accuracy: 0.8493\n",
            "Epoch 143/200\n",
            "510/510 [==============================] - 9s 17ms/step - loss: 0.5115 - auc: 0.9673 - binary_accuracy: 0.9023 - val_loss: 0.6313 - val_auc: 0.9300 - val_binary_accuracy: 0.8560\n",
            "Epoch 144/200\n",
            "510/510 [==============================] - 9s 17ms/step - loss: 0.5040 - auc: 0.9690 - binary_accuracy: 0.9036 - val_loss: 0.6421 - val_auc: 0.9258 - val_binary_accuracy: 0.8470\n",
            "Epoch 145/200\n",
            "510/510 [==============================] - 9s 17ms/step - loss: 0.5098 - auc: 0.9666 - binary_accuracy: 0.9007 - val_loss: 0.6324 - val_auc: 0.9271 - val_binary_accuracy: 0.8505\n",
            "Epoch 146/200\n",
            "510/510 [==============================] - 9s 17ms/step - loss: 0.4945 - auc: 0.9702 - binary_accuracy: 0.9067 - val_loss: 0.6557 - val_auc: 0.9184 - val_binary_accuracy: 0.8389\n",
            "Epoch 147/200\n",
            "510/510 [==============================] - 9s 17ms/step - loss: 0.4985 - auc: 0.9687 - binary_accuracy: 0.9049 - val_loss: 0.6429 - val_auc: 0.9265 - val_binary_accuracy: 0.8517\n",
            "Epoch 148/200\n",
            "510/510 [==============================] - 9s 17ms/step - loss: 0.4914 - auc: 0.9699 - binary_accuracy: 0.9051 - val_loss: 0.6346 - val_auc: 0.9245 - val_binary_accuracy: 0.8507\n"
          ],
          "name": "stdout"
        }
      ]
    },
    {
      "cell_type": "code",
      "metadata": {
        "id": "5iXjL4oafhnG"
      },
      "source": [
        "# reshaping data to work with convolutional network\n",
        "conv_train_ds = create_dataset(\n",
        "    reshape_cnn_data(train_feat), \n",
        "    train_labels,\n",
        "    batch_size)\n",
        "conv_val_ds = create_dataset(\n",
        "    reshape_cnn_data(val_feat), \n",
        "    val_labels,\n",
        "    batch_size)"
      ],
      "execution_count": null,
      "outputs": []
    },
    {
      "cell_type": "code",
      "metadata": {
        "colab": {
          "base_uri": "https://localhost:8080/"
        },
        "id": "CWGPJuGAfRII",
        "outputId": "b7c52dec-8d8b-44f1-cbf6-9f6c2b3eaea4"
      },
      "source": [
        "history = model2.fit(\n",
        "    conv_train_ds,\n",
        "    steps_per_epoch=compute_steps_per_epoch(train_feat.shape[0], batch_size),\n",
        "    epochs=200,\n",
        "    validation_data=conv_val_ds,\n",
        "    validation_steps=compute_steps_per_epoch(val_feat.shape[0], batch_size),\n",
        "    callbacks=[callback],\n",
        ")"
      ],
      "execution_count": null,
      "outputs": [
        {
          "output_type": "stream",
          "text": [
            "Epoch 1/200\n",
            "510/510 [==============================] - 19s 34ms/step - loss: 37.7536 - auc_3: 0.5821 - binary_accuracy: 0.5640 - val_loss: 32.2012 - val_auc_3: 0.8098 - val_binary_accuracy: 0.7305\n",
            "Epoch 2/200\n",
            "510/510 [==============================] - 17s 34ms/step - loss: 30.9708 - auc_3: 0.7206 - binary_accuracy: 0.6682 - val_loss: 26.8825 - val_auc_3: 0.8440 - val_binary_accuracy: 0.7711\n",
            "Epoch 3/200\n",
            "510/510 [==============================] - 17s 34ms/step - loss: 25.9270 - auc_3: 0.7727 - binary_accuracy: 0.7103 - val_loss: 22.7959 - val_auc_3: 0.8603 - val_binary_accuracy: 0.7354\n",
            "Epoch 4/200\n",
            "510/510 [==============================] - 17s 34ms/step - loss: 21.9780 - auc_3: 0.7966 - binary_accuracy: 0.7308 - val_loss: 19.4612 - val_auc_3: 0.8704 - val_binary_accuracy: 0.7868\n",
            "Epoch 5/200\n",
            "510/510 [==============================] - 17s 34ms/step - loss: 18.8317 - auc_3: 0.8173 - binary_accuracy: 0.7498 - val_loss: 16.8308 - val_auc_3: 0.8701 - val_binary_accuracy: 0.7460\n",
            "Epoch 6/200\n",
            "510/510 [==============================] - 17s 34ms/step - loss: 16.2604 - auc_3: 0.8259 - binary_accuracy: 0.7552 - val_loss: 14.5489 - val_auc_3: 0.8825 - val_binary_accuracy: 0.8029\n",
            "Epoch 7/200\n",
            "510/510 [==============================] - 17s 34ms/step - loss: 14.1342 - auc_3: 0.8334 - binary_accuracy: 0.7602 - val_loss: 12.6959 - val_auc_3: 0.8841 - val_binary_accuracy: 0.8001\n",
            "Epoch 8/200\n",
            "510/510 [==============================] - 17s 34ms/step - loss: 12.3307 - auc_3: 0.8556 - binary_accuracy: 0.7772 - val_loss: 11.1442 - val_auc_3: 0.8885 - val_binary_accuracy: 0.8057\n",
            "Epoch 9/200\n",
            "510/510 [==============================] - 17s 34ms/step - loss: 10.8525 - auc_3: 0.8561 - binary_accuracy: 0.7787 - val_loss: 9.8715 - val_auc_3: 0.8904 - val_binary_accuracy: 0.7938\n",
            "Epoch 10/200\n",
            "510/510 [==============================] - 17s 34ms/step - loss: 9.5970 - auc_3: 0.8689 - binary_accuracy: 0.7888 - val_loss: 8.7628 - val_auc_3: 0.8928 - val_binary_accuracy: 0.8109\n",
            "Epoch 11/200\n",
            "510/510 [==============================] - 17s 34ms/step - loss: 8.5646 - auc_3: 0.8657 - binary_accuracy: 0.7874 - val_loss: 7.8380 - val_auc_3: 0.9013 - val_binary_accuracy: 0.8159\n",
            "Epoch 12/200\n",
            "510/510 [==============================] - 17s 34ms/step - loss: 7.6691 - auc_3: 0.8794 - binary_accuracy: 0.8027 - val_loss: 7.0929 - val_auc_3: 0.9007 - val_binary_accuracy: 0.7984\n",
            "Epoch 13/200\n",
            "510/510 [==============================] - 17s 34ms/step - loss: 6.9499 - auc_3: 0.8674 - binary_accuracy: 0.7941 - val_loss: 6.4001 - val_auc_3: 0.9052 - val_binary_accuracy: 0.8239\n",
            "Epoch 14/200\n",
            "510/510 [==============================] - 17s 34ms/step - loss: 6.2950 - auc_3: 0.8798 - binary_accuracy: 0.7990 - val_loss: 5.8598 - val_auc_3: 0.9038 - val_binary_accuracy: 0.8076\n",
            "Epoch 15/200\n",
            "510/510 [==============================] - 17s 34ms/step - loss: 5.7414 - auc_3: 0.8880 - binary_accuracy: 0.8099 - val_loss: 5.3885 - val_auc_3: 0.9064 - val_binary_accuracy: 0.7948\n",
            "Epoch 16/200\n",
            "510/510 [==============================] - 17s 34ms/step - loss: 5.2633 - auc_3: 0.8923 - binary_accuracy: 0.8140 - val_loss: 4.9340 - val_auc_3: 0.9074 - val_binary_accuracy: 0.8215\n",
            "Epoch 17/200\n",
            "510/510 [==============================] - 17s 34ms/step - loss: 4.8499 - auc_3: 0.8960 - binary_accuracy: 0.8183 - val_loss: 4.5697 - val_auc_3: 0.9108 - val_binary_accuracy: 0.8144\n",
            "Epoch 18/200\n",
            "510/510 [==============================] - 17s 34ms/step - loss: 4.4934 - auc_3: 0.8967 - binary_accuracy: 0.8206 - val_loss: 4.2394 - val_auc_3: 0.9081 - val_binary_accuracy: 0.8208\n",
            "Epoch 19/200\n",
            "510/510 [==============================] - 17s 34ms/step - loss: 4.1703 - auc_3: 0.9023 - binary_accuracy: 0.8255 - val_loss: 3.9464 - val_auc_3: 0.9120 - val_binary_accuracy: 0.8303\n",
            "Epoch 20/200\n",
            "510/510 [==============================] - 17s 34ms/step - loss: 3.8825 - auc_3: 0.9078 - binary_accuracy: 0.8294 - val_loss: 3.6853 - val_auc_3: 0.9159 - val_binary_accuracy: 0.8330\n",
            "Epoch 21/200\n",
            "510/510 [==============================] - 17s 34ms/step - loss: 3.6279 - auc_3: 0.9111 - binary_accuracy: 0.8297 - val_loss: 3.4597 - val_auc_3: 0.9117 - val_binary_accuracy: 0.8281\n",
            "Epoch 22/200\n",
            "510/510 [==============================] - 17s 34ms/step - loss: 3.4308 - auc_3: 0.9008 - binary_accuracy: 0.8210 - val_loss: 3.2705 - val_auc_3: 0.9059 - val_binary_accuracy: 0.8206\n",
            "Epoch 23/200\n",
            "510/510 [==============================] - 17s 34ms/step - loss: 3.2127 - auc_3: 0.9125 - binary_accuracy: 0.8304 - val_loss: 3.0797 - val_auc_3: 0.9171 - val_binary_accuracy: 0.8349\n",
            "Epoch 24/200\n",
            "510/510 [==============================] - 17s 34ms/step - loss: 3.0467 - auc_3: 0.9070 - binary_accuracy: 0.8269 - val_loss: 2.9067 - val_auc_3: 0.9204 - val_binary_accuracy: 0.8412\n",
            "Epoch 25/200\n",
            "510/510 [==============================] - 17s 34ms/step - loss: 2.8712 - auc_3: 0.9172 - binary_accuracy: 0.8395 - val_loss: 2.7587 - val_auc_3: 0.9200 - val_binary_accuracy: 0.8390\n",
            "Epoch 26/200\n",
            "510/510 [==============================] - 17s 34ms/step - loss: 2.7315 - auc_3: 0.9167 - binary_accuracy: 0.8401 - val_loss: 2.6233 - val_auc_3: 0.9248 - val_binary_accuracy: 0.8439\n",
            "Epoch 27/200\n",
            "510/510 [==============================] - 17s 34ms/step - loss: 2.5992 - auc_3: 0.9178 - binary_accuracy: 0.8454 - val_loss: 2.5022 - val_auc_3: 0.9246 - val_binary_accuracy: 0.8485\n",
            "Epoch 28/200\n",
            "510/510 [==============================] - 17s 34ms/step - loss: 2.4683 - auc_3: 0.9236 - binary_accuracy: 0.8462 - val_loss: 2.3840 - val_auc_3: 0.9266 - val_binary_accuracy: 0.8485\n",
            "Epoch 29/200\n",
            "510/510 [==============================] - 17s 34ms/step - loss: 2.3689 - auc_3: 0.9208 - binary_accuracy: 0.8437 - val_loss: 2.2901 - val_auc_3: 0.9249 - val_binary_accuracy: 0.8450\n",
            "Epoch 30/200\n",
            "510/510 [==============================] - 17s 34ms/step - loss: 2.2581 - auc_3: 0.9263 - binary_accuracy: 0.8473 - val_loss: 2.2165 - val_auc_3: 0.9201 - val_binary_accuracy: 0.8330\n",
            "Epoch 31/200\n",
            "510/510 [==============================] - 17s 34ms/step - loss: 2.1633 - auc_3: 0.9294 - binary_accuracy: 0.8497 - val_loss: 2.1099 - val_auc_3: 0.9264 - val_binary_accuracy: 0.8470\n",
            "Epoch 32/200\n",
            "510/510 [==============================] - 17s 34ms/step - loss: 2.0870 - auc_3: 0.9261 - binary_accuracy: 0.8500 - val_loss: 2.0325 - val_auc_3: 0.9267 - val_binary_accuracy: 0.8506\n",
            "Epoch 33/200\n",
            "510/510 [==============================] - 17s 34ms/step - loss: 2.0036 - auc_3: 0.9299 - binary_accuracy: 0.8471 - val_loss: 1.9565 - val_auc_3: 0.9337 - val_binary_accuracy: 0.8480\n",
            "Epoch 34/200\n",
            "510/510 [==============================] - 17s 34ms/step - loss: 1.9234 - auc_3: 0.9343 - binary_accuracy: 0.8597 - val_loss: 1.8857 - val_auc_3: 0.9299 - val_binary_accuracy: 0.8500\n",
            "Epoch 35/200\n",
            "510/510 [==============================] - 17s 34ms/step - loss: 1.8533 - auc_3: 0.9364 - binary_accuracy: 0.8609 - val_loss: 1.8244 - val_auc_3: 0.9300 - val_binary_accuracy: 0.8569\n",
            "Epoch 36/200\n",
            "510/510 [==============================] - 17s 34ms/step - loss: 1.7876 - auc_3: 0.9393 - binary_accuracy: 0.8666 - val_loss: 1.7628 - val_auc_3: 0.9320 - val_binary_accuracy: 0.8570\n",
            "Epoch 37/200\n",
            "510/510 [==============================] - 17s 34ms/step - loss: 1.7387 - auc_3: 0.9366 - binary_accuracy: 0.8611 - val_loss: 1.7210 - val_auc_3: 0.9273 - val_binary_accuracy: 0.8533\n",
            "Epoch 38/200\n",
            "510/510 [==============================] - 17s 34ms/step - loss: 1.6837 - auc_3: 0.9378 - binary_accuracy: 0.8622 - val_loss: 1.6576 - val_auc_3: 0.9333 - val_binary_accuracy: 0.8532\n",
            "Epoch 39/200\n",
            "510/510 [==============================] - 17s 34ms/step - loss: 1.6191 - auc_3: 0.9445 - binary_accuracy: 0.8719 - val_loss: 1.6183 - val_auc_3: 0.9326 - val_binary_accuracy: 0.8577\n",
            "Epoch 40/200\n",
            "510/510 [==============================] - 17s 34ms/step - loss: 1.5866 - auc_3: 0.9397 - binary_accuracy: 0.8666 - val_loss: 1.6111 - val_auc_3: 0.9251 - val_binary_accuracy: 0.8340\n",
            "Epoch 41/200\n",
            "510/510 [==============================] - 17s 34ms/step - loss: 1.5278 - auc_3: 0.9465 - binary_accuracy: 0.8704 - val_loss: 1.5380 - val_auc_3: 0.9297 - val_binary_accuracy: 0.8512\n",
            "Epoch 42/200\n",
            "510/510 [==============================] - 17s 33ms/step - loss: 1.4898 - auc_3: 0.9452 - binary_accuracy: 0.8718 - val_loss: 1.4903 - val_auc_3: 0.9344 - val_binary_accuracy: 0.8606\n",
            "Epoch 43/200\n",
            "510/510 [==============================] - 17s 34ms/step - loss: 1.4542 - auc_3: 0.9445 - binary_accuracy: 0.8733 - val_loss: 1.4641 - val_auc_3: 0.9329 - val_binary_accuracy: 0.8587\n",
            "Epoch 44/200\n",
            "510/510 [==============================] - 17s 34ms/step - loss: 1.4066 - auc_3: 0.9496 - binary_accuracy: 0.8822 - val_loss: 1.4215 - val_auc_3: 0.9347 - val_binary_accuracy: 0.8600\n",
            "Epoch 45/200\n",
            "510/510 [==============================] - 17s 34ms/step - loss: 1.3882 - auc_3: 0.9447 - binary_accuracy: 0.8733 - val_loss: 1.3972 - val_auc_3: 0.9321 - val_binary_accuracy: 0.8596\n",
            "Epoch 46/200\n",
            "510/510 [==============================] - 17s 34ms/step - loss: 1.3390 - auc_3: 0.9511 - binary_accuracy: 0.8849 - val_loss: 1.3513 - val_auc_3: 0.9376 - val_binary_accuracy: 0.8624\n",
            "Epoch 47/200\n",
            "510/510 [==============================] - 17s 34ms/step - loss: 1.3055 - auc_3: 0.9532 - binary_accuracy: 0.8847 - val_loss: 1.3205 - val_auc_3: 0.9399 - val_binary_accuracy: 0.8684\n",
            "Epoch 48/200\n",
            "510/510 [==============================] - 17s 34ms/step - loss: 1.2827 - auc_3: 0.9511 - binary_accuracy: 0.8758 - val_loss: 1.2889 - val_auc_3: 0.9415 - val_binary_accuracy: 0.8663\n",
            "Epoch 49/200\n",
            "510/510 [==============================] - 17s 34ms/step - loss: 1.2424 - auc_3: 0.9564 - binary_accuracy: 0.8872 - val_loss: 1.2865 - val_auc_3: 0.9351 - val_binary_accuracy: 0.8584\n",
            "Epoch 50/200\n",
            "510/510 [==============================] - 17s 34ms/step - loss: 1.2274 - auc_3: 0.9526 - binary_accuracy: 0.8825 - val_loss: 1.2484 - val_auc_3: 0.9392 - val_binary_accuracy: 0.8622\n",
            "Epoch 51/200\n",
            "510/510 [==============================] - 17s 34ms/step - loss: 1.1941 - auc_3: 0.9563 - binary_accuracy: 0.8840 - val_loss: 1.2209 - val_auc_3: 0.9423 - val_binary_accuracy: 0.8653\n",
            "Epoch 52/200\n",
            "510/510 [==============================] - 17s 34ms/step - loss: 1.1714 - auc_3: 0.9561 - binary_accuracy: 0.8890 - val_loss: 1.2137 - val_auc_3: 0.9395 - val_binary_accuracy: 0.8570\n",
            "Epoch 53/200\n",
            "510/510 [==============================] - 17s 34ms/step - loss: 1.1348 - auc_3: 0.9612 - binary_accuracy: 0.8944 - val_loss: 1.1848 - val_auc_3: 0.9380 - val_binary_accuracy: 0.8596\n",
            "Epoch 54/200\n",
            "510/510 [==============================] - 17s 34ms/step - loss: 1.1222 - auc_3: 0.9588 - binary_accuracy: 0.8875 - val_loss: 1.1721 - val_auc_3: 0.9366 - val_binary_accuracy: 0.8589\n",
            "Epoch 55/200\n",
            "510/510 [==============================] - 17s 34ms/step - loss: 1.0914 - auc_3: 0.9623 - binary_accuracy: 0.8957 - val_loss: 1.1399 - val_auc_3: 0.9417 - val_binary_accuracy: 0.8656\n",
            "Epoch 56/200\n",
            "510/510 [==============================] - 17s 34ms/step - loss: 1.0714 - auc_3: 0.9631 - binary_accuracy: 0.8973 - val_loss: 1.1233 - val_auc_3: 0.9412 - val_binary_accuracy: 0.8684\n",
            "Epoch 57/200\n",
            "510/510 [==============================] - 17s 34ms/step - loss: 1.0408 - auc_3: 0.9673 - binary_accuracy: 0.9051 - val_loss: 1.1069 - val_auc_3: 0.9422 - val_binary_accuracy: 0.8639\n",
            "Epoch 58/200\n",
            "510/510 [==============================] - 17s 34ms/step - loss: 1.0205 - auc_3: 0.9685 - binary_accuracy: 0.9090 - val_loss: 1.0913 - val_auc_3: 0.9404 - val_binary_accuracy: 0.8683\n",
            "Epoch 59/200\n",
            "510/510 [==============================] - 17s 34ms/step - loss: 1.0090 - auc_3: 0.9671 - binary_accuracy: 0.9045 - val_loss: 1.0627 - val_auc_3: 0.9449 - val_binary_accuracy: 0.8750\n",
            "Epoch 60/200\n",
            "510/510 [==============================] - 17s 34ms/step - loss: 0.9879 - auc_3: 0.9692 - binary_accuracy: 0.9085 - val_loss: 1.0608 - val_auc_3: 0.9402 - val_binary_accuracy: 0.8656\n",
            "Epoch 61/200\n",
            "510/510 [==============================] - 17s 34ms/step - loss: 0.9697 - auc_3: 0.9697 - binary_accuracy: 0.9073 - val_loss: 1.0285 - val_auc_3: 0.9468 - val_binary_accuracy: 0.8771\n",
            "Epoch 62/200\n",
            "510/510 [==============================] - 17s 34ms/step - loss: 0.9493 - auc_3: 0.9720 - binary_accuracy: 0.9129 - val_loss: 1.0223 - val_auc_3: 0.9459 - val_binary_accuracy: 0.8731\n",
            "Epoch 63/200\n",
            "510/510 [==============================] - 17s 34ms/step - loss: 0.9275 - auc_3: 0.9743 - binary_accuracy: 0.9154 - val_loss: 1.0190 - val_auc_3: 0.9446 - val_binary_accuracy: 0.8694\n",
            "Epoch 64/200\n",
            "510/510 [==============================] - 17s 34ms/step - loss: 0.9182 - auc_3: 0.9734 - binary_accuracy: 0.9146 - val_loss: 1.0111 - val_auc_3: 0.9427 - val_binary_accuracy: 0.8667\n",
            "Epoch 65/200\n",
            "510/510 [==============================] - 17s 34ms/step - loss: 0.9035 - auc_3: 0.9738 - binary_accuracy: 0.9151 - val_loss: 0.9820 - val_auc_3: 0.9459 - val_binary_accuracy: 0.8721\n",
            "Epoch 66/200\n",
            "510/510 [==============================] - 17s 34ms/step - loss: 0.8918 - auc_3: 0.9742 - binary_accuracy: 0.9159 - val_loss: 0.9696 - val_auc_3: 0.9462 - val_binary_accuracy: 0.8733\n",
            "Epoch 67/200\n",
            "510/510 [==============================] - 17s 34ms/step - loss: 0.8714 - auc_3: 0.9766 - binary_accuracy: 0.9210 - val_loss: 0.9609 - val_auc_3: 0.9461 - val_binary_accuracy: 0.8760\n",
            "Epoch 68/200\n",
            "510/510 [==============================] - 17s 34ms/step - loss: 0.8560 - auc_3: 0.9777 - binary_accuracy: 0.9226 - val_loss: 0.9398 - val_auc_3: 0.9486 - val_binary_accuracy: 0.8773\n",
            "Epoch 69/200\n",
            "510/510 [==============================] - 17s 34ms/step - loss: 0.8463 - auc_3: 0.9775 - binary_accuracy: 0.9241 - val_loss: 0.9377 - val_auc_3: 0.9485 - val_binary_accuracy: 0.8773\n",
            "Epoch 70/200\n",
            "510/510 [==============================] - 17s 34ms/step - loss: 0.8364 - auc_3: 0.9770 - binary_accuracy: 0.9221 - val_loss: 0.9212 - val_auc_3: 0.9491 - val_binary_accuracy: 0.8743\n",
            "Epoch 71/200\n",
            "510/510 [==============================] - 17s 34ms/step - loss: 0.8207 - auc_3: 0.9788 - binary_accuracy: 0.9259 - val_loss: 0.9211 - val_auc_3: 0.9478 - val_binary_accuracy: 0.8724\n",
            "Epoch 72/200\n",
            "510/510 [==============================] - 17s 34ms/step - loss: 0.8081 - auc_3: 0.9794 - binary_accuracy: 0.9247 - val_loss: 0.9162 - val_auc_3: 0.9449 - val_binary_accuracy: 0.8763\n",
            "Epoch 73/200\n",
            "510/510 [==============================] - 17s 34ms/step - loss: 0.7939 - auc_3: 0.9807 - binary_accuracy: 0.9304 - val_loss: 0.9310 - val_auc_3: 0.9433 - val_binary_accuracy: 0.8602\n",
            "Epoch 74/200\n",
            "510/510 [==============================] - 17s 34ms/step - loss: 0.7743 - auc_3: 0.9831 - binary_accuracy: 0.9363 - val_loss: 0.8835 - val_auc_3: 0.9492 - val_binary_accuracy: 0.8833\n",
            "Epoch 75/200\n",
            "510/510 [==============================] - 17s 34ms/step - loss: 0.7689 - auc_3: 0.9828 - binary_accuracy: 0.9335 - val_loss: 0.8715 - val_auc_3: 0.9505 - val_binary_accuracy: 0.8871\n",
            "Epoch 76/200\n",
            "510/510 [==============================] - 17s 34ms/step - loss: 0.7512 - auc_3: 0.9846 - binary_accuracy: 0.9376 - val_loss: 0.8719 - val_auc_3: 0.9487 - val_binary_accuracy: 0.8749\n",
            "Epoch 77/200\n",
            "510/510 [==============================] - 17s 34ms/step - loss: 0.7419 - auc_3: 0.9851 - binary_accuracy: 0.9383 - val_loss: 0.8681 - val_auc_3: 0.9506 - val_binary_accuracy: 0.8779\n",
            "Epoch 78/200\n",
            "510/510 [==============================] - 17s 34ms/step - loss: 0.7360 - auc_3: 0.9847 - binary_accuracy: 0.9391 - val_loss: 0.8519 - val_auc_3: 0.9504 - val_binary_accuracy: 0.8820\n",
            "Epoch 79/200\n",
            "510/510 [==============================] - 17s 34ms/step - loss: 0.7248 - auc_3: 0.9851 - binary_accuracy: 0.9382 - val_loss: 0.8485 - val_auc_3: 0.9486 - val_binary_accuracy: 0.8806\n",
            "Epoch 80/200\n",
            "510/510 [==============================] - 17s 34ms/step - loss: 0.7105 - auc_3: 0.9871 - binary_accuracy: 0.9467 - val_loss: 0.8291 - val_auc_3: 0.9527 - val_binary_accuracy: 0.8830\n",
            "Epoch 81/200\n",
            "510/510 [==============================] - 17s 34ms/step - loss: 0.7049 - auc_3: 0.9865 - binary_accuracy: 0.9441 - val_loss: 0.8304 - val_auc_3: 0.9516 - val_binary_accuracy: 0.8818\n",
            "Epoch 82/200\n",
            "510/510 [==============================] - 17s 34ms/step - loss: 0.6960 - auc_3: 0.9868 - binary_accuracy: 0.9423 - val_loss: 0.8264 - val_auc_3: 0.9509 - val_binary_accuracy: 0.8836\n",
            "Epoch 83/200\n",
            "510/510 [==============================] - 17s 34ms/step - loss: 0.6830 - auc_3: 0.9886 - binary_accuracy: 0.9434 - val_loss: 0.8185 - val_auc_3: 0.9501 - val_binary_accuracy: 0.8846\n",
            "Epoch 84/200\n",
            "510/510 [==============================] - 17s 34ms/step - loss: 0.6796 - auc_3: 0.9878 - binary_accuracy: 0.9415 - val_loss: 0.8217 - val_auc_3: 0.9471 - val_binary_accuracy: 0.8789\n",
            "Epoch 85/200\n",
            "510/510 [==============================] - 17s 34ms/step - loss: 0.6609 - auc_3: 0.9903 - binary_accuracy: 0.9495 - val_loss: 0.8124 - val_auc_3: 0.9495 - val_binary_accuracy: 0.8831\n",
            "Epoch 86/200\n",
            "510/510 [==============================] - 17s 34ms/step - loss: 0.6540 - auc_3: 0.9898 - binary_accuracy: 0.9493 - val_loss: 0.7994 - val_auc_3: 0.9509 - val_binary_accuracy: 0.8806\n",
            "Epoch 87/200\n",
            "510/510 [==============================] - 17s 34ms/step - loss: 0.6463 - auc_3: 0.9904 - binary_accuracy: 0.9549 - val_loss: 0.7833 - val_auc_3: 0.9538 - val_binary_accuracy: 0.8854\n",
            "Epoch 88/200\n",
            "510/510 [==============================] - 17s 34ms/step - loss: 0.6391 - auc_3: 0.9904 - binary_accuracy: 0.9508 - val_loss: 0.7913 - val_auc_3: 0.9494 - val_binary_accuracy: 0.8860\n",
            "Epoch 89/200\n",
            "510/510 [==============================] - 17s 34ms/step - loss: 0.6304 - auc_3: 0.9910 - binary_accuracy: 0.9580 - val_loss: 0.7771 - val_auc_3: 0.9550 - val_binary_accuracy: 0.8820\n",
            "Epoch 90/200\n",
            "510/510 [==============================] - 17s 34ms/step - loss: 0.6200 - auc_3: 0.9917 - binary_accuracy: 0.9568 - val_loss: 0.7841 - val_auc_3: 0.9499 - val_binary_accuracy: 0.8824\n",
            "Epoch 91/200\n",
            "510/510 [==============================] - 17s 34ms/step - loss: 0.6110 - auc_3: 0.9925 - binary_accuracy: 0.9579 - val_loss: 0.7700 - val_auc_3: 0.9518 - val_binary_accuracy: 0.8814\n",
            "Epoch 92/200\n",
            "510/510 [==============================] - 17s 34ms/step - loss: 0.6042 - auc_3: 0.9925 - binary_accuracy: 0.9591 - val_loss: 0.7603 - val_auc_3: 0.9534 - val_binary_accuracy: 0.8853\n",
            "Epoch 93/200\n",
            "510/510 [==============================] - 17s 34ms/step - loss: 0.5938 - auc_3: 0.9934 - binary_accuracy: 0.9626 - val_loss: 0.7472 - val_auc_3: 0.9555 - val_binary_accuracy: 0.8880\n",
            "Epoch 94/200\n",
            "510/510 [==============================] - 17s 34ms/step - loss: 0.5956 - auc_3: 0.9923 - binary_accuracy: 0.9562 - val_loss: 0.7371 - val_auc_3: 0.9570 - val_binary_accuracy: 0.8934\n",
            "Epoch 95/200\n",
            "510/510 [==============================] - 17s 34ms/step - loss: 0.5834 - auc_3: 0.9936 - binary_accuracy: 0.9622 - val_loss: 0.7541 - val_auc_3: 0.9505 - val_binary_accuracy: 0.8841\n",
            "Epoch 96/200\n",
            "510/510 [==============================] - 17s 34ms/step - loss: 0.5720 - auc_3: 0.9943 - binary_accuracy: 0.9623 - val_loss: 0.7393 - val_auc_3: 0.9548 - val_binary_accuracy: 0.8910\n",
            "Epoch 97/200\n",
            "510/510 [==============================] - 17s 34ms/step - loss: 0.5746 - auc_3: 0.9931 - binary_accuracy: 0.9591 - val_loss: 0.7404 - val_auc_3: 0.9520 - val_binary_accuracy: 0.8876\n",
            "Epoch 98/200\n",
            "510/510 [==============================] - 17s 34ms/step - loss: 0.5578 - auc_3: 0.9952 - binary_accuracy: 0.9667 - val_loss: 0.7456 - val_auc_3: 0.9509 - val_binary_accuracy: 0.8857\n",
            "Epoch 99/200\n",
            "510/510 [==============================] - 17s 34ms/step - loss: 0.5558 - auc_3: 0.9944 - binary_accuracy: 0.9648 - val_loss: 0.7345 - val_auc_3: 0.9507 - val_binary_accuracy: 0.8857\n",
            "Epoch 100/200\n",
            "510/510 [==============================] - 17s 34ms/step - loss: 0.5498 - auc_3: 0.9950 - binary_accuracy: 0.9649 - val_loss: 0.7283 - val_auc_3: 0.9519 - val_binary_accuracy: 0.8850\n",
            "Epoch 101/200\n",
            "510/510 [==============================] - 17s 34ms/step - loss: 0.5423 - auc_3: 0.9954 - binary_accuracy: 0.9682 - val_loss: 0.7168 - val_auc_3: 0.9547 - val_binary_accuracy: 0.8923\n",
            "Epoch 102/200\n",
            "510/510 [==============================] - 17s 34ms/step - loss: 0.5330 - auc_3: 0.9957 - binary_accuracy: 0.9696 - val_loss: 0.7159 - val_auc_3: 0.9537 - val_binary_accuracy: 0.8910\n",
            "Epoch 103/200\n",
            "510/510 [==============================] - 17s 34ms/step - loss: 0.5332 - auc_3: 0.9952 - binary_accuracy: 0.9662 - val_loss: 0.7165 - val_auc_3: 0.9523 - val_binary_accuracy: 0.8878\n",
            "Epoch 104/200\n",
            "510/510 [==============================] - 17s 34ms/step - loss: 0.5215 - auc_3: 0.9962 - binary_accuracy: 0.9714 - val_loss: 0.6994 - val_auc_3: 0.9565 - val_binary_accuracy: 0.8906\n",
            "Epoch 105/200\n",
            "510/510 [==============================] - 17s 34ms/step - loss: 0.5200 - auc_3: 0.9960 - binary_accuracy: 0.9692 - val_loss: 0.6883 - val_auc_3: 0.9577 - val_binary_accuracy: 0.8984\n",
            "Epoch 106/200\n",
            "510/510 [==============================] - 17s 34ms/step - loss: 0.5172 - auc_3: 0.9957 - binary_accuracy: 0.9676 - val_loss: 0.6994 - val_auc_3: 0.9543 - val_binary_accuracy: 0.8957\n",
            "Epoch 107/200\n",
            "510/510 [==============================] - 17s 34ms/step - loss: 0.5035 - auc_3: 0.9966 - binary_accuracy: 0.9719 - val_loss: 0.7040 - val_auc_3: 0.9539 - val_binary_accuracy: 0.8863\n",
            "Epoch 108/200\n",
            "510/510 [==============================] - 17s 34ms/step - loss: 0.5021 - auc_3: 0.9965 - binary_accuracy: 0.9726 - val_loss: 0.7034 - val_auc_3: 0.9535 - val_binary_accuracy: 0.8900\n",
            "Epoch 109/200\n",
            "510/510 [==============================] - 17s 34ms/step - loss: 0.4965 - auc_3: 0.9967 - binary_accuracy: 0.9743 - val_loss: 0.6800 - val_auc_3: 0.9568 - val_binary_accuracy: 0.8958\n",
            "Epoch 110/200\n",
            "510/510 [==============================] - 17s 34ms/step - loss: 0.4843 - auc_3: 0.9974 - binary_accuracy: 0.9787 - val_loss: 0.6874 - val_auc_3: 0.9538 - val_binary_accuracy: 0.8886\n",
            "Epoch 111/200\n",
            "510/510 [==============================] - 17s 34ms/step - loss: 0.4821 - auc_3: 0.9972 - binary_accuracy: 0.9768 - val_loss: 0.6847 - val_auc_3: 0.9540 - val_binary_accuracy: 0.8933\n",
            "Epoch 112/200\n",
            "510/510 [==============================] - 17s 34ms/step - loss: 0.4769 - auc_3: 0.9974 - binary_accuracy: 0.9762 - val_loss: 0.6838 - val_auc_3: 0.9551 - val_binary_accuracy: 0.8900\n",
            "Epoch 113/200\n",
            "510/510 [==============================] - 17s 34ms/step - loss: 0.4708 - auc_3: 0.9976 - binary_accuracy: 0.9767 - val_loss: 0.6828 - val_auc_3: 0.9533 - val_binary_accuracy: 0.8881\n",
            "Epoch 114/200\n",
            "510/510 [==============================] - 17s 34ms/step - loss: 0.4712 - auc_3: 0.9970 - binary_accuracy: 0.9780 - val_loss: 0.6671 - val_auc_3: 0.9559 - val_binary_accuracy: 0.8941\n",
            "Epoch 115/200\n",
            "510/510 [==============================] - 17s 34ms/step - loss: 0.4636 - auc_3: 0.9976 - binary_accuracy: 0.9771 - val_loss: 0.6735 - val_auc_3: 0.9542 - val_binary_accuracy: 0.8880\n",
            "Epoch 116/200\n",
            "510/510 [==============================] - 17s 34ms/step - loss: 0.4593 - auc_3: 0.9976 - binary_accuracy: 0.9794 - val_loss: 0.6682 - val_auc_3: 0.9529 - val_binary_accuracy: 0.8903\n",
            "Epoch 117/200\n",
            "510/510 [==============================] - 17s 34ms/step - loss: 0.4565 - auc_3: 0.9978 - binary_accuracy: 0.9779 - val_loss: 0.6553 - val_auc_3: 0.9557 - val_binary_accuracy: 0.8998\n",
            "Epoch 118/200\n",
            "510/510 [==============================] - 17s 34ms/step - loss: 0.4487 - auc_3: 0.9979 - binary_accuracy: 0.9806 - val_loss: 0.6574 - val_auc_3: 0.9560 - val_binary_accuracy: 0.8937\n",
            "Epoch 119/200\n",
            "510/510 [==============================] - 17s 34ms/step - loss: 0.4471 - auc_3: 0.9977 - binary_accuracy: 0.9782 - val_loss: 0.6474 - val_auc_3: 0.9565 - val_binary_accuracy: 0.8926\n",
            "Epoch 120/200\n",
            "510/510 [==============================] - 17s 34ms/step - loss: 0.4366 - auc_3: 0.9985 - binary_accuracy: 0.9834 - val_loss: 0.6462 - val_auc_3: 0.9564 - val_binary_accuracy: 0.8943\n",
            "Epoch 121/200\n",
            "510/510 [==============================] - 17s 34ms/step - loss: 0.4389 - auc_3: 0.9979 - binary_accuracy: 0.9774 - val_loss: 0.6384 - val_auc_3: 0.9574 - val_binary_accuracy: 0.8955\n",
            "Epoch 122/200\n",
            "510/510 [==============================] - 17s 34ms/step - loss: 0.4332 - auc_3: 0.9980 - binary_accuracy: 0.9797 - val_loss: 0.6377 - val_auc_3: 0.9579 - val_binary_accuracy: 0.8961\n",
            "Epoch 123/200\n",
            "510/510 [==============================] - 17s 34ms/step - loss: 0.4253 - auc_3: 0.9984 - binary_accuracy: 0.9821 - val_loss: 0.6419 - val_auc_3: 0.9561 - val_binary_accuracy: 0.8901\n",
            "Epoch 124/200\n",
            "510/510 [==============================] - 17s 34ms/step - loss: 0.4256 - auc_3: 0.9982 - binary_accuracy: 0.9809 - val_loss: 0.6311 - val_auc_3: 0.9582 - val_binary_accuracy: 0.8970\n",
            "Epoch 125/200\n",
            "510/510 [==============================] - 17s 34ms/step - loss: 0.4182 - auc_3: 0.9986 - binary_accuracy: 0.9811 - val_loss: 0.6293 - val_auc_3: 0.9571 - val_binary_accuracy: 0.8960\n",
            "Epoch 126/200\n",
            "510/510 [==============================] - 17s 34ms/step - loss: 0.4164 - auc_3: 0.9986 - binary_accuracy: 0.9821 - val_loss: 0.6304 - val_auc_3: 0.9569 - val_binary_accuracy: 0.8884\n",
            "Epoch 127/200\n",
            "510/510 [==============================] - 17s 34ms/step - loss: 0.4087 - auc_3: 0.9988 - binary_accuracy: 0.9855 - val_loss: 0.6206 - val_auc_3: 0.9577 - val_binary_accuracy: 0.8933\n",
            "Epoch 128/200\n",
            "510/510 [==============================] - 17s 34ms/step - loss: 0.4067 - auc_3: 0.9988 - binary_accuracy: 0.9847 - val_loss: 0.6092 - val_auc_3: 0.9597 - val_binary_accuracy: 0.8991\n",
            "Epoch 129/200\n",
            "510/510 [==============================] - 17s 34ms/step - loss: 0.4071 - auc_3: 0.9986 - binary_accuracy: 0.9834 - val_loss: 0.6256 - val_auc_3: 0.9567 - val_binary_accuracy: 0.8961\n",
            "Epoch 130/200\n",
            "510/510 [==============================] - 17s 34ms/step - loss: 0.4029 - auc_3: 0.9986 - binary_accuracy: 0.9817 - val_loss: 0.6107 - val_auc_3: 0.9589 - val_binary_accuracy: 0.9018\n",
            "Epoch 131/200\n",
            "510/510 [==============================] - 17s 34ms/step - loss: 0.3973 - auc_3: 0.9990 - binary_accuracy: 0.9839 - val_loss: 0.6100 - val_auc_3: 0.9582 - val_binary_accuracy: 0.8985\n",
            "Epoch 132/200\n",
            "510/510 [==============================] - 17s 34ms/step - loss: 0.3946 - auc_3: 0.9987 - binary_accuracy: 0.9848 - val_loss: 0.6324 - val_auc_3: 0.9564 - val_binary_accuracy: 0.8877\n",
            "Epoch 133/200\n",
            "510/510 [==============================] - 18s 34ms/step - loss: 0.3876 - auc_3: 0.9991 - binary_accuracy: 0.9865 - val_loss: 0.6169 - val_auc_3: 0.9558 - val_binary_accuracy: 0.8948\n"
          ],
          "name": "stdout"
        }
      ]
    },
    {
      "cell_type": "code",
      "metadata": {
        "colab": {
          "base_uri": "https://localhost:8080/",
          "height": 295
        },
        "id": "QktoeyXj_5BN",
        "outputId": "544a53d7-414e-407a-f001-a5bf69c35163"
      },
      "source": [
        "# summarize history for loss\n",
        "plt.plot(history.history['loss'])\n",
        "plt.plot(history.history['val_loss'])\n",
        "plt.title('model loss')\n",
        "plt.ylabel('loss')\n",
        "plt.xlabel('epoch')\n",
        "plt.legend(['train', 'test'], loc='upper left')\n",
        "plt.show()"
      ],
      "execution_count": null,
      "outputs": [
        {
          "output_type": "display_data",
          "data": {
            "image/png": "[encoded data removed]",
            "text/plain": [
              "<Figure size 432x288 with 1 Axes>"
            ]
          },
          "metadata": {
            "tags": [],
            "needs_background": "light"
          }
        }
      ]
    },
    {
      "cell_type": "code",
      "metadata": {
        "id": "5vQhePMxrD9d",
        "colab": {
          "base_uri": "https://localhost:8080/",
          "height": 295
        },
        "outputId": "dbdeae0e-49da-49a8-f558-e0c22aab1c5f"
      },
      "source": [
        "# summarize history for auc\n",
        "plt.plot(history.history['auc_29'])\n",
        "plt.plot(history.history['val_auc_29'])\n",
        "plt.title('model auc')\n",
        "plt.ylabel('auc')\n",
        "plt.xlabel('epoch')\n",
        "plt.legend(['train', 'test'], loc='upper left')\n",
        "plt.show()"
      ],
      "execution_count": null,
      "outputs": [
        {
          "output_type": "display_data",
          "data": {
            "image/png": "[encoded data removed]",
            "text/plain": [
              "<Figure size 432x288 with 1 Axes>"
            ]
          },
          "metadata": {
            "tags": [],
            "needs_background": "light"
          }
        }
      ]
    },
    {
      "cell_type": "code",
      "metadata": {
        "id": "XkjT5AJnyKk6",
        "colab": {
          "base_uri": "https://localhost:8080/",
          "height": 295
        },
        "outputId": "ba581815-3744-469c-b651-261436b7628b"
      },
      "source": [
        "# summarize history for bin acc\n",
        "plt.plot(history.history['binary_accuracy'])\n",
        "plt.plot(history.history['val_binary_accuracy'])\n",
        "plt.title('model binary accuracy')\n",
        "plt.ylabel('binary accuracy')\n",
        "plt.xlabel('epoch')\n",
        "plt.legend(['train', 'test'], loc='upper left')\n",
        "plt.show()"
      ],
      "execution_count": null,
      "outputs": [
        {
          "output_type": "display_data",
          "data": {
            "image/png": "[encoded data removed]",
            "text/plain": [
              "<Figure size 432x288 with 1 Axes>"
            ]
          },
          "metadata": {
            "tags": [],
            "needs_background": "light"
          }
        }
      ]
    },
    {
      "cell_type": "code",
      "metadata": {
        "colab": {
          "base_uri": "https://localhost:8080/"
        },
        "id": "Yp2H3RUe8_KO",
        "outputId": "565d137c-1c00-472a-8d2f-9c78776dc65e"
      },
      "source": [
        "# model 1 metrics (DNN)\n",
        "metrics = model.evaluate(val_feat, val_labels)\n",
        "\n",
        "print(f\"Validation Loss: {metrics[0]}\")\n",
        "print(f\"Validation AUC: {metrics[1]}\")\n",
        "print(f\"Validation Binary Acc: {metrics[2]}\")"
      ],
      "execution_count": null,
      "outputs": [
        {
          "output_type": "stream",
          "text": [
            "219/219 [==============================] - 1s 6ms/step - loss: 0.6016 - auc_27: 0.9301 - binary_accuracy: 0.8559\n",
            "Test Loss: 0.6015745401382446\n",
            "Test AUC: 0.9301238656044006\n",
            "Test Binary Acc: 0.8558751940727234\n"
          ],
          "name": "stdout"
        }
      ]
    },
    {
      "cell_type": "code",
      "metadata": {
        "colab": {
          "base_uri": "https://localhost:8080/",
          "height": 313
        },
        "id": "vXTRRPzJwqij",
        "outputId": "496f0957-060a-48b6-9c7d-16f43ff10d0a"
      },
      "source": [
        "check_acc_thresh(model.predict(val_feat), val_labels)"
      ],
      "execution_count": null,
      "outputs": [
        {
          "output_type": "display_data",
          "data": {
            "image/png": "[encoded data removed]",
            "text/plain": [
              "<Figure size 432x288 with 1 Axes>"
            ]
          },
          "metadata": {
            "tags": [],
            "needs_background": "light"
          }
        },
        {
          "output_type": "stream",
          "text": [
            "Maximum accuracy: 0.860741376876831 at a threshold of 60\n"
          ],
          "name": "stdout"
        }
      ]
    },
    {
      "cell_type": "code",
      "metadata": {
        "colab": {
          "base_uri": "https://localhost:8080/",
          "height": 265
        },
        "id": "rcULopCzpOiE",
        "outputId": "34376475-5642-45fb-c1d7-9b0cd93a9cee"
      },
      "source": [
        "roc_plot(val_feat, val_labels, model=model)"
      ],
      "execution_count": null,
      "outputs": [
        {
          "output_type": "display_data",
          "data": {
            "image/png": "[encoded data removed]",
            "text/plain": [
              "<Figure size 432x288 with 1 Axes>"
            ]
          },
          "metadata": {
            "tags": [],
            "needs_background": "light"
          }
        }
      ]
    },
    {
      "cell_type": "code",
      "metadata": {
        "colab": {
          "base_uri": "https://localhost:8080/"
        },
        "id": "CLMg-u1rlNcL",
        "outputId": "8c72a829-6a8e-4ffe-f96e-b725fac815f0"
      },
      "source": [
        "# model 2 metrics (CNN)\n",
        "metrics2 = model2.evaluate(reshape_cnn_data(val_feat), val_labels)\n",
        "\n",
        "print(f\"Validation Loss: {metrics2[0]}\")\n",
        "print(f\"Validation AUC: {metrics2[1]}\")\n",
        "print(f\"Validation Binary Acc: {metrics2[2]}\")"
      ],
      "execution_count": null,
      "outputs": [
        {
          "output_type": "stream",
          "text": [
            "219/219 [==============================] - 3s 12ms/step - loss: 0.3901 - auc_29: 0.9913 - binary_accuracy: 0.9685\n",
            "Test Loss: 0.39011144638061523\n",
            "Test AUC: 0.9912758469581604\n",
            "Test Binary Acc: 0.9685129523277283\n"
          ],
          "name": "stdout"
        }
      ]
    },
    {
      "cell_type": "code",
      "metadata": {
        "colab": {
          "base_uri": "https://localhost:8080/",
          "height": 313
        },
        "id": "yYao8lxQCBOV",
        "outputId": "c9ca7891-4fe3-4ac3-b921-1ff53b0d1103"
      },
      "source": [
        "check_acc_thresh(model2.predict(reshape_cnn_data(val_feat), val_labels)"
      ],
      "execution_count": null,
      "outputs": [
        {
          "output_type": "display_data",
          "data": {
            "image/png": "[encoded data removed]",
            "text/plain": [
              "<Figure size 432x288 with 1 Axes>"
            ]
          },
          "metadata": {
            "tags": [],
            "needs_background": "light"
          }
        },
        {
          "output_type": "stream",
          "text": [
            "Maximum accuracy: 0.968656063079834 at a threshold of 60\n"
          ],
          "name": "stdout"
        }
      ]
    },
    {
      "cell_type": "code",
      "metadata": {
        "colab": {
          "base_uri": "https://localhost:8080/",
          "height": 265
        },
        "id": "HXP807KLG_Vv",
        "outputId": "464585d1-d506-4f31-c147-18fc929a7a50"
      },
      "source": [
        "roc_plot(val_feat.to_numpy().reshape((val_feat.shape[0], val_feat.shape[1], 1)), val_labels, model=model2)"
      ],
      "execution_count": null,
      "outputs": [
        {
          "output_type": "display_data",
          "data": {
            "image/png": "[encoded data removed]",
            "text/plain": [
              "<Figure size 432x288 with 1 Axes>"
            ]
          },
          "metadata": {
            "tags": [],
            "needs_background": "light"
          }
        }
      ]
    },
    {
      "cell_type": "code",
      "metadata": {
        "colab": {
          "base_uri": "https://localhost:8080/"
        },
        "id": "XSPqj3Wb8OZi",
        "outputId": "05d7d3df-c676-49e9-e9a5-6c88a8172e8e"
      },
      "source": [
        "model.save('/gdrive/My Drive/Colab Notebooks/REHS/models/modelDNN')"
      ],
      "execution_count": null,
      "outputs": [
        {
          "output_type": "stream",
          "text": [
            "INFO:tensorflow:Assets written to: /gdrive/My Drive/Colab Notebooks/REHS/models/modelDNN/assets\n"
          ],
          "name": "stdout"
        }
      ]
    },
    {
      "cell_type": "code",
      "metadata": {
        "colab": {
          "base_uri": "https://localhost:8080/"
        },
        "id": "1cM9VH7kP8qK",
        "outputId": "3f13810f-8984-45d4-f9db-df9fb06f121c"
      },
      "source": [
        "model2.save('/gdrive/My Drive/Colab Notebooks/REHS/models/model2CNN')"
      ],
      "execution_count": null,
      "outputs": [
        {
          "output_type": "stream",
          "text": [
            "INFO:tensorflow:Assets written to: /gdrive/My Drive/Colab Notebooks/REHS/models/model2CNN/assets\n"
          ],
          "name": "stdout"
        }
      ]
    },
    {
      "cell_type": "code",
      "metadata": {
        "colab": {
          "base_uri": "https://localhost:8080/"
        },
        "id": "V4SvjQ9nha_Y",
        "outputId": "450542e1-1469-47e3-f716-02b5db8e54da"
      },
      "source": [
        "# testing the ensemble of models 1 and 2\n",
        "predict1 = model.predict(val_feat, use_multiprocessing=True)\n",
        "predict2 = model2.predict(reshape_cnn_data(val_feat), use_multiprocessing=True)\n",
        "model_avg = np.mean([predict1, predict2], axis=0).T[0]\n",
        "\n",
        "calc_metrics(test_labels=val_labels, test_pred=model_avg)"
      ],
      "execution_count": null,
      "outputs": [
        {
          "output_type": "stream",
          "text": [
            "Test Loss: 0.16884073615074158\n",
            "Test auc: 0.9855970740318298\n",
            "Test acc: 0.9470444917678833\n"
          ],
          "name": "stdout"
        }
      ]
    },
    {
      "cell_type": "code",
      "metadata": {
        "colab": {
          "base_uri": "https://localhost:8080/"
        },
        "id": "mUuDB2eTlrC6",
        "outputId": "9617ad5b-1481-441f-cfd2-49c345bf5110"
      },
      "source": [
        "# testing the ensemble of model 2 and RandomForest\n",
        "predict1 = forest.predict_proba(val_feat)[:, 1].reshape(val_feat.shape[0], 1)\n",
        "predict2 = model2.predict(reshape_cnn_data(val_feat), use_multiprocessing=True)\n",
        "avg = np.mean([predict1, predict2], axis=0).T[0]\n",
        "\n",
        "calc_metrics(test_labels=val_labels, test_pred=avg)"
      ],
      "execution_count": null,
      "outputs": [
        {
          "output_type": "stream",
          "text": [
            "[Parallel(n_jobs=2)]: Using backend ThreadingBackend with 2 concurrent workers.\n",
            "[Parallel(n_jobs=2)]: Done  46 tasks      | elapsed:    0.1s\n",
            "[Parallel(n_jobs=2)]: Done 100 out of 100 | elapsed:    0.2s finished\n"
          ],
          "name": "stderr"
        },
        {
          "output_type": "stream",
          "text": [
            "Test Loss: 0.17496594786643982\n",
            "Test auc: 0.9897174835205078\n",
            "Test acc: 0.9645054936408997\n"
          ],
          "name": "stdout"
        }
      ]
    },
    {
      "cell_type": "code",
      "metadata": {
        "colab": {
          "base_uri": "https://localhost:8080/",
          "height": 313
        },
        "id": "X_cSSS5lt-Hc",
        "outputId": "065f3bcd-24dc-46de-9ca3-6f8d7bebe1de"
      },
      "source": [
        "check_acc_thresh(avg, val_labels)"
      ],
      "execution_count": null,
      "outputs": [
        {
          "output_type": "display_data",
          "data": {
            "image/png": "[encoded data removed]",
            "text/plain": [
              "<Figure size 432x288 with 1 Axes>"
            ]
          },
          "metadata": {
            "tags": [],
            "needs_background": "light"
          }
        },
        {
          "output_type": "stream",
          "text": [
            "Maximum accuracy: 0.9645054936408997 at a threshold of 50\n"
          ],
          "name": "stdout"
        }
      ]
    },
    {
      "cell_type": "code",
      "metadata": {
        "colab": {
          "base_uri": "https://localhost:8080/",
          "height": 265
        },
        "id": "xgtqlxxCMr89",
        "outputId": "adf75999-08ac-4f2b-c82d-c70879ca5cca"
      },
      "source": [
        "roc_plot(val_feat, val_labels, pred=avg)"
      ],
      "execution_count": null,
      "outputs": [
        {
          "output_type": "display_data",
          "data": {
            "image/png": "[encoded data removed]",
            "text/plain": [
              "<Figure size 432x288 with 1 Axes>"
            ]
          },
          "metadata": {
            "tags": [],
            "needs_background": "light"
          }
        }
      ]
    },
    {
      "cell_type": "markdown",
      "metadata": {
        "id": "Ske9fw7eLq9e"
      },
      "source": [
        "## Random Forest"
      ]
    },
    {
      "cell_type": "code",
      "metadata": {
        "id": "e6XowxUxLsg8"
      },
      "source": [
        "from sklearn.ensemble import RandomForestClassifier"
      ],
      "execution_count": null,
      "outputs": []
    },
    {
      "cell_type": "code",
      "metadata": {
        "id": "rk2wijuUL0Cf"
      },
      "source": [
        "forest = RandomForestClassifier(n_estimators=100,\n",
        "                                min_samples_split=2,\n",
        "                                min_samples_leaf=1,\n",
        "                                n_jobs=-1,\n",
        "                                verbose=1)"
      ],
      "execution_count": null,
      "outputs": []
    },
    {
      "cell_type": "code",
      "metadata": {
        "colab": {
          "base_uri": "https://localhost:8080/"
        },
        "id": "3BBMb6bwMA1F",
        "outputId": "e647b17a-1d52-48cd-bc2a-cad917eb4f0b"
      },
      "source": [
        "forest.fit(train_feat, train_labels)"
      ],
      "execution_count": null,
      "outputs": [
        {
          "output_type": "stream",
          "text": [
            "[Parallel(n_jobs=-1)]: Using backend ThreadingBackend with 2 concurrent workers.\n",
            "[Parallel(n_jobs=-1)]: Done  46 tasks      | elapsed:   10.2s\n",
            "[Parallel(n_jobs=-1)]: Done 100 out of 100 | elapsed:   21.9s finished\n"
          ],
          "name": "stderr"
        },
        {
          "output_type": "execute_result",
          "data": {
            "text/plain": [
              "RandomForestClassifier(bootstrap=True, ccp_alpha=0.0, class_weight=None,\n",
              "                       criterion='gini', max_depth=None, max_features='auto',\n",
              "                       max_leaf_nodes=None, max_samples=None,\n",
              "                       min_impurity_decrease=0.0, min_impurity_split=None,\n",
              "                       min_samples_leaf=1, min_samples_split=2,\n",
              "                       min_weight_fraction_leaf=0.0, n_estimators=100,\n",
              "                       n_jobs=-1, oob_score=False, random_state=None, verbose=1,\n",
              "                       warm_start=False)"
            ]
          },
          "metadata": {
            "tags": []
          },
          "execution_count": 167
        }
      ]
    },
    {
      "cell_type": "code",
      "metadata": {
        "colab": {
          "base_uri": "https://localhost:8080/",
          "height": 591
        },
        "id": "N2kCJ4ceMGcS",
        "outputId": "bdd41a2d-00c7-490e-99e9-6ca8522f6cd7"
      },
      "source": [
        "# calculating metrics\n",
        "train_forest_pred = forest.predict_proba(train_feat)[:, 1]\n",
        "val_forest_pred = forest.predict_proba(val_feat)[:, 1]\n",
        "\n",
        "calc_metrics(train_labels, train_forest_pred, val_labels, val_forest_pred)\n",
        "# the validation roc plot\n",
        "plot_roc_curve(forest, val_feat, val_labels)"
      ],
      "execution_count": null,
      "outputs": [
        {
          "output_type": "stream",
          "text": [
            "[Parallel(n_jobs=2)]: Using backend ThreadingBackend with 2 concurrent workers.\n",
            "[Parallel(n_jobs=2)]: Done  46 tasks      | elapsed:    0.2s\n",
            "[Parallel(n_jobs=2)]: Done 100 out of 100 | elapsed:    0.4s finished\n",
            "[Parallel(n_jobs=2)]: Using backend ThreadingBackend with 2 concurrent workers.\n",
            "[Parallel(n_jobs=2)]: Done  46 tasks      | elapsed:    0.1s\n",
            "[Parallel(n_jobs=2)]: Done 100 out of 100 | elapsed:    0.2s finished\n"
          ],
          "name": "stderr"
        },
        {
          "output_type": "stream",
          "text": [
            "Train loss: 0.1988517791032791\n",
            "Test Loss: 0.30685582756996155\n",
            "\n",
            "Train auc: 0.9936942458152771\n",
            "Test auc: 0.9546312689781189\n",
            "\n",
            "Train acc: 0.9444376230239868\n",
            "Test acc: 0.8889365792274475\n"
          ],
          "name": "stdout"
        },
        {
          "output_type": "stream",
          "text": [
            "[Parallel(n_jobs=2)]: Using backend ThreadingBackend with 2 concurrent workers.\n",
            "[Parallel(n_jobs=2)]: Done  46 tasks      | elapsed:    0.1s\n",
            "[Parallel(n_jobs=2)]: Done 100 out of 100 | elapsed:    0.2s finished\n"
          ],
          "name": "stderr"
        },
        {
          "output_type": "execute_result",
          "data": {
            "text/plain": [
              "<sklearn.metrics._plot.roc_curve.RocCurveDisplay at 0x7f59699debe0>"
            ]
          },
          "metadata": {
            "tags": []
          },
          "execution_count": 176
        },
        {
          "output_type": "display_data",
          "data": {
            "image/png": "[encoded data removed]",
            "text/plain": [
              "<Figure size 432x288 with 1 Axes>"
            ]
          },
          "metadata": {
            "tags": [],
            "needs_background": "light"
          }
        }
      ]
    },
    {
      "cell_type": "code",
      "metadata": {
        "colab": {
          "base_uri": "https://localhost:8080/"
        },
        "id": "m1MYOV7Lc5Tb",
        "outputId": "22f165fc-ac88-41e9-937a-5a338d19dfcb"
      },
      "source": [
        "dump(forest, '/gdrive/My Drive/Colab Notebooks/REHS/models/random_forest.joblib')"
      ],
      "execution_count": null,
      "outputs": [
        {
          "output_type": "execute_result",
          "data": {
            "text/plain": [
              "['/gdrive/My Drive/Colab Notebooks/REHS/models/random_forest.joblib']"
            ]
          },
          "metadata": {
            "tags": []
          },
          "execution_count": 169
        }
      ]
    },
    {
      "cell_type": "code",
      "metadata": {
        "id": "CXfycOSgwWvU"
      },
      "source": [
        "forest = load('/gdrive/My Drive/Colab Notebooks/REHS/models/random_forest.joblib')"
      ],
      "execution_count": null,
      "outputs": []
    },
    {
      "cell_type": "markdown",
      "metadata": {
        "id": "WXrRSx7iRKCW"
      },
      "source": [
        "## SVM"
      ]
    },
    {
      "cell_type": "code",
      "metadata": {
        "id": "Tm-Q_CmzW_sz"
      },
      "source": [
        "svm_train_labels = train_labels.replace(0, -1)\n",
        "svm_test_labels = test_labels.replace(0, -1)"
      ],
      "execution_count": null,
      "outputs": []
    },
    {
      "cell_type": "markdown",
      "metadata": {
        "id": "hgFAnBrPZ8M1"
      },
      "source": [
        "### Linear Kernel"
      ]
    },
    {
      "cell_type": "code",
      "metadata": {
        "id": "SR1A-WKTnTU6"
      },
      "source": [
        "from sklearn.svm import LinearSVC"
      ],
      "execution_count": null,
      "outputs": []
    },
    {
      "cell_type": "code",
      "metadata": {
        "id": "La7TmIBgnWzn"
      },
      "source": [
        "linsvm = LinearSVC(penalty='l2',\n",
        "                  C=0.01)"
      ],
      "execution_count": null,
      "outputs": []
    },
    {
      "cell_type": "code",
      "metadata": {
        "colab": {
          "base_uri": "https://localhost:8080/"
        },
        "id": "T9DVuVZ5nqim",
        "outputId": "19767de6-3c6a-4bf8-b9fc-0fc55ad13b15"
      },
      "source": [
        "linsvm.fit(train_feat, svm_train_labels)"
      ],
      "execution_count": null,
      "outputs": [
        {
          "output_type": "stream",
          "text": [
            "/usr/local/lib/python3.6/dist-packages/sklearn/svm/_base.py:947: ConvergenceWarning: Liblinear failed to converge, increase the number of iterations.\n",
            "  \"the number of iterations.\", ConvergenceWarning)\n"
          ],
          "name": "stderr"
        },
        {
          "output_type": "execute_result",
          "data": {
            "text/plain": [
              "LinearSVC(C=0.01, class_weight=None, dual=True, fit_intercept=True,\n",
              "          intercept_scaling=1, loss='squared_hinge', max_iter=1000,\n",
              "          multi_class='ovr', penalty='l2', random_state=None, tol=0.0001,\n",
              "          verbose=0)"
            ]
          },
          "metadata": {
            "tags": []
          },
          "execution_count": 93
        }
      ]
    },
    {
      "cell_type": "code",
      "metadata": {
        "id": "VWq8JvzOn6i5"
      },
      "source": [
        "train_pred_lin = linsvm.predict(train_feat)\n",
        "test_pred_lin = linsvm.predict(test_feat)"
      ],
      "execution_count": null,
      "outputs": []
    },
    {
      "cell_type": "code",
      "metadata": {
        "colab": {
          "base_uri": "https://localhost:8080/"
        },
        "id": "SLoyqfZdn5x3",
        "outputId": "1f7f34d3-dbce-46c9-8356-50b58e5df7f2"
      },
      "source": [
        "# ignore the loss metric\n",
        "calc_metrics(train_labels, pd.Series(train_pred_lin).replace(-1, 0), test_labels, pd.Series(test_pred_lin).replace(-1, 0))"
      ],
      "execution_count": null,
      "outputs": [
        {
          "output_type": "stream",
          "text": [
            "Train loss: 3.5974059104919434\n",
            "Test Loss: 4.375077724456787\n",
            "\n",
            "Train auc: 0.7679502964019775\n",
            "Test auc: 0.7159945368766785\n",
            "\n",
            "Train acc: 0.7660151720046997\n",
            "Test acc: 0.7153986096382141\n"
          ],
          "name": "stdout"
        }
      ]
    },
    {
      "cell_type": "code",
      "metadata": {
        "colab": {
          "base_uri": "https://localhost:8080/"
        },
        "id": "wisDdAxRDgxR",
        "outputId": "42565f6a-c0da-4878-efc5-eae8158b8627"
      },
      "source": [
        "dump(linsvm, '/gdrive/My Drive/Colab Notebooks/REHS/models/linear_svm.joblib')"
      ],
      "execution_count": null,
      "outputs": [
        {
          "output_type": "execute_result",
          "data": {
            "text/plain": [
              "['/gdrive/My Drive/Colab Notebooks/REHS/models/linear_svm.joblib']"
            ]
          },
          "metadata": {
            "tags": []
          },
          "execution_count": 96
        }
      ]
    },
    {
      "cell_type": "markdown",
      "metadata": {
        "id": "xlOPquMqaLt-"
      },
      "source": [
        "### Radial Kernel"
      ]
    },
    {
      "cell_type": "code",
      "metadata": {
        "id": "pBPnxUMTdFPb"
      },
      "source": [
        "from sklearn.svm import SVC"
      ],
      "execution_count": null,
      "outputs": []
    },
    {
      "cell_type": "code",
      "metadata": {
        "id": "D7A7Oc6ZdRk1"
      },
      "source": [
        "svm = SVC(C=1,\n",
        "          kernel='rbf',\n",
        "          max_iter=-1,\n",
        "          gamma='auto')"
      ],
      "execution_count": null,
      "outputs": []
    },
    {
      "cell_type": "code",
      "metadata": {
        "colab": {
          "base_uri": "https://localhost:8080/"
        },
        "id": "it_2XX5sdo-A",
        "outputId": "2bd85284-b61d-4354-8038-835607f93f4a"
      },
      "source": [
        "svm.fit(train_feat, svm_train_labels)"
      ],
      "execution_count": null,
      "outputs": [
        {
          "output_type": "execute_result",
          "data": {
            "text/plain": [
              "SVC(C=1, break_ties=False, cache_size=200, class_weight=None, coef0=0.0,\n",
              "    decision_function_shape='ovr', degree=3, gamma='auto', kernel='rbf',\n",
              "    max_iter=-1, probability=False, random_state=None, shrinking=True,\n",
              "    tol=0.001, verbose=False)"
            ]
          },
          "metadata": {
            "tags": []
          },
          "execution_count": 66
        }
      ]
    },
    {
      "cell_type": "code",
      "metadata": {
        "id": "Pv0a_brfigKg"
      },
      "source": [
        "train_pred = svm.predict(train_feat)\n",
        "test_pred = svm.predict(test_feat)"
      ],
      "execution_count": null,
      "outputs": []
    },
    {
      "cell_type": "code",
      "metadata": {
        "colab": {
          "base_uri": "https://localhost:8080/"
        },
        "id": "SXKZinz7mHv_",
        "outputId": "7ade76a0-79d3-43e3-8ec4-2b3173b1de42"
      },
      "source": [
        "# ignore loss metric\n",
        "calc_metrics(train_labels, pd.Series(train_pred).replace(-1, 0), test_labels, pd.Series(test_pred).replace(-1, 0))"
      ],
      "execution_count": null,
      "outputs": [
        {
          "output_type": "stream",
          "text": [
            "Train loss: 0.933665931224823\n",
            "Test Loss: 2.2126595973968506\n",
            "\n",
            "Train auc: 0.9392232298851013\n",
            "Test auc: 0.9008907079696655\n",
            "\n",
            "Train acc: 0.939301609992981\n",
            "Test acc: 0.8563748598098755\n"
          ],
          "name": "stdout"
        }
      ]
    },
    {
      "cell_type": "code",
      "metadata": {
        "colab": {
          "base_uri": "https://localhost:8080/"
        },
        "id": "sPP_QI0QpmxR",
        "outputId": "1aec5cf1-5773-4bf3-e313-e4f8c0307e21"
      },
      "source": [
        "dump(svm, '/gdrive/My Drive/Colab Notebooks/REHS/models/radial_svm.joblib')"
      ],
      "execution_count": null,
      "outputs": [
        {
          "output_type": "execute_result",
          "data": {
            "text/plain": [
              "['/gdrive/My Drive/Colab Notebooks/REHS/models/radial_svm.joblib']"
            ]
          },
          "metadata": {
            "tags": []
          },
          "execution_count": 74
        }
      ]
    },
    {
      "cell_type": "markdown",
      "metadata": {
        "id": "sMeEfcylDlVC"
      },
      "source": [
        "### Quadratic Kernel"
      ]
    },
    {
      "cell_type": "code",
      "metadata": {
        "id": "xwQh1L0_Dov3"
      },
      "source": [
        "quadsvm = SVC(C=1,\n",
        "          kernel='poly',\n",
        "          degree=2,\n",
        "          max_iter=-1)"
      ],
      "execution_count": null,
      "outputs": []
    },
    {
      "cell_type": "code",
      "metadata": {
        "colab": {
          "base_uri": "https://localhost:8080/"
        },
        "id": "3jh3W-SuD0Sc",
        "outputId": "506493c7-d9e4-409f-dfe8-022454ebdf49"
      },
      "source": [
        "quadsvm.fit(train_feat, svm_train_labels)"
      ],
      "execution_count": null,
      "outputs": [
        {
          "output_type": "execute_result",
          "data": {
            "text/plain": [
              "SVC(C=1, break_ties=False, cache_size=200, class_weight=None, coef0=0.0,\n",
              "    decision_function_shape='ovr', degree=2, gamma='scale', kernel='poly',\n",
              "    max_iter=-1, probability=False, random_state=None, shrinking=True,\n",
              "    tol=0.001, verbose=False)"
            ]
          },
          "metadata": {
            "tags": []
          },
          "execution_count": 78
        }
      ]
    },
    {
      "cell_type": "code",
      "metadata": {
        "id": "DMfxKAVlD3ab"
      },
      "source": [
        "train_pred_quad = quadsvm.predict(train_feat)\n",
        "test_pred_quad = quadsvm.predict(test_feat)"
      ],
      "execution_count": null,
      "outputs": []
    },
    {
      "cell_type": "code",
      "metadata": {
        "colab": {
          "base_uri": "https://localhost:8080/"
        },
        "id": "i3CxxQOAD8gJ",
        "outputId": "2e05eaa9-8940-40cc-917e-4821b67a08ed"
      },
      "source": [
        "# ignore loss metric\n",
        "calc_metrics(train_labels, pd.Series(train_pred_quad).replace(-1, 0), test_labels, pd.Series(test_pred_quad).replace(-1, 0))"
      ],
      "execution_count": null,
      "outputs": [
        {
          "output_type": "stream",
          "text": [
            "Train loss: 1.0915709733963013\n",
            "Test Loss: 3.2299818992614746\n",
            "\n",
            "Train auc: 0.9306480884552002\n",
            "Test auc: 0.8661063313484192\n",
            "\n",
            "Train acc: 0.929096519947052\n",
            "Test acc: 0.79048091173172\n"
          ],
          "name": "stdout"
        }
      ]
    },
    {
      "cell_type": "markdown",
      "metadata": {
        "id": "CgmbkkOBLbkC"
      },
      "source": [
        "Did not perform well."
      ]
    },
    {
      "cell_type": "markdown",
      "metadata": {
        "id": "biSPd4CNd9jQ"
      },
      "source": [
        "# Testing on Test Data"
      ]
    },
    {
      "cell_type": "markdown",
      "metadata": {
        "id": "btT3uJuVeFvo"
      },
      "source": [
        "The best model was the ensemble of the CNN model (model2) and the RandomForestClassifier. It had the same accuracy and AUC as the CNN but with a much lower loss. Testing that model on the test data to see how it performs on an unseen dataset.\n",
        "\n",
        "Also testing the two models individually to compare them."
      ]
    },
    {
      "cell_type": "code",
      "metadata": {
        "id": "Oq5RIvdsgHLp",
        "colab": {
          "base_uri": "https://localhost:8080/"
        },
        "outputId": "33d04863-84b3-462c-d41f-ce0cebb4dc7c"
      },
      "source": [
        "model = keras.models.load_model('/gdrive/My Drive/Colab Notebooks/REHS/models/modelDNN')\n",
        "model2 = keras.models.load_model('/gdrive/My Drive/Colab Notebooks/REHS/models/model2CNN')\n",
        "forest = load('/gdrive/My Drive/Colab Notebooks/REHS/models/random_forest.joblib')"
      ],
      "execution_count": null,
      "outputs": [
        {
          "output_type": "stream",
          "text": [
            "WARNING:tensorflow:SavedModel saved prior to TF 2.5 detected when loading Keras model. Please ensure that you are saving the model with model.save() or tf.keras.models.save_model(), *NOT* tf.saved_model.save(). To confirm, there should be a file named \"keras_metadata.pb\" in the SavedModel directory.\n"
          ],
          "name": "stdout"
        }
      ]
    },
    {
      "cell_type": "code",
      "metadata": {
        "id": "NCwwhglX8uqA"
      },
      "source": [
        "from statistics import harmonic_mean"
      ],
      "execution_count": null,
      "outputs": []
    },
    {
      "cell_type": "code",
      "metadata": {
        "id": "seb3w9wc8pKt"
      },
      "source": [
        "def precision_recall(model, test_features, test_labels, model_type='', save_file=None):\n",
        "  \"\"\"\n",
        "  Prints precision and recall scores of a model and creates precision-recall curve\n",
        "  \"\"\"\n",
        "  test_pred = model.predict(test_features)\n",
        "\n",
        "  print('Ran predictions. See metrics below:\\n\\n')\n",
        "\n",
        "  # getting values to plot for precision-recall curve (does not use rounded outputs)\n",
        "  precisions, recalls, thresholds = precision_recall_curve(test_labels, test_pred)\n",
        "  c = keras.metrics.AUC(curve='pr')\n",
        "  prAUC = c(test_labels, test_pred).numpy()\n",
        "\n",
        "  # getting numerical values for metrics at the threshold\n",
        "  c = keras.metrics.Precision(thresholds=0.97)\n",
        "  precision = c(test_labels, test_pred).numpy()\n",
        "  c = keras.metrics.Recall(thresholds=0.97)\n",
        "  recall = c(test_labels, test_pred).numpy()\n",
        "  f_score = harmonic_mean([precision, recall])\n",
        "\n",
        "  print(f\"Test Precision: {precision}\")\n",
        "  print(f\"Test Recall: {recall}\")\n",
        "  print(f\"Test F1-Score: {f_score}\")\n",
        "\n",
        "  # plotting the curve\n",
        "  plt.plot(recalls, precisions)\n",
        "  plt.title(model_type + ' Test Precision-Recall Curve')\n",
        "  plt.legend(['AUC = %0.2f' % prAUC], loc='lower left')\n",
        "  plt.xlabel('Recall')\n",
        "  plt.ylabel('Precision')\n",
        "  \n",
        "  if save_file is not None:\n",
        "    plt.savefig(save_file)\n",
        "  else:\n",
        "    plt.show()"
      ],
      "execution_count": null,
      "outputs": []
    },
    {
      "cell_type": "code",
      "metadata": {
        "id": "x2IOZqD691j8"
      },
      "source": [
        "def create_confusion_matrix(model, test_features, test_labels, save_file=None):\n",
        "  test_pred = model.predict(test_features)\n",
        "  rounded_test_pred = np.where(test_pred > 0.97, 1, 0) # rounded outputs based on threshold\n",
        "\n",
        "  con_mat = tf.math.confusion_matrix(labels=test_labels, predictions=rounded_test_pred).numpy()\n",
        "\n",
        "  con_mat_df = pd.DataFrame(con_mat,\n",
        "                      index = ['Neg', 'Pos'],\n",
        "                      columns = ['Neg', 'Pos'])\n",
        "\n",
        "  # plotting the matrix\n",
        "  figure = plt.figure(figsize=(8, 8))\n",
        "  sns.heatmap(con_mat_df, annot=True, cmap=plt.cm.Blues)\n",
        "  plt.tight_layout()\n",
        "  plt.ylabel('True label')\n",
        "  plt.xlabel('Predicted label')\n",
        "  if save_file is not None:\n",
        "    plt.savefig(save_file)\n",
        "  else:\n",
        "    plt.show()"
      ],
      "execution_count": null,
      "outputs": []
    },
    {
      "cell_type": "markdown",
      "metadata": {
        "id": "Yj0eaQ6I8isu"
      },
      "source": [
        "## Testing Random Forest"
      ]
    },
    {
      "cell_type": "code",
      "metadata": {
        "colab": {
          "base_uri": "https://localhost:8080/",
          "height": 453
        },
        "id": "oT3JeYMLd_uc",
        "outputId": "56983fda-960b-4723-c927-d50df6d3dd80"
      },
      "source": [
        "# testing the RandomForest Classifier\n",
        "test_forest_pred = forest.predict_proba(test_dataset)[:, 1]\n",
        "\n",
        "calc_metrics(test_labels=test_labels, test_pred=test_forest_pred)\n",
        "# the validation roc plot\n",
        "plot_roc_curve(forest, test_dataset, test_labels)"
      ],
      "execution_count": null,
      "outputs": [
        {
          "output_type": "stream",
          "text": [
            "[Parallel(n_jobs=2)]: Using backend ThreadingBackend with 2 concurrent workers.\n",
            "[Parallel(n_jobs=2)]: Done  46 tasks      | elapsed:    0.1s\n",
            "[Parallel(n_jobs=2)]: Done 100 out of 100 | elapsed:    0.3s finished\n",
            "[Parallel(n_jobs=2)]: Using backend ThreadingBackend with 2 concurrent workers.\n"
          ],
          "name": "stderr"
        },
        {
          "output_type": "stream",
          "text": [
            "Test Loss: 0.3148428797721863\n",
            "Test auc: 0.9496488571166992\n",
            "Test acc: 0.8876866102218628\n"
          ],
          "name": "stdout"
        },
        {
          "output_type": "stream",
          "text": [
            "[Parallel(n_jobs=2)]: Done  46 tasks      | elapsed:    0.1s\n",
            "[Parallel(n_jobs=2)]: Done 100 out of 100 | elapsed:    0.3s finished\n"
          ],
          "name": "stderr"
        },
        {
          "output_type": "execute_result",
          "data": {
            "text/plain": [
              "<sklearn.metrics._plot.roc_curve.RocCurveDisplay at 0x7f581cfb2c88>"
            ]
          },
          "metadata": {
            "tags": []
          },
          "execution_count": 194
        },
        {
          "output_type": "display_data",
          "data": {
            "image/png": "[encoded data removed]",
            "text/plain": [
              "<Figure size 432x288 with 1 Axes>"
            ]
          },
          "metadata": {
            "tags": [],
            "needs_background": "light"
          }
        }
      ]
    },
    {
      "cell_type": "code",
      "metadata": {
        "colab": {
          "base_uri": "https://localhost:8080/",
          "height": 451
        },
        "id": "C16_gkdV_z1h",
        "outputId": "d667735c-2894-4399-da43-66e7609978da"
      },
      "source": [
        "precision_recall(forest, test_dataset, test_labels, model_type='Random Forest', save_file='pr_plot_test_randomForest.svg')"
      ],
      "execution_count": null,
      "outputs": [
        {
          "output_type": "stream",
          "text": [
            "[Parallel(n_jobs=2)]: Using backend ThreadingBackend with 2 concurrent workers.\n",
            "[Parallel(n_jobs=2)]: Done  46 tasks      | elapsed:    0.1s\n",
            "[Parallel(n_jobs=2)]: Done 100 out of 100 | elapsed:    0.3s finished\n"
          ],
          "name": "stderr"
        },
        {
          "output_type": "stream",
          "text": [
            "Ran predictions. See metrics below:\n",
            "\n",
            "\n",
            "Test Precision: 0.9206176400184631\n",
            "Test Recall: 0.8484666347503662\n",
            "Test F1-Score: 0.8830708203772367\n"
          ],
          "name": "stdout"
        },
        {
          "output_type": "display_data",
          "data": {
            "image/png": "[encoded data removed]",
            "text/plain": [
              "<Figure size 432x288 with 1 Axes>"
            ]
          },
          "metadata": {
            "tags": [],
            "needs_background": "light"
          }
        }
      ]
    },
    {
      "cell_type": "code",
      "metadata": {
        "colab": {
          "base_uri": "https://localhost:8080/",
          "height": 651
        },
        "id": "Rv6ishPFABCG",
        "outputId": "5516009b-5c7d-45e4-f0dc-88d3b8131f41"
      },
      "source": [
        "create_confusion_matrix(forest, test_dataset, test_labels, save_file='confMat_randomForest_thresh97.svg')"
      ],
      "execution_count": null,
      "outputs": [
        {
          "output_type": "stream",
          "text": [
            "[Parallel(n_jobs=2)]: Using backend ThreadingBackend with 2 concurrent workers.\n",
            "[Parallel(n_jobs=2)]: Done  46 tasks      | elapsed:    0.1s\n",
            "[Parallel(n_jobs=2)]: Done 100 out of 100 | elapsed:    0.3s finished\n"
          ],
          "name": "stderr"
        },
        {
          "output_type": "display_data",
          "data": {
            "image/png": "[encoded data removed]",
            "text/plain": [
              "<Figure size 576x576 with 2 Axes>"
            ]
          },
          "metadata": {
            "tags": [],
            "needs_background": "light"
          }
        }
      ]
    },
    {
      "cell_type": "markdown",
      "metadata": {
        "id": "croGO2en8nLe"
      },
      "source": [
        "## Testing CNN"
      ]
    },
    {
      "cell_type": "code",
      "metadata": {
        "colab": {
          "base_uri": "https://localhost:8080/",
          "height": 351
        },
        "id": "B6GbWl-LgXvC",
        "outputId": "683436e9-a908-40b6-8bdc-877aec5f144e"
      },
      "source": [
        "# CNN (model 2) metrics\n",
        "test_metrics2 = model2.evaluate(reshape_cnn_data(test_dataset), test_labels)\n",
        "\n",
        "print(f\"Test Loss: {test_metrics2[0]}\")\n",
        "print(f\"Test AUC: {test_metrics2[1]}\")\n",
        "print(f\"Test Binary Acc: {test_metrics2[2]}\")\n",
        "\n",
        "auc_plot = roc_plot(reshape_cnn_data(test_dataset), test_labels, model=model2, title='CNN Test AUC', file_path='auc_plot_test_cnn.jpg', format='jpg')"
      ],
      "execution_count": null,
      "outputs": [
        {
          "output_type": "stream",
          "text": [
            "312/312 [==============================] - 2s 8ms/step - loss: 0.6009 - auc_29: 0.9540 - binary_accuracy: 0.8949\n",
            "Test Loss: 0.6009402275085449\n",
            "Test AUC: 0.9539773464202881\n",
            "Test Binary Acc: 0.8949003219604492\n"
          ],
          "name": "stdout"
        },
        {
          "output_type": "display_data",
          "data": {
            "image/png": "[encoded data removed]",
            "text/plain": [
              "<Figure size 432x288 with 1 Axes>"
            ]
          },
          "metadata": {
            "tags": [],
            "needs_background": "light"
          }
        }
      ]
    },
    {
      "cell_type": "code",
      "metadata": {
        "colab": {
          "base_uri": "https://localhost:8080/",
          "height": 399
        },
        "id": "jbJXa4gd-XCu",
        "outputId": "5b0194f5-0f0e-49ea-af43-1d84d6ddf8bb"
      },
      "source": [
        "precision_recall(model2, reshape_cnn_data(test_dataset), test_labels, model_type='CNN', save_file='pr_plot_test_cnn.svg')"
      ],
      "execution_count": null,
      "outputs": [
        {
          "output_type": "stream",
          "text": [
            "Ran predictions. See metrics below:\n",
            "\n",
            "\n",
            "Test Precision: 0.965119481086731\n",
            "Test Recall: 0.7043495774269104\n",
            "Test F1-Score: 0.8143684906327522\n"
          ],
          "name": "stdout"
        },
        {
          "output_type": "display_data",
          "data": {
            "image/png": "[encoded data removed]",
            "text/plain": [
              "<Figure size 432x288 with 1 Axes>"
            ]
          },
          "metadata": {
            "tags": [],
            "needs_background": "light"
          }
        }
      ]
    },
    {
      "cell_type": "code",
      "metadata": {
        "colab": {
          "base_uri": "https://localhost:8080/",
          "height": 599
        },
        "id": "UfIqJjsa--pZ",
        "outputId": "7bc9339f-c62b-421f-9d25-503e8f779936"
      },
      "source": [
        "create_confusion_matrix(model2, reshape_cnn_data(test_dataset), test_labels, save_file='confMat_cnn_thresh97.svg')"
      ],
      "execution_count": null,
      "outputs": [
        {
          "output_type": "display_data",
          "data": {
            "image/png": "[encoded data removed]",
            "text/plain": [
              "<Figure size 576x576 with 2 Axes>"
            ]
          },
          "metadata": {
            "tags": [],
            "needs_background": "light"
          }
        }
      ]
    },
    {
      "cell_type": "markdown",
      "metadata": {
        "id": "k9rm4fvFBNHC"
      },
      "source": [
        "## Testing DNN"
      ]
    },
    {
      "cell_type": "code",
      "metadata": {
        "colab": {
          "base_uri": "https://localhost:8080/",
          "height": 349
        },
        "id": "gXm2XRjsBQru",
        "outputId": "f495f47d-35a5-478c-b87b-fc2ad162e120"
      },
      "source": [
        "test_metrics = model.evaluate(test_dataset, test_labels)\n",
        "\n",
        "print(f\"Test Loss: {test_metrics[0]}\")\n",
        "print(f\"Test AUC: {test_metrics[1]}\")\n",
        "print(f\"Test Binary Acc: {test_metrics[2]}\")\n",
        "\n",
        "auc_plot = roc_plot(test_dataset, test_labels, model=model, title='DNN Test AUC', file_path='auc_plot_test_dnn.jpg', format='jpg')"
      ],
      "execution_count": null,
      "outputs": [
        {
          "output_type": "stream",
          "text": [
            "312/312 [==============================] - 1s 5ms/step - loss: 0.6508 - auc: 0.9199 - binary_accuracy: 0.8457\n",
            "Test Loss: 0.6507691740989685\n",
            "Test AUC: 0.9199422001838684\n",
            "Test Binary Acc: 0.8457068204879761\n"
          ],
          "name": "stdout"
        },
        {
          "output_type": "display_data",
          "data": {
            "image/png": "[encoded data removed]",
            "text/plain": [
              "<Figure size 432x288 with 1 Axes>"
            ]
          },
          "metadata": {
            "tags": [],
            "needs_background": "light"
          }
        }
      ]
    },
    {
      "cell_type": "code",
      "metadata": {
        "colab": {
          "base_uri": "https://localhost:8080/",
          "height": 397
        },
        "id": "jcoZImevBudX",
        "outputId": "dcc8733f-8350-4a82-fe4b-4cacae5a3aac"
      },
      "source": [
        "precision_recall(model, test_dataset, test_labels, model_type='DNN', save_file='pr_plot_test_dnn.svg')"
      ],
      "execution_count": null,
      "outputs": [
        {
          "output_type": "stream",
          "text": [
            "Ran predictions. See metrics below:\n",
            "\n",
            "\n",
            "Test Precision: 0.9707854390144348\n",
            "Test Recall: 0.4062938392162323\n",
            "Test F1-Score: 0.572841592067472\n"
          ],
          "name": "stdout"
        },
        {
          "output_type": "display_data",
          "data": {
            "image/png": "[encoded data removed]",
            "text/plain": [
              "<Figure size 432x288 with 1 Axes>"
            ]
          },
          "metadata": {
            "tags": [],
            "needs_background": "light"
          }
        }
      ]
    },
    {
      "cell_type": "code",
      "metadata": {
        "colab": {
          "base_uri": "https://localhost:8080/",
          "height": 599
        },
        "id": "5QqVwLtVB-uX",
        "outputId": "130fe29b-3402-468d-d818-c63e1c7c9ee1"
      },
      "source": [
        "create_confusion_matrix(model, test_dataset, test_labels, save_file='confMat_dnn_thresh97.svg')"
      ],
      "execution_count": null,
      "outputs": [
        {
          "output_type": "display_data",
          "data": {
            "image/png": "[encoded data removed]",
            "text/plain": [
              "<Figure size 576x576 with 2 Axes>"
            ]
          },
          "metadata": {
            "tags": [],
            "needs_background": "light"
          }
        }
      ]
    },
    {
      "cell_type": "markdown",
      "metadata": {
        "id": "Mlz_omPS-TKW"
      },
      "source": [
        "## Testing Ensemble"
      ]
    },
    {
      "cell_type": "code",
      "metadata": {
        "colab": {
          "base_uri": "https://localhost:8080/",
          "height": 383
        },
        "id": "yfWk-ql_gpFs",
        "outputId": "8f094b30-edc2-4866-e7f3-9e667fc545bd"
      },
      "source": [
        "# testing the ensemble\n",
        "test_predict1 = forest.predict_proba(test_dataset)[:, 1].reshape(test_dataset.shape[0], 1)\n",
        "test_predict2 = model2.predict(reshape_cnn_data(test_dataset), use_multiprocessing=True)\n",
        "test_avg = np.mean([test_predict1, test_predict2], axis=0).T[0]\n",
        "\n",
        "calc_metrics(test_labels=test_labels, test_pred=test_avg)\n",
        "\n",
        "roc_plot(test_dataset, test_labels, pred=test_avg, title=\"Ensemble Model ROC Plot Test Data\")"
      ],
      "execution_count": null,
      "outputs": [
        {
          "output_type": "stream",
          "text": [
            "[Parallel(n_jobs=2)]: Using backend ThreadingBackend with 2 concurrent workers.\n",
            "[Parallel(n_jobs=2)]: Done  46 tasks      | elapsed:    0.1s\n",
            "[Parallel(n_jobs=2)]: Done 100 out of 100 | elapsed:    0.3s finished\n"
          ],
          "name": "stderr"
        },
        {
          "output_type": "stream",
          "text": [
            "Test Loss: 0.266810804605484\n",
            "Test auc: 0.9588382840156555\n",
            "Test acc: 0.8986073732376099\n"
          ],
          "name": "stdout"
        },
        {
          "output_type": "display_data",
          "data": {
            "image/png": "[encoded data removed]",
            "text/plain": [
              "<Figure size 432x288 with 1 Axes>"
            ]
          },
          "metadata": {
            "tags": [],
            "needs_background": "light"
          }
        }
      ]
    },
    {
      "cell_type": "code",
      "metadata": {
        "colab": {
          "base_uri": "https://localhost:8080/",
          "height": 397
        },
        "id": "5t6H5UL5MXpH",
        "outputId": "f992efac-a21f-41e2-96d8-958dd80edbb6"
      },
      "source": [
        "precision_recall(model, test_dataset, test_labels, model_type='DNN')"
      ],
      "execution_count": null,
      "outputs": [
        {
          "output_type": "stream",
          "text": [
            "Ran predictions. See metrics below:\n",
            "\n",
            "\n",
            "Test Precision: 0.9707854390144348\n",
            "Test Recall: 0.4062938392162323\n",
            "Test F1-Score: 0.572841592067472\n"
          ],
          "name": "stdout"
        },
        {
          "output_type": "display_data",
          "data": {
            "image/png": "[encoded data removed]",
            "text/plain": [
              "<Figure size 432x288 with 1 Axes>"
            ]
          },
          "metadata": {
            "tags": [],
            "needs_background": "light"
          }
        }
      ]
    },
    {
      "cell_type": "code",
      "metadata": {
        "colab": {
          "base_uri": "https://localhost:8080/",
          "height": 599
        },
        "id": "9WdaUuf-MaUB",
        "outputId": "e2eb5bc8-c3e7-4ec0-fd87-3173e30a9a50"
      },
      "source": [
        "create_confusion_matrix(model, test_dataset, test_labels)"
      ],
      "execution_count": null,
      "outputs": [
        {
          "output_type": "display_data",
          "data": {
            "image/png": "[encoded data removed]",
            "text/plain": [
              "<Figure size 576x576 with 2 Axes>"
            ]
          },
          "metadata": {
            "tags": [],
            "needs_background": "light"
          }
        }
      ]
    }
  ]
}